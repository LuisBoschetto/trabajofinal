{
 "cells": [
  {
   "cell_type": "code",
   "execution_count": null,
   "id": "0f799f8b-9b81-4ac7-81c4-6231413ac4b2",
   "metadata": {},
   "outputs": [],
   "source": [
    "try:\n",
    "    import pandas as pd\n",
    "    import numpy as np\n",
    "    import matplotlib.pyplot as plt\n",
    "    import seaborn as sns\n",
    "    from sklearn.preprocessing import OneHotEncoder\n",
    "    from sklearn.linear_model import LogisticRegression\n",
    "    from sklearn.preprocessing import OneHotEncoder, StandardScaler\n",
    "    from sklearn.pipeline import Pipeline\n",
    "    from sklearn.model_selection import train_test_split\n",
    "    from sklearn_pandas import DataFrameMapper\n",
    "    from sklearn import metrics\n",
    "    from sklearn.neighbors import KNeighborsClassifier\n",
    "    from sklearn.tree import DecisionTreeClassifier\n",
    "    from sklearn.preprocessing import LabelBinarizer\n",
    "    from sklearn.ensemble import GradientBoostingClassifier, RandomForestClassifier\n",
    "    from sklearn.decomposition import PCA\n",
    "    from sklearn.model_selection import GridSearchCV\n",
    "    from sklearn.metrics import mean_squared_error\n",
    "    import warnings\n",
    "    print(\"Se importó correctamente\")\n",
    "except Exception as e:\n",
    "    print(f\"Error al importar dependencias: {e}\")"
   ]
  },
  {
   "cell_type": "markdown",
   "id": "1a30b2d2-54de-4f38-a7cc-c368f11c8346",
   "metadata": {},
   "source": [
    "* Al tener el Data Set repartido en 4 archivos diferentes segun la plataforma donde se produjeron las ventas, paso a unificar todo en un mismo DataFrame"
   ]
  },
  {
   "cell_type": "code",
   "execution_count": null,
   "id": "080776aa-74ef-4c50-9041-bf060a6e5950",
   "metadata": {},
   "outputs": [],
   "source": [
    "import pandas as pd\n",
    "import os\n",
    "\n",
    "# Ruta a la carpeta que contiene los archivos\n",
    "ruta_carpeta = \"./csv\"\n",
    "\n",
    "# Lista de archivos que deseas concatenar\n",
    "archivos_csv = [\"fravega.csv\", \"ecommerce.csv\", \"mercadolibre.csv\", \"megatone.csv\"]\n",
    "\n",
    "# Leer los archivos con el delimitador adecuado y almacenarlos en una lista de DataFrames\n",
    "dfs = [pd.read_csv(os.path.join(ruta_carpeta, archivo), encoding='latin1', delimiter=';') for archivo in archivos_csv]\n",
    "\n",
    "# Concatenar los DataFrames en uno solo\n",
    "sales = pd.concat(dfs, ignore_index=True)\n",
    "\n",
    "sales.sample(5)"
   ]
  },
  {
   "cell_type": "markdown",
   "id": "642d7528-140b-43b5-b30c-d04780339341",
   "metadata": {},
   "source": [
    "## Listado de variables "
   ]
  },
  {
   "cell_type": "markdown",
   "id": "f3c05abf-bdb0-44d1-850d-9ebcdbaed199",
   "metadata": {},
   "source": [
    "#### Variables de entrada"
   ]
  },
  {
   "cell_type": "markdown",
   "id": "56d06fc2-edb2-4c15-aa8d-2adfd841c2a8",
   "metadata": {},
   "source": [
    "* VALOR PRED.: Representa el valor del bulto.\n",
    "* ORDEN DE RETIRO: Nro de orden por la cual la empresa identifica cada venta\n",
    "* FECHA RETIRO OCA: Fecha donde OCA retira el producto\n",
    "* COD. PRODUCTO: Identificador único de cada producto.\n",
    "* PRODUCTO: Descripción del producto\n",
    "* DTO %: Descuento aplicado en cada venta.\n",
    "* FECHA COMPRA: Fecha en la que se realizó la compra del producto\n",
    "* PROVINCIA: Nombre de la provincia donde se produjo de la venta\n",
    "* LOCALIDAD: Nombre de la localidad donde se produjo de la venta\n",
    "* PLATAFORMA: Canal o medio donde se produjo la venta."
   ]
  },
  {
   "cell_type": "markdown",
   "id": "70eaf092-c57f-471e-bed6-3620cdc6bd4a",
   "metadata": {},
   "source": [
    "#### Variable de salida: "
   ]
  },
  {
   "cell_type": "markdown",
   "id": "fb567af5-d248-4158-a842-03980b961b82",
   "metadata": {},
   "source": [
    "* CANTIDAD: representa el número de unidades vendidas por producto"
   ]
  },
  {
   "cell_type": "markdown",
   "id": "b1e6db56-0a54-4ba1-9307-075e686805fe",
   "metadata": {},
   "source": [
    "#### Reorganizo las columnas en el orden deseado"
   ]
  },
  {
   "cell_type": "code",
   "execution_count": null,
   "id": "c5c9fec7-55ae-4182-8b5a-5fc5559bdf2d",
   "metadata": {},
   "outputs": [],
   "source": [
    "orden_columnas = [\n",
    "    'VALOR PRED.', 'ORDEN DE RETIRO', 'FECHA COMPRA', 'FECHA RETIRO OCA','COD. PRODUCTO', 'PRODUCTO', 'DTO %', 'PROVINCIA', 'LOCALIDAD', 'PLATAFORMA',\n",
    "    'CANTIDAD'\n",
    "]\n",
    "\n",
    "# Reorganizar el DataFrame\n",
    "sales = sales[orden_columnas]\n",
    "\n",
    "# Mostrar las primeras filas del DataFrame reorganizado\n",
    "print(\"Columnas reorganizadas:\")\n",
    "sales.sample(5)"
   ]
  },
  {
   "cell_type": "markdown",
   "id": "48ba68b4-a5fb-4767-a901-a13199c92223",
   "metadata": {},
   "source": [
    "## Análisis detallado de un conjunto de variables"
   ]
  },
  {
   "cell_type": "markdown",
   "id": "c2cd7fe6-186d-4528-a99f-6d0e11505f23",
   "metadata": {},
   "source": [
    "La variable CANTIDAD representa el número de unidades vendidas. Es la variable objetivo de este análisis, ya que el modelo buscará predecir su valor en función de las características del dataset.\n",
    "\n",
    "Predecir CANTIDAD permitirá:\n",
    "\n",
    "* Identificar tendencias de venta.\n",
    "* Optimizar la planificación de inventarios.\n",
    "* Mejorar la estrategia de ventas y promociones."
   ]
  },
  {
   "cell_type": "markdown",
   "id": "70be980b-d27d-44b3-9bee-ffb5ee37f34e",
   "metadata": {},
   "source": [
    "### Estadísticas descriptivas de la variable de salida"
   ]
  },
  {
   "cell_type": "code",
   "execution_count": null,
   "id": "d36c879c-1593-4043-85f3-5fd334dcb5b2",
   "metadata": {},
   "outputs": [],
   "source": [
    "print(\"Estadísticas descriptivas de 'CANTIDAD':\")\n",
    "print(sales['CANTIDAD'].describe())"
   ]
  },
  {
   "cell_type": "code",
   "execution_count": null,
   "id": "c4efa4eb-5c5c-49d1-95a4-ceb1dc669aa6",
   "metadata": {},
   "outputs": [],
   "source": [
    "# Convierto la columna 'CANTIDAD' a numérico, convirtiendo valores no válidos a NaN\n",
    "sales['CANTIDAD'] = pd.to_numeric(sales['CANTIDAD'], errors='coerce')\n",
    "# Reemplazo los valores NaN con 1\n",
    "sales['CANTIDAD'] = sales['CANTIDAD'].fillna(1)\n",
    "# Convierto la columna a enteros\n",
    "sales['CANTIDAD'] = sales['CANTIDAD'].astype(int)"
   ]
  },
  {
   "cell_type": "code",
   "execution_count": null,
   "id": "723ad1ea-9123-44ad-9bdd-8c1dc6e52bfe",
   "metadata": {},
   "outputs": [],
   "source": [
    "# Frecuencia de valores únicos en 'CANTIDAD'\n",
    "frecuencia_cantidad = sales['CANTIDAD'].value_counts().sort_index()\n",
    "\n",
    "# Gráfico de barras\n",
    "plt.figure(figsize=(6, 4))\n",
    "frecuencia_cantidad.plot(kind='bar', color='cornflowerblue', edgecolor='black')\n",
    "plt.title('Frecuencia de valores únicos en CANTIDAD', fontsize=12)\n",
    "plt.xlabel('Cantidad', fontsize=10)\n",
    "plt.ylabel('Frecuencia', fontsize=10)\n",
    "plt.xticks(rotation=0)\n",
    "plt.grid(axis='y', linestyle='--', alpha=0.7)\n",
    "plt.show()\n",
    "\n"
   ]
  },
  {
   "cell_type": "markdown",
   "id": "2e33fb00-0609-4602-a953-52ff97af7dfd",
   "metadata": {},
   "source": [
    "## EDA, Limpieza y preprocesamiento"
   ]
  },
  {
   "cell_type": "markdown",
   "id": "4ae64561-75a9-4199-b260-0ffb806e1cfc",
   "metadata": {},
   "source": [
    "* Verificación de valores nulos en variable COD PRODUCTO y PRODUCTO:"
   ]
  },
  {
   "cell_type": "code",
   "execution_count": null,
   "id": "ccb8bdbd-be22-4304-8656-3b038bf30014",
   "metadata": {},
   "outputs": [],
   "source": [
    "# Contar nulos y valores vacíos en 'COD. PRODUCTO'\n",
    "nulos_o_vacios_cod_producto = sales['COD. PRODUCTO'].isna().sum() + sales['COD. PRODUCTO'].eq('').sum()\n",
    "\n",
    "# Contar nulos y valores vacíos en 'PRODUCTO'\n",
    "nulos_o_vacios_producto = sales['PRODUCTO'].isna().sum() + sales['PRODUCTO'].str.strip().eq('').sum()\n",
    "\n",
    "print(f\"Valores nulos o vacíos en 'COD. PRODUCTO': {nulos_o_vacios_cod_producto}\")\n",
    "print(f\"Valores nulos o vacíos en 'PRODUCTO': {nulos_o_vacios_producto}\")"
   ]
  },
  {
   "cell_type": "markdown",
   "id": "b52edfcd-e90d-4535-8692-b29e11f9576b",
   "metadata": {},
   "source": [
    "- Tratamiento para determinar que para algunos de los COD PRODUCTOS detectados sin descripcion de Producto tenga en algun otro lado del data set la descripcion. Lo mismo para aquellas Productos detectados sin Cod Producto. \n",
    "El objetivo de esto es rellenar valores que se detectan nulos en las columnas de COD PRODUCTO y PRODUCTO."
   ]
  },
  {
   "cell_type": "code",
   "execution_count": null,
   "id": "eb6f1cae-2840-41a2-bc6e-64cbc348a8f4",
   "metadata": {},
   "outputs": [],
   "source": [
    "# Crear un mapeo único entre COD PRODUCTO y PRODUCTO\n",
    "mapeo_cod_producto = sales[['COD. PRODUCTO', 'PRODUCTO']].drop_duplicates()\n",
    "\n",
    "print(\"Mapa único entre códigos y productos:\")\n",
    "mapeo_cod_producto.shape"
   ]
  },
  {
   "cell_type": "code",
   "execution_count": null,
   "id": "b26de40f-bee5-4633-a8c3-bf6915eff2f1",
   "metadata": {},
   "outputs": [],
   "source": [
    "# Convertir el mapeo a un diccionario para facilitar su uso\n",
    "mapeo_dict = mapeo_cod_producto.set_index('PRODUCTO')['COD. PRODUCTO'].to_dict()\n",
    "\n",
    "# Completar o corregir la columna 'COD PRODUCTO'\n",
    "sales['COD. PRODUCTO'] = sales['PRODUCTO'].map(mapeo_dict)"
   ]
  },
  {
   "cell_type": "code",
   "execution_count": null,
   "id": "bad18c4b-07e2-4405-a79f-811b6598f8c2",
   "metadata": {},
   "outputs": [],
   "source": [
    "# Detectar inconsistencias entre 'COD PRODUCTO' y 'PRODUCTO'\n",
    "inconsistencias = sales[sales['PRODUCTO'] != sales['COD. PRODUCTO'].map(mapeo_dict)]"
   ]
  },
  {
   "cell_type": "code",
   "execution_count": null,
   "id": "4736b2b1-f232-4b9b-8bc4-a1e4d39ce724",
   "metadata": {},
   "outputs": [],
   "source": [
    "sales['PRODUCTO'] = sales['COD. PRODUCTO'].map({v: k for k, v in mapeo_dict.items()})\n"
   ]
  },
  {
   "cell_type": "code",
   "execution_count": null,
   "id": "a1ca7cda-eac0-4919-a8ea-a62761283a59",
   "metadata": {},
   "outputs": [],
   "source": [
    "sales.sample(5)"
   ]
  },
  {
   "cell_type": "code",
   "execution_count": null,
   "id": "c5de3978-20ff-4395-a2c5-9e5be830ef98",
   "metadata": {},
   "outputs": [],
   "source": [
    "faltantes_codproducto = sales[sales['COD. PRODUCTO'].isna()]\n",
    "# Obtener los valores únicos de la columna 'PRODUCTO'\n",
    "valores_unicos_producto = faltantes_codproducto['PRODUCTO'].unique()\n",
    "\n",
    "print(valores_unicos_producto)"
   ]
  },
  {
   "cell_type": "code",
   "execution_count": null,
   "id": "94c35c7b-2702-41ce-869e-1811d5f8f811",
   "metadata": {},
   "outputs": [],
   "source": [
    "productos_con_nan = sales[sales['COD. PRODUCTO'].isna()]\n",
    "\n",
    "# Mostrar valores únicos de la columna 'PRODUCTO' donde 'COD PRODUCTO' es NaN\n",
    "valores_producto_nan = productos_con_nan['PRODUCTO'].unique()\n",
    "\n",
    "print(\"Valores únicos en la columna 'PRODUCTO' donde 'COD PRODUCTO' es NaN:\")\n",
    "print(valores_producto_nan)"
   ]
  },
  {
   "cell_type": "code",
   "execution_count": null,
   "id": "d958a6cd-682a-49d3-9dfb-d163c9e0eb2f",
   "metadata": {},
   "outputs": [],
   "source": [
    "sales.loc[sales['COD. PRODUCTO'].isna(), 'COD. PRODUCTO'] = '1-20-20-200'"
   ]
  },
  {
   "cell_type": "code",
   "execution_count": null,
   "id": "1497438e-e66d-45db-b426-c989ec010c39",
   "metadata": {},
   "outputs": [],
   "source": [
    "sales.sample(2)"
   ]
  },
  {
   "cell_type": "markdown",
   "id": "c58cfc7f-f569-44e3-b53a-f563e3971b82",
   "metadata": {},
   "source": [
    "* Verificamos si quedan filas donde 'COD PRODUCTO' es nulo"
   ]
  },
  {
   "cell_type": "code",
   "execution_count": null,
   "id": "569aabcc-ad81-4caa-ade2-4c1677b65dad",
   "metadata": {},
   "outputs": [],
   "source": [
    "sin_codproducto = sales[sales['COD. PRODUCTO'].isna()]\n",
    "print(\"Filas con 'COD PRODUCTO' faltante:\")\n",
    "sin_codproducto.shape"
   ]
  },
  {
   "cell_type": "code",
   "execution_count": null,
   "id": "dd916a16-746b-4cae-b751-d4dc49a2edae",
   "metadata": {},
   "outputs": [],
   "source": [
    "# Mostrar filas donde 'PRODUCTO' es NaN\n",
    "sin_producto = sales[sales['PRODUCTO'].isna()]\n",
    "print(\"Filas con 'PRODUCTO' faltante:\")\n",
    "sin_producto.shape"
   ]
  },
  {
   "cell_type": "code",
   "execution_count": null,
   "id": "b635b4cc-9c33-4755-9dba-b4fe94702886",
   "metadata": {},
   "outputs": [],
   "source": [
    "# Contar valores únicos en 'COD. PRODUCTO'\n",
    "valores_unicos_cod_producto = sin_producto['COD. PRODUCTO'].unique()\n",
    "\n",
    "# Contar la cantidad de valores únicos\n",
    "cantidad_valores_unicos = len(valores_unicos_cod_producto)\n",
    "print(valores_unicos_cod_producto)"
   ]
  },
  {
   "cell_type": "code",
   "execution_count": null,
   "id": "51899637-0dc0-4f5d-9daa-f4d648f19f62",
   "metadata": {},
   "outputs": [],
   "source": [
    "sales.loc[sales['PRODUCTO'].isna() , 'PRODUCTO'] = 'Descripcion de producto pendiente a consultar al cliente'"
   ]
  },
  {
   "cell_type": "code",
   "execution_count": null,
   "id": "64f972aa-7f54-4471-bb26-6bd35bb105f7",
   "metadata": {},
   "outputs": [],
   "source": [
    "# Contar valores nulos en cada columna\n",
    "valores_nulos = sales.isna().sum()\n",
    "\n",
    "print(\"Cantidad de valores nulos por columna:\")\n",
    "print(valores_nulos)"
   ]
  },
  {
   "cell_type": "markdown",
   "id": "258f0865-0b43-43b2-8bf8-606b74e59b54",
   "metadata": {},
   "source": [
    "* Limpieza y correccion de valores en las columnas. "
   ]
  },
  {
   "cell_type": "code",
   "execution_count": null,
   "id": "c4e6ffdc-c44b-4494-980e-7b58ed227377",
   "metadata": {},
   "outputs": [],
   "source": [
    "# Asignar el valor de 'PROVINCIA' a 'LOCALIDAD' donde 'LOCALIDAD' es nulo\n",
    "sales['LOCALIDAD'] = sales['LOCALIDAD'].fillna(sales['PROVINCIA'])\n",
    "\n",
    "# Asignar 'Descripcion faltante' donde 'COD. PRODUCTO' sea NaN\n",
    "sales['COD. PRODUCTO'] = sales['COD. PRODUCTO'].fillna('Descripcion faltante')\n",
    "\n",
    "#Convertir la columna 'DTO' a valores enteros\n",
    "sales['DTO %'] = sales['DTO %'].replace(['$0,00', 0.0], '0').fillna('0')"
   ]
  },
  {
   "cell_type": "code",
   "execution_count": null,
   "id": "0e8ed19f-6d07-4467-9169-080c698ec793",
   "metadata": {},
   "outputs": [],
   "source": [
    "# Verificar valores nulos restantes en todo el dataset\n",
    "print(\"Valores nulos restantes por columna:\")\n",
    "print(sales.isna().sum())"
   ]
  },
  {
   "cell_type": "code",
   "execution_count": null,
   "id": "7c19052d-ceb5-4ce7-9520-614be9c6f6f2",
   "metadata": {
    "scrolled": true
   },
   "outputs": [],
   "source": [
    "# Eliminar las columnas que no voy a utilizar\n",
    "sales = sales.drop(columns=['VALOR PRED.', 'ORDEN DE RETIRO', 'FECHA RETIRO OCA'])\n",
    "# Eliminar filas donde 'PROVINCIA' sea NaN\n",
    "sales = sales.dropna(subset=['PROVINCIA'])\n",
    "# Convertir la columna 'CANTIDAD' a enteros\n",
    "sales['CANTIDAD'] = sales['CANTIDAD'].astype(int)\n",
    "# Convertir la columna 'DTO %' a tipo numérico para reemplazar los valores que no son % de descuento sino monto en pesos\n",
    "sales['DTO %'] = pd.to_numeric(sales['DTO %'], errors='coerce')\n",
    "# Reemplazar valores de DTO % fuera del rango (negativos o mayores a 50) y nulos con 0\n",
    "sales['DTO %'] = sales['DTO %'].apply(lambda x: 0 if pd.isna(x) or x > 50 or x < 0 else x)\n"
   ]
  },
  {
   "cell_type": "code",
   "execution_count": null,
   "id": "9d7500db-64ef-4b51-97c1-610b3ce16339",
   "metadata": {},
   "outputs": [],
   "source": [
    "# Eliminar filas donde 'FECHA COMPRA' sea NaN, REVISAR para buscar la fecha \n",
    "sales = sales.dropna(subset=['FECHA COMPRA'])"
   ]
  },
  {
   "cell_type": "code",
   "execution_count": null,
   "id": "09580681-f387-4736-a15d-488e2f44c84c",
   "metadata": {},
   "outputs": [],
   "source": [
    "sales['FECHA COMPRA'] = pd.to_datetime(sales['FECHA COMPRA'], errors='coerce')\n",
    "\n",
    "sales = sales.sort_values(by='FECHA COMPRA')\n",
    "\n",
    "sales['FECHA COMPRA'] = sales['FECHA COMPRA'].ffill()  # Rellenar con el valor anterior\n",
    "sales['FECHA COMPRA'] = sales['FECHA COMPRA'].bfill()  # Si no hay anterior, usar el siguiente"
   ]
  },
  {
   "cell_type": "code",
   "execution_count": null,
   "id": "cb5eb4f7-6c37-4b9c-bbaa-1ce518d82293",
   "metadata": {},
   "outputs": [],
   "source": [
    "sales.sample(5)"
   ]
  },
  {
   "cell_type": "code",
   "execution_count": null,
   "id": "c2a46906-7669-4bc9-8026-093cad8f2509",
   "metadata": {},
   "outputs": [],
   "source": [
    "# Verificar valores nulos restantes en todo el dataset\n",
    "print(\"Valores nulos restantes por columna:\")\n",
    "print(sales.isna().sum())"
   ]
  },
  {
   "cell_type": "markdown",
   "id": "ce8222a0-7ecf-44a0-b01d-4fac35c00558",
   "metadata": {},
   "source": [
    "## A modo resumen un detalle de las transformaciones realizadas a las variables \n",
    "\n",
    "* Valor Pred : Eliminada ya que no aporta valor al modelo\n",
    "* Orden de Retiro : Eliminada ya que no aporta valor al modelo, es un identificador de la venta\n",
    "* Fecha retiro OCA: Eliminada ya que no aporta valor al modelo\n",
    "* Fecha compra : El data set inical estaba ordenado por fecha, cuando algun registro no contaba con la misma se buscó insertar la mas cercana en el índice anterior.\n",
    "* Cantidad: se convirtió a valor entero en todos sus casos.\n",
    "* Cod. Producto: se rellenó los valores faltantes comparando la descripcion del producto en otras celdas que tenga el cod producto cargado.\n",
    "* Producto: se rellenó los valores faltantes comparando el cod. producto en otras celdas que tenga la misma descripción del producto cargada. \n",
    "* DTO %: Algunos registros no tenian valor porcentual sino numérico, por lo que cuando se encontraba un valor mayor a 50 se insertó 0.\n",
    "* Localidad: Se rellenó para los valores faltantes con el nombre de la provincia como valor genérico, posiblemente no aporte mucho valor al modelo.\n",
    "* Provincia: Se eliminaron los registros que no contaban con provincia asignada\n"
   ]
  },
  {
   "cell_type": "markdown",
   "id": "43be31bc-e2d1-4ca5-a9c4-ec90bb566bfe",
   "metadata": {},
   "source": [
    "## Realizar un análisis individual de cada variable de entrada que será utilizada. A partir del mismo debería poder conocerse la distribución de los datos, si existen valores raros, su relación con la variable de salida, etc."
   ]
  },
  {
   "cell_type": "code",
   "execution_count": null,
   "id": "08a82cfd-2a2f-4d8a-bdee-30c886628f1c",
   "metadata": {},
   "outputs": [],
   "source": [
    "import matplotlib.pyplot as plt\n",
    "\n",
    "# Filtrar valores no nulos y calcular frecuencia\n",
    "cantidad_frecuencia = sales['CANTIDAD'].value_counts()\n",
    "\n",
    "plt.figure(figsize=(6, 6))  # Ajustar tamaño del gráfico\n",
    "wedges, texts, autotexts = plt.pie(\n",
    "    cantidad_frecuencia, \n",
    "    labels=cantidad_frecuencia.index, \n",
    "    autopct='%2.2f%%', \n",
    "    startangle=140\n",
    ")\n",
    "leyenda = [f\"{index}: {value} \" for index, value in cantidad_frecuencia.items()]\n",
    "plt.legend(\n",
    "    wedges, \n",
    "    leyenda, \n",
    "    title=\"Valores cantidad productos por venta\", \n",
    "    loc=\"center left\", \n",
    "    bbox_to_anchor=(1, 0, 0.5, 1)\n",
    ")\n",
    "plt.title('Distribución de Cantidad')\n",
    "plt.show()\n",
    "\n"
   ]
  },
  {
   "cell_type": "code",
   "execution_count": null,
   "id": "712c13e8-b063-4445-a6c8-bd259819d67c",
   "metadata": {},
   "outputs": [],
   "source": [
    "dto_frecuencia = sales['DTO %'].value_counts().sort_index()\n",
    "\n",
    "plt.figure(figsize=(6, 3))\n",
    "plt.hist(sales['DTO %'], bins=10, edgecolor='black', color='skyblue', alpha=0.7)\n",
    "plt.title('Distribución de DTO %', fontsize=16, fontweight='bold')\n",
    "plt.xlabel('Descuento (%)', fontsize=10)\n",
    "plt.ylabel('Frecuencia', fontsize=10)\n",
    "\n",
    "plt.grid(axis='y', linestyle='--', alpha=0.7)\n",
    "\n",
    "frecuencias_texto = \"\\n\".join([f\"{index}%: {value}\" for index, value in dto_frecuencia.items()])\n",
    "plt.gcf().text(0.95, 0.5, frecuencias_texto, fontsize=12, verticalalignment='center')\n",
    "plt.subplots_adjust(right=0.85)\n",
    "\n",
    "plt.show()"
   ]
  },
  {
   "cell_type": "code",
   "execution_count": null,
   "id": "0af6f53b-5ca7-46a2-9010-393adbae2124",
   "metadata": {},
   "outputs": [],
   "source": [
    "frecuencia_plataforma = sales['PLATAFORMA'].value_counts()\n",
    "\n",
    "plt.figure(figsize=(4, 8))\n",
    "plt.pie(\n",
    "    frecuencia_plataforma,\n",
    "    labels=frecuencia_plataforma.index,\n",
    "    autopct='%1.1f%%',\n",
    "    startangle=140,\n",
    "    colors=plt.cm.Paired.colors\n",
    ")\n",
    "plt.title('Distribución de Ventas por Plataforma', fontsize=12)\n",
    "plt.legend(\n",
    "    labels=[f\"{index}: {value} registros\" for index, value in frecuencia_plataforma.items()],\n",
    "    title=\"Detalle de Plataformas\",    \n",
    "    loc=\"center left\",\n",
    "    bbox_to_anchor=(1.2, 0.8)  \n",
    ")\n",
    "\n",
    "plt.show()"
   ]
  },
  {
   "cell_type": "code",
   "execution_count": null,
   "id": "54e2e54b-044d-48ef-b470-d201be1eba97",
   "metadata": {},
   "outputs": [],
   "source": [
    "frecuencia_provincia = sales['PROVINCIA'].value_counts().head(10)\n",
    "\n",
    "plt.figure(figsize=(6, 6))\n",
    "plt.pie(\n",
    "    frecuencia_provincia,\n",
    "    labels=frecuencia_provincia.index,\n",
    "    autopct='%1.1f%%',\n",
    "    startangle=140,\n",
    "    colors=plt.cm.Set3.colors\n",
    ")\n",
    "plt.title('Distribución de Ventas por Provincia (Top 10)', fontsize=12)\n",
    "plt.legend(\n",
    "    labels=[f\"{index}: {value} ventas\" for index, value in frecuencia_provincia.items()],\n",
    "    title=\"Detalle de Provincias\",\n",
    "    loc=\"center left\", \n",
    "    bbox_to_anchor=(1.3, 0.7) \n",
    ")\n",
    "\n",
    "plt.show()\n"
   ]
  },
  {
   "cell_type": "code",
   "execution_count": null,
   "id": "e44cc8cb-777c-4b8e-81a4-7c7a61fde210",
   "metadata": {},
   "outputs": [],
   "source": [
    "frecuencia_provincia = sales['COD. PRODUCTO'].value_counts().head(10)\n",
    "\n",
    "plt.figure(figsize=(6, 6))\n",
    "plt.pie(\n",
    "    frecuencia_provincia,\n",
    "    labels=frecuencia_provincia.index,\n",
    "    autopct='%1.1f%%',\n",
    "    startangle=140,\n",
    "    colors=plt.cm.Set3.colors\n",
    ")\n",
    "plt.title('Distribución de Ventas por Cod Producto (Top 10)', fontsize=12)\n",
    "plt.legend(\n",
    "    labels=[f\"{index}: {value} ventas\" for index, value in frecuencia_provincia.items()],\n",
    "    title=\"Detalle de códigos de producto\",\n",
    "    loc=\"center left\", \n",
    "    bbox_to_anchor=(1.3, 0.7) \n",
    ")\n",
    "\n",
    "plt.show()"
   ]
  },
  {
   "cell_type": "markdown",
   "id": "f7a55751-f743-44f8-869c-801065f67f2e",
   "metadata": {},
   "source": [
    "## Transformaciones Fecha Compra"
   ]
  },
  {
   "cell_type": "code",
   "execution_count": null,
   "id": "24640a8a-5804-4a9a-8e13-c8b542979230",
   "metadata": {},
   "outputs": [],
   "source": [
    "# Convertir 'FECHA COMPRA' a datetime especificando el formato exacto\n",
    "sales['FECHA COMPRA'] = pd.to_datetime(sales['FECHA COMPRA'], format='%d/%m/%Y')"
   ]
  },
  {
   "cell_type": "code",
   "execution_count": null,
   "id": "685ed84a-7e91-44db-8912-fb38dc6c1717",
   "metadata": {},
   "outputs": [],
   "source": []
  },
  {
   "cell_type": "code",
   "execution_count": null,
   "id": "b4ef9cb9-e417-4845-a5ac-ce7553cde9bb",
   "metadata": {},
   "outputs": [],
   "source": [
    "# Crear columnas temporales\n",
    "sales['AÑO'] = sales['FECHA COMPRA'].dt.year\n",
    "sales['MES'] = sales['FECHA COMPRA'].dt.month\n",
    "sales['SEMANA'] = sales['FECHA COMPRA'].dt.isocalendar().week\n",
    "sales['DÍA'] = sales['FECHA COMPRA'].dt.day\n",
    "\n",
    "sales.sample(10)"
   ]
  },
  {
   "cell_type": "markdown",
   "id": "ceebbeba-b587-4ae1-a107-0d9511da3791",
   "metadata": {},
   "source": [
    "* Distribucion de ventas por mes"
   ]
  },
  {
   "cell_type": "code",
   "execution_count": null,
   "id": "ff392c56-ff3a-4a3f-b52f-fdc05da5f76c",
   "metadata": {},
   "outputs": [],
   "source": [
    "ventas_por_mes = sales.groupby('MES')['CANTIDAD'].sum()\n",
    "\n",
    "plt.figure(figsize=(6, 4))\n",
    "ventas_por_mes.plot(kind='bar', color='skyblue', edgecolor='black')\n",
    "plt.title('Ventas por Mes', fontsize=16, fontweight='bold')\n",
    "plt.xlabel('Mes', fontsize=14)\n",
    "plt.ylabel('Cantidad Vendida', fontsize=14)\n",
    "plt.xticks(rotation=0)\n",
    "plt.grid(axis='y', linestyle='--', alpha=0.7)\n",
    "plt.show()\n",
    "\n"
   ]
  },
  {
   "cell_type": "markdown",
   "id": "c1b1bdb5-77b3-49d4-96d7-ddf9a18f2f92",
   "metadata": {},
   "source": [
    "## Adapto el dataset para analizar tanto patrones semanales como mensuales. El objetivo es trabajar con la predicción por período de tiempo y agrupar las ventas por un intervalo de tiempo y producto"
   ]
  },
  {
   "cell_type": "code",
   "execution_count": null,
   "id": "94be5434-32f4-4dd0-bc87-aae6f222e9ee",
   "metadata": {},
   "outputs": [],
   "source": [
    "# Asegurar formato datetime\n",
    "sales['FECHA COMPRA'] = pd.to_datetime(sales['FECHA COMPRA'], errors='coerce')\n",
    "\n",
    "# Crear columnas de MES y AÑO\n",
    "sales['MES'] = sales['FECHA COMPRA'].dt.month\n",
    "sales['AÑO'] = sales['FECHA COMPRA'].dt.year  \n",
    "\n",
    "# Agregar columna de EVENTO\n",
    "sales['EVENTO'] = sales['MES'].apply(\n",
    "    lambda x: 'Hot Sale' if x == 5 else ('CyberMonday' if x == 11 else 'Estandar')\n",
    ")\n",
    "\n",
    "# Agrupar por MES, AÑO y COD. PRODUCTO\n",
    "sales = sales.groupby(['AÑO', 'MES', 'SEMANA', 'COD. PRODUCTO', 'PRODUCTO', 'PLATAFORMA', 'EVENTO', 'PROVINCIA', 'LOCALIDAD']).agg(\n",
    "    CANTIDAD_TOTAL=('CANTIDAD', 'sum'),  # Cantidad total vendida en el mes\n",
    "    DTO_PROMEDIO=('DTO %', 'mean')  # Promedio del descuento aplicado en el mes\n",
    ").reset_index()\n",
    "\n",
    "\n",
    "sales.sample(5)"
   ]
  },
  {
   "cell_type": "code",
   "execution_count": null,
   "id": "6aff205d-7934-4142-8080-3c706072602d",
   "metadata": {},
   "outputs": [],
   "source": [
    "sales.shape"
   ]
  },
  {
   "cell_type": "markdown",
   "id": "855dc68d-8e26-4c44-8075-5bce2de50034",
   "metadata": {},
   "source": [
    "### Tendencias de mi nuevo data set"
   ]
  },
  {
   "cell_type": "markdown",
   "id": "7041a683-4a96-4284-874d-20209ae9061d",
   "metadata": {},
   "source": [
    "#### Evolución de ventas mensuales generales. Se grafica la evolución de las ventas totales en todos los productos. "
   ]
  },
  {
   "cell_type": "code",
   "execution_count": null,
   "id": "cb7a9ac2-96c6-4bd4-a4c5-3a419517004d",
   "metadata": {},
   "outputs": [],
   "source": [
    "# Seleccionar los 10 productos más vendidos sumando todos los años\n",
    "top_productos = sales.groupby(\"COD. PRODUCTO\")[\"CANTIDAD_TOTAL\"].sum().nlargest(10).index\n",
    "\n",
    "# Filtrar dataset con solo estos productos y sumar las ventas por mes\n",
    "ventas_top_productos = sales[sales[\"COD. PRODUCTO\"].isin(top_productos)]\n",
    "\n",
    "# Obtener el nombre del producto correspondiente a cada código\n",
    "mapa_productos = ventas_top_productos[['COD. PRODUCTO', 'PRODUCTO']].drop_duplicates().set_index('COD. PRODUCTO')['PRODUCTO'].to_dict()\n",
    "\n",
    "# Usar .loc[] para evitar la advertencia de \"SettingWithCopyWarning\"\n",
    "ventas_top_productos.loc[:, 'PRODUCTO'] = ventas_top_productos['COD. PRODUCTO'].map(mapa_productos)\n",
    "\n",
    "# Agrupar sumando ventas totales por mes sin diferenciar el año\n",
    "ventas_top_productos = ventas_top_productos.groupby(['MES', 'PRODUCTO'])['CANTIDAD_TOTAL'].sum().reset_index()\n",
    "\n",
    "# Ordenar los productos por cantidad total de ventas\n",
    "total_ventas_por_producto = ventas_top_productos.groupby(\"PRODUCTO\")[\"CANTIDAD_TOTAL\"].sum().sort_values(ascending=False)\n",
    "productos_ordenados = total_ventas_por_producto.index\n",
    "\n",
    "# Crear el gráfico\n",
    "plt.figure(figsize=(14,8))\n",
    "sns.lineplot(data=ventas_top_productos, x=\"MES\", y=\"CANTIDAD_TOTAL\", hue=\"PRODUCTO\", marker=\"o\", palette=\"tab10\", hue_order=productos_ordenados)\n",
    "\n",
    "# Modificar etiquetas en la leyenda para incluir cantidad total vendida\n",
    "handles, labels = plt.gca().get_legend_handles_labels()\n",
    "nuevas_labels = [f\"{prod} ({int(total_ventas_por_producto[prod])} unidades)\" for prod in labels]\n",
    "plt.legend(handles, nuevas_labels, title=\"Producto (Total Vendido)\", fontsize=10, title_fontsize=12)\n",
    "\n",
    "# Agregar etiquetas\n",
    "plt.title(\"Evolución de Ventas Mensuales - Top 10 Productos (Suma de Todos los Años)\", fontsize=14)\n",
    "plt.xlabel(\"Mes\", fontsize=12)\n",
    "plt.ylabel(\"Cantidad Total Vendida\", fontsize=12)\n",
    "plt.xticks(range(1,13), ['Ene', 'Feb', 'Mar', 'Abr', 'May', 'Jun', 'Jul', 'Ago', 'Sep', 'Oct', 'Nov', 'Dic'])\n",
    "plt.grid()\n",
    "\n",
    "# Mostrar gráfico\n",
    "plt.show()\n",
    "\n",
    "\n"
   ]
  },
  {
   "cell_type": "markdown",
   "id": "c68673f7-2e34-4566-a2f9-eb42a3538fd9",
   "metadata": {},
   "source": [
    "## Matriz de correlación"
   ]
  },
  {
   "cell_type": "code",
   "execution_count": null,
   "id": "2b1d3aa3-6727-4c0f-8c4b-07061c3d0c5e",
   "metadata": {},
   "outputs": [],
   "source": [
    "#Preparo el dataset para realizar la matriz de correlación\n",
    "sales = pd.get_dummies(sales, columns=['PLATAFORMA', 'EVENTO'], drop_first=False)\n",
    "sales.columns = sales.columns.str.replace('PLATAFORMA_', '').str.replace('EVENTO_', '')\n",
    "\n",
    "# Convertir todas las columnas booleanas a enteros (1 para True, 0 para False)\n",
    "sales[['ecommerce', 'fravega', 'megatone', 'mercadolibre', 'CyberMonday', 'Estandar', 'Hot Sale']] = \\\n",
    "sales[['ecommerce', 'fravega', 'megatone', 'mercadolibre', 'CyberMonday', 'Estandar', 'Hot Sale']].astype(int)\n",
    "\n",
    "\n"
   ]
  },
  {
   "cell_type": "code",
   "execution_count": null,
   "id": "e550c550-ecb9-4cf4-846d-bc38c62e38b0",
   "metadata": {},
   "outputs": [],
   "source": [
    "# Seleccionamos las variables numéricas (esto incluye las nuevas columnas de One Hot Encoding)\n",
    "variables_numericas_ampliadas = sales.select_dtypes(include=['float64', 'int64'])\n",
    "\n",
    "correlacion_ampliada = variables_numericas_ampliadas.corr()\n",
    "\n",
    "plt.figure(figsize=(10, 10))\n",
    "sns.heatmap(correlacion_ampliada, annot=True, cmap='coolwarm', fmt='.2f', linewidths=0.5, vmin=-1, vmax=1)\n",
    "\n",
    "# Agregar título y etiquetas\n",
    "plt.title(\"Matriz de Correlación\", fontsize=12)\n",
    "plt.show()\n",
    "\n",
    "\n"
   ]
  },
  {
   "cell_type": "markdown",
   "id": "de277e1c-05da-433b-be1b-fe8640d774f4",
   "metadata": {},
   "source": [
    "Podemos observar que: \n",
    "\n",
    "CANTIDAD_TOTAL:\n",
    "- No parece haber una relación significativa entre la cantidad vendida y el descuento promedio aplicado, lo cual es interesante. Esto podría sugerir que el descuento no es un factor determinante para el volumen de ventas, o bien que otras variables más relevantes influyen en las ventas.\n",
    "- La CANTIDAD_TOTAL está levemente correlacionada con las plataformas. Esto podría indicar que ciertas plataformas (como ecommerce y mercadolibre) podrían tener una mayor cantidad de ventas.\n",
    "\n",
    "DTO_PROMEDIO:\n",
    "- Hay una pequeña correlación positiva (0.29) entre el descuento promedio y megatone, lo que sugiere que cuando los productos de megatone tienen mayores descuentos, las ventas aumentan, aunque no sea una relación muy fuerte.\n",
    "- Hay una relación negativa bastante fuerte (-0.68) entre el descuento promedio y mercadolibre. Esto podría implicar que cuando los descuentos en mercadolibre son mayores, las ventas no aumentan de manera tan significativa, o los productos con mayores descuentos pueden tener menos demanda en esta plataforma.\n",
    "  \n",
    "Plataformas (ecommerce, fravega, megatone, mercadolibre):\n",
    "\n",
    "- Megatone podría estar más orientado a una plataforma distinta, mientras que mercadolibre y ecommerce tienen una relación diferente.\n",
    "- Fravega tiene una correlación muy baja con las demás variables (casi todos valores están cerca de 0), lo que sugiere que las ventas en fravega no están muy relacionadas con las demás plataformas.\n",
    "  \n",
    "Eventos (CyberMonday, Hot Sale, Estandar):\n",
    "\n",
    "- CyberMonday y Hot Sale pueden tener un efecto muy particular sobre el comportamiento de las ventas, posiblemente en diferentes plataformas, con menos efecto sobre otras.\n",
    "- Ventas en épocas que no sean eventos también muestra una correlación negativa significativa con CANTIDAD_TOTAL, lo que sugiere que durante los meses \"normales\", las ventas son más bajas que durante eventos como Hot Sale o CyberMonday\n"
   ]
  },
  {
   "cell_type": "markdown",
   "id": "17eab0e1-e059-4ff2-8290-71c138c2211b",
   "metadata": {},
   "source": [
    "# Hipótesis sobre los datos"
   ]
  },
  {
   "cell_type": "markdown",
   "id": "7e347df2-03aa-4fea-9072-fb71e6ed0e01",
   "metadata": {},
   "source": [
    "## Hipotesis 1: \n",
    "\n",
    "#### Comparación de ventas promedio en meses normales vs. eventos"
   ]
  },
  {
   "cell_type": "code",
   "execution_count": null,
   "id": "f211797b-14d1-42b7-8529-df9ef2dfa35d",
   "metadata": {},
   "outputs": [],
   "source": [
    "# Crear una columna para categorizar los meses\n",
    "ventas_por_evento = sales.assign(\n",
    "    TIPO_MES = sales['MES'].apply(\n",
    "        lambda x: 'Hot Sale' if x == 5 else ('CyberMonday' if x == 11 else 'Mes Normal')\n",
    "    )\n",
    ")\n",
    "\n",
    "# Agrupar por tipo de mes y calcular ventas promedio\n",
    "ventas_por_evento = ventas_por_evento.groupby(\"TIPO_MES\")[\"CANTIDAD_TOTAL\"].mean().reset_index()\n",
    "\n",
    "# Mostrar la tabla en el notebook\n",
    "from IPython.display import display\n",
    "display(ventas_por_evento)\n"
   ]
  },
  {
   "cell_type": "markdown",
   "id": "d49caab3-13e9-486a-80ac-9a84f83b9dd9",
   "metadata": {},
   "source": [
    "##### Los meses con Hot Sale y CyberMonday tienen ventas superiores a los meses normales.\n",
    "\n",
    "* En meses normales, se venden en promedio 11.22 unidades de un producto por mes.\n",
    "* Durante CyberMonday, este número aumenta a 13.83.\n",
    "* En Hot Sale, la cantidad promedio sube aún más a 17.26.\n",
    "  \n",
    "##### Hot Sale parece generar un mayor impacto en las ventas que CyberMonday.\n",
    "\n",
    "* El aumento en Hot Sale es mayor que en CyberMonday.\n",
    "* Esto podría deberse a que mayo (Hot Sale) tiene más días promocionales, o a que hay una mayor demanda en ese momento del año\n",
    "\n",
    "##### Calculamos el porcentaje de aumento en ventas en estos eventos:\n",
    "\n",
    "* Hot Sale vs. Mes Normal:\n",
    "(17.26 − 11.22 / 11.22) × 100 = 53.87 % de aumento\n",
    "\n",
    "* CyberMonday vs. Mes Normal:\n",
    "(13.83 − 11.22 / 11.22) × 100 = 23.26 % de aumento\n",
    "\n",
    "#### Conclusión\n",
    "✔ Confirmamos la hipótesis: Hot Sale y CyberMonday aumentan significativamente las ventas.\n",
    "\n",
    "✔ El impacto es mayor en Hot Sale (≈ 54% más ventas), que en CyberMonday (≈ 23% más ventas)."
   ]
  },
  {
   "cell_type": "markdown",
   "id": "8641bcc9-420d-4668-bca7-f50f35f9569c",
   "metadata": {},
   "source": [
    "## Hipotesis 2: \n",
    "\n",
    "#### Los meses con mayor descuento promedio tienen más ventas\n",
    "Se plantea ver si en un mes hay un mayor descuento promedio la cantidad de productos vendidos es mayor"
   ]
  },
  {
   "cell_type": "code",
   "execution_count": null,
   "id": "7e73ed51-a5ef-4b43-a236-4d512705b508",
   "metadata": {},
   "outputs": [],
   "source": [
    "# Agrupar ventas y descuentos promedio por mes\n",
    "ventas_vs_descuento = sales.groupby(\"MES\").agg(\n",
    "    CANTIDAD_TOTAL=('CANTIDAD_TOTAL', 'sum'),\n",
    "    DTO_PROMEDIO=('DTO_PROMEDIO', 'mean')\n",
    ").reset_index()\n",
    "\n",
    "# Crear gráfico de dispersión con regresión\n",
    "plt.figure(figsize=(8,5))\n",
    "sns.regplot(x=ventas_vs_descuento[\"DTO_PROMEDIO\"], y=ventas_vs_descuento[\"CANTIDAD_TOTAL\"], scatter_kws={'s': 50}, line_kws={'color': 'red'})\n",
    "\n",
    "# Agregar etiquetas\n",
    "plt.title(\"Relación entre Descuento Promedio y Cantidad Vendida\", fontsize=14)\n",
    "plt.xlabel(\"Descuento Promedio (%)\", fontsize=12)\n",
    "plt.ylabel(\"Cantidad Total Vendida\", fontsize=12)\n",
    "plt.grid()\n",
    "\n",
    "# Mostrar gráfico\n",
    "plt.show()"
   ]
  },
  {
   "cell_type": "markdown",
   "id": "227915aa-8608-4383-a59f-3cb56babb9bc",
   "metadata": {},
   "source": [
    "##### Relación positiva entre descuento promedio y cantidad vendida:\n",
    "* La línea de tendencia (roja) indica que a medida que el descuento promedio aumenta, también lo hace la cantidad total vendida.\n",
    "* Esto sugiere que los descuentos tienen un efecto positivo en las ventas totales.\n",
    "\n",
    "##### Dispersión moderada:\n",
    "* Aunque hay una relación positiva, no todos los puntos se encuentran cercanos a la línea de tendencia.\n",
    "* Esto puede indicar que otros factores (como el tipo de producto o eventos como Hot Sale y CyberMonday) también influyen en la cantidad vendida.\n",
    "\n",
    "##### Rango del descuento promedio:\n",
    "* Los descuentos promedio oscilan entre 0.4% y 1.8%.\n",
    "* Dentro de este rango, los meses con descuentos más altos parecen tener ventas significativamente mayores.\n",
    "\n",
    "##### Meses con bajo descuento y ventas bajas:\n",
    "* Algunos puntos con descuentos bajos (ej.: <1%) muestran menos ventas totales, lo que refuerza la hipótesis de que los descuentos pueden impulsar las compras.\n",
    "\n",
    "#### Conclusión\n",
    "✔ La hipótesis es consistente con los datos: Los meses con mayor descuento promedio tienden a tener mayores ventas totales.\n",
    "\n",
    "✔ Descuento como factor clave: Este hallazgo sugiere que el descuento promedio es una variable importante que debería incluirse en el modelo de predicción de ventas.\n"
   ]
  },
  {
   "cell_type": "markdown",
   "id": "dbf6596d-2db9-4c43-8044-6a59168fd4b4",
   "metadata": {},
   "source": [
    "# Modelado"
   ]
  },
  {
   "cell_type": "markdown",
   "id": "b5d25bbd-0f7e-4297-b30f-73eefe6dc23f",
   "metadata": {},
   "source": [
    "### Elección de la métrica de performance a utilizar para evaluar los modelos y fundamentación."
   ]
  },
  {
   "cell_type": "markdown",
   "id": "5ee5934d-2605-4d15-acdb-00757fd6acb7",
   "metadata": {},
   "source": [
    "Dado que se está trabajando en un modelo de regresión para predecir la cantidad de productos vendidos, productos vendidos, la métrica elegida debe reflejar qué tan bien el modelo está prediciendo valores continuos. Para ello, se utilizará la **Raíz del Error Cuadrático Medio (RMSE - Root Mean Squared Error)**.\n",
    "\n",
    "Se ha optado por esta métrica porque proporciona una medida clara y directa de la diferencia promedio entre las predicciones y los valores reales, lo cual es crucial en problemas de predicción de ventas. La principal ventaja del RMSE sobre el MSE es que se calcula tomando la raíz cuadrada del MSE, lo que resulta en una métrica que tiene las mismas unidades que la variable objetivo (es decir, la cantidad de productos vendidos). Esto lo hace más interpretable en el contexto del negocio.\n",
    "\n",
    "Por otro lado, el MSE tiende a dar valores más grandes debido al efecto cuadrático de las diferencias, lo que puede resultar en una penalización exagerada de los errores grandes. Al tomar la raíz cuadrada, el RMSE proporciona una medida que mantiene la escala de los datos, haciendo más fácil de entender su impacto en las predicciones de ventas."
   ]
  },
  {
   "cell_type": "markdown",
   "id": "bea5b5e8-dcdc-48d9-bd1a-423648bdd618",
   "metadata": {},
   "source": [
    "### Próximo paso será entrenar y evaluar al menos 3 algoritmos de machine learning distintos, realizando una exploración de hiper-parámetros mediante una búsqueda en grilla. Evaluar el comportamiento de cada modelo con los que mejores resultados ofrecen aportando conclusiones respecto a dicha comparación."
   ]
  },
  {
   "cell_type": "code",
   "execution_count": null,
   "id": "6fcd5da2-bebb-4195-b551-241560c915b9",
   "metadata": {},
   "outputs": [],
   "source": [
    "# Asegurarse de que las columnas 'AÑO' y 'MES' sean numéricas (enteros)\n",
    "sales['AÑO'] = pd.to_numeric(sales['AÑO'], errors='coerce')\n",
    "sales['MES'] = pd.to_numeric(sales['MES'], errors='coerce')\n",
    "\n",
    "# Crear una columna de fecha combinando AÑO, MES y un día fijo (el primer día del mes) y Formatear la fecha a DD-MM-YYYY\n",
    "sales['FECHA_COMPRA'] = pd.to_datetime(sales['AÑO'].astype(str) + '-' + sales['MES'].astype(str) + '-1', format='%Y-%m-%d')\n",
    "sales['FECHA_COMPRA'] = sales['FECHA_COMPRA'].dt.strftime('%d-%m-%Y')\n",
    "\n",
    "# Ordenar el dataset por la nueva columna 'FECHA_COMPRA' (ascendente)\n",
    "sales = sales.sort_values(by='FECHA_COMPRA', ascending=True)\n",
    "\n",
    "# Verificar las primeras filas después de ordenar\n",
    "sales.head()\n"
   ]
  },
  {
   "cell_type": "code",
   "execution_count": null,
   "id": "ddaa90f4-5380-4904-aa0a-5a46f54a0a5e",
   "metadata": {},
   "outputs": [],
   "source": [
    "#Elimino los dos registros outliers con data (seguramente mal cargada) del 2002\n",
    "sales = sales[sales['AÑO'] != 2002]\n",
    "sales = sales.drop(columns=[ \"PRODUCTO\",\"PROVINCIA\", \"LOCALIDAD\"])"
   ]
  },
  {
   "cell_type": "code",
   "execution_count": null,
   "id": "352f5312-7c73-4e7d-8e21-d433c5be036d",
   "metadata": {},
   "outputs": [],
   "source": [
    "# 60% train, 20% test, 20% validation\n",
    "train, not_train = train_test_split(sales, test_size=0.4, random_state=42)\n",
    "validation, test = train_test_split(not_train, test_size=0.5, random_state=42)\n",
    "\n",
    "train.shape, validation.shape, test.shape\n"
   ]
  },
  {
   "cell_type": "code",
   "execution_count": null,
   "id": "6b0518db-dda1-463b-91ab-8020da762743",
   "metadata": {},
   "outputs": [],
   "source": [
    "# Definir el DataFrameMapper\n",
    "mapper = DataFrameMapper([\n",
    "    # Columnas numéricas\n",
    "    (['AÑO', 'MES', 'SEMANA', 'CANTIDAD_TOTAL', 'DTO_PROMEDIO'], [StandardScaler()]),\n",
    "    # Columnas de eventos y plataformas (OneHotEncoder)\n",
    "    (['ecommerce', 'fravega', 'megatone', 'mercadolibre', 'CyberMonday', 'Estandar', 'Hot Sale'], [StandardScaler()]),\n",
    "])\n",
    "\n"
   ]
  },
  {
   "cell_type": "code",
   "execution_count": null,
   "id": "68083aee-ea76-4ff7-b3aa-700721efaadd",
   "metadata": {},
   "outputs": [],
   "source": [
    "# Ajustar la transformación en X_train\n",
    "X_train_transformed = mapper.fit_transform(X_train)\n",
    "\n",
    "# Aplicar la transformación solo a X_test (sin 'fit', solo 'transform')\n",
    "X_test_transformed = mapper.transform(X_test)\n",
    "\n",
    "# Verificar que las columnas estén alineadas correctamente\n",
    "print(X_train_transformed.shape)  # Verifica el número de columnas\n",
    "print(X_test_transformed.shape)   # Verifica que las columnas de test coincidan con train\n"
   ]
  },
  {
   "cell_type": "code",
   "execution_count": null,
   "id": "e6a9dc98-c825-472b-b1f5-1b2b56cf655b",
   "metadata": {},
   "outputs": [],
   "source": [
    "X_test_transformed.shape"
   ]
  },
  {
   "cell_type": "code",
   "execution_count": null,
   "id": "64c609ca-b775-49ef-8cff-bb3fa53c3c70",
   "metadata": {},
   "outputs": [],
   "source": [
    "# Definir las características (X) y el target (y)\n",
    "X_train = X_train_transformed  # Datos de entrenamiento transformados\n",
    "y_train = train['CANTIDAD_TOTAL']  # Target de entrenamiento\n",
    "\n",
    "X_test = X_test_transformed  # Datos de test transformados\n",
    "y_test = test['CANTIDAD_TOTAL']  # Target de test\n"
   ]
  },
  {
   "cell_type": "code",
   "execution_count": null,
   "id": "c8031583-a20a-4885-b3d8-288d7ecbd6fc",
   "metadata": {},
   "outputs": [],
   "source": [
    "X_test.shape"
   ]
  },
  {
   "cell_type": "code",
   "execution_count": null,
   "id": "6d86e7e8-82f4-4afa-8c8b-1c6b974fba77",
   "metadata": {},
   "outputs": [],
   "source": [
    "def evaluate_model(model, set_names=('train', 'validation'), title='', show_rmse=True, show_r2=False):\n",
    "    if title:\n",
    "        display(title)\n",
    "        \n",
    "    final_metrics = {\n",
    "        'RMSE': [],\n",
    "        'R²': [] if show_r2 else [],  # Solo calcular R² si se solicita\n",
    "    }\n",
    "    \n",
    "    for i, data_set in enumerate(set_names):\n",
    "        assert data_set in ['train', 'validation', 'test']\n",
    "        \n",
    "        # Obtén los datos del conjunto (train, validation, test)\n",
    "        set_data = globals()[data_set]\n",
    "        \n",
    "        # Separar características y variable target\n",
    "        X = set_data.drop(columns=['CANTIDAD_TOTAL'])  # Características\n",
    "        y = set_data['CANTIDAD_TOTAL']  # Target\n",
    "        \n",
    "        # Realizar predicciones con el modelo\n",
    "        y_pred = model.predict(X)\n",
    "        \n",
    "        # Calcular RMSE\n",
    "        rmse = np.sqrt(mean_squared_error(y, y_pred))\n",
    "        final_metrics['RMSE'].append(rmse)\n",
    "        \n",
    "        # Calcular R² si se solicita\n",
    "        if show_r2:\n",
    "            r2 = r2_score(y, y_pred)\n",
    "            final_metrics['R²'].append(r2)\n",
    "        \n",
    "        # Mostrar métricas si es necesario\n",
    "        print(f\"Evaluación en el conjunto {data_set}:\")\n",
    "        print(f\"  - RMSE: {rmse}\")\n",
    "        if show_r2:\n",
    "            print(f\"  - R²: {r2}\")\n",
    "    \n",
    "    # Mostrar un resumen de las métricas\n",
    "    display(pd.DataFrame(final_metrics, index=set_names))\n"
   ]
  },
  {
   "cell_type": "code",
   "execution_count": null,
   "id": "70aa4691-107e-4752-b0eb-097dbfa5d1a1",
   "metadata": {},
   "outputs": [],
   "source": [
    "# Definir el modelo de regresión logística\n",
    "lr_clasif = LogisticRegression(solver='liblinear')  # Usamos 'liblinear' por ser adecuado para pequeños datasets\n",
    "\n",
    "# Definir los hiperparámetros a buscar\n",
    "parameters = {\n",
    "    'C': [0.01, 0.1, 1, 10, 100],  # Regularización\n",
    "    'penalty': ['l1', 'l2'],  # Tipo de penalización\n",
    "    'solver': ['liblinear', 'saga']  # Métodos de optimización\n",
    "}\n",
    "\n",
    "# Realizar GridSearchCV para encontrar los mejores hiperparámetros\n",
    "grid_search = GridSearchCV(estimator=lr_clasif, param_grid=parameters, cv=2, scoring='neg_mean_squared_error', verbose=1)\n",
    "\n",
    "# Entrenar el modelo con los datos de entrenamiento\n",
    "grid_search.fit(X_train_transformed, y_train)\n",
    "\n",
    "# Obtener el mejor modelo con los mejores parámetros\n",
    "best_model = grid_search.best_estimator_\n",
    "\n",
    "# Ver los mejores parámetros encontrados\n",
    "print(\"Mejores parámetros:\", grid_search.best_params_)\n",
    "\n",
    "# Realizar las predicciones en el conjunto de test\n",
    "y_pred_test = best_model.predict(X_test_transformed)\n",
    "\n",
    "# Calcular el RMSE en test\n",
    "rmse_test = np.sqrt(mean_squared_error(y_test, y_pred_test))\n",
    "\n",
    "# Imprimir el RMSE en el conjunto de test\n",
    "print(f\"RMSE en test: {rmse_test}\")"
   ]
  },
  {
   "cell_type": "code",
   "execution_count": null,
   "id": "f2a840bc-bc31-4d6b-924b-7e7601076442",
   "metadata": {},
   "outputs": [],
   "source": [
    "#evaluate_model(best_model, title='Logistic Regression', show_rmse=True, show_r2=True)"
   ]
  },
  {
   "cell_type": "code",
   "execution_count": null,
   "id": "2cf7778b-a611-4002-bee6-03927ec78c1e",
   "metadata": {},
   "outputs": [],
   "source": [
    "# Definir el OneHotEncoder con manejo de categorías desconocidas\n",
    "encoder = OneHotEncoder(handle_unknown='ignore')\n",
    "\n",
    "# Ajustar el encoder al conjunto de entrenamiento\n",
    "encoder.fit(X_train[['ecommerce', 'fravega', 'megatone', 'mercadolibre', 'CyberMonday', 'Estandar', 'Hot Sale']])\n",
    "\n",
    "# Transformar los conjuntos de entrenamiento y prueba con el mismo encoder\n",
    "X_train_encoded = encoder.transform(X_train[['ecommerce', 'fravega', 'megatone', 'mercadolibre', 'CyberMonday', 'Estandar', 'Hot Sale']])\n",
    "X_test_encoded = encoder.transform(X_test[['ecommerce', 'fravega', 'megatone', 'mercadolibre', 'CyberMonday', 'Estandar', 'Hot Sale']])\n",
    "\n",
    "# Asegurarse de que el número de columnas sea el mismo\n",
    "print(X_train_encoded.shape)  # Verifica que la cantidad de columnas sea igual en ambos\n",
    "print(X_test_encoded.shape)\n"
   ]
  },
  {
   "cell_type": "code",
   "execution_count": null,
   "id": "63a3f576-de5c-4c28-a9e2-de5d20d547f4",
   "metadata": {},
   "outputs": [],
   "source": []
  },
  {
   "cell_type": "code",
   "execution_count": null,
   "id": "f3309108-4b94-4f03-82a4-c9eab6230c22",
   "metadata": {},
   "outputs": [],
   "source": []
  },
  {
   "cell_type": "code",
   "execution_count": null,
   "id": "a4102f9b-d477-4131-9368-8b8729575231",
   "metadata": {},
   "outputs": [],
   "source": []
  }
 ],
 "metadata": {
  "kernelspec": {
   "display_name": "Python 3 (ipykernel)",
   "language": "python",
   "name": "python3"
  },
  "language_info": {
   "codemirror_mode": {
    "name": "ipython",
    "version": 3
   },
   "file_extension": ".py",
   "mimetype": "text/x-python",
   "name": "python",
   "nbconvert_exporter": "python",
   "pygments_lexer": "ipython3",
   "version": "3.12.5"
  }
 },
 "nbformat": 4,
 "nbformat_minor": 5
}
