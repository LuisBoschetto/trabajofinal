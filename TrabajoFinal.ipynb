{
 "cells": [
  {
   "cell_type": "code",
   "execution_count": 7,
   "id": "0f799f8b-9b81-4ac7-81c4-6231413ac4b2",
   "metadata": {},
   "outputs": [
    {
     "name": "stdout",
     "output_type": "stream",
     "text": [
      "Se importó correctamente\n"
     ]
    }
   ],
   "source": [
    "try:\n",
    "    import pandas as pd\n",
    "    import numpy as np\n",
    "    import matplotlib.pyplot as plt\n",
    "    import seaborn as sns\n",
    "    from sklearn.preprocessing import OneHotEncoder\n",
    "    from sklearn.preprocessing import OneHotEncoder, StandardScaler\n",
    "    from sklearn.pipeline import Pipeline\n",
    "    from sklearn.model_selection import train_test_split\n",
    "    from sklearn_pandas import DataFrameMapper\n",
    "    from sklearn import metrics\n",
    "    from sklearn.neighbors import KNeighborsClassifier\n",
    "    from sklearn.preprocessing import LabelBinarizer\n",
    "    from sklearn.decomposition import PCA\n",
    "    from sklearn.model_selection import GridSearchCV\n",
    "    from sklearn.metrics import mean_squared_error\n",
    "    from sklearn.linear_model import LinearRegression, Lasso, Ridge\n",
    "    from sklearn.tree import DecisionTreeRegressor\n",
    "    from sklearn.ensemble import RandomForestRegressor\n",
    "    import warnings\n",
    "    print(\"Se importó correctamente\")\n",
    "except Exception as e:\n",
    "    print(f\"Error al importar dependencias: {e}\")"
   ]
  },
  {
   "cell_type": "markdown",
   "id": "1a30b2d2-54de-4f38-a7cc-c368f11c8346",
   "metadata": {},
   "source": [
    "* Al tener el Data Set repartido en 4 archivos diferentes segun la plataforma donde se produjeron las ventas, paso a unificar todo en un mismo DataFrame"
   ]
  },
  {
   "cell_type": "code",
   "execution_count": 8,
   "id": "080776aa-74ef-4c50-9041-bf060a6e5950",
   "metadata": {},
   "outputs": [
    {
     "data": {
      "text/html": [
       "<div>\n",
       "<style scoped>\n",
       "    .dataframe tbody tr th:only-of-type {\n",
       "        vertical-align: middle;\n",
       "    }\n",
       "\n",
       "    .dataframe tbody tr th {\n",
       "        vertical-align: top;\n",
       "    }\n",
       "\n",
       "    .dataframe thead th {\n",
       "        text-align: right;\n",
       "    }\n",
       "</style>\n",
       "<table border=\"1\" class=\"dataframe\">\n",
       "  <thead>\n",
       "    <tr style=\"text-align: right;\">\n",
       "      <th></th>\n",
       "      <th>VALOR PRED.</th>\n",
       "      <th>ORDEN DE RETIRO</th>\n",
       "      <th>FECHA RETIRO OCA</th>\n",
       "      <th>COD. PRODUCTO</th>\n",
       "      <th>CANTIDAD</th>\n",
       "      <th>PRODUCTO</th>\n",
       "      <th>DTO %</th>\n",
       "      <th>FECHA COMPRA</th>\n",
       "      <th>PROVINCIA</th>\n",
       "      <th>LOCALIDAD</th>\n",
       "      <th>PLATAFORMA</th>\n",
       "    </tr>\n",
       "  </thead>\n",
       "  <tbody>\n",
       "    <tr>\n",
       "      <th>4239</th>\n",
       "      <td>1.0</td>\n",
       "      <td>NaN</td>\n",
       "      <td>15/12/2022</td>\n",
       "      <td>1-23-15-004</td>\n",
       "      <td>1.0</td>\n",
       "      <td>NaN</td>\n",
       "      <td>NaN</td>\n",
       "      <td>6/12/2022</td>\n",
       "      <td>RÍO NEGRO</td>\n",
       "      <td>Ingeniero Jacobacci</td>\n",
       "      <td>mercadolibre</td>\n",
       "    </tr>\n",
       "    <tr>\n",
       "      <th>3613</th>\n",
       "      <td>1.0</td>\n",
       "      <td>NaN</td>\n",
       "      <td>13/10/2022</td>\n",
       "      <td>1-15-36-006</td>\n",
       "      <td>1.0</td>\n",
       "      <td>NaN</td>\n",
       "      <td>NaN</td>\n",
       "      <td>3/10/2022</td>\n",
       "      <td>SANTA CRUZ</td>\n",
       "      <td>Caleta Olivia</td>\n",
       "      <td>mercadolibre</td>\n",
       "    </tr>\n",
       "    <tr>\n",
       "      <th>1155</th>\n",
       "      <td>1</td>\n",
       "      <td>91285420</td>\n",
       "      <td>6/8/2021</td>\n",
       "      <td>NaN</td>\n",
       "      <td>2</td>\n",
       "      <td>CONJUNTO L. SANZIO TRADICIONAL 80CMX190CM</td>\n",
       "      <td>$ 0,00</td>\n",
       "      <td>4/8/2021</td>\n",
       "      <td>TIERRA DEL FUEGO</td>\n",
       "      <td>Rio Grande</td>\n",
       "      <td>ecommerce</td>\n",
       "    </tr>\n",
       "    <tr>\n",
       "      <th>10979</th>\n",
       "      <td>1</td>\n",
       "      <td>109941103</td>\n",
       "      <td>NaN</td>\n",
       "      <td>NaN</td>\n",
       "      <td>1.0</td>\n",
       "      <td>COLCHÓN L. ROMA TRADICIONAL 140CMX190CM</td>\n",
       "      <td>4</td>\n",
       "      <td>1/9/2023</td>\n",
       "      <td>CÓRDOBA</td>\n",
       "      <td>GENERAL CABRERA</td>\n",
       "      <td>megatone</td>\n",
       "    </tr>\n",
       "    <tr>\n",
       "      <th>4573</th>\n",
       "      <td>1.0</td>\n",
       "      <td>NaN</td>\n",
       "      <td>9/2/2023</td>\n",
       "      <td>1-23-04-002</td>\n",
       "      <td>2.0</td>\n",
       "      <td>COMBO X2 ALM. VELLÓN 70</td>\n",
       "      <td>NaN</td>\n",
       "      <td>8/2/2023</td>\n",
       "      <td>TUCUMÁN</td>\n",
       "      <td>Concepción</td>\n",
       "      <td>mercadolibre</td>\n",
       "    </tr>\n",
       "  </tbody>\n",
       "</table>\n",
       "</div>"
      ],
      "text/plain": [
       "      VALOR PRED. ORDEN DE RETIRO FECHA RETIRO OCA COD. PRODUCTO CANTIDAD  \\\n",
       "4239          1.0             NaN       15/12/2022   1-23-15-004      1.0   \n",
       "3613          1.0             NaN       13/10/2022   1-15-36-006      1.0   \n",
       "1155            1        91285420         6/8/2021           NaN        2   \n",
       "10979           1       109941103              NaN           NaN      1.0   \n",
       "4573          1.0             NaN         9/2/2023   1-23-04-002      2.0   \n",
       "\n",
       "                                        PRODUCTO   DTO % FECHA COMPRA  \\\n",
       "4239                                         NaN     NaN    6/12/2022   \n",
       "3613                                         NaN     NaN    3/10/2022   \n",
       "1155   CONJUNTO L. SANZIO TRADICIONAL 80CMX190CM  $ 0,00     4/8/2021   \n",
       "10979    COLCHÓN L. ROMA TRADICIONAL 140CMX190CM       4     1/9/2023   \n",
       "4573                     COMBO X2 ALM. VELLÓN 70     NaN     8/2/2023   \n",
       "\n",
       "              PROVINCIA            LOCALIDAD    PLATAFORMA  \n",
       "4239          RÍO NEGRO  Ingeniero Jacobacci  mercadolibre  \n",
       "3613         SANTA CRUZ        Caleta Olivia  mercadolibre  \n",
       "1155   TIERRA DEL FUEGO           Rio Grande     ecommerce  \n",
       "10979           CÓRDOBA      GENERAL CABRERA      megatone  \n",
       "4573            TUCUMÁN           Concepción  mercadolibre  "
      ]
     },
     "execution_count": 8,
     "metadata": {},
     "output_type": "execute_result"
    }
   ],
   "source": [
    "import pandas as pd\n",
    "import os\n",
    "\n",
    "# Ruta a la carpeta que contiene los archivos\n",
    "ruta_carpeta = \"./csv\"\n",
    "\n",
    "# Lista de archivos que deseas concatenar\n",
    "archivos_csv = [\"fravega.csv\", \"ecommerce.csv\", \"mercadolibre.csv\", \"megatone.csv\"]\n",
    "\n",
    "# Leer los archivos con el delimitador adecuado y almacenarlos en una lista de DataFrames\n",
    "dfs = [pd.read_csv(os.path.join(ruta_carpeta, archivo), encoding='latin1', delimiter=';') for archivo in archivos_csv]\n",
    "\n",
    "# Concatenar los DataFrames en uno solo\n",
    "sales = pd.concat(dfs, ignore_index=True)\n",
    "\n",
    "sales.sample(5)"
   ]
  },
  {
   "cell_type": "markdown",
   "id": "642d7528-140b-43b5-b30c-d04780339341",
   "metadata": {},
   "source": [
    "## Listado de variables "
   ]
  },
  {
   "cell_type": "markdown",
   "id": "f3c05abf-bdb0-44d1-850d-9ebcdbaed199",
   "metadata": {},
   "source": [
    "#### Variables de entrada"
   ]
  },
  {
   "cell_type": "markdown",
   "id": "56d06fc2-edb2-4c15-aa8d-2adfd841c2a8",
   "metadata": {},
   "source": [
    "* VALOR PRED.: Representa el valor del bulto.\n",
    "* ORDEN DE RETIRO: Nro de orden por la cual la empresa identifica cada venta\n",
    "* FECHA RETIRO OCA: Fecha donde OCA retira el producto\n",
    "* COD. PRODUCTO: Identificador único de cada producto.\n",
    "* PRODUCTO: Descripción del producto\n",
    "* DTO %: Descuento aplicado en cada venta.\n",
    "* FECHA COMPRA: Fecha en la que se realizó la compra del producto\n",
    "* PROVINCIA: Nombre de la provincia donde se produjo de la venta\n",
    "* LOCALIDAD: Nombre de la localidad donde se produjo de la venta\n",
    "* PLATAFORMA: Canal o medio donde se produjo la venta."
   ]
  },
  {
   "cell_type": "markdown",
   "id": "70eaf092-c57f-471e-bed6-3620cdc6bd4a",
   "metadata": {},
   "source": [
    "#### Variable de salida: "
   ]
  },
  {
   "cell_type": "markdown",
   "id": "fb567af5-d248-4158-a842-03980b961b82",
   "metadata": {},
   "source": [
    "* CANTIDAD: representa el número de unidades vendidas por producto"
   ]
  },
  {
   "cell_type": "markdown",
   "id": "b1e6db56-0a54-4ba1-9307-075e686805fe",
   "metadata": {},
   "source": [
    "#### Reorganizo las columnas en el orden deseado"
   ]
  },
  {
   "cell_type": "code",
   "execution_count": 9,
   "id": "c5c9fec7-55ae-4182-8b5a-5fc5559bdf2d",
   "metadata": {},
   "outputs": [
    {
     "name": "stdout",
     "output_type": "stream",
     "text": [
      "Columnas reorganizadas:\n"
     ]
    },
    {
     "data": {
      "text/html": [
       "<div>\n",
       "<style scoped>\n",
       "    .dataframe tbody tr th:only-of-type {\n",
       "        vertical-align: middle;\n",
       "    }\n",
       "\n",
       "    .dataframe tbody tr th {\n",
       "        vertical-align: top;\n",
       "    }\n",
       "\n",
       "    .dataframe thead th {\n",
       "        text-align: right;\n",
       "    }\n",
       "</style>\n",
       "<table border=\"1\" class=\"dataframe\">\n",
       "  <thead>\n",
       "    <tr style=\"text-align: right;\">\n",
       "      <th></th>\n",
       "      <th>VALOR PRED.</th>\n",
       "      <th>ORDEN DE RETIRO</th>\n",
       "      <th>FECHA COMPRA</th>\n",
       "      <th>FECHA RETIRO OCA</th>\n",
       "      <th>COD. PRODUCTO</th>\n",
       "      <th>PRODUCTO</th>\n",
       "      <th>DTO %</th>\n",
       "      <th>PROVINCIA</th>\n",
       "      <th>LOCALIDAD</th>\n",
       "      <th>PLATAFORMA</th>\n",
       "      <th>CANTIDAD</th>\n",
       "    </tr>\n",
       "  </thead>\n",
       "  <tbody>\n",
       "    <tr>\n",
       "      <th>9271</th>\n",
       "      <td>1</td>\n",
       "      <td>101032901</td>\n",
       "      <td>30/9/2022</td>\n",
       "      <td>4/10/2022</td>\n",
       "      <td>1-10-05-001</td>\n",
       "      <td>ALMOHADAS L.VISCOÉLASTICA 70CM</td>\n",
       "      <td>NaN</td>\n",
       "      <td>BUENOS AIRES</td>\n",
       "      <td>WILDE</td>\n",
       "      <td>megatone</td>\n",
       "      <td>2.0</td>\n",
       "    </tr>\n",
       "    <tr>\n",
       "      <th>7635</th>\n",
       "      <td>1</td>\n",
       "      <td>93944453</td>\n",
       "      <td>25/11/2021</td>\n",
       "      <td>30/11/2021</td>\n",
       "      <td>NaN</td>\n",
       "      <td>ALMOHADAS L.SUPER SOFT 70CM</td>\n",
       "      <td>0</td>\n",
       "      <td>MENDOZA</td>\n",
       "      <td>LUJAN DE CUYO</td>\n",
       "      <td>megatone</td>\n",
       "      <td>1.0</td>\n",
       "    </tr>\n",
       "    <tr>\n",
       "      <th>4979</th>\n",
       "      <td>1.0</td>\n",
       "      <td>NaN</td>\n",
       "      <td>11/4/2023</td>\n",
       "      <td>19/4/2023</td>\n",
       "      <td>1-12-37-002</td>\n",
       "      <td>COLCHÓN L. VASARI TRADICIONAL 80CMX190CM</td>\n",
       "      <td>NaN</td>\n",
       "      <td>NEUQUÉN</td>\n",
       "      <td>Neuquén</td>\n",
       "      <td>mercadolibre</td>\n",
       "      <td>1.0</td>\n",
       "    </tr>\n",
       "    <tr>\n",
       "      <th>259</th>\n",
       "      <td>1</td>\n",
       "      <td>NaN</td>\n",
       "      <td>16/6/2023</td>\n",
       "      <td>29/6/2023</td>\n",
       "      <td>1-14-15-006</td>\n",
       "      <td>CONJUNTO L. DALI TRADICIONAL 140CMX190CM</td>\n",
       "      <td>0</td>\n",
       "      <td>BUENOS AIRES</td>\n",
       "      <td>Mariano Acosta</td>\n",
       "      <td>fravega</td>\n",
       "      <td>1</td>\n",
       "    </tr>\n",
       "    <tr>\n",
       "      <th>7162</th>\n",
       "      <td>1</td>\n",
       "      <td>90470436</td>\n",
       "      <td>1/7/2021</td>\n",
       "      <td>2/7/2021</td>\n",
       "      <td>NaN</td>\n",
       "      <td>COLCHÓN L. ROMA TRADICIONAL 80CMX190CM</td>\n",
       "      <td>5</td>\n",
       "      <td>CORRIENTES</td>\n",
       "      <td>CORRIENTES</td>\n",
       "      <td>megatone</td>\n",
       "      <td>2.0</td>\n",
       "    </tr>\n",
       "  </tbody>\n",
       "</table>\n",
       "</div>"
      ],
      "text/plain": [
       "     VALOR PRED. ORDEN DE RETIRO FECHA COMPRA FECHA RETIRO OCA COD. PRODUCTO  \\\n",
       "9271           1       101032901    30/9/2022        4/10/2022   1-10-05-001   \n",
       "7635           1        93944453   25/11/2021       30/11/2021           NaN   \n",
       "4979         1.0             NaN    11/4/2023        19/4/2023   1-12-37-002   \n",
       "259            1             NaN    16/6/2023        29/6/2023   1-14-15-006   \n",
       "7162           1        90470436     1/7/2021         2/7/2021           NaN   \n",
       "\n",
       "                                      PRODUCTO DTO %     PROVINCIA  \\\n",
       "9271            ALMOHADAS L.VISCOÉLASTICA 70CM   NaN  BUENOS AIRES   \n",
       "7635               ALMOHADAS L.SUPER SOFT 70CM     0       MENDOZA   \n",
       "4979  COLCHÓN L. VASARI TRADICIONAL 80CMX190CM   NaN       NEUQUÉN   \n",
       "259   CONJUNTO L. DALI TRADICIONAL 140CMX190CM     0  BUENOS AIRES   \n",
       "7162    COLCHÓN L. ROMA TRADICIONAL 80CMX190CM     5    CORRIENTES   \n",
       "\n",
       "           LOCALIDAD    PLATAFORMA CANTIDAD  \n",
       "9271           WILDE      megatone      2.0  \n",
       "7635   LUJAN DE CUYO      megatone      1.0  \n",
       "4979         Neuquén  mercadolibre      1.0  \n",
       "259   Mariano Acosta       fravega        1  \n",
       "7162      CORRIENTES      megatone      2.0  "
      ]
     },
     "execution_count": 9,
     "metadata": {},
     "output_type": "execute_result"
    }
   ],
   "source": [
    "orden_columnas = [\n",
    "    'VALOR PRED.', 'ORDEN DE RETIRO', 'FECHA COMPRA', 'FECHA RETIRO OCA','COD. PRODUCTO', 'PRODUCTO', 'DTO %', 'PROVINCIA', 'LOCALIDAD', 'PLATAFORMA',\n",
    "    'CANTIDAD'\n",
    "]\n",
    "\n",
    "# Reorganizar el DataFrame\n",
    "sales = sales[orden_columnas]\n",
    "\n",
    "# Mostrar las primeras filas del DataFrame reorganizado\n",
    "print(\"Columnas reorganizadas:\")\n",
    "sales.sample(5)"
   ]
  },
  {
   "cell_type": "markdown",
   "id": "48ba68b4-a5fb-4767-a901-a13199c92223",
   "metadata": {},
   "source": [
    "## Análisis detallado de un conjunto de variables"
   ]
  },
  {
   "cell_type": "markdown",
   "id": "c2cd7fe6-186d-4528-a99f-6d0e11505f23",
   "metadata": {},
   "source": [
    "La variable CANTIDAD representa el número de unidades vendidas. Es la variable objetivo de este análisis, ya que el modelo buscará predecir su valor en función de las características del dataset.\n",
    "\n",
    "Predecir CANTIDAD permitirá:\n",
    "\n",
    "* Identificar tendencias de venta.\n",
    "* Optimizar la planificación de inventarios.\n",
    "* Mejorar la estrategia de ventas y promociones."
   ]
  },
  {
   "cell_type": "markdown",
   "id": "70be980b-d27d-44b3-9bee-ffb5ee37f34e",
   "metadata": {},
   "source": [
    "### Estadísticas descriptivas de la variable de salida"
   ]
  },
  {
   "cell_type": "code",
   "execution_count": 10,
   "id": "d36c879c-1593-4043-85f3-5fd334dcb5b2",
   "metadata": {},
   "outputs": [
    {
     "name": "stdout",
     "output_type": "stream",
     "text": [
      "Estadísticas descriptivas de 'CANTIDAD':\n",
      "count     11103\n",
      "unique       15\n",
      "top           1\n",
      "freq       8976\n",
      "Name: CANTIDAD, dtype: int64\n"
     ]
    }
   ],
   "source": [
    "print(\"Estadísticas descriptivas de 'CANTIDAD':\")\n",
    "print(sales['CANTIDAD'].describe())"
   ]
  },
  {
   "cell_type": "code",
   "execution_count": 11,
   "id": "c4efa4eb-5c5c-49d1-95a4-ceb1dc669aa6",
   "metadata": {},
   "outputs": [],
   "source": [
    "# Convierto la columna 'CANTIDAD' a numérico, convirtiendo valores no válidos a NaN\n",
    "sales['CANTIDAD'] = pd.to_numeric(sales['CANTIDAD'], errors='coerce')\n",
    "# Reemplazo los valores NaN con 1\n",
    "sales['CANTIDAD'] = sales['CANTIDAD'].fillna(1)\n",
    "# Convierto la columna a enteros\n",
    "sales['CANTIDAD'] = sales['CANTIDAD'].astype(int)"
   ]
  },
  {
   "cell_type": "code",
   "execution_count": 12,
   "id": "723ad1ea-9123-44ad-9bdd-8c1dc6e52bfe",
   "metadata": {},
   "outputs": [
    {
     "data": {
      "image/png": "[encoded data removed]",
      "text/plain": [
       "<Figure size 600x400 with 1 Axes>"
      ]
     },
     "metadata": {},
     "output_type": "display_data"
    }
   ],
   "source": [
    "# Frecuencia de valores únicos en 'CANTIDAD'\n",
    "frecuencia_cantidad = sales['CANTIDAD'].value_counts().sort_index()\n",
    "\n",
    "# Gráfico de barras\n",
    "plt.figure(figsize=(6, 4))\n",
    "frecuencia_cantidad.plot(kind='bar', color='cornflowerblue', edgecolor='black')\n",
    "plt.title('Frecuencia de valores únicos en CANTIDAD', fontsize=12)\n",
    "plt.xlabel('Cantidad', fontsize=10)\n",
    "plt.ylabel('Frecuencia', fontsize=10)\n",
    "plt.xticks(rotation=0)\n",
    "plt.grid(axis='y', linestyle='--', alpha=0.7)\n",
    "plt.show()\n",
    "\n"
   ]
  },
  {
   "cell_type": "markdown",
   "id": "8ec2b8b0-a5a0-422a-9972-cdd5afd36cf5",
   "metadata": {},
   "source": [
    "Dado que la variable CANTIDAD contiene valores mayoritariamente iguales a 1, con algunos pocos registros variando entre 2 y 4, se decidió aplicar una transformación logarítmica a dicha columna con el fin de anonimizar los datos y evitar trabajar directamente con valores reales. La razón de esta transformación es la necesidad de proteger la información sensible proporcionada por la empresa, sin perder la estructura y los patrones del comportamiento de las ventas.\n",
    "\n",
    "La transformación logarítmica aplicada es la siguiente: log(1 + x), donde x es el valor original de la columna CANTIDAD. Esta transformación fue elegida por varias razones:\n",
    "\n",
    "Reducción de sesgo en valores extremos: La mayoría de los valores de CANTIDAD en el dataset son 1, lo que podría generar un sesgo en el análisis. La transformación logarítmica ayuda a reducir este sesgo, haciendo que la distribución de los datos sea más uniforme y permitiendo una mejor interpretación y modelado posterior.\n",
    "\n",
    "Manejo de valores bajos: La función log(1 + x) tiene la ventaja de que transforma valores pequeños (como el 1, 2 o 3) sin distorsionar demasiado la información. Además, esta función asegura que valores cercanos a cero no generen problemas en el análisis, ya que log(1) da como resultado 0, lo cual no afecta negativamente los registros con pocos productos vendidos.\n",
    "\n",
    "Escalado de los valores: Aunque la mayoría de los registros tienen un valor de CANTIDAD igual a 1, la transformación logarítmica cambia estos valores a una escala más adecuada para el análisis de tendencias y la predicción, facilitando la detección de patrones y relaciones con otras variables del dataset.\n",
    "\n",
    "La transformación se aplicó utilizando la función log1p() de la librería numpy, la cual aplica el logaritmo natural a los valores de la columna CANTIDAD, sumando 1 a cada valor antes de aplicar la función logarítmica. Esta operación permitió suavizar la distribución de la variable, facilitando su posterior análisis y modelado.\n",
    "\n",
    "Al aplicar esta transformación, se mantiene la integridad de los datos y se aseguran condiciones más apropiadas para el desarrollo del modelo de predicción, a la vez que se garantiza la anonimización de los datos sensibles relacionados con las cantidades vendidas."
   ]
  },
  {
   "cell_type": "code",
   "execution_count": 13,
   "id": "57c4ccfc-8837-4fcc-8d44-e94973ea0567",
   "metadata": {},
   "outputs": [],
   "source": [
    "# Aplicar logaritmo a la columna 'CANTIDAD'\n",
    "sales['CANTIDAD'] = np.log1p(sales['CANTIDAD'])"
   ]
  },
  {
   "cell_type": "markdown",
   "id": "2e33fb00-0609-4602-a953-52ff97af7dfd",
   "metadata": {},
   "source": [
    "## EDA, Limpieza y preprocesamiento"
   ]
  },
  {
   "cell_type": "markdown",
   "id": "4ae64561-75a9-4199-b260-0ffb806e1cfc",
   "metadata": {},
   "source": [
    "* Verificación de valores nulos en variable COD PRODUCTO y PRODUCTO:"
   ]
  },
  {
   "cell_type": "code",
   "execution_count": 14,
   "id": "ccb8bdbd-be22-4304-8656-3b038bf30014",
   "metadata": {},
   "outputs": [
    {
     "name": "stdout",
     "output_type": "stream",
     "text": [
      "Valores nulos o vacíos en 'COD. PRODUCTO': 3298\n",
      "Valores nulos o vacíos en 'PRODUCTO': 2198\n"
     ]
    }
   ],
   "source": [
    "# Contar nulos y valores vacíos en 'COD. PRODUCTO'\n",
    "nulos_o_vacios_cod_producto = sales['COD. PRODUCTO'].isna().sum() + sales['COD. PRODUCTO'].eq('').sum()\n",
    "\n",
    "# Contar nulos y valores vacíos en 'PRODUCTO'\n",
    "nulos_o_vacios_producto = sales['PRODUCTO'].isna().sum() + sales['PRODUCTO'].str.strip().eq('').sum()\n",
    "\n",
    "print(f\"Valores nulos o vacíos en 'COD. PRODUCTO': {nulos_o_vacios_cod_producto}\")\n",
    "print(f\"Valores nulos o vacíos en 'PRODUCTO': {nulos_o_vacios_producto}\")"
   ]
  },
  {
   "cell_type": "markdown",
   "id": "b52edfcd-e90d-4535-8692-b29e11f9576b",
   "metadata": {},
   "source": [
    "- Tratamiento para determinar que para algunos de los COD PRODUCTOS detectados sin descripcion de Producto tenga en algun otro lado del data set la descripcion. Lo mismo para aquellas Productos detectados sin Cod Producto. \n",
    "El objetivo de esto es rellenar valores que se detectan nulos en las columnas de COD PRODUCTO y PRODUCTO."
   ]
  },
  {
   "cell_type": "code",
   "execution_count": 15,
   "id": "eb6f1cae-2840-41a2-bc6e-64cbc348a8f4",
   "metadata": {},
   "outputs": [
    {
     "name": "stdout",
     "output_type": "stream",
     "text": [
      "Mapa único entre códigos y productos:\n"
     ]
    },
    {
     "data": {
      "text/plain": [
       "(478, 2)"
      ]
     },
     "execution_count": 15,
     "metadata": {},
     "output_type": "execute_result"
    }
   ],
   "source": [
    "# Crear un mapeo único entre COD PRODUCTO y PRODUCTO\n",
    "mapeo_cod_producto = sales[['COD. PRODUCTO', 'PRODUCTO']].drop_duplicates()\n",
    "\n",
    "print(\"Mapa único entre códigos y productos:\")\n",
    "mapeo_cod_producto.shape"
   ]
  },
  {
   "cell_type": "code",
   "execution_count": 16,
   "id": "b26de40f-bee5-4633-a8c3-bf6915eff2f1",
   "metadata": {},
   "outputs": [],
   "source": [
    "# Convertir el mapeo a un diccionario para facilitar su uso\n",
    "mapeo_dict = mapeo_cod_producto.set_index('PRODUCTO')['COD. PRODUCTO'].to_dict()\n",
    "\n",
    "# Completar o corregir la columna 'COD PRODUCTO'\n",
    "sales['COD. PRODUCTO'] = sales['PRODUCTO'].map(mapeo_dict)"
   ]
  },
  {
   "cell_type": "code",
   "execution_count": 17,
   "id": "bad18c4b-07e2-4405-a79f-811b6598f8c2",
   "metadata": {},
   "outputs": [],
   "source": [
    "# Detectar inconsistencias entre 'COD PRODUCTO' y 'PRODUCTO'\n",
    "inconsistencias = sales[sales['PRODUCTO'] != sales['COD. PRODUCTO'].map(mapeo_dict)]"
   ]
  },
  {
   "cell_type": "code",
   "execution_count": 18,
   "id": "4736b2b1-f232-4b9b-8bc4-a1e4d39ce724",
   "metadata": {},
   "outputs": [],
   "source": [
    "sales['PRODUCTO'] = sales['COD. PRODUCTO'].map({v: k for k, v in mapeo_dict.items()})\n"
   ]
  },
  {
   "cell_type": "code",
   "execution_count": 19,
   "id": "a1ca7cda-eac0-4919-a8ea-a62761283a59",
   "metadata": {},
   "outputs": [
    {
     "data": {
      "text/html": [
       "<div>\n",
       "<style scoped>\n",
       "    .dataframe tbody tr th:only-of-type {\n",
       "        vertical-align: middle;\n",
       "    }\n",
       "\n",
       "    .dataframe tbody tr th {\n",
       "        vertical-align: top;\n",
       "    }\n",
       "\n",
       "    .dataframe thead th {\n",
       "        text-align: right;\n",
       "    }\n",
       "</style>\n",
       "<table border=\"1\" class=\"dataframe\">\n",
       "  <thead>\n",
       "    <tr style=\"text-align: right;\">\n",
       "      <th></th>\n",
       "      <th>VALOR PRED.</th>\n",
       "      <th>ORDEN DE RETIRO</th>\n",
       "      <th>FECHA COMPRA</th>\n",
       "      <th>FECHA RETIRO OCA</th>\n",
       "      <th>COD. PRODUCTO</th>\n",
       "      <th>PRODUCTO</th>\n",
       "      <th>DTO %</th>\n",
       "      <th>PROVINCIA</th>\n",
       "      <th>LOCALIDAD</th>\n",
       "      <th>PLATAFORMA</th>\n",
       "      <th>CANTIDAD</th>\n",
       "    </tr>\n",
       "  </thead>\n",
       "  <tbody>\n",
       "    <tr>\n",
       "      <th>10229</th>\n",
       "      <td>1</td>\n",
       "      <td>106155653</td>\n",
       "      <td>25/4/2023</td>\n",
       "      <td>NaN</td>\n",
       "      <td>1-12-40-003</td>\n",
       "      <td>COLCHÓN L. ROMA TRADICIONAL 90CMX190CM</td>\n",
       "      <td>4</td>\n",
       "      <td>ENTRE RÍOS</td>\n",
       "      <td>AVENIDA EJERCITO PARANA</td>\n",
       "      <td>megatone</td>\n",
       "      <td>0.693147</td>\n",
       "    </tr>\n",
       "    <tr>\n",
       "      <th>4775</th>\n",
       "      <td>1.0</td>\n",
       "      <td>NaN</td>\n",
       "      <td>29/3/2023</td>\n",
       "      <td>5/4/2023</td>\n",
       "      <td>NaN</td>\n",
       "      <td>CONJUNTO L. MARBELLA TRADICIONAL 200CMX200CM</td>\n",
       "      <td>NaN</td>\n",
       "      <td>TUCUMÁN</td>\n",
       "      <td>barrio lomas de tafi</td>\n",
       "      <td>mercadolibre</td>\n",
       "      <td>0.693147</td>\n",
       "    </tr>\n",
       "    <tr>\n",
       "      <th>10997</th>\n",
       "      <td>1</td>\n",
       "      <td>110240912</td>\n",
       "      <td>12/9/2023</td>\n",
       "      <td>NaN</td>\n",
       "      <td>NaN</td>\n",
       "      <td>CONJUNTO L. MARBELLA TRADICIONAL 200CMX200CM</td>\n",
       "      <td>4</td>\n",
       "      <td>SANTA CRUZ</td>\n",
       "      <td>CALETA OLIVIA</td>\n",
       "      <td>megatone</td>\n",
       "      <td>0.693147</td>\n",
       "    </tr>\n",
       "    <tr>\n",
       "      <th>4242</th>\n",
       "      <td>1.0</td>\n",
       "      <td>NaN</td>\n",
       "      <td>6/12/2022</td>\n",
       "      <td>15/12/2022</td>\n",
       "      <td>1-11-16-017</td>\n",
       "      <td>NaN</td>\n",
       "      <td>NaN</td>\n",
       "      <td>CÓRDOBA</td>\n",
       "      <td>Córdoba</td>\n",
       "      <td>mercadolibre</td>\n",
       "      <td>0.693147</td>\n",
       "    </tr>\n",
       "    <tr>\n",
       "      <th>2713</th>\n",
       "      <td>1.0</td>\n",
       "      <td>98297692</td>\n",
       "      <td>2/6/2022</td>\n",
       "      <td>9/6/2022</td>\n",
       "      <td>1-11-16-017</td>\n",
       "      <td>NaN</td>\n",
       "      <td>10.0</td>\n",
       "      <td>SANTA FE</td>\n",
       "      <td>Esperanza</td>\n",
       "      <td>mercadolibre</td>\n",
       "      <td>0.693147</td>\n",
       "    </tr>\n",
       "  </tbody>\n",
       "</table>\n",
       "</div>"
      ],
      "text/plain": [
       "      VALOR PRED. ORDEN DE RETIRO FECHA COMPRA FECHA RETIRO OCA COD. PRODUCTO  \\\n",
       "10229           1       106155653    25/4/2023              NaN   1-12-40-003   \n",
       "4775          1.0             NaN    29/3/2023         5/4/2023           NaN   \n",
       "10997           1       110240912    12/9/2023              NaN           NaN   \n",
       "4242          1.0             NaN    6/12/2022       15/12/2022   1-11-16-017   \n",
       "2713          1.0        98297692     2/6/2022         9/6/2022   1-11-16-017   \n",
       "\n",
       "                                           PRODUCTO DTO %   PROVINCIA  \\\n",
       "10229        COLCHÓN L. ROMA TRADICIONAL 90CMX190CM     4  ENTRE RÍOS   \n",
       "4775   CONJUNTO L. MARBELLA TRADICIONAL 200CMX200CM   NaN     TUCUMÁN   \n",
       "10997  CONJUNTO L. MARBELLA TRADICIONAL 200CMX200CM     4  SANTA CRUZ   \n",
       "4242                                            NaN   NaN     CÓRDOBA   \n",
       "2713                                            NaN  10.0    SANTA FE   \n",
       "\n",
       "                     LOCALIDAD    PLATAFORMA  CANTIDAD  \n",
       "10229  AVENIDA EJERCITO PARANA      megatone  0.693147  \n",
       "4775      barrio lomas de tafi  mercadolibre  0.693147  \n",
       "10997            CALETA OLIVIA      megatone  0.693147  \n",
       "4242                   Córdoba  mercadolibre  0.693147  \n",
       "2713                 Esperanza  mercadolibre  0.693147  "
      ]
     },
     "execution_count": 19,
     "metadata": {},
     "output_type": "execute_result"
    }
   ],
   "source": [
    "sales.sample(5)"
   ]
  },
  {
   "cell_type": "code",
   "execution_count": 20,
   "id": "c5de3978-20ff-4395-a2c5-9e5be830ef98",
   "metadata": {},
   "outputs": [
    {
     "name": "stdout",
     "output_type": "stream",
     "text": [
      "['CONJUNTO L. MARBELLA TRADICIONAL 200CMX200CM']\n"
     ]
    }
   ],
   "source": [
    "faltantes_codproducto = sales[sales['COD. PRODUCTO'].isna()]\n",
    "# Obtener los valores únicos de la columna 'PRODUCTO'\n",
    "valores_unicos_producto = faltantes_codproducto['PRODUCTO'].unique()\n",
    "\n",
    "print(valores_unicos_producto)"
   ]
  },
  {
   "cell_type": "code",
   "execution_count": 21,
   "id": "94c35c7b-2702-41ce-869e-1811d5f8f811",
   "metadata": {},
   "outputs": [
    {
     "name": "stdout",
     "output_type": "stream",
     "text": [
      "Valores únicos en la columna 'PRODUCTO' donde 'COD PRODUCTO' es NaN:\n",
      "['CONJUNTO L. MARBELLA TRADICIONAL 200CMX200CM']\n"
     ]
    }
   ],
   "source": [
    "productos_con_nan = sales[sales['COD. PRODUCTO'].isna()]\n",
    "\n",
    "# Mostrar valores únicos de la columna 'PRODUCTO' donde 'COD PRODUCTO' es NaN\n",
    "valores_producto_nan = productos_con_nan['PRODUCTO'].unique()\n",
    "\n",
    "print(\"Valores únicos en la columna 'PRODUCTO' donde 'COD PRODUCTO' es NaN:\")\n",
    "print(valores_producto_nan)"
   ]
  },
  {
   "cell_type": "code",
   "execution_count": 22,
   "id": "d958a6cd-682a-49d3-9dfb-d163c9e0eb2f",
   "metadata": {},
   "outputs": [],
   "source": [
    "sales.loc[sales['COD. PRODUCTO'].isna(), 'COD. PRODUCTO'] = '1-20-20-200'"
   ]
  },
  {
   "cell_type": "code",
   "execution_count": 23,
   "id": "1497438e-e66d-45db-b426-c989ec010c39",
   "metadata": {},
   "outputs": [
    {
     "data": {
      "text/html": [
       "<div>\n",
       "<style scoped>\n",
       "    .dataframe tbody tr th:only-of-type {\n",
       "        vertical-align: middle;\n",
       "    }\n",
       "\n",
       "    .dataframe tbody tr th {\n",
       "        vertical-align: top;\n",
       "    }\n",
       "\n",
       "    .dataframe thead th {\n",
       "        text-align: right;\n",
       "    }\n",
       "</style>\n",
       "<table border=\"1\" class=\"dataframe\">\n",
       "  <thead>\n",
       "    <tr style=\"text-align: right;\">\n",
       "      <th></th>\n",
       "      <th>VALOR PRED.</th>\n",
       "      <th>ORDEN DE RETIRO</th>\n",
       "      <th>FECHA COMPRA</th>\n",
       "      <th>FECHA RETIRO OCA</th>\n",
       "      <th>COD. PRODUCTO</th>\n",
       "      <th>PRODUCTO</th>\n",
       "      <th>DTO %</th>\n",
       "      <th>PROVINCIA</th>\n",
       "      <th>LOCALIDAD</th>\n",
       "      <th>PLATAFORMA</th>\n",
       "      <th>CANTIDAD</th>\n",
       "    </tr>\n",
       "  </thead>\n",
       "  <tbody>\n",
       "    <tr>\n",
       "      <th>8224</th>\n",
       "      <td>1</td>\n",
       "      <td>97437573</td>\n",
       "      <td>4/5/2022</td>\n",
       "      <td>6/5/2022</td>\n",
       "      <td>1-12-40-002</td>\n",
       "      <td>COLCHÓN L. ROMA TRADICIONAL 80CMX190CM</td>\n",
       "      <td>NaN</td>\n",
       "      <td>CÓRDOBA</td>\n",
       "      <td>CAPILLA DEL MONTE</td>\n",
       "      <td>megatone</td>\n",
       "      <td>1.386294</td>\n",
       "    </tr>\n",
       "    <tr>\n",
       "      <th>3351</th>\n",
       "      <td>1.0</td>\n",
       "      <td>NaN</td>\n",
       "      <td>10/9/2022</td>\n",
       "      <td>28/9/2022</td>\n",
       "      <td>1-11-16-017</td>\n",
       "      <td>NaN</td>\n",
       "      <td>NaN</td>\n",
       "      <td>NEUQUÉN</td>\n",
       "      <td>Junín De Los Andes</td>\n",
       "      <td>mercadolibre</td>\n",
       "      <td>0.693147</td>\n",
       "    </tr>\n",
       "  </tbody>\n",
       "</table>\n",
       "</div>"
      ],
      "text/plain": [
       "     VALOR PRED. ORDEN DE RETIRO FECHA COMPRA FECHA RETIRO OCA COD. PRODUCTO  \\\n",
       "8224           1        97437573     4/5/2022         6/5/2022   1-12-40-002   \n",
       "3351         1.0             NaN    10/9/2022        28/9/2022   1-11-16-017   \n",
       "\n",
       "                                    PRODUCTO DTO % PROVINCIA  \\\n",
       "8224  COLCHÓN L. ROMA TRADICIONAL 80CMX190CM   NaN   CÓRDOBA   \n",
       "3351                                     NaN   NaN   NEUQUÉN   \n",
       "\n",
       "               LOCALIDAD    PLATAFORMA  CANTIDAD  \n",
       "8224   CAPILLA DEL MONTE      megatone  1.386294  \n",
       "3351  Junín De Los Andes  mercadolibre  0.693147  "
      ]
     },
     "execution_count": 23,
     "metadata": {},
     "output_type": "execute_result"
    }
   ],
   "source": [
    "sales.sample(2)"
   ]
  },
  {
   "cell_type": "markdown",
   "id": "c58cfc7f-f569-44e3-b53a-f563e3971b82",
   "metadata": {},
   "source": [
    "* Verificamos si quedan filas donde 'COD PRODUCTO' es nulo"
   ]
  },
  {
   "cell_type": "code",
   "execution_count": 24,
   "id": "569aabcc-ad81-4caa-ade2-4c1677b65dad",
   "metadata": {},
   "outputs": [
    {
     "name": "stdout",
     "output_type": "stream",
     "text": [
      "Filas con 'COD PRODUCTO' faltante:\n"
     ]
    },
    {
     "data": {
      "text/plain": [
       "(0, 11)"
      ]
     },
     "execution_count": 24,
     "metadata": {},
     "output_type": "execute_result"
    }
   ],
   "source": [
    "sin_codproducto = sales[sales['COD. PRODUCTO'].isna()]\n",
    "print(\"Filas con 'COD PRODUCTO' faltante:\")\n",
    "sin_codproducto.shape"
   ]
  },
  {
   "cell_type": "code",
   "execution_count": 25,
   "id": "dd916a16-746b-4cae-b751-d4dc49a2edae",
   "metadata": {},
   "outputs": [
    {
     "name": "stdout",
     "output_type": "stream",
     "text": [
      "Filas con 'PRODUCTO' faltante:\n"
     ]
    },
    {
     "data": {
      "text/plain": [
       "(2212, 11)"
      ]
     },
     "execution_count": 25,
     "metadata": {},
     "output_type": "execute_result"
    }
   ],
   "source": [
    "# Mostrar filas donde 'PRODUCTO' es NaN\n",
    "sin_producto = sales[sales['PRODUCTO'].isna()]\n",
    "print(\"Filas con 'PRODUCTO' faltante:\")\n",
    "sin_producto.shape"
   ]
  },
  {
   "cell_type": "code",
   "execution_count": 26,
   "id": "b635b4cc-9c33-4755-9dba-b4fe94702886",
   "metadata": {},
   "outputs": [
    {
     "name": "stdout",
     "output_type": "stream",
     "text": [
      "['1-11-16-017']\n"
     ]
    }
   ],
   "source": [
    "# Contar valores únicos en 'COD. PRODUCTO'\n",
    "valores_unicos_cod_producto = sin_producto['COD. PRODUCTO'].unique()\n",
    "\n",
    "# Contar la cantidad de valores únicos\n",
    "cantidad_valores_unicos = len(valores_unicos_cod_producto)\n",
    "print(valores_unicos_cod_producto)"
   ]
  },
  {
   "cell_type": "code",
   "execution_count": 27,
   "id": "51899637-0dc0-4f5d-9daa-f4d648f19f62",
   "metadata": {},
   "outputs": [],
   "source": [
    "sales.loc[sales['PRODUCTO'].isna() , 'PRODUCTO'] = 'ALMOHADAS M.COPO 90CM'"
   ]
  },
  {
   "cell_type": "code",
   "execution_count": 28,
   "id": "64f972aa-7f54-4471-bb26-6bd35bb105f7",
   "metadata": {},
   "outputs": [
    {
     "name": "stdout",
     "output_type": "stream",
     "text": [
      "Cantidad de valores nulos por columna:\n",
      "VALOR PRED.          254\n",
      "ORDEN DE RETIRO     3852\n",
      "FECHA COMPRA          40\n",
      "FECHA RETIRO OCA    1104\n",
      "COD. PRODUCTO          0\n",
      "PRODUCTO               0\n",
      "DTO %               6457\n",
      "PROVINCIA             57\n",
      "LOCALIDAD            247\n",
      "PLATAFORMA             0\n",
      "CANTIDAD               0\n",
      "dtype: int64\n"
     ]
    }
   ],
   "source": [
    "# Contar valores nulos en cada columna\n",
    "valores_nulos = sales.isna().sum()\n",
    "\n",
    "print(\"Cantidad de valores nulos por columna:\")\n",
    "print(valores_nulos)"
   ]
  },
  {
   "cell_type": "markdown",
   "id": "258f0865-0b43-43b2-8bf8-606b74e59b54",
   "metadata": {},
   "source": [
    "* Limpieza y correccion de valores en las columnas. "
   ]
  },
  {
   "cell_type": "code",
   "execution_count": 29,
   "id": "c4e6ffdc-c44b-4494-980e-7b58ed227377",
   "metadata": {},
   "outputs": [],
   "source": [
    "# Asignar el valor de 'PROVINCIA' a 'LOCALIDAD' donde 'LOCALIDAD' es nulo\n",
    "sales['LOCALIDAD'] = sales['LOCALIDAD'].fillna(sales['PROVINCIA'])\n",
    "\n",
    "# Asignar 'Descripcion faltante' donde 'COD. PRODUCTO' sea NaN\n",
    "sales['COD. PRODUCTO'] = sales['COD. PRODUCTO'].fillna('Descripcion faltante')\n",
    "\n",
    "#Convertir la columna 'DTO' a valores enteros\n",
    "sales['DTO %'] = sales['DTO %'].replace(['$0,00', 0.0], '0').fillna('0')"
   ]
  },
  {
   "cell_type": "code",
   "execution_count": 30,
   "id": "0e8ed19f-6d07-4467-9169-080c698ec793",
   "metadata": {},
   "outputs": [
    {
     "name": "stdout",
     "output_type": "stream",
     "text": [
      "Valores nulos restantes por columna:\n",
      "VALOR PRED.          254\n",
      "ORDEN DE RETIRO     3852\n",
      "FECHA COMPRA          40\n",
      "FECHA RETIRO OCA    1104\n",
      "COD. PRODUCTO          0\n",
      "PRODUCTO               0\n",
      "DTO %                  0\n",
      "PROVINCIA             57\n",
      "LOCALIDAD             57\n",
      "PLATAFORMA             0\n",
      "CANTIDAD               0\n",
      "dtype: int64\n"
     ]
    }
   ],
   "source": [
    "# Verificar valores nulos restantes en todo el dataset\n",
    "print(\"Valores nulos restantes por columna:\")\n",
    "print(sales.isna().sum())"
   ]
  },
  {
   "cell_type": "code",
   "execution_count": 31,
   "id": "7c19052d-ceb5-4ce7-9520-614be9c6f6f2",
   "metadata": {
    "scrolled": true
   },
   "outputs": [],
   "source": [
    "# Eliminar las columnas que no voy a utilizar\n",
    "sales = sales.drop(columns=['VALOR PRED.', 'ORDEN DE RETIRO', 'FECHA RETIRO OCA'])\n",
    "# Eliminar filas donde 'PROVINCIA' sea NaN\n",
    "sales = sales.dropna(subset=['PROVINCIA'])\n",
    "# Convertir la columna 'CANTIDAD' a enteros\n",
    "sales['CANTIDAD'] = sales['CANTIDAD'].astype(int)\n",
    "# Convertir la columna 'DTO %' a tipo numérico para reemplazar los valores que no son % de descuento sino monto en pesos\n",
    "sales['DTO %'] = pd.to_numeric(sales['DTO %'], errors='coerce')\n",
    "# Reemplazar valores de DTO % fuera del rango (negativos o mayores a 50) y nulos con 0\n",
    "sales['DTO %'] = sales['DTO %'].apply(lambda x: 0 if pd.isna(x) or x > 50 or x < 0 else x)\n"
   ]
  },
  {
   "cell_type": "code",
   "execution_count": 32,
   "id": "9d7500db-64ef-4b51-97c1-610b3ce16339",
   "metadata": {},
   "outputs": [],
   "source": [
    "# Eliminar filas donde 'FECHA COMPRA' sea NaN, REVISAR para buscar la fecha \n",
    "sales = sales.dropna(subset=['FECHA COMPRA'])"
   ]
  },
  {
   "cell_type": "code",
   "execution_count": 33,
   "id": "09580681-f387-4736-a15d-488e2f44c84c",
   "metadata": {},
   "outputs": [
    {
     "name": "stderr",
     "output_type": "stream",
     "text": [
      "C:\\Users\\bosch\\AppData\\Local\\Temp\\ipykernel_38928\\3226930836.py:1: UserWarning: Parsing dates in %d/%m/%Y format when dayfirst=False (the default) was specified. Pass `dayfirst=True` or specify a format to silence this warning.\n",
      "  sales['FECHA COMPRA'] = pd.to_datetime(sales['FECHA COMPRA'], errors='coerce')\n"
     ]
    }
   ],
   "source": [
    "sales['FECHA COMPRA'] = pd.to_datetime(sales['FECHA COMPRA'], errors='coerce')\n",
    "\n",
    "sales['FECHA COMPRA'] = sales['FECHA COMPRA'].ffill()  # Rellenar con el valor anterior\n",
    "sales['FECHA COMPRA'] = sales['FECHA COMPRA'].bfill()  # Si no hay anterior, usar el siguiente\n",
    "\n",
    "sales = sales.sort_values(by='FECHA COMPRA')"
   ]
  },
  {
   "cell_type": "code",
   "execution_count": 34,
   "id": "cb5eb4f7-6c37-4b9c-bbaa-1ce518d82293",
   "metadata": {},
   "outputs": [
    {
     "data": {
      "text/html": [
       "<div>\n",
       "<style scoped>\n",
       "    .dataframe tbody tr th:only-of-type {\n",
       "        vertical-align: middle;\n",
       "    }\n",
       "\n",
       "    .dataframe tbody tr th {\n",
       "        vertical-align: top;\n",
       "    }\n",
       "\n",
       "    .dataframe thead th {\n",
       "        text-align: right;\n",
       "    }\n",
       "</style>\n",
       "<table border=\"1\" class=\"dataframe\">\n",
       "  <thead>\n",
       "    <tr style=\"text-align: right;\">\n",
       "      <th></th>\n",
       "      <th>FECHA COMPRA</th>\n",
       "      <th>COD. PRODUCTO</th>\n",
       "      <th>PRODUCTO</th>\n",
       "      <th>DTO %</th>\n",
       "      <th>PROVINCIA</th>\n",
       "      <th>LOCALIDAD</th>\n",
       "      <th>PLATAFORMA</th>\n",
       "      <th>CANTIDAD</th>\n",
       "    </tr>\n",
       "  </thead>\n",
       "  <tbody>\n",
       "    <tr>\n",
       "      <th>2064</th>\n",
       "      <td>2021-12-16</td>\n",
       "      <td>1-20-20-200</td>\n",
       "      <td>CONJUNTO L. MARBELLA TRADICIONAL 200CMX200CM</td>\n",
       "      <td>0.0</td>\n",
       "      <td>SANTA CRUZ</td>\n",
       "      <td>PUERTO SANTA CRUZ</td>\n",
       "      <td>ecommerce</td>\n",
       "      <td>1</td>\n",
       "    </tr>\n",
       "    <tr>\n",
       "      <th>131</th>\n",
       "      <td>2023-05-09</td>\n",
       "      <td>1-20-20-200</td>\n",
       "      <td>CONJUNTO L. MARBELLA TRADICIONAL 200CMX200CM</td>\n",
       "      <td>0.0</td>\n",
       "      <td>BUENOS AIRES</td>\n",
       "      <td>Tristán Suarez</td>\n",
       "      <td>fravega</td>\n",
       "      <td>0</td>\n",
       "    </tr>\n",
       "    <tr>\n",
       "      <th>4423</th>\n",
       "      <td>2023-01-05</td>\n",
       "      <td>1-14-60-006</td>\n",
       "      <td>CONJ GILOT TRAD 140X190</td>\n",
       "      <td>0.0</td>\n",
       "      <td>NEUQUÉN</td>\n",
       "      <td>Zapala</td>\n",
       "      <td>mercadolibre</td>\n",
       "      <td>0</td>\n",
       "    </tr>\n",
       "    <tr>\n",
       "      <th>3593</th>\n",
       "      <td>2022-10-02</td>\n",
       "      <td>1-11-16-017</td>\n",
       "      <td>ALMOHADAS M.COPO 90CM</td>\n",
       "      <td>0.0</td>\n",
       "      <td>RÍO NEGRO</td>\n",
       "      <td>General Fernández Oro</td>\n",
       "      <td>mercadolibre</td>\n",
       "      <td>0</td>\n",
       "    </tr>\n",
       "    <tr>\n",
       "      <th>8993</th>\n",
       "      <td>2022-08-26</td>\n",
       "      <td>1-20-20-200</td>\n",
       "      <td>CONJUNTO L. MARBELLA TRADICIONAL 200CMX200CM</td>\n",
       "      <td>0.0</td>\n",
       "      <td>BUENOS AIRES</td>\n",
       "      <td>MAR DEL PLATA</td>\n",
       "      <td>megatone</td>\n",
       "      <td>0</td>\n",
       "    </tr>\n",
       "  </tbody>\n",
       "</table>\n",
       "</div>"
      ],
      "text/plain": [
       "     FECHA COMPRA COD. PRODUCTO                                      PRODUCTO  \\\n",
       "2064   2021-12-16   1-20-20-200  CONJUNTO L. MARBELLA TRADICIONAL 200CMX200CM   \n",
       "131    2023-05-09   1-20-20-200  CONJUNTO L. MARBELLA TRADICIONAL 200CMX200CM   \n",
       "4423   2023-01-05   1-14-60-006                       CONJ GILOT TRAD 140X190   \n",
       "3593   2022-10-02   1-11-16-017                         ALMOHADAS M.COPO 90CM   \n",
       "8993   2022-08-26   1-20-20-200  CONJUNTO L. MARBELLA TRADICIONAL 200CMX200CM   \n",
       "\n",
       "      DTO %     PROVINCIA              LOCALIDAD    PLATAFORMA  CANTIDAD  \n",
       "2064    0.0    SANTA CRUZ      PUERTO SANTA CRUZ     ecommerce         1  \n",
       "131     0.0  BUENOS AIRES         Tristán Suarez       fravega         0  \n",
       "4423    0.0       NEUQUÉN                 Zapala  mercadolibre         0  \n",
       "3593    0.0     RÍO NEGRO  General Fernández Oro  mercadolibre         0  \n",
       "8993    0.0  BUENOS AIRES          MAR DEL PLATA      megatone         0  "
      ]
     },
     "execution_count": 34,
     "metadata": {},
     "output_type": "execute_result"
    }
   ],
   "source": [
    "sales.sample(5)"
   ]
  },
  {
   "cell_type": "code",
   "execution_count": 35,
   "id": "c2a46906-7669-4bc9-8026-093cad8f2509",
   "metadata": {},
   "outputs": [
    {
     "name": "stdout",
     "output_type": "stream",
     "text": [
      "Valores nulos restantes por columna:\n",
      "FECHA COMPRA     0\n",
      "COD. PRODUCTO    0\n",
      "PRODUCTO         0\n",
      "DTO %            0\n",
      "PROVINCIA        0\n",
      "LOCALIDAD        0\n",
      "PLATAFORMA       0\n",
      "CANTIDAD         0\n",
      "dtype: int64\n"
     ]
    }
   ],
   "source": [
    "# Verificar valores nulos restantes en todo el dataset\n",
    "print(\"Valores nulos restantes por columna:\")\n",
    "print(sales.isna().sum())"
   ]
  },
  {
   "cell_type": "markdown",
   "id": "ce8222a0-7ecf-44a0-b01d-4fac35c00558",
   "metadata": {},
   "source": [
    "## A modo resumen un detalle de las transformaciones realizadas a las variables \n",
    "\n",
    "* Valor Pred : Eliminada ya que no aporta valor al modelo\n",
    "* Orden de Retiro : Eliminada ya que no aporta valor al modelo, es un identificador de la venta\n",
    "* Fecha retiro OCA: Eliminada ya que no aporta valor al modelo\n",
    "* Fecha compra : El data set inical estaba ordenado por fecha, cuando algun registro no contaba con la misma se buscó insertar la mas cercana en el índice anterior.\n",
    "* Cantidad: se convirtió a valor entero en todos sus casos.\n",
    "* Cod. Producto: se rellenó los valores faltantes comparando la descripcion del producto en otras celdas que tenga el cod producto cargado.\n",
    "* Producto: se rellenó los valores faltantes comparando el cod. producto en otras celdas que tenga la misma descripción del producto cargada. \n",
    "* DTO %: Algunos registros no tenian valor porcentual sino numérico, por lo que cuando se encontraba un valor mayor a 50 se insertó 0.\n",
    "* Localidad: Se rellenó para los valores faltantes con el nombre de la provincia como valor genérico, posiblemente no aporte mucho valor al modelo.\n",
    "* Provincia: Se eliminaron los registros que no contaban con provincia asignada\n"
   ]
  },
  {
   "cell_type": "markdown",
   "id": "43be31bc-e2d1-4ca5-a9c4-ec90bb566bfe",
   "metadata": {},
   "source": [
    "## Realizar un análisis individual de cada variable de entrada que será utilizada. A partir del mismo debería poder conocerse la distribución de los datos, si existen valores raros, su relación con la variable de salida, etc."
   ]
  },
  {
   "cell_type": "code",
   "execution_count": 36,
   "id": "08a82cfd-2a2f-4d8a-bdee-30c886628f1c",
   "metadata": {},
   "outputs": [
    {
     "data": {
      "image/png": "[encoded data removed]",
      "text/plain": [
       "<Figure size 600x600 with 1 Axes>"
      ]
     },
     "metadata": {},
     "output_type": "display_data"
    }
   ],
   "source": [
    "import matplotlib.pyplot as plt\n",
    "\n",
    "# Filtrar valores no nulos y calcular frecuencia\n",
    "cantidad_frecuencia = sales['CANTIDAD'].value_counts()\n",
    "\n",
    "plt.figure(figsize=(6, 6))  # Ajustar tamaño del gráfico\n",
    "wedges, texts, autotexts = plt.pie(\n",
    "    cantidad_frecuencia, \n",
    "    labels=cantidad_frecuencia.index, \n",
    "    autopct='%2.2f%%', \n",
    "    startangle=140\n",
    ")\n",
    "leyenda = [f\"{index}: {value} \" for index, value in cantidad_frecuencia.items()]\n",
    "plt.legend(\n",
    "    wedges, \n",
    "    leyenda, \n",
    "    title=\"Valores cantidad productos por venta\", \n",
    "    loc=\"center left\", \n",
    "    bbox_to_anchor=(1, 0, 0.5, 1)\n",
    ")\n",
    "plt.title('Distribución de Cantidad')\n",
    "plt.show()\n",
    "\n"
   ]
  },
  {
   "cell_type": "code",
   "execution_count": 37,
   "id": "712c13e8-b063-4445-a6c8-bd259819d67c",
   "metadata": {},
   "outputs": [
    {
     "data": {
      "image/png": "[encoded data removed]",
      "text/plain": [
       "<Figure size 600x300 with 1 Axes>"
      ]
     },
     "metadata": {},
     "output_type": "display_data"
    }
   ],
   "source": [
    "dto_frecuencia = sales['DTO %'].value_counts().sort_index()\n",
    "\n",
    "plt.figure(figsize=(6, 3))\n",
    "plt.hist(sales['DTO %'], bins=10, edgecolor='black', color='skyblue', alpha=0.7)\n",
    "plt.title('Distribución de DTO %', fontsize=16, fontweight='bold')\n",
    "plt.xlabel('Descuento (%)', fontsize=10)\n",
    "plt.ylabel('Frecuencia', fontsize=10)\n",
    "\n",
    "plt.grid(axis='y', linestyle='--', alpha=0.7)\n",
    "\n",
    "frecuencias_texto = \"\\n\".join([f\"{index}%: {value}\" for index, value in dto_frecuencia.items()])\n",
    "plt.gcf().text(0.95, 0.5, frecuencias_texto, fontsize=12, verticalalignment='center')\n",
    "plt.subplots_adjust(right=0.85)\n",
    "\n",
    "plt.show()"
   ]
  },
  {
   "cell_type": "code",
   "execution_count": 38,
   "id": "0af6f53b-5ca7-46a2-9010-393adbae2124",
   "metadata": {},
   "outputs": [
    {
     "data": {
      "image/png": "[encoded data removed]",
      "text/plain": [
       "<Figure size 400x800 with 1 Axes>"
      ]
     },
     "metadata": {},
     "output_type": "display_data"
    }
   ],
   "source": [
    "frecuencia_plataforma = sales['PLATAFORMA'].value_counts()\n",
    "\n",
    "plt.figure(figsize=(4, 8))\n",
    "plt.pie(\n",
    "    frecuencia_plataforma,\n",
    "    labels=frecuencia_plataforma.index,\n",
    "    autopct='%1.1f%%',\n",
    "    startangle=140,\n",
    "    colors=plt.cm.Paired.colors\n",
    ")\n",
    "plt.title('Distribución de Ventas por Plataforma', fontsize=12)\n",
    "plt.legend(\n",
    "    labels=[f\"{index}: {value} registros\" for index, value in frecuencia_plataforma.items()],\n",
    "    title=\"Detalle de Plataformas\",    \n",
    "    loc=\"center left\",\n",
    "    bbox_to_anchor=(1.2, 0.8)  \n",
    ")\n",
    "\n",
    "plt.show()"
   ]
  },
  {
   "cell_type": "code",
   "execution_count": 39,
   "id": "54e2e54b-044d-48ef-b470-d201be1eba97",
   "metadata": {},
   "outputs": [
    {
     "data": {
      "image/png": "[encoded data removed]",
      "text/plain": [
       "<Figure size 600x600 with 1 Axes>"
      ]
     },
     "metadata": {},
     "output_type": "display_data"
    }
   ],
   "source": [
    "frecuencia_provincia = sales['PROVINCIA'].value_counts().head(10)\n",
    "\n",
    "plt.figure(figsize=(6, 6))\n",
    "plt.pie(\n",
    "    frecuencia_provincia,\n",
    "    labels=frecuencia_provincia.index,\n",
    "    autopct='%1.1f%%',\n",
    "    startangle=140,\n",
    "    colors=plt.cm.Set3.colors\n",
    ")\n",
    "plt.title('Distribución de Ventas por Provincia (Top 10)', fontsize=12)\n",
    "plt.legend(\n",
    "    labels=[f\"{index}: {value} ventas\" for index, value in frecuencia_provincia.items()],\n",
    "    title=\"Detalle de Provincias\",\n",
    "    loc=\"center left\", \n",
    "    bbox_to_anchor=(1.3, 0.7) \n",
    ")\n",
    "\n",
    "plt.show()\n"
   ]
  },
  {
   "cell_type": "code",
   "execution_count": 40,
   "id": "e44cc8cb-777c-4b8e-81a4-7c7a61fde210",
   "metadata": {},
   "outputs": [
    {
     "data": {
      "image/png": "[encoded data removed]",
      "text/plain": [
       "<Figure size 600x600 with 1 Axes>"
      ]
     },
     "metadata": {},
     "output_type": "display_data"
    }
   ],
   "source": [
    "frecuencia_provincia = sales['COD. PRODUCTO'].value_counts().head(10)\n",
    "\n",
    "plt.figure(figsize=(6, 6))\n",
    "plt.pie(\n",
    "    frecuencia_provincia,\n",
    "    labels=frecuencia_provincia.index,\n",
    "    autopct='%1.1f%%',\n",
    "    startangle=140,\n",
    "    colors=plt.cm.Set3.colors\n",
    ")\n",
    "plt.title('Distribución de Ventas por Cod Producto (Top 10)', fontsize=12)\n",
    "plt.legend(\n",
    "    labels=[f\"{index}: {value} ventas\" for index, value in frecuencia_provincia.items()],\n",
    "    title=\"Detalle de códigos de producto\",\n",
    "    loc=\"center left\", \n",
    "    bbox_to_anchor=(1.3, 0.7) \n",
    ")\n",
    "\n",
    "plt.show()"
   ]
  },
  {
   "cell_type": "markdown",
   "id": "f7a55751-f743-44f8-869c-801065f67f2e",
   "metadata": {},
   "source": [
    "## Transformaciones Fecha Compra"
   ]
  },
  {
   "cell_type": "code",
   "execution_count": 41,
   "id": "24640a8a-5804-4a9a-8e13-c8b542979230",
   "metadata": {},
   "outputs": [],
   "source": [
    "# Convertir 'FECHA COMPRA' a datetime especificando el formato exacto\n",
    "sales['FECHA COMPRA'] = pd.to_datetime(sales['FECHA COMPRA'], format='%d/%m/%Y')"
   ]
  },
  {
   "cell_type": "code",
   "execution_count": 42,
   "id": "b4ef9cb9-e417-4845-a5ac-ce7553cde9bb",
   "metadata": {},
   "outputs": [
    {
     "data": {
      "text/html": [
       "<div>\n",
       "<style scoped>\n",
       "    .dataframe tbody tr th:only-of-type {\n",
       "        vertical-align: middle;\n",
       "    }\n",
       "\n",
       "    .dataframe tbody tr th {\n",
       "        vertical-align: top;\n",
       "    }\n",
       "\n",
       "    .dataframe thead th {\n",
       "        text-align: right;\n",
       "    }\n",
       "</style>\n",
       "<table border=\"1\" class=\"dataframe\">\n",
       "  <thead>\n",
       "    <tr style=\"text-align: right;\">\n",
       "      <th></th>\n",
       "      <th>FECHA COMPRA</th>\n",
       "      <th>COD. PRODUCTO</th>\n",
       "      <th>PRODUCTO</th>\n",
       "      <th>DTO %</th>\n",
       "      <th>PROVINCIA</th>\n",
       "      <th>LOCALIDAD</th>\n",
       "      <th>PLATAFORMA</th>\n",
       "      <th>CANTIDAD</th>\n",
       "      <th>AÑO</th>\n",
       "      <th>MES</th>\n",
       "    </tr>\n",
       "  </thead>\n",
       "  <tbody>\n",
       "    <tr>\n",
       "      <th>9155</th>\n",
       "      <td>2022-09-20</td>\n",
       "      <td>1-10-02-002</td>\n",
       "      <td>ALMOHADAS L.PLACA 80CM</td>\n",
       "      <td>0.0</td>\n",
       "      <td>CAPITAL FEDERAL</td>\n",
       "      <td>CAPITAL FEDERAL</td>\n",
       "      <td>megatone</td>\n",
       "      <td>0</td>\n",
       "      <td>2022</td>\n",
       "      <td>9</td>\n",
       "    </tr>\n",
       "    <tr>\n",
       "      <th>10518</th>\n",
       "      <td>2023-05-11</td>\n",
       "      <td>1-11-02-002</td>\n",
       "      <td>COLCHÓN L. SUPER CONFORT TRADICIONAL 80CMX190CM</td>\n",
       "      <td>0.0</td>\n",
       "      <td>CAPITAL FEDERAL</td>\n",
       "      <td>ALVAREZ CRISOSTOMO</td>\n",
       "      <td>megatone</td>\n",
       "      <td>0</td>\n",
       "      <td>2023</td>\n",
       "      <td>5</td>\n",
       "    </tr>\n",
       "    <tr>\n",
       "      <th>8473</th>\n",
       "      <td>2022-06-04</td>\n",
       "      <td>1-12-40-002</td>\n",
       "      <td>COLCHÓN L. ROMA TRADICIONAL 80CMX190CM</td>\n",
       "      <td>3.0</td>\n",
       "      <td>CAPITAL FEDERAL</td>\n",
       "      <td>14 DE julio</td>\n",
       "      <td>megatone</td>\n",
       "      <td>0</td>\n",
       "      <td>2022</td>\n",
       "      <td>6</td>\n",
       "    </tr>\n",
       "    <tr>\n",
       "      <th>8939</th>\n",
       "      <td>2022-08-17</td>\n",
       "      <td>1-12-40-002</td>\n",
       "      <td>COLCHÓN L. ROMA TRADICIONAL 80CMX190CM</td>\n",
       "      <td>0.0</td>\n",
       "      <td>TUCUMÁN</td>\n",
       "      <td>SAN MIGUEL DE TUCUMAN</td>\n",
       "      <td>megatone</td>\n",
       "      <td>1</td>\n",
       "      <td>2022</td>\n",
       "      <td>8</td>\n",
       "    </tr>\n",
       "    <tr>\n",
       "      <th>856</th>\n",
       "      <td>2024-01-12</td>\n",
       "      <td>1-20-20-200</td>\n",
       "      <td>CONJUNTO L. MARBELLA TRADICIONAL 200CMX200CM</td>\n",
       "      <td>0.0</td>\n",
       "      <td>BUENOS AIRES</td>\n",
       "      <td>Longchamps</td>\n",
       "      <td>fravega</td>\n",
       "      <td>0</td>\n",
       "      <td>2024</td>\n",
       "      <td>1</td>\n",
       "    </tr>\n",
       "    <tr>\n",
       "      <th>9265</th>\n",
       "      <td>2022-09-27</td>\n",
       "      <td>1-12-40-002</td>\n",
       "      <td>COLCHÓN L. ROMA TRADICIONAL 80CMX190CM</td>\n",
       "      <td>0.0</td>\n",
       "      <td>BUENOS AIRES</td>\n",
       "      <td>HURLINGHAM</td>\n",
       "      <td>megatone</td>\n",
       "      <td>0</td>\n",
       "      <td>2022</td>\n",
       "      <td>9</td>\n",
       "    </tr>\n",
       "    <tr>\n",
       "      <th>3391</th>\n",
       "      <td>2022-09-13</td>\n",
       "      <td>1-11-16-017</td>\n",
       "      <td>ALMOHADAS M.COPO 90CM</td>\n",
       "      <td>0.0</td>\n",
       "      <td>BUENOS AIRES</td>\n",
       "      <td>La Plata</td>\n",
       "      <td>mercadolibre</td>\n",
       "      <td>0</td>\n",
       "      <td>2022</td>\n",
       "      <td>9</td>\n",
       "    </tr>\n",
       "    <tr>\n",
       "      <th>2426</th>\n",
       "      <td>2022-04-24</td>\n",
       "      <td>1-11-16-017</td>\n",
       "      <td>ALMOHADAS M.COPO 90CM</td>\n",
       "      <td>0.0</td>\n",
       "      <td>BUENOS AIRES</td>\n",
       "      <td>Gregorio de Laferrere</td>\n",
       "      <td>mercadolibre</td>\n",
       "      <td>0</td>\n",
       "      <td>2022</td>\n",
       "      <td>4</td>\n",
       "    </tr>\n",
       "    <tr>\n",
       "      <th>3949</th>\n",
       "      <td>2022-11-04</td>\n",
       "      <td>1-11-16-017</td>\n",
       "      <td>ALMOHADAS M.COPO 90CM</td>\n",
       "      <td>0.0</td>\n",
       "      <td>CHUBUT</td>\n",
       "      <td>Comodoro Rivadavia</td>\n",
       "      <td>mercadolibre</td>\n",
       "      <td>0</td>\n",
       "      <td>2022</td>\n",
       "      <td>11</td>\n",
       "    </tr>\n",
       "    <tr>\n",
       "      <th>3472</th>\n",
       "      <td>2022-09-23</td>\n",
       "      <td>1-11-16-017</td>\n",
       "      <td>ALMOHADAS M.COPO 90CM</td>\n",
       "      <td>0.0</td>\n",
       "      <td>NEUQUÉN</td>\n",
       "      <td>Neuquén</td>\n",
       "      <td>mercadolibre</td>\n",
       "      <td>1</td>\n",
       "      <td>2022</td>\n",
       "      <td>9</td>\n",
       "    </tr>\n",
       "  </tbody>\n",
       "</table>\n",
       "</div>"
      ],
      "text/plain": [
       "      FECHA COMPRA COD. PRODUCTO  \\\n",
       "9155    2022-09-20   1-10-02-002   \n",
       "10518   2023-05-11   1-11-02-002   \n",
       "8473    2022-06-04   1-12-40-002   \n",
       "8939    2022-08-17   1-12-40-002   \n",
       "856     2024-01-12   1-20-20-200   \n",
       "9265    2022-09-27   1-12-40-002   \n",
       "3391    2022-09-13   1-11-16-017   \n",
       "2426    2022-04-24   1-11-16-017   \n",
       "3949    2022-11-04   1-11-16-017   \n",
       "3472    2022-09-23   1-11-16-017   \n",
       "\n",
       "                                              PRODUCTO  DTO %  \\\n",
       "9155                            ALMOHADAS L.PLACA 80CM    0.0   \n",
       "10518  COLCHÓN L. SUPER CONFORT TRADICIONAL 80CMX190CM    0.0   \n",
       "8473            COLCHÓN L. ROMA TRADICIONAL 80CMX190CM    3.0   \n",
       "8939            COLCHÓN L. ROMA TRADICIONAL 80CMX190CM    0.0   \n",
       "856       CONJUNTO L. MARBELLA TRADICIONAL 200CMX200CM    0.0   \n",
       "9265            COLCHÓN L. ROMA TRADICIONAL 80CMX190CM    0.0   \n",
       "3391                             ALMOHADAS M.COPO 90CM    0.0   \n",
       "2426                             ALMOHADAS M.COPO 90CM    0.0   \n",
       "3949                             ALMOHADAS M.COPO 90CM    0.0   \n",
       "3472                             ALMOHADAS M.COPO 90CM    0.0   \n",
       "\n",
       "             PROVINCIA              LOCALIDAD    PLATAFORMA  CANTIDAD   AÑO  \\\n",
       "9155   CAPITAL FEDERAL        CAPITAL FEDERAL      megatone         0  2022   \n",
       "10518  CAPITAL FEDERAL     ALVAREZ CRISOSTOMO      megatone         0  2023   \n",
       "8473   CAPITAL FEDERAL            14 DE julio      megatone         0  2022   \n",
       "8939           TUCUMÁN  SAN MIGUEL DE TUCUMAN      megatone         1  2022   \n",
       "856       BUENOS AIRES             Longchamps       fravega         0  2024   \n",
       "9265      BUENOS AIRES             HURLINGHAM      megatone         0  2022   \n",
       "3391      BUENOS AIRES               La Plata  mercadolibre         0  2022   \n",
       "2426      BUENOS AIRES  Gregorio de Laferrere  mercadolibre         0  2022   \n",
       "3949            CHUBUT     Comodoro Rivadavia  mercadolibre         0  2022   \n",
       "3472           NEUQUÉN                Neuquén  mercadolibre         1  2022   \n",
       "\n",
       "       MES  \n",
       "9155     9  \n",
       "10518    5  \n",
       "8473     6  \n",
       "8939     8  \n",
       "856      1  \n",
       "9265     9  \n",
       "3391     9  \n",
       "2426     4  \n",
       "3949    11  \n",
       "3472     9  "
      ]
     },
     "execution_count": 42,
     "metadata": {},
     "output_type": "execute_result"
    }
   ],
   "source": [
    "# Crear columnas temporales\n",
    "sales['AÑO'] = sales['FECHA COMPRA'].dt.year\n",
    "sales['MES'] = sales['FECHA COMPRA'].dt.month\n",
    "\n",
    "sales.sample(10)"
   ]
  },
  {
   "cell_type": "markdown",
   "id": "ceebbeba-b587-4ae1-a107-0d9511da3791",
   "metadata": {},
   "source": [
    "* Distribucion de ventas por mes"
   ]
  },
  {
   "cell_type": "code",
   "execution_count": 43,
   "id": "ff392c56-ff3a-4a3f-b52f-fdc05da5f76c",
   "metadata": {},
   "outputs": [
    {
     "data": {
      "image/png": "[encoded data removed]",
      "text/plain": [
       "<Figure size 600x400 with 1 Axes>"
      ]
     },
     "metadata": {},
     "output_type": "display_data"
    }
   ],
   "source": [
    "ventas_por_mes = sales.groupby('MES')['CANTIDAD'].sum()\n",
    "\n",
    "plt.figure(figsize=(6, 4))\n",
    "ventas_por_mes.plot(kind='bar', color='skyblue', edgecolor='black')\n",
    "plt.title('Ventas por Mes', fontsize=16, fontweight='bold')\n",
    "plt.xlabel('Mes', fontsize=14)\n",
    "plt.ylabel('Cantidad Vendida', fontsize=14)\n",
    "plt.xticks(rotation=0)\n",
    "plt.grid(axis='y', linestyle='--', alpha=0.7)\n",
    "plt.show()\n",
    "\n"
   ]
  },
  {
   "cell_type": "markdown",
   "id": "c1b1bdb5-77b3-49d4-96d7-ddf9a18f2f92",
   "metadata": {},
   "source": [
    "## Adapto el dataset para analizar tanto patrones semanales como mensuales. El objetivo es trabajar con la predicción por período de tiempo y agrupar las ventas por un intervalo de tiempo y producto"
   ]
  },
  {
   "cell_type": "code",
   "execution_count": 44,
   "id": "94be5434-32f4-4dd0-bc87-aae6f222e9ee",
   "metadata": {},
   "outputs": [
    {
     "data": {
      "text/html": [
       "<div>\n",
       "<style scoped>\n",
       "    .dataframe tbody tr th:only-of-type {\n",
       "        vertical-align: middle;\n",
       "    }\n",
       "\n",
       "    .dataframe tbody tr th {\n",
       "        vertical-align: top;\n",
       "    }\n",
       "\n",
       "    .dataframe thead th {\n",
       "        text-align: right;\n",
       "    }\n",
       "</style>\n",
       "<table border=\"1\" class=\"dataframe\">\n",
       "  <thead>\n",
       "    <tr style=\"text-align: right;\">\n",
       "      <th></th>\n",
       "      <th>FECHA COMPRA</th>\n",
       "      <th>COD. PRODUCTO</th>\n",
       "      <th>PRODUCTO</th>\n",
       "      <th>DTO %</th>\n",
       "      <th>PROVINCIA</th>\n",
       "      <th>LOCALIDAD</th>\n",
       "      <th>PLATAFORMA</th>\n",
       "      <th>CANTIDAD</th>\n",
       "      <th>AÑO</th>\n",
       "      <th>MES</th>\n",
       "      <th>EVENTO</th>\n",
       "    </tr>\n",
       "  </thead>\n",
       "  <tbody>\n",
       "    <tr>\n",
       "      <th>3532</th>\n",
       "      <td>2022-09-28</td>\n",
       "      <td>1-11-16-017</td>\n",
       "      <td>ALMOHADAS M.COPO 90CM</td>\n",
       "      <td>0.0</td>\n",
       "      <td>BUENOS AIRES</td>\n",
       "      <td>Monte Hermoso</td>\n",
       "      <td>mercadolibre</td>\n",
       "      <td>0</td>\n",
       "      <td>2022</td>\n",
       "      <td>9</td>\n",
       "      <td>Estandar</td>\n",
       "    </tr>\n",
       "    <tr>\n",
       "      <th>4145</th>\n",
       "      <td>2022-11-25</td>\n",
       "      <td>1-11-16-017</td>\n",
       "      <td>ALMOHADAS M.COPO 90CM</td>\n",
       "      <td>0.0</td>\n",
       "      <td>BUENOS AIRES</td>\n",
       "      <td>Mar de Ajo</td>\n",
       "      <td>mercadolibre</td>\n",
       "      <td>0</td>\n",
       "      <td>2022</td>\n",
       "      <td>11</td>\n",
       "      <td>CyberMonday</td>\n",
       "    </tr>\n",
       "    <tr>\n",
       "      <th>3941</th>\n",
       "      <td>2022-11-03</td>\n",
       "      <td>1-11-16-017</td>\n",
       "      <td>ALMOHADAS M.COPO 90CM</td>\n",
       "      <td>0.0</td>\n",
       "      <td>BUENOS AIRES</td>\n",
       "      <td>Carapachay</td>\n",
       "      <td>mercadolibre</td>\n",
       "      <td>0</td>\n",
       "      <td>2022</td>\n",
       "      <td>11</td>\n",
       "      <td>CyberMonday</td>\n",
       "    </tr>\n",
       "    <tr>\n",
       "      <th>6135</th>\n",
       "      <td>2023-05-21</td>\n",
       "      <td>1-22-41-007</td>\n",
       "      <td>CONJUNTO L. MARINERA TRAD RESORTE 90CMX190CM S...</td>\n",
       "      <td>0.0</td>\n",
       "      <td>BUENOS AIRES</td>\n",
       "      <td>Tandil</td>\n",
       "      <td>mercadolibre</td>\n",
       "      <td>0</td>\n",
       "      <td>2023</td>\n",
       "      <td>5</td>\n",
       "      <td>Hot Sale</td>\n",
       "    </tr>\n",
       "    <tr>\n",
       "      <th>5469</th>\n",
       "      <td>2023-05-08</td>\n",
       "      <td>1-22-41-007</td>\n",
       "      <td>CONJUNTO L. MARINERA TRAD RESORTE 90CMX190CM S...</td>\n",
       "      <td>0.0</td>\n",
       "      <td>BUENOS AIRES</td>\n",
       "      <td>buenos aires</td>\n",
       "      <td>mercadolibre</td>\n",
       "      <td>1</td>\n",
       "      <td>2023</td>\n",
       "      <td>5</td>\n",
       "      <td>Hot Sale</td>\n",
       "    </tr>\n",
       "    <tr>\n",
       "      <th>10261</th>\n",
       "      <td>2023-05-04</td>\n",
       "      <td>1-15-40-006</td>\n",
       "      <td>CONJUNTO L. ROMA TRADICIONAL 140CMX190CM</td>\n",
       "      <td>4.0</td>\n",
       "      <td>BUENOS AIRES</td>\n",
       "      <td>MAR DEL PLATA</td>\n",
       "      <td>megatone</td>\n",
       "      <td>0</td>\n",
       "      <td>2023</td>\n",
       "      <td>5</td>\n",
       "      <td>Hot Sale</td>\n",
       "    </tr>\n",
       "    <tr>\n",
       "      <th>2731</th>\n",
       "      <td>2022-06-03</td>\n",
       "      <td>1-11-16-017</td>\n",
       "      <td>ALMOHADAS M.COPO 90CM</td>\n",
       "      <td>15.0</td>\n",
       "      <td>BUENOS AIRES</td>\n",
       "      <td>San Fernando</td>\n",
       "      <td>mercadolibre</td>\n",
       "      <td>0</td>\n",
       "      <td>2022</td>\n",
       "      <td>6</td>\n",
       "      <td>Estandar</td>\n",
       "    </tr>\n",
       "    <tr>\n",
       "      <th>657</th>\n",
       "      <td>2023-09-07</td>\n",
       "      <td>1-20-20-200</td>\n",
       "      <td>CONJUNTO L. MARBELLA TRADICIONAL 200CMX200CM</td>\n",
       "      <td>0.0</td>\n",
       "      <td>BUENOS AIRES</td>\n",
       "      <td>Merlo</td>\n",
       "      <td>fravega</td>\n",
       "      <td>0</td>\n",
       "      <td>2023</td>\n",
       "      <td>9</td>\n",
       "      <td>Estandar</td>\n",
       "    </tr>\n",
       "    <tr>\n",
       "      <th>2537</th>\n",
       "      <td>2022-05-19</td>\n",
       "      <td>1-11-16-017</td>\n",
       "      <td>ALMOHADAS M.COPO 90CM</td>\n",
       "      <td>0.0</td>\n",
       "      <td>NEUQUÉN</td>\n",
       "      <td>Rincón de los Sauces</td>\n",
       "      <td>mercadolibre</td>\n",
       "      <td>0</td>\n",
       "      <td>2022</td>\n",
       "      <td>5</td>\n",
       "      <td>Hot Sale</td>\n",
       "    </tr>\n",
       "    <tr>\n",
       "      <th>10840</th>\n",
       "      <td>2023-07-01</td>\n",
       "      <td>1-12-40-002</td>\n",
       "      <td>COLCHÓN L. ROMA TRADICIONAL 80CMX190CM</td>\n",
       "      <td>4.0</td>\n",
       "      <td>SAN LUIS</td>\n",
       "      <td>SAN LUIS</td>\n",
       "      <td>megatone</td>\n",
       "      <td>1</td>\n",
       "      <td>2023</td>\n",
       "      <td>7</td>\n",
       "      <td>Estandar</td>\n",
       "    </tr>\n",
       "  </tbody>\n",
       "</table>\n",
       "</div>"
      ],
      "text/plain": [
       "      FECHA COMPRA COD. PRODUCTO  \\\n",
       "3532    2022-09-28   1-11-16-017   \n",
       "4145    2022-11-25   1-11-16-017   \n",
       "3941    2022-11-03   1-11-16-017   \n",
       "6135    2023-05-21   1-22-41-007   \n",
       "5469    2023-05-08   1-22-41-007   \n",
       "10261   2023-05-04   1-15-40-006   \n",
       "2731    2022-06-03   1-11-16-017   \n",
       "657     2023-09-07   1-20-20-200   \n",
       "2537    2022-05-19   1-11-16-017   \n",
       "10840   2023-07-01   1-12-40-002   \n",
       "\n",
       "                                                PRODUCTO  DTO %     PROVINCIA  \\\n",
       "3532                               ALMOHADAS M.COPO 90CM    0.0  BUENOS AIRES   \n",
       "4145                               ALMOHADAS M.COPO 90CM    0.0  BUENOS AIRES   \n",
       "3941                               ALMOHADAS M.COPO 90CM    0.0  BUENOS AIRES   \n",
       "6135   CONJUNTO L. MARINERA TRAD RESORTE 90CMX190CM S...    0.0  BUENOS AIRES   \n",
       "5469   CONJUNTO L. MARINERA TRAD RESORTE 90CMX190CM S...    0.0  BUENOS AIRES   \n",
       "10261           CONJUNTO L. ROMA TRADICIONAL 140CMX190CM    4.0  BUENOS AIRES   \n",
       "2731                               ALMOHADAS M.COPO 90CM   15.0  BUENOS AIRES   \n",
       "657         CONJUNTO L. MARBELLA TRADICIONAL 200CMX200CM    0.0  BUENOS AIRES   \n",
       "2537                               ALMOHADAS M.COPO 90CM    0.0       NEUQUÉN   \n",
       "10840             COLCHÓN L. ROMA TRADICIONAL 80CMX190CM    4.0      SAN LUIS   \n",
       "\n",
       "                  LOCALIDAD    PLATAFORMA  CANTIDAD   AÑO  MES       EVENTO  \n",
       "3532          Monte Hermoso  mercadolibre         0  2022    9     Estandar  \n",
       "4145             Mar de Ajo  mercadolibre         0  2022   11  CyberMonday  \n",
       "3941             Carapachay  mercadolibre         0  2022   11  CyberMonday  \n",
       "6135                 Tandil  mercadolibre         0  2023    5     Hot Sale  \n",
       "5469           buenos aires  mercadolibre         1  2023    5     Hot Sale  \n",
       "10261         MAR DEL PLATA      megatone         0  2023    5     Hot Sale  \n",
       "2731           San Fernando  mercadolibre         0  2022    6     Estandar  \n",
       "657                   Merlo       fravega         0  2023    9     Estandar  \n",
       "2537   Rincón de los Sauces  mercadolibre         0  2022    5     Hot Sale  \n",
       "10840              SAN LUIS      megatone         1  2023    7     Estandar  "
      ]
     },
     "execution_count": 44,
     "metadata": {},
     "output_type": "execute_result"
    }
   ],
   "source": [
    "# Agregar columna de EVENTO\n",
    "sales['EVENTO'] = sales['MES'].apply(\n",
    "    lambda x: 'Hot Sale' if x == 5 else ('CyberMonday' if x == 11 else 'Estandar')\n",
    ")\n",
    "\n",
    "# Agrupar por 'COD. PRODUCTO', 'AÑO', y 'MES', sumando las cantidades vendidas ('CANTIDAD_TOTAL')\n",
    "sales_grouped = sales.groupby(['AÑO', 'MES', 'PRODUCTO', 'EVENTO', 'COD. PRODUCTO']).agg(\n",
    "    CANTIDAD_TOTAL=('CANTIDAD', 'sum')  # Sumamos las cantidades vendidas por mes y producto\n",
    ").reset_index()\n",
    "# Verificar que los productos sin ventas estén con CANTIDAD_TOTAL = 0\n",
    "sales.sample(10)"
   ]
  },
  {
   "cell_type": "code",
   "execution_count": 45,
   "id": "be776adc-771a-45d1-9545-1fa3ccc4d07b",
   "metadata": {},
   "outputs": [
    {
     "name": "stdout",
     "output_type": "stream",
     "text": [
      "Primer mes registrado: October 2002\n",
      "Último mes registrado: January 2024\n"
     ]
    }
   ],
   "source": [
    "# Asegúrate de que la columna 'FECHA_COMPRA' esté en formato datetime\n",
    "sales['FECHA COMPRA'] = pd.to_datetime(sales['FECHA COMPRA'], format='%d-%m-%Y')\n",
    "\n",
    "# Ordenar el dataset por fecha (AÑO, MES)\n",
    "sales = sales.sort_values(by='FECHA COMPRA', ascending=True)\n",
    "\n",
    "# Obtener el primer y último mes con sus respectivos años\n",
    "primer_mes = sales['FECHA COMPRA'].min()\n",
    "ultimo_mes = sales['FECHA COMPRA'].max()\n",
    "\n",
    "# Mostrar el primer y último mes con año\n",
    "print(f\"Primer mes registrado: {primer_mes.strftime('%B %Y')}\")\n",
    "print(f\"Último mes registrado: {ultimo_mes.strftime('%B %Y')}\")"
   ]
  },
  {
   "cell_type": "code",
   "execution_count": 46,
   "id": "11307fea-c074-4cdd-9285-f1092a4f012f",
   "metadata": {},
   "outputs": [
    {
     "name": "stdout",
     "output_type": "stream",
     "text": [
      "TODOS LOS COD. PRODUCTO: ['1-12-40-006' '1-12-40-003' '1-12-40-002' '1-10-05-002' '1-10-03-002'\n",
      " '1-10-03-001' '1-11-06-002' '1-10-04-002' '1-10-05-001' '1-20-20-200'\n",
      " '1-12-30-006' '1-14-15-002' '1-12-40-004' '1-14-11-017' '1-11-06-006'\n",
      " '1-11-12-006' '1-14-11-006' '1-11-06-004' '1-11-11-017' '1-11-11-006'\n",
      " '1-15-40-006' '1-12-27-006' '1-12-27-018' '1-10-01-001' '1-10-02-001'\n",
      " '1-10-01-002' '1-11-06-003' '1-12-36-002' '1-22-41-002' '1-15-36-006'\n",
      " '1-15-37-019' '1-10-02-002' '1-11-16-017' '1-11-02-002' '1-15-38-019'\n",
      " '1-14-11-019' '1-11-06-005' '1-12-27-002' '1-12-38-017' '1-11-17-017'\n",
      " '1-11-16-002' '1-14-17-019' '1-11-02-06' '1-14-17-018' '1-22-41-003'\n",
      " '1-14-17-017' '1-12-37-002' '1-15-38-006' '1-11-12-017' '1-15-40-004'\n",
      " '1-15-38-018' '1-11-11-018' '1-12-37-019' '1-11-08-002' '1-15-27-018'\n",
      " '1-14-11-018' '1-23-16-001' '1-12-27-017' '1-14-16-002' '1-11-08-003'\n",
      " '1-11-12-018' '1-23-37-004' '1-14-07-006' '1-14-10-019' '1-11-07-006'\n",
      " '1-15-40-003' '1-23-36-006' '1-13-32-006' '1-11-10-006' '1-11-07-002'\n",
      " '1-14-16-003' '1-11-17-018' '1-15-24-006' '1-14-16-019' '1-11-07-003'\n",
      " '1-14-16-005' '1-15-25-006' '1-11-10-017' '1-12-24-002' '1-11-10-019'\n",
      " '1-12-27-019' '1-11-07-004' '1-22-01-007' '1-11-11-019' '1-12-24-004'\n",
      " '1-22-41-007' '1-23-04-002' '1-14-60-003' '1-14-60-006' '1-14-60-004'\n",
      " '1-23-05-002' '1-15-61-002' '1-23-15-003' '1-12-37-017' '1-23-15-007'\n",
      " '1-23-16-003' '1-11-16-018' '1-12-37-018']\n",
      "Cantidad de COD. PRODUCTO únicos: 98\n"
     ]
    }
   ],
   "source": [
    "cod_productos_unicos = sales['COD. PRODUCTO'].unique()\n",
    "print(f\"TODOS LOS COD. PRODUCTO: {cod_productos_unicos}\")\n",
    "\n",
    "# Contar cuántos COD. PRODUCTO únicos existen\n",
    "num_cod_productos_unicos = len(sales['COD. PRODUCTO'].unique())\n",
    "\n",
    "# Mostrar el resultado\n",
    "print(f\"Cantidad de COD. PRODUCTO únicos: {num_cod_productos_unicos}\")\n"
   ]
  },
  {
   "cell_type": "code",
   "execution_count": 47,
   "id": "6aff205d-7934-4142-8080-3c706072602d",
   "metadata": {},
   "outputs": [
    {
     "data": {
      "text/html": [
       "<div>\n",
       "<style scoped>\n",
       "    .dataframe tbody tr th:only-of-type {\n",
       "        vertical-align: middle;\n",
       "    }\n",
       "\n",
       "    .dataframe tbody tr th {\n",
       "        vertical-align: top;\n",
       "    }\n",
       "\n",
       "    .dataframe thead th {\n",
       "        text-align: right;\n",
       "    }\n",
       "</style>\n",
       "<table border=\"1\" class=\"dataframe\">\n",
       "  <thead>\n",
       "    <tr style=\"text-align: right;\">\n",
       "      <th></th>\n",
       "      <th>FECHA COMPRA</th>\n",
       "      <th>COD. PRODUCTO</th>\n",
       "      <th>PRODUCTO</th>\n",
       "      <th>DTO %</th>\n",
       "      <th>PROVINCIA</th>\n",
       "      <th>LOCALIDAD</th>\n",
       "      <th>PLATAFORMA</th>\n",
       "      <th>CANTIDAD</th>\n",
       "      <th>AÑO</th>\n",
       "      <th>MES</th>\n",
       "      <th>EVENTO</th>\n",
       "    </tr>\n",
       "  </thead>\n",
       "  <tbody>\n",
       "    <tr>\n",
       "      <th>9093</th>\n",
       "      <td>2022-09-05</td>\n",
       "      <td>1-12-40-003</td>\n",
       "      <td>COLCHÓN L. ROMA TRADICIONAL 90CMX190CM</td>\n",
       "      <td>0.0</td>\n",
       "      <td>RÍO NEGRO</td>\n",
       "      <td>VILLA REGINA</td>\n",
       "      <td>megatone</td>\n",
       "      <td>1</td>\n",
       "      <td>2022</td>\n",
       "      <td>9</td>\n",
       "      <td>Estandar</td>\n",
       "    </tr>\n",
       "    <tr>\n",
       "      <th>2158</th>\n",
       "      <td>2021-12-31</td>\n",
       "      <td>1-20-20-200</td>\n",
       "      <td>CONJUNTO L. MARBELLA TRADICIONAL 200CMX200CM</td>\n",
       "      <td>0.0</td>\n",
       "      <td>CÓRDOBA</td>\n",
       "      <td>REDUCCION</td>\n",
       "      <td>ecommerce</td>\n",
       "      <td>0</td>\n",
       "      <td>2021</td>\n",
       "      <td>12</td>\n",
       "      <td>Estandar</td>\n",
       "    </tr>\n",
       "    <tr>\n",
       "      <th>4809</th>\n",
       "      <td>2023-03-31</td>\n",
       "      <td>1-20-20-200</td>\n",
       "      <td>CONJUNTO L. MARBELLA TRADICIONAL 200CMX200CM</td>\n",
       "      <td>0.0</td>\n",
       "      <td>BUENOS AIRES</td>\n",
       "      <td>José C. Paz</td>\n",
       "      <td>mercadolibre</td>\n",
       "      <td>0</td>\n",
       "      <td>2023</td>\n",
       "      <td>3</td>\n",
       "      <td>Estandar</td>\n",
       "    </tr>\n",
       "    <tr>\n",
       "      <th>2955</th>\n",
       "      <td>2022-06-30</td>\n",
       "      <td>1-11-16-017</td>\n",
       "      <td>ALMOHADAS M.COPO 90CM</td>\n",
       "      <td>0.0</td>\n",
       "      <td>BUENOS AIRES</td>\n",
       "      <td>Capitan Sarmiento. Barrio los milagros</td>\n",
       "      <td>mercadolibre</td>\n",
       "      <td>0</td>\n",
       "      <td>2022</td>\n",
       "      <td>6</td>\n",
       "      <td>Estandar</td>\n",
       "    </tr>\n",
       "    <tr>\n",
       "      <th>5880</th>\n",
       "      <td>2023-05-10</td>\n",
       "      <td>1-20-20-200</td>\n",
       "      <td>CONJUNTO L. MARBELLA TRADICIONAL 200CMX200CM</td>\n",
       "      <td>0.0</td>\n",
       "      <td>SANTA CRUZ</td>\n",
       "      <td>Pico Truncado</td>\n",
       "      <td>mercadolibre</td>\n",
       "      <td>0</td>\n",
       "      <td>2023</td>\n",
       "      <td>5</td>\n",
       "      <td>Hot Sale</td>\n",
       "    </tr>\n",
       "    <tr>\n",
       "      <th>6123</th>\n",
       "      <td>2023-05-17</td>\n",
       "      <td>1-12-37-017</td>\n",
       "      <td>COLCHÓN L. VASARI TRADICIONAL 160CMX200CM</td>\n",
       "      <td>0.0</td>\n",
       "      <td>SANTA FE</td>\n",
       "      <td>Santa fe</td>\n",
       "      <td>mercadolibre</td>\n",
       "      <td>0</td>\n",
       "      <td>2023</td>\n",
       "      <td>5</td>\n",
       "      <td>Hot Sale</td>\n",
       "    </tr>\n",
       "    <tr>\n",
       "      <th>4382</th>\n",
       "      <td>2022-12-27</td>\n",
       "      <td>1-11-16-017</td>\n",
       "      <td>ALMOHADAS M.COPO 90CM</td>\n",
       "      <td>0.0</td>\n",
       "      <td>NEUQUÉN</td>\n",
       "      <td>Neuquén</td>\n",
       "      <td>mercadolibre</td>\n",
       "      <td>0</td>\n",
       "      <td>2022</td>\n",
       "      <td>12</td>\n",
       "      <td>Estandar</td>\n",
       "    </tr>\n",
       "    <tr>\n",
       "      <th>11042</th>\n",
       "      <td>2023-10-07</td>\n",
       "      <td>1-12-40-003</td>\n",
       "      <td>COLCHÓN L. ROMA TRADICIONAL 90CMX190CM</td>\n",
       "      <td>4.0</td>\n",
       "      <td>SANTA FE</td>\n",
       "      <td>CAPITAN BERMUDEZ</td>\n",
       "      <td>megatone</td>\n",
       "      <td>0</td>\n",
       "      <td>2023</td>\n",
       "      <td>10</td>\n",
       "      <td>Estandar</td>\n",
       "    </tr>\n",
       "    <tr>\n",
       "      <th>4909</th>\n",
       "      <td>2023-04-06</td>\n",
       "      <td>1-20-20-200</td>\n",
       "      <td>CONJUNTO L. MARBELLA TRADICIONAL 200CMX200CM</td>\n",
       "      <td>0.0</td>\n",
       "      <td>RÍO NEGRO</td>\n",
       "      <td>Allen</td>\n",
       "      <td>mercadolibre</td>\n",
       "      <td>0</td>\n",
       "      <td>2023</td>\n",
       "      <td>4</td>\n",
       "      <td>Estandar</td>\n",
       "    </tr>\n",
       "    <tr>\n",
       "      <th>3444</th>\n",
       "      <td>2022-09-21</td>\n",
       "      <td>1-11-16-017</td>\n",
       "      <td>ALMOHADAS M.COPO 90CM</td>\n",
       "      <td>0.0</td>\n",
       "      <td>RÍO NEGRO</td>\n",
       "      <td>Bariloche</td>\n",
       "      <td>mercadolibre</td>\n",
       "      <td>0</td>\n",
       "      <td>2022</td>\n",
       "      <td>9</td>\n",
       "      <td>Estandar</td>\n",
       "    </tr>\n",
       "  </tbody>\n",
       "</table>\n",
       "</div>"
      ],
      "text/plain": [
       "      FECHA COMPRA COD. PRODUCTO  \\\n",
       "9093    2022-09-05   1-12-40-003   \n",
       "2158    2021-12-31   1-20-20-200   \n",
       "4809    2023-03-31   1-20-20-200   \n",
       "2955    2022-06-30   1-11-16-017   \n",
       "5880    2023-05-10   1-20-20-200   \n",
       "6123    2023-05-17   1-12-37-017   \n",
       "4382    2022-12-27   1-11-16-017   \n",
       "11042   2023-10-07   1-12-40-003   \n",
       "4909    2023-04-06   1-20-20-200   \n",
       "3444    2022-09-21   1-11-16-017   \n",
       "\n",
       "                                           PRODUCTO  DTO %     PROVINCIA  \\\n",
       "9093         COLCHÓN L. ROMA TRADICIONAL 90CMX190CM    0.0     RÍO NEGRO   \n",
       "2158   CONJUNTO L. MARBELLA TRADICIONAL 200CMX200CM    0.0       CÓRDOBA   \n",
       "4809   CONJUNTO L. MARBELLA TRADICIONAL 200CMX200CM    0.0  BUENOS AIRES   \n",
       "2955                          ALMOHADAS M.COPO 90CM    0.0  BUENOS AIRES   \n",
       "5880   CONJUNTO L. MARBELLA TRADICIONAL 200CMX200CM    0.0    SANTA CRUZ   \n",
       "6123      COLCHÓN L. VASARI TRADICIONAL 160CMX200CM    0.0      SANTA FE   \n",
       "4382                          ALMOHADAS M.COPO 90CM    0.0       NEUQUÉN   \n",
       "11042        COLCHÓN L. ROMA TRADICIONAL 90CMX190CM    4.0      SANTA FE   \n",
       "4909   CONJUNTO L. MARBELLA TRADICIONAL 200CMX200CM    0.0     RÍO NEGRO   \n",
       "3444                          ALMOHADAS M.COPO 90CM    0.0     RÍO NEGRO   \n",
       "\n",
       "                                    LOCALIDAD    PLATAFORMA  CANTIDAD   AÑO  \\\n",
       "9093                             VILLA REGINA      megatone         1  2022   \n",
       "2158                                REDUCCION     ecommerce         0  2021   \n",
       "4809                              José C. Paz  mercadolibre         0  2023   \n",
       "2955   Capitan Sarmiento. Barrio los milagros  mercadolibre         0  2022   \n",
       "5880                            Pico Truncado  mercadolibre         0  2023   \n",
       "6123                                 Santa fe  mercadolibre         0  2023   \n",
       "4382                                  Neuquén  mercadolibre         0  2022   \n",
       "11042                        CAPITAN BERMUDEZ      megatone         0  2023   \n",
       "4909                                    Allen  mercadolibre         0  2023   \n",
       "3444                                Bariloche  mercadolibre         0  2022   \n",
       "\n",
       "       MES    EVENTO  \n",
       "9093     9  Estandar  \n",
       "2158    12  Estandar  \n",
       "4809     3  Estandar  \n",
       "2955     6  Estandar  \n",
       "5880     5  Hot Sale  \n",
       "6123     5  Hot Sale  \n",
       "4382    12  Estandar  \n",
       "11042   10  Estandar  \n",
       "4909     4  Estandar  \n",
       "3444     9  Estandar  "
      ]
     },
     "execution_count": 47,
     "metadata": {},
     "output_type": "execute_result"
    }
   ],
   "source": [
    "sales.sample(10)"
   ]
  },
  {
   "cell_type": "code",
   "execution_count": 48,
   "id": "5b798a34-ff75-4622-8495-2d132eec42fe",
   "metadata": {},
   "outputs": [
    {
     "data": {
      "text/plain": [
       "(11088, 11)"
      ]
     },
     "execution_count": 48,
     "metadata": {},
     "output_type": "execute_result"
    }
   ],
   "source": [
    "sales.shape"
   ]
  },
  {
   "cell_type": "code",
   "execution_count": 49,
   "id": "79e0ab3d-b7d0-4e54-a0d1-669303b1963a",
   "metadata": {},
   "outputs": [],
   "source": [
    "# Crear un DataFrame con todas las combinaciones posibles de AÑO, MES y COD. PRODUCTO\n",
    "# Primero obtenemos todos los valores únicos de 'AÑO', 'MES', y 'COD. PRODUCTO'\n",
    "años = sales['AÑO'].unique()\n",
    "meses = sales['MES'].unique()\n",
    "cod_productos_unicos = sales['COD. PRODUCTO'].unique()\n",
    "\n",
    "# Crear todas las combinaciones posibles (todos los productos por cada año y mes)\n",
    "combinaciones = pd.MultiIndex.from_product([años, meses, cod_productos_unicos], names=['AÑO', 'MES', 'COD. PRODUCTO'])\n",
    "\n",
    "# Crear un DataFrame con estas combinaciones\n",
    "combinaciones_df = pd.DataFrame(index=combinaciones).reset_index()\n",
    "\n",
    "# Agrupar el dataset original para obtener las ventas totales\n",
    "sales_grouped = sales.groupby(['AÑO', 'MES', 'COD. PRODUCTO'], as_index=False).agg(\n",
    "    CANTIDAD_TOTAL=('CANTIDAD', 'sum'),\n",
    "    PRODUCTO=('PRODUCTO', 'first'),\n",
    "    EVENTO=('EVENTO', 'first')\n",
    ")\n",
    "\n",
    "# Merge con las combinaciones para obtener el valor 0 para los productos no vendidos\n",
    "sales_final = pd.merge(combinaciones_df, sales_grouped, on=['AÑO', 'MES', 'COD. PRODUCTO'], how='left')\n",
    "\n",
    "sales_final['CANTIDAD_TOTAL'] = sales_final['CANTIDAD_TOTAL'].fillna(0)\n",
    "# Merge con las combinaciones para obtener el valor 0 para los productos no vendidos\n",
    "sales_final = pd.merge(combinaciones_df, sales_grouped, on=['AÑO', 'MES', 'COD. PRODUCTO'], how='left')"
   ]
  },
  {
   "cell_type": "code",
   "execution_count": 50,
   "id": "2d16267b-68bb-4dcd-94e2-99d7bcb847a6",
   "metadata": {},
   "outputs": [
    {
     "data": {
      "text/html": [
       "<div>\n",
       "<style scoped>\n",
       "    .dataframe tbody tr th:only-of-type {\n",
       "        vertical-align: middle;\n",
       "    }\n",
       "\n",
       "    .dataframe tbody tr th {\n",
       "        vertical-align: top;\n",
       "    }\n",
       "\n",
       "    .dataframe thead th {\n",
       "        text-align: right;\n",
       "    }\n",
       "</style>\n",
       "<table border=\"1\" class=\"dataframe\">\n",
       "  <thead>\n",
       "    <tr style=\"text-align: right;\">\n",
       "      <th></th>\n",
       "      <th>AÑO</th>\n",
       "      <th>MES</th>\n",
       "      <th>COD. PRODUCTO</th>\n",
       "      <th>CANTIDAD_TOTAL</th>\n",
       "      <th>PRODUCTO</th>\n",
       "      <th>EVENTO</th>\n",
       "    </tr>\n",
       "  </thead>\n",
       "  <tbody>\n",
       "    <tr>\n",
       "      <th>4194</th>\n",
       "      <td>2023</td>\n",
       "      <td>8</td>\n",
       "      <td>1-12-24-002</td>\n",
       "      <td>NaN</td>\n",
       "      <td>NaN</td>\n",
       "      <td>NaN</td>\n",
       "    </tr>\n",
       "    <tr>\n",
       "      <th>89</th>\n",
       "      <td>2002</td>\n",
       "      <td>10</td>\n",
       "      <td>1-14-60-004</td>\n",
       "      <td>NaN</td>\n",
       "      <td>NaN</td>\n",
       "      <td>NaN</td>\n",
       "    </tr>\n",
       "    <tr>\n",
       "      <th>3564</th>\n",
       "      <td>2023</td>\n",
       "      <td>10</td>\n",
       "      <td>1-11-06-005</td>\n",
       "      <td>NaN</td>\n",
       "      <td>NaN</td>\n",
       "      <td>NaN</td>\n",
       "    </tr>\n",
       "    <tr>\n",
       "      <th>1282</th>\n",
       "      <td>2021</td>\n",
       "      <td>12</td>\n",
       "      <td>1-10-05-001</td>\n",
       "      <td>0.0</td>\n",
       "      <td>ALMOHADAS L.VISCOÉLASTICA 70CM</td>\n",
       "      <td>Estandar</td>\n",
       "    </tr>\n",
       "    <tr>\n",
       "      <th>670</th>\n",
       "      <td>2002</td>\n",
       "      <td>8</td>\n",
       "      <td>1-22-01-007</td>\n",
       "      <td>NaN</td>\n",
       "      <td>NaN</td>\n",
       "      <td>NaN</td>\n",
       "    </tr>\n",
       "    <tr>\n",
       "      <th>1109</th>\n",
       "      <td>2002</td>\n",
       "      <td>3</td>\n",
       "      <td>1-10-02-002</td>\n",
       "      <td>NaN</td>\n",
       "      <td>NaN</td>\n",
       "      <td>NaN</td>\n",
       "    </tr>\n",
       "    <tr>\n",
       "      <th>2314</th>\n",
       "      <td>2021</td>\n",
       "      <td>3</td>\n",
       "      <td>1-11-12-018</td>\n",
       "      <td>NaN</td>\n",
       "      <td>NaN</td>\n",
       "      <td>NaN</td>\n",
       "    </tr>\n",
       "    <tr>\n",
       "      <th>196</th>\n",
       "      <td>2002</td>\n",
       "      <td>4</td>\n",
       "      <td>1-12-40-006</td>\n",
       "      <td>NaN</td>\n",
       "      <td>NaN</td>\n",
       "      <td>NaN</td>\n",
       "    </tr>\n",
       "    <tr>\n",
       "      <th>3519</th>\n",
       "      <td>2022</td>\n",
       "      <td>3</td>\n",
       "      <td>1-14-60-004</td>\n",
       "      <td>NaN</td>\n",
       "      <td>NaN</td>\n",
       "      <td>NaN</td>\n",
       "    </tr>\n",
       "    <tr>\n",
       "      <th>5663</th>\n",
       "      <td>2024</td>\n",
       "      <td>1</td>\n",
       "      <td>1-11-10-017</td>\n",
       "      <td>NaN</td>\n",
       "      <td>NaN</td>\n",
       "      <td>NaN</td>\n",
       "    </tr>\n",
       "    <tr>\n",
       "      <th>2406</th>\n",
       "      <td>2022</td>\n",
       "      <td>10</td>\n",
       "      <td>1-15-27-018</td>\n",
       "      <td>NaN</td>\n",
       "      <td>NaN</td>\n",
       "      <td>NaN</td>\n",
       "    </tr>\n",
       "    <tr>\n",
       "      <th>5142</th>\n",
       "      <td>2024</td>\n",
       "      <td>6</td>\n",
       "      <td>1-12-37-002</td>\n",
       "      <td>NaN</td>\n",
       "      <td>NaN</td>\n",
       "      <td>NaN</td>\n",
       "    </tr>\n",
       "    <tr>\n",
       "      <th>557</th>\n",
       "      <td>2002</td>\n",
       "      <td>7</td>\n",
       "      <td>1-13-32-006</td>\n",
       "      <td>NaN</td>\n",
       "      <td>NaN</td>\n",
       "      <td>NaN</td>\n",
       "    </tr>\n",
       "    <tr>\n",
       "      <th>5500</th>\n",
       "      <td>2024</td>\n",
       "      <td>11</td>\n",
       "      <td>1-12-40-004</td>\n",
       "      <td>NaN</td>\n",
       "      <td>NaN</td>\n",
       "      <td>NaN</td>\n",
       "    </tr>\n",
       "    <tr>\n",
       "      <th>554</th>\n",
       "      <td>2002</td>\n",
       "      <td>7</td>\n",
       "      <td>1-11-07-006</td>\n",
       "      <td>NaN</td>\n",
       "      <td>NaN</td>\n",
       "      <td>NaN</td>\n",
       "    </tr>\n",
       "  </tbody>\n",
       "</table>\n",
       "</div>"
      ],
      "text/plain": [
       "       AÑO  MES COD. PRODUCTO  CANTIDAD_TOTAL                        PRODUCTO  \\\n",
       "4194  2023    8   1-12-24-002             NaN                             NaN   \n",
       "89    2002   10   1-14-60-004             NaN                             NaN   \n",
       "3564  2023   10   1-11-06-005             NaN                             NaN   \n",
       "1282  2021   12   1-10-05-001             0.0  ALMOHADAS L.VISCOÉLASTICA 70CM   \n",
       "670   2002    8   1-22-01-007             NaN                             NaN   \n",
       "1109  2002    3   1-10-02-002             NaN                             NaN   \n",
       "2314  2021    3   1-11-12-018             NaN                             NaN   \n",
       "196   2002    4   1-12-40-006             NaN                             NaN   \n",
       "3519  2022    3   1-14-60-004             NaN                             NaN   \n",
       "5663  2024    1   1-11-10-017             NaN                             NaN   \n",
       "2406  2022   10   1-15-27-018             NaN                             NaN   \n",
       "5142  2024    6   1-12-37-002             NaN                             NaN   \n",
       "557   2002    7   1-13-32-006             NaN                             NaN   \n",
       "5500  2024   11   1-12-40-004             NaN                             NaN   \n",
       "554   2002    7   1-11-07-006             NaN                             NaN   \n",
       "\n",
       "        EVENTO  \n",
       "4194       NaN  \n",
       "89         NaN  \n",
       "3564       NaN  \n",
       "1282  Estandar  \n",
       "670        NaN  \n",
       "1109       NaN  \n",
       "2314       NaN  \n",
       "196        NaN  \n",
       "3519       NaN  \n",
       "5663       NaN  \n",
       "2406       NaN  \n",
       "5142       NaN  \n",
       "557        NaN  \n",
       "5500       NaN  \n",
       "554        NaN  "
      ]
     },
     "execution_count": 50,
     "metadata": {},
     "output_type": "execute_result"
    }
   ],
   "source": [
    "sales_final.sample(15)"
   ]
  },
  {
   "cell_type": "code",
   "execution_count": 51,
   "id": "64bff967-3aa9-461c-97d6-d88c3a085b68",
   "metadata": {},
   "outputs": [],
   "source": [
    "sales_final['EVENTO'] = sales_final['MES'].apply(\n",
    "    lambda x: 'Hot Sale' if x == 5 else ('CyberMonday' if x == 11 else 'Estandar')\n",
    ")\n",
    "\n",
    "sales_final['CANTIDAD_TOTAL'] = sales_final['CANTIDAD_TOTAL'].apply(\n",
    "    lambda x: 0 if pd.isna(x) else x\n",
    ")\n",
    "sales_rename = sales[['COD. PRODUCTO', 'PRODUCTO']].rename(columns={'PRODUCTO': 'DESC_PRODUCTO'})\n",
    "# Realizar el merge sin crear columnas duplicadas\n",
    "sales_final = pd.merge(sales_final, sales_rename, on='COD. PRODUCTO', how='left')\n",
    "\n"
   ]
  },
  {
   "cell_type": "code",
   "execution_count": 52,
   "id": "32027e73-795f-4d25-af13-009a630cfb9b",
   "metadata": {},
   "outputs": [
    {
     "data": {
      "text/html": [
       "<div>\n",
       "<style scoped>\n",
       "    .dataframe tbody tr th:only-of-type {\n",
       "        vertical-align: middle;\n",
       "    }\n",
       "\n",
       "    .dataframe tbody tr th {\n",
       "        vertical-align: top;\n",
       "    }\n",
       "\n",
       "    .dataframe thead th {\n",
       "        text-align: right;\n",
       "    }\n",
       "</style>\n",
       "<table border=\"1\" class=\"dataframe\">\n",
       "  <thead>\n",
       "    <tr style=\"text-align: right;\">\n",
       "      <th></th>\n",
       "      <th>AÑO</th>\n",
       "      <th>MES</th>\n",
       "      <th>COD. PRODUCTO</th>\n",
       "      <th>CANTIDAD_TOTAL</th>\n",
       "      <th>PRODUCTO</th>\n",
       "      <th>EVENTO</th>\n",
       "      <th>DESC_PRODUCTO</th>\n",
       "    </tr>\n",
       "  </thead>\n",
       "  <tbody>\n",
       "    <tr>\n",
       "      <th>571678</th>\n",
       "      <td>2024</td>\n",
       "      <td>5</td>\n",
       "      <td>1-14-15-002</td>\n",
       "      <td>0.0</td>\n",
       "      <td>NaN</td>\n",
       "      <td>Hot Sale</td>\n",
       "      <td>CONJUNTO L. DALI TRADICIONAL 80CMX190CM</td>\n",
       "    </tr>\n",
       "    <tr>\n",
       "      <th>198432</th>\n",
       "      <td>2021</td>\n",
       "      <td>7</td>\n",
       "      <td>1-15-40-004</td>\n",
       "      <td>0.0</td>\n",
       "      <td>NaN</td>\n",
       "      <td>Estandar</td>\n",
       "      <td>CONJUNTO L. ROMA TRADICIONAL 100CMX190CM</td>\n",
       "    </tr>\n",
       "    <tr>\n",
       "      <th>411912</th>\n",
       "      <td>2023</td>\n",
       "      <td>12</td>\n",
       "      <td>1-10-05-001</td>\n",
       "      <td>0.0</td>\n",
       "      <td>NaN</td>\n",
       "      <td>Estandar</td>\n",
       "      <td>ALMOHADAS L.VISCOÉLASTICA 70CM</td>\n",
       "    </tr>\n",
       "    <tr>\n",
       "      <th>611528</th>\n",
       "      <td>2024</td>\n",
       "      <td>9</td>\n",
       "      <td>1-10-05-001</td>\n",
       "      <td>0.0</td>\n",
       "      <td>NaN</td>\n",
       "      <td>Estandar</td>\n",
       "      <td>ALMOHADAS L.VISCOÉLASTICA 70CM</td>\n",
       "    </tr>\n",
       "    <tr>\n",
       "      <th>144159</th>\n",
       "      <td>2021</td>\n",
       "      <td>12</td>\n",
       "      <td>1-12-40-006</td>\n",
       "      <td>0.0</td>\n",
       "      <td>COLCHÓN L. ROMA TRADICIONAL 140CMX190CM</td>\n",
       "      <td>Estandar</td>\n",
       "      <td>COLCHÓN L. ROMA TRADICIONAL 140CMX190CM</td>\n",
       "    </tr>\n",
       "    <tr>\n",
       "      <th>610345</th>\n",
       "      <td>2024</td>\n",
       "      <td>9</td>\n",
       "      <td>1-12-40-006</td>\n",
       "      <td>0.0</td>\n",
       "      <td>NaN</td>\n",
       "      <td>Estandar</td>\n",
       "      <td>COLCHÓN L. ROMA TRADICIONAL 140CMX190CM</td>\n",
       "    </tr>\n",
       "    <tr>\n",
       "      <th>654921</th>\n",
       "      <td>2024</td>\n",
       "      <td>3</td>\n",
       "      <td>1-12-40-003</td>\n",
       "      <td>0.0</td>\n",
       "      <td>NaN</td>\n",
       "      <td>Estandar</td>\n",
       "      <td>COLCHÓN L. ROMA TRADICIONAL 90CMX190CM</td>\n",
       "    </tr>\n",
       "    <tr>\n",
       "      <th>84086</th>\n",
       "      <td>2002</td>\n",
       "      <td>9</td>\n",
       "      <td>1-14-11-006</td>\n",
       "      <td>0.0</td>\n",
       "      <td>NaN</td>\n",
       "      <td>Estandar</td>\n",
       "      <td>CONJUNTO L. ATENAS TRADICIONAL 140CMX190CM</td>\n",
       "    </tr>\n",
       "    <tr>\n",
       "      <th>22223</th>\n",
       "      <td>2002</td>\n",
       "      <td>4</td>\n",
       "      <td>1-12-40-006</td>\n",
       "      <td>0.0</td>\n",
       "      <td>NaN</td>\n",
       "      <td>Estandar</td>\n",
       "      <td>COLCHÓN L. ROMA TRADICIONAL 140CMX190CM</td>\n",
       "    </tr>\n",
       "    <tr>\n",
       "      <th>421471</th>\n",
       "      <td>2023</td>\n",
       "      <td>4</td>\n",
       "      <td>1-12-40-006</td>\n",
       "      <td>0.0</td>\n",
       "      <td>COLCHÓN L. ROMA TRADICIONAL 140CMX190CM</td>\n",
       "      <td>Estandar</td>\n",
       "      <td>COLCHÓN L. ROMA TRADICIONAL 140CMX190CM</td>\n",
       "    </tr>\n",
       "  </tbody>\n",
       "</table>\n",
       "</div>"
      ],
      "text/plain": [
       "         AÑO  MES COD. PRODUCTO  CANTIDAD_TOTAL  \\\n",
       "571678  2024    5   1-14-15-002             0.0   \n",
       "198432  2021    7   1-15-40-004             0.0   \n",
       "411912  2023   12   1-10-05-001             0.0   \n",
       "611528  2024    9   1-10-05-001             0.0   \n",
       "144159  2021   12   1-12-40-006             0.0   \n",
       "610345  2024    9   1-12-40-006             0.0   \n",
       "654921  2024    3   1-12-40-003             0.0   \n",
       "84086   2002    9   1-14-11-006             0.0   \n",
       "22223   2002    4   1-12-40-006             0.0   \n",
       "421471  2023    4   1-12-40-006             0.0   \n",
       "\n",
       "                                       PRODUCTO    EVENTO  \\\n",
       "571678                                      NaN  Hot Sale   \n",
       "198432                                      NaN  Estandar   \n",
       "411912                                      NaN  Estandar   \n",
       "611528                                      NaN  Estandar   \n",
       "144159  COLCHÓN L. ROMA TRADICIONAL 140CMX190CM  Estandar   \n",
       "610345                                      NaN  Estandar   \n",
       "654921                                      NaN  Estandar   \n",
       "84086                                       NaN  Estandar   \n",
       "22223                                       NaN  Estandar   \n",
       "421471  COLCHÓN L. ROMA TRADICIONAL 140CMX190CM  Estandar   \n",
       "\n",
       "                                     DESC_PRODUCTO  \n",
       "571678     CONJUNTO L. DALI TRADICIONAL 80CMX190CM  \n",
       "198432    CONJUNTO L. ROMA TRADICIONAL 100CMX190CM  \n",
       "411912              ALMOHADAS L.VISCOÉLASTICA 70CM  \n",
       "611528              ALMOHADAS L.VISCOÉLASTICA 70CM  \n",
       "144159     COLCHÓN L. ROMA TRADICIONAL 140CMX190CM  \n",
       "610345     COLCHÓN L. ROMA TRADICIONAL 140CMX190CM  \n",
       "654921      COLCHÓN L. ROMA TRADICIONAL 90CMX190CM  \n",
       "84086   CONJUNTO L. ATENAS TRADICIONAL 140CMX190CM  \n",
       "22223      COLCHÓN L. ROMA TRADICIONAL 140CMX190CM  \n",
       "421471     COLCHÓN L. ROMA TRADICIONAL 140CMX190CM  "
      ]
     },
     "execution_count": 52,
     "metadata": {},
     "output_type": "execute_result"
    }
   ],
   "source": [
    "sales_final.sample(10)"
   ]
  },
  {
   "cell_type": "markdown",
   "id": "855dc68d-8e26-4c44-8075-5bce2de50034",
   "metadata": {},
   "source": [
    "### Tendencias de mi nuevo data set"
   ]
  },
  {
   "cell_type": "markdown",
   "id": "7041a683-4a96-4284-874d-20209ae9061d",
   "metadata": {},
   "source": [
    "#### Evolución de ventas mensuales generales. Se grafica la evolución de las ventas totales en todos los productos. "
   ]
  },
  {
   "cell_type": "code",
   "execution_count": 53,
   "id": "cb7a9ac2-96c6-4bd4-a4c5-3a419517004d",
   "metadata": {},
   "outputs": [
    {
     "data": {
      "image/png": "[encoded data removed]",
      "text/plain": [
       "<Figure size 1400x800 with 1 Axes>"
      ]
     },
     "metadata": {},
     "output_type": "display_data"
    }
   ],
   "source": [
    "top_productos = sales_final.groupby(\"COD. PRODUCTO\")[\"CANTIDAD_TOTAL\"].sum().nlargest(10).index\n",
    "ventas_top_productos = sales_final[sales_final[\"COD. PRODUCTO\"].isin(top_productos)]\n",
    "\n",
    "# Obtengo el nombre del producto correspondiente a cada código\n",
    "mapa_productos = ventas_top_productos[['COD. PRODUCTO', 'PRODUCTO']].drop_duplicates().set_index('COD. PRODUCTO')['PRODUCTO'].to_dict()\n",
    "ventas_top_productos.loc[:, 'PRODUCTO'] = ventas_top_productos['COD. PRODUCTO'].map(mapa_productos)\n",
    "\n",
    "# Agrupo sumando ventas totales por mes y ordeno los productos por cantidad total de ventas\n",
    "ventas_top_productos = ventas_top_productos.groupby(['MES', 'PRODUCTO'])['CANTIDAD_TOTAL'].sum().reset_index()\n",
    "total_ventas_por_producto = ventas_top_productos.groupby(\"PRODUCTO\")[\"CANTIDAD_TOTAL\"].sum().sort_values(ascending=False)\n",
    "productos_ordenados = total_ventas_por_producto.index\n",
    "\n",
    "plt.figure(figsize=(14,8))\n",
    "sns.lineplot(data=ventas_top_productos, x=\"MES\", y=\"CANTIDAD_TOTAL\", hue=\"PRODUCTO\", marker=\"o\", palette=\"tab10\", hue_order=productos_ordenados)\n",
    "\n",
    "handles, labels = plt.gca().get_legend_handles_labels()\n",
    "nuevas_labels = [f\"{prod} ({int(total_ventas_por_producto[prod])} unidades)\" for prod in labels]\n",
    "plt.legend(handles, nuevas_labels, title=\"Producto (Total Vendido)\", fontsize=10, title_fontsize=12)\n",
    "\n",
    "# etiquetas\n",
    "plt.title(\"Evolución de Ventas Mensuales - Top 10 Productos (Suma de Todos los Años)\", fontsize=14)\n",
    "plt.xlabel(\"Mes\", fontsize=12)\n",
    "plt.ylabel(\"Cantidad Total Vendida\", fontsize=12)\n",
    "plt.xticks(range(1,13), ['Ene', 'Feb', 'Mar', 'Abr', 'May', 'Jun', 'Jul', 'Ago', 'Sep', 'Oct', 'Nov', 'Dic'])\n",
    "plt.grid()\n",
    "\n",
    "plt.show()"
   ]
  },
  {
   "cell_type": "markdown",
   "id": "c68673f7-2e34-4566-a2f9-eb42a3538fd9",
   "metadata": {},
   "source": [
    "## Matriz de correlación"
   ]
  },
  {
   "cell_type": "code",
   "execution_count": 54,
   "id": "2b1d3aa3-6727-4c0f-8c4b-07061c3d0c5e",
   "metadata": {},
   "outputs": [],
   "source": [
    "#Preparo el dataset para realizar la matriz de correlación\n",
    "#sales_final = pd.get_dummies(sales_final, columns=['PLATAFORMA', 'EVENTO'], drop_first=False)\n",
    "#sales.columns = sales.columns.str.replace('PLATAFORMA_', '').str.replace('EVENTO_', '')\n",
    "\n",
    "# Convertir todas las columnas booleanas a enteros (1 para True, 0 para False)\n",
    "#sales[['ecommerce', 'fravega', 'megatone', 'mercadolibre', 'CyberMonday', 'Estandar', 'Hot Sale']] = \\\n",
    "#sales[['ecommerce', 'fravega', 'megatone', 'mercadolibre', 'CyberMonday', 'Estandar', 'Hot Sale']].astype(int)\n",
    "\n",
    "\n"
   ]
  },
  {
   "cell_type": "code",
   "execution_count": 55,
   "id": "e550c550-ecb9-4cf4-846d-bc38c62e38b0",
   "metadata": {},
   "outputs": [
    {
     "data": {
      "image/png": "[encoded data removed]",
      "text/plain": [
       "<Figure size 1000x1000 with 2 Axes>"
      ]
     },
     "metadata": {},
     "output_type": "display_data"
    }
   ],
   "source": [
    "# Seleccionamos las variables numéricas (esto incluye las nuevas columnas de One Hot Encoding)\n",
    "variables_numericas_ampliadas = sales.select_dtypes(include=['float64', 'int64'])\n",
    "\n",
    "correlacion_ampliada = variables_numericas_ampliadas.corr()\n",
    "\n",
    "plt.figure(figsize=(10, 10))\n",
    "sns.heatmap(correlacion_ampliada, annot=True, cmap='coolwarm', fmt='.2f', linewidths=0.5, vmin=-1, vmax=1)\n",
    "\n",
    "# Agregar título y etiquetas\n",
    "plt.title(\"Matriz de Correlación\", fontsize=12)\n",
    "plt.show()\n",
    "\n",
    "\n"
   ]
  },
  {
   "cell_type": "markdown",
   "id": "de277e1c-05da-433b-be1b-fe8640d774f4",
   "metadata": {},
   "source": [
    "Podemos observar que: \n",
    "\n",
    "CANTIDAD_TOTAL:\n",
    "- No parece haber una relación significativa entre la cantidad vendida y el descuento promedio aplicado, lo cual es interesante. Esto podría sugerir que el descuento no es un factor determinante para el volumen de ventas, o bien que otras variables más relevantes influyen en las ventas.\n",
    "- La CANTIDAD_TOTAL está levemente correlacionada con las plataformas. Esto podría indicar que ciertas plataformas (como ecommerce y mercadolibre) podrían tener una mayor cantidad de ventas.\n",
    "\n",
    "DTO_PROMEDIO:\n",
    "- Hay una pequeña correlación positiva (0.29) entre el descuento promedio y megatone, lo que sugiere que cuando los productos de megatone tienen mayores descuentos, las ventas aumentan, aunque no sea una relación muy fuerte.\n",
    "- Hay una relación negativa bastante fuerte (-0.68) entre el descuento promedio y mercadolibre. Esto podría implicar que cuando los descuentos en mercadolibre son mayores, las ventas no aumentan de manera tan significativa, o los productos con mayores descuentos pueden tener menos demanda en esta plataforma.\n",
    "  \n",
    "Plataformas (ecommerce, fravega, megatone, mercadolibre):\n",
    "\n",
    "- Megatone podría estar más orientado a una plataforma distinta, mientras que mercadolibre y ecommerce tienen una relación diferente.\n",
    "- Fravega tiene una correlación muy baja con las demás variables (casi todos valores están cerca de 0), lo que sugiere que las ventas en fravega no están muy relacionadas con las demás plataformas.\n",
    "  \n",
    "Eventos (CyberMonday, Hot Sale, Estandar):\n",
    "\n",
    "- CyberMonday y Hot Sale pueden tener un efecto muy particular sobre el comportamiento de las ventas, posiblemente en diferentes plataformas, con menos efecto sobre otras.\n",
    "- Ventas en épocas que no sean eventos también muestra una correlación negativa significativa con CANTIDAD_TOTAL, lo que sugiere que durante los meses \"normales\", las ventas son más bajas que durante eventos como Hot Sale o CyberMonday\n"
   ]
  },
  {
   "cell_type": "markdown",
   "id": "17eab0e1-e059-4ff2-8290-71c138c2211b",
   "metadata": {},
   "source": [
    "# Hipótesis sobre los datos"
   ]
  },
  {
   "cell_type": "markdown",
   "id": "7e347df2-03aa-4fea-9072-fb71e6ed0e01",
   "metadata": {},
   "source": [
    "## Hipotesis 1: \n",
    "\n",
    "#### Comparación de ventas promedio en meses normales vs. eventos"
   ]
  },
  {
   "cell_type": "code",
   "execution_count": 56,
   "id": "f211797b-14d1-42b7-8529-df9ef2dfa35d",
   "metadata": {},
   "outputs": [
    {
     "data": {
      "text/html": [
       "<div>\n",
       "<style scoped>\n",
       "    .dataframe tbody tr th:only-of-type {\n",
       "        vertical-align: middle;\n",
       "    }\n",
       "\n",
       "    .dataframe tbody tr th {\n",
       "        vertical-align: top;\n",
       "    }\n",
       "\n",
       "    .dataframe thead th {\n",
       "        text-align: right;\n",
       "    }\n",
       "</style>\n",
       "<table border=\"1\" class=\"dataframe\">\n",
       "  <thead>\n",
       "    <tr style=\"text-align: right;\">\n",
       "      <th></th>\n",
       "      <th>TIPO_MES</th>\n",
       "      <th>CANTIDAD_TOTAL</th>\n",
       "    </tr>\n",
       "  </thead>\n",
       "  <tbody>\n",
       "    <tr>\n",
       "      <th>0</th>\n",
       "      <td>CyberMonday</td>\n",
       "      <td>2.690494</td>\n",
       "    </tr>\n",
       "    <tr>\n",
       "      <th>1</th>\n",
       "      <td>Hot Sale</td>\n",
       "      <td>7.416414</td>\n",
       "    </tr>\n",
       "    <tr>\n",
       "      <th>2</th>\n",
       "      <td>Mes Normal</td>\n",
       "      <td>1.991079</td>\n",
       "    </tr>\n",
       "  </tbody>\n",
       "</table>\n",
       "</div>"
      ],
      "text/plain": [
       "      TIPO_MES  CANTIDAD_TOTAL\n",
       "0  CyberMonday        2.690494\n",
       "1     Hot Sale        7.416414\n",
       "2   Mes Normal        1.991079"
      ]
     },
     "metadata": {},
     "output_type": "display_data"
    }
   ],
   "source": [
    "ventas_por_evento = sales_final.assign(\n",
    "    TIPO_MES = sales_final['MES'].apply(\n",
    "        lambda x: 'Hot Sale' if x == 5 else ('CyberMonday' if x == 11 else 'Mes Normal')\n",
    "    )\n",
    ")\n",
    "\n",
    "ventas_por_evento = ventas_por_evento.groupby(\"TIPO_MES\")[\"CANTIDAD_TOTAL\"].mean().reset_index()\n",
    "\n",
    "from IPython.display import display\n",
    "display(ventas_por_evento)\n"
   ]
  },
  {
   "cell_type": "markdown",
   "id": "d49caab3-13e9-486a-80ac-9a84f83b9dd9",
   "metadata": {},
   "source": [
    "##### Los meses con Hot Sale y CyberMonday tienen ventas superiores a los meses normales.\n",
    "\n",
    "* En meses normales, se venden en promedio 33.5 unidades de un producto por mes.\n",
    "* Durante CyberMonday, este número aumenta a 54.82.\n",
    "* En Hot Sale, la cantidad promedio sube aún más a 102.17.\n",
    "  \n",
    "##### Hot Sale parece generar un mayor impacto en las ventas que CyberMonday.\n",
    "\n",
    "* El aumento en Hot Sale es mayor que en CyberMonday.\n",
    "* Esto podría deberse a que mayo (Hot Sale) tiene más días promocionales, o a que hay una mayor demanda en ese momento del año\n",
    "\n",
    "##### Calculamos el porcentaje de aumento en ventas en estos eventos:\n",
    "\n",
    "* Hot Sale vs. Mes Normal: Hubo un aumento del 204.99% en las ventas durante Hot Sale en comparación con los meses normales.\n",
    "\n",
    "* CyberMonday vs. Mes Normal: Hubo un aumento del 63.64% en las ventas durante CyberMonday en comparación con los meses normales.\n",
    "\n",
    "#### Conclusión\n",
    "✔ Confirmamos la hipótesis: Hot Sale y CyberMonday aumentan significativamente las ventas.\n",
    "\n",
    "✔ El impacto es mayor en Hot Sale (≈ 204.99% más ventas), que en CyberMonday (≈ 63.64% más ventas)."
   ]
  },
  {
   "cell_type": "markdown",
   "id": "dbf6596d-2db9-4c43-8044-6a59168fd4b4",
   "metadata": {},
   "source": [
    "# Modelado"
   ]
  },
  {
   "cell_type": "markdown",
   "id": "b5d25bbd-0f7e-4297-b30f-73eefe6dc23f",
   "metadata": {},
   "source": [
    "### Elección de la métrica de performance a utilizar para evaluar los modelos y fundamentación."
   ]
  },
  {
   "cell_type": "markdown",
   "id": "5ee5934d-2605-4d15-acdb-00757fd6acb7",
   "metadata": {},
   "source": [
    "Dado que se está trabajando en un modelo de regresión para predecir la cantidad de productos vendidos, la métrica elegida debe reflejar qué tan bien el modelo está prediciendo valores continuos. Para ello, se utilizará la **Raíz del Error Cuadrático Medio (RMSE - Root Mean Squared Error)**.\n",
    "\n",
    "Se ha optado por esta métrica porque proporciona una medida clara y directa de la diferencia promedio entre las predicciones y los valores reales, lo cual es crucial en problemas de predicción de ventas. La principal ventaja del RMSE sobre el MSE es que se calcula tomando la raíz cuadrada del MSE, lo que resulta en una métrica que tiene las mismas unidades que la variable objetivo (es decir, la cantidad de productos vendidos). Esto hace que el RMSE sea más interpretable en el contexto del negocio.\n",
    "\n",
    "Por otro lado, el MSE tiende a dar valores más grandes debido al efecto cuadrático de las diferencias, lo que puede resultar en una penalización exagerada de los errores grandes. Al tomar la raíz cuadrada, el RMSE proporciona una medida que mantiene la escala de los datos, facilitando la comprensión de su impacto en las predicciones de ventas."
   ]
  },
  {
   "cell_type": "markdown",
   "id": "bea5b5e8-dcdc-48d9-bd1a-423648bdd618",
   "metadata": {},
   "source": [
    "### Próximo paso será entrenar y evaluar diversos algoritmos, realizando una exploración de hiperparámetros mediante una búsqueda en cuadrícula (grid search). Posteriormente, se evaluará el comportamiento de cada modelo utilizando los hiperparámetros que den los mejores resultados, proporcionando conclusiones sobre la comparación entre ellos."
   ]
  },
  {
   "cell_type": "code",
   "execution_count": 57,
   "id": "ddaa90f4-5380-4904-aa0a-5a46f54a0a5e",
   "metadata": {},
   "outputs": [],
   "source": [
    "#Elimino los dos registros outliers con data (seguramente mal cargada) del 2002\n",
    "sales_final = sales_final[sales_final['AÑO'] != 2002]\n",
    "sales_final = sales_final.drop(columns=[ \"PRODUCTO\"])"
   ]
  },
  {
   "cell_type": "code",
   "execution_count": 58,
   "id": "6fcd5da2-bebb-4195-b551-241560c915b9",
   "metadata": {},
   "outputs": [
    {
     "data": {
      "text/html": [
       "<div>\n",
       "<style scoped>\n",
       "    .dataframe tbody tr th:only-of-type {\n",
       "        vertical-align: middle;\n",
       "    }\n",
       "\n",
       "    .dataframe tbody tr th {\n",
       "        vertical-align: top;\n",
       "    }\n",
       "\n",
       "    .dataframe thead th {\n",
       "        text-align: right;\n",
       "    }\n",
       "</style>\n",
       "<table border=\"1\" class=\"dataframe\">\n",
       "  <thead>\n",
       "    <tr style=\"text-align: right;\">\n",
       "      <th></th>\n",
       "      <th>AÑO</th>\n",
       "      <th>MES</th>\n",
       "      <th>COD. PRODUCTO</th>\n",
       "      <th>CANTIDAD_TOTAL</th>\n",
       "      <th>EVENTO</th>\n",
       "      <th>DESC_PRODUCTO</th>\n",
       "      <th>FECHA_COMPRA</th>\n",
       "    </tr>\n",
       "  </thead>\n",
       "  <tbody>\n",
       "    <tr>\n",
       "      <th>232848</th>\n",
       "      <td>2021</td>\n",
       "      <td>1</td>\n",
       "      <td>1-12-40-006</td>\n",
       "      <td>0.0</td>\n",
       "      <td>Estandar</td>\n",
       "      <td>COLCHÓN L. ROMA TRADICIONAL 140CMX190CM</td>\n",
       "      <td>01-01-2021</td>\n",
       "    </tr>\n",
       "    <tr>\n",
       "      <th>236548</th>\n",
       "      <td>2021</td>\n",
       "      <td>1</td>\n",
       "      <td>1-20-20-200</td>\n",
       "      <td>0.0</td>\n",
       "      <td>Estandar</td>\n",
       "      <td>CONJUNTO L. MARBELLA TRADICIONAL 200CMX200CM</td>\n",
       "      <td>01-01-2021</td>\n",
       "    </tr>\n",
       "    <tr>\n",
       "      <th>236547</th>\n",
       "      <td>2021</td>\n",
       "      <td>1</td>\n",
       "      <td>1-20-20-200</td>\n",
       "      <td>0.0</td>\n",
       "      <td>Estandar</td>\n",
       "      <td>CONJUNTO L. MARBELLA TRADICIONAL 200CMX200CM</td>\n",
       "      <td>01-01-2021</td>\n",
       "    </tr>\n",
       "    <tr>\n",
       "      <th>236546</th>\n",
       "      <td>2021</td>\n",
       "      <td>1</td>\n",
       "      <td>1-20-20-200</td>\n",
       "      <td>0.0</td>\n",
       "      <td>Estandar</td>\n",
       "      <td>CONJUNTO L. MARBELLA TRADICIONAL 200CMX200CM</td>\n",
       "      <td>01-01-2021</td>\n",
       "    </tr>\n",
       "    <tr>\n",
       "      <th>236545</th>\n",
       "      <td>2021</td>\n",
       "      <td>1</td>\n",
       "      <td>1-20-20-200</td>\n",
       "      <td>0.0</td>\n",
       "      <td>Estandar</td>\n",
       "      <td>CONJUNTO L. MARBELLA TRADICIONAL 200CMX200CM</td>\n",
       "      <td>01-01-2021</td>\n",
       "    </tr>\n",
       "  </tbody>\n",
       "</table>\n",
       "</div>"
      ],
      "text/plain": [
       "         AÑO  MES COD. PRODUCTO  CANTIDAD_TOTAL    EVENTO  \\\n",
       "232848  2021    1   1-12-40-006             0.0  Estandar   \n",
       "236548  2021    1   1-20-20-200             0.0  Estandar   \n",
       "236547  2021    1   1-20-20-200             0.0  Estandar   \n",
       "236546  2021    1   1-20-20-200             0.0  Estandar   \n",
       "236545  2021    1   1-20-20-200             0.0  Estandar   \n",
       "\n",
       "                                       DESC_PRODUCTO FECHA_COMPRA  \n",
       "232848       COLCHÓN L. ROMA TRADICIONAL 140CMX190CM   01-01-2021  \n",
       "236548  CONJUNTO L. MARBELLA TRADICIONAL 200CMX200CM   01-01-2021  \n",
       "236547  CONJUNTO L. MARBELLA TRADICIONAL 200CMX200CM   01-01-2021  \n",
       "236546  CONJUNTO L. MARBELLA TRADICIONAL 200CMX200CM   01-01-2021  \n",
       "236545  CONJUNTO L. MARBELLA TRADICIONAL 200CMX200CM   01-01-2021  "
      ]
     },
     "execution_count": 58,
     "metadata": {},
     "output_type": "execute_result"
    }
   ],
   "source": [
    "sales_final['AÑO'] = pd.to_numeric(sales_final['AÑO'], errors='coerce')\n",
    "sales_final['MES'] = pd.to_numeric(sales_final['MES'], errors='coerce')\n",
    "\n",
    "# Creo una columna de fecha combinando AÑO, MES y un día fijo (el primer día del mes) y Formatear la fecha a DD-MM-YYYY\n",
    "sales_final['FECHA_COMPRA'] = pd.to_datetime(sales_final['AÑO'].astype(str) + '-' + sales_final['MES'].astype(str) + '-1', format='%Y-%m-%d')\n",
    "sales_final['FECHA_COMPRA'] = sales_final['FECHA_COMPRA'].dt.strftime('%d-%m-%Y')\n",
    "\n",
    "# Ordeno el dataset por la nueva columna 'FECHA_COMPRA'\n",
    "sales_final = sales_final.sort_values(by='FECHA_COMPRA', ascending=True)\n",
    "\n",
    "sales_final.head()"
   ]
  },
  {
   "cell_type": "code",
   "execution_count": 59,
   "id": "ecd848bb-8219-4624-a115-92371187d770",
   "metadata": {},
   "outputs": [
    {
     "data": {
      "text/html": [
       "<div>\n",
       "<style scoped>\n",
       "    .dataframe tbody tr th:only-of-type {\n",
       "        vertical-align: middle;\n",
       "    }\n",
       "\n",
       "    .dataframe tbody tr th {\n",
       "        vertical-align: top;\n",
       "    }\n",
       "\n",
       "    .dataframe thead th {\n",
       "        text-align: right;\n",
       "    }\n",
       "</style>\n",
       "<table border=\"1\" class=\"dataframe\">\n",
       "  <thead>\n",
       "    <tr style=\"text-align: right;\">\n",
       "      <th></th>\n",
       "      <th>AÑO</th>\n",
       "      <th>MES</th>\n",
       "      <th>COD. PRODUCTO</th>\n",
       "      <th>CANTIDAD_TOTAL</th>\n",
       "      <th>EVENTO</th>\n",
       "      <th>DESC_PRODUCTO</th>\n",
       "      <th>FECHA_COMPRA</th>\n",
       "    </tr>\n",
       "  </thead>\n",
       "  <tbody>\n",
       "    <tr>\n",
       "      <th>232848</th>\n",
       "      <td>2021</td>\n",
       "      <td>1</td>\n",
       "      <td>1-12-40-006</td>\n",
       "      <td>0.0</td>\n",
       "      <td>Estandar</td>\n",
       "      <td>COLCHÓN L. ROMA TRADICIONAL 140CMX190CM</td>\n",
       "      <td>2021-01-01</td>\n",
       "    </tr>\n",
       "    <tr>\n",
       "      <th>243930</th>\n",
       "      <td>2021</td>\n",
       "      <td>1</td>\n",
       "      <td>1-23-15-007</td>\n",
       "      <td>0.0</td>\n",
       "      <td>Estandar</td>\n",
       "      <td>CONJ DALI TRAD 140X190 + 2 ALM 70</td>\n",
       "      <td>2021-01-01</td>\n",
       "    </tr>\n",
       "    <tr>\n",
       "      <th>243929</th>\n",
       "      <td>2021</td>\n",
       "      <td>1</td>\n",
       "      <td>1-23-15-007</td>\n",
       "      <td>0.0</td>\n",
       "      <td>Estandar</td>\n",
       "      <td>CONJ DALI TRAD 140X190 + 2 ALM 70</td>\n",
       "      <td>2021-01-01</td>\n",
       "    </tr>\n",
       "    <tr>\n",
       "      <th>243928</th>\n",
       "      <td>2021</td>\n",
       "      <td>1</td>\n",
       "      <td>1-23-15-007</td>\n",
       "      <td>0.0</td>\n",
       "      <td>Estandar</td>\n",
       "      <td>CONJ DALI TRAD 140X190 + 2 ALM 70</td>\n",
       "      <td>2021-01-01</td>\n",
       "    </tr>\n",
       "    <tr>\n",
       "      <th>243927</th>\n",
       "      <td>2021</td>\n",
       "      <td>1</td>\n",
       "      <td>1-23-15-007</td>\n",
       "      <td>0.0</td>\n",
       "      <td>Estandar</td>\n",
       "      <td>CONJ DALI TRAD 140X190 + 2 ALM 70</td>\n",
       "      <td>2021-01-01</td>\n",
       "    </tr>\n",
       "    <tr>\n",
       "      <th>243895</th>\n",
       "      <td>2021</td>\n",
       "      <td>1</td>\n",
       "      <td>1-23-15-007</td>\n",
       "      <td>0.0</td>\n",
       "      <td>Estandar</td>\n",
       "      <td>CONJ DALI TRAD 140X190 + 2 ALM 70</td>\n",
       "      <td>2021-01-01</td>\n",
       "    </tr>\n",
       "    <tr>\n",
       "      <th>243926</th>\n",
       "      <td>2021</td>\n",
       "      <td>1</td>\n",
       "      <td>1-23-15-007</td>\n",
       "      <td>0.0</td>\n",
       "      <td>Estandar</td>\n",
       "      <td>CONJ DALI TRAD 140X190 + 2 ALM 70</td>\n",
       "      <td>2021-01-01</td>\n",
       "    </tr>\n",
       "    <tr>\n",
       "      <th>243924</th>\n",
       "      <td>2021</td>\n",
       "      <td>1</td>\n",
       "      <td>1-23-15-007</td>\n",
       "      <td>0.0</td>\n",
       "      <td>Estandar</td>\n",
       "      <td>CONJ DALI TRAD 140X190 + 2 ALM 70</td>\n",
       "      <td>2021-01-01</td>\n",
       "    </tr>\n",
       "    <tr>\n",
       "      <th>243923</th>\n",
       "      <td>2021</td>\n",
       "      <td>1</td>\n",
       "      <td>1-23-15-007</td>\n",
       "      <td>0.0</td>\n",
       "      <td>Estandar</td>\n",
       "      <td>CONJ DALI TRAD 140X190 + 2 ALM 70</td>\n",
       "      <td>2021-01-01</td>\n",
       "    </tr>\n",
       "    <tr>\n",
       "      <th>243922</th>\n",
       "      <td>2021</td>\n",
       "      <td>1</td>\n",
       "      <td>1-23-15-007</td>\n",
       "      <td>0.0</td>\n",
       "      <td>Estandar</td>\n",
       "      <td>CONJ DALI TRAD 140X190 + 2 ALM 70</td>\n",
       "      <td>2021-01-01</td>\n",
       "    </tr>\n",
       "  </tbody>\n",
       "</table>\n",
       "</div>"
      ],
      "text/plain": [
       "         AÑO  MES COD. PRODUCTO  CANTIDAD_TOTAL    EVENTO  \\\n",
       "232848  2021    1   1-12-40-006             0.0  Estandar   \n",
       "243930  2021    1   1-23-15-007             0.0  Estandar   \n",
       "243929  2021    1   1-23-15-007             0.0  Estandar   \n",
       "243928  2021    1   1-23-15-007             0.0  Estandar   \n",
       "243927  2021    1   1-23-15-007             0.0  Estandar   \n",
       "243895  2021    1   1-23-15-007             0.0  Estandar   \n",
       "243926  2021    1   1-23-15-007             0.0  Estandar   \n",
       "243924  2021    1   1-23-15-007             0.0  Estandar   \n",
       "243923  2021    1   1-23-15-007             0.0  Estandar   \n",
       "243922  2021    1   1-23-15-007             0.0  Estandar   \n",
       "\n",
       "                                  DESC_PRODUCTO FECHA_COMPRA  \n",
       "232848  COLCHÓN L. ROMA TRADICIONAL 140CMX190CM   2021-01-01  \n",
       "243930        CONJ DALI TRAD 140X190 + 2 ALM 70   2021-01-01  \n",
       "243929        CONJ DALI TRAD 140X190 + 2 ALM 70   2021-01-01  \n",
       "243928        CONJ DALI TRAD 140X190 + 2 ALM 70   2021-01-01  \n",
       "243927        CONJ DALI TRAD 140X190 + 2 ALM 70   2021-01-01  \n",
       "243895        CONJ DALI TRAD 140X190 + 2 ALM 70   2021-01-01  \n",
       "243926        CONJ DALI TRAD 140X190 + 2 ALM 70   2021-01-01  \n",
       "243924        CONJ DALI TRAD 140X190 + 2 ALM 70   2021-01-01  \n",
       "243923        CONJ DALI TRAD 140X190 + 2 ALM 70   2021-01-01  \n",
       "243922        CONJ DALI TRAD 140X190 + 2 ALM 70   2021-01-01  "
      ]
     },
     "execution_count": 59,
     "metadata": {},
     "output_type": "execute_result"
    }
   ],
   "source": [
    "# Asegúrate de que 'FECHA_COMPRA' esté en formato datetime\n",
    "sales_final['FECHA_COMPRA'] = pd.to_datetime(sales_final['FECHA_COMPRA'], format='%d-%m-%Y')\n",
    "\n",
    "# Ordenar por la columna 'FECHA_COMPRA'\n",
    "sales_final = sales_final.sort_values(by='FECHA_COMPRA', ascending=True)\n",
    "\n",
    "sales_final.head(10)"
   ]
  },
  {
   "cell_type": "code",
   "execution_count": 60,
   "id": "5d293d7e-aa90-4299-945d-a942ea97ec32",
   "metadata": {},
   "outputs": [
    {
     "data": {
      "text/plain": [
       "(532224, 7)"
      ]
     },
     "execution_count": 60,
     "metadata": {},
     "output_type": "execute_result"
    }
   ],
   "source": [
    "sales_final.shape"
   ]
  },
  {
   "cell_type": "code",
   "execution_count": 61,
   "id": "e44c0951-d5c1-4fe9-be02-32f5acd08f94",
   "metadata": {},
   "outputs": [],
   "source": [
    "sales_final = sales_final.drop_duplicates(subset=['AÑO', 'MES', 'COD. PRODUCTO', 'FECHA_COMPRA'])"
   ]
  },
  {
   "cell_type": "code",
   "execution_count": 62,
   "id": "7507cec6-0275-41c3-bd5b-26f836f64df8",
   "metadata": {},
   "outputs": [
    {
     "data": {
      "text/plain": [
       "(4704, 7)"
      ]
     },
     "execution_count": 62,
     "metadata": {},
     "output_type": "execute_result"
    }
   ],
   "source": [
    "sales_final.shape"
   ]
  },
  {
   "cell_type": "code",
   "execution_count": 63,
   "id": "e3f309f3-542e-4106-b866-1510401c9889",
   "metadata": {},
   "outputs": [
    {
     "data": {
      "text/plain": [
       "<bound method NDFrame.head of          AÑO  MES COD. PRODUCTO  CANTIDAD_TOTAL    EVENTO  \\\n",
       "232848  2021    1   1-12-40-006             0.0  Estandar   \n",
       "243930  2021    1   1-23-15-007             0.0  Estandar   \n",
       "243931  2021    1   1-23-16-003             0.0  Estandar   \n",
       "243933  2021    1   1-11-16-018             0.0  Estandar   \n",
       "243764  2021    1   1-14-60-003             0.0  Estandar   \n",
       "...      ...  ...           ...             ...       ...   \n",
       "544829  2024   12   1-11-06-002             0.0  Estandar   \n",
       "544742  2024   12   1-10-03-002             0.0  Estandar   \n",
       "544716  2024   12   1-10-05-002             0.0  Estandar   \n",
       "544655  2024   12   1-12-40-002             0.0  Estandar   \n",
       "544005  2024   12   1-12-40-003             0.0  Estandar   \n",
       "\n",
       "                                       DESC_PRODUCTO FECHA_COMPRA  \n",
       "232848       COLCHÓN L. ROMA TRADICIONAL 140CMX190CM   2021-01-01  \n",
       "243930             CONJ DALI TRAD 140X190 + 2 ALM 70   2021-01-01  \n",
       "243931     PROMO 2 COLCHONES L.REMBRANDT 100CMX190XM   2021-01-01  \n",
       "243933  COLCHÓN L. REMBRANDT TRADICIONAL 180CMX200CM   2021-01-01  \n",
       "243764                        CONJ GILOT TRAD 90X190   2021-01-01  \n",
       "...                                              ...          ...  \n",
       "544829    COLCHÓN L. RELAX 22 TRADICIONAL 80CMX190CM   2024-12-01  \n",
       "544742                   ALMOHADAS L.SUPER SOFT 80CM   2024-12-01  \n",
       "544716                ALMOHADAS L.VISCOÉLASTICA 80CM   2024-12-01  \n",
       "544655        COLCHÓN L. ROMA TRADICIONAL 80CMX190CM   2024-12-01  \n",
       "544005        COLCHÓN L. ROMA TRADICIONAL 90CMX190CM   2024-12-01  \n",
       "\n",
       "[4704 rows x 7 columns]>"
      ]
     },
     "execution_count": 63,
     "metadata": {},
     "output_type": "execute_result"
    }
   ],
   "source": [
    "sales_final.head"
   ]
  },
  {
   "cell_type": "code",
   "execution_count": null,
   "id": "7dcead3a-0688-4516-a94a-9af4ca83a153",
   "metadata": {},
   "outputs": [],
   "source": []
  },
  {
   "cell_type": "code",
   "execution_count": 64,
   "id": "352f5312-7c73-4e7d-8e21-d433c5be036d",
   "metadata": {},
   "outputs": [
    {
     "name": "stdout",
     "output_type": "stream",
     "text": [
      "(2822, 7) (940, 7) (942, 7)\n"
     ]
    }
   ],
   "source": [
    "\n",
    "# Dividir el dataset en train, validation y test (60%, 20%, 20%)\n",
    "train_size = int(0.6 * len(sales_final))  # El 60% del dataset\n",
    "validation_size = int(0.2 * len(sales_final))  # El 20% del dataset\n",
    "\n",
    "# Dividir el dataset\n",
    "train = sales_final[:train_size]\n",
    "validation = sales_final[train_size:train_size + validation_size]\n",
    "test = sales_final[train_size + validation_size:]\n",
    "\n",
    "# Verificar las formas de los datasets\n",
    "print(train.shape, validation.shape, test.shape)"
   ]
  },
  {
   "cell_type": "code",
   "execution_count": 65,
   "id": "87197888-9e62-4bd9-a83b-27707f8d7901",
   "metadata": {},
   "outputs": [
    {
     "name": "stdout",
     "output_type": "stream",
     "text": [
      "         AÑO  MES COD. PRODUCTO  CANTIDAD_TOTAL    EVENTO  \\\n",
      "232848  2021    1   1-12-40-006             0.0  Estandar   \n",
      "243930  2021    1   1-23-15-007             0.0  Estandar   \n",
      "243931  2021    1   1-23-16-003             0.0  Estandar   \n",
      "243933  2021    1   1-11-16-018             0.0  Estandar   \n",
      "243764  2021    1   1-14-60-003             0.0  Estandar   \n",
      "243782  2021    1   1-23-05-002             0.0  Estandar   \n",
      "243799  2021    1   1-12-37-017             0.0  Estandar   \n",
      "243791  2021    1   1-23-15-003             0.0  Estandar   \n",
      "243788  2021    1   1-15-61-002             0.0  Estandar   \n",
      "243775  2021    1   1-14-60-004             0.0  Estandar   \n",
      "\n",
      "                                       DESC_PRODUCTO FECHA_COMPRA  \n",
      "232848       COLCHÓN L. ROMA TRADICIONAL 140CMX190CM   2021-01-01  \n",
      "243930             CONJ DALI TRAD 140X190 + 2 ALM 70   2021-01-01  \n",
      "243931     PROMO 2 COLCHONES L.REMBRANDT 100CMX190XM   2021-01-01  \n",
      "243933  COLCHÓN L. REMBRANDT TRADICIONAL 180CMX200CM   2021-01-01  \n",
      "243764                        CONJ GILOT TRAD 90X190   2021-01-01  \n",
      "243782                COMBO X2 ALM. VISCOÉLASTICA 70   2021-01-01  \n",
      "243799     COLCHÓN L. VASARI TRADICIONAL 160CMX200CM   2021-01-01  \n",
      "243791          PROMO 2 COLCHONES L.DALI 100CMX190XM   2021-01-01  \n",
      "243788                        CONJ KAHLO TRAD 80X190   2021-01-01  \n",
      "243775                       CONJ GILOT TRAD 100X190   2021-01-01  \n",
      "         AÑO  MES COD. PRODUCTO  CANTIDAD_TOTAL    EVENTO  \\\n",
      "442914  2023    5   1-12-24-002             0.0  Hot Sale   \n",
      "442904  2023    5   1-11-10-017             0.0  Hot Sale   \n",
      "442879  2023    5   1-14-16-005             0.0  Hot Sale   \n",
      "442880  2023    5   1-15-25-006             0.0  Hot Sale   \n",
      "442927  2023    5   1-11-10-019             0.0  Hot Sale   \n",
      "442936  2023    5   1-12-27-019             0.0  Hot Sale   \n",
      "442944  2023    5   1-11-07-004             0.0  Hot Sale   \n",
      "442945  2023    5   1-22-01-007             0.0  Hot Sale   \n",
      "442946  2023    5   1-11-11-019             0.0  Hot Sale   \n",
      "442949  2023    5   1-12-24-004             0.0  Hot Sale   \n",
      "\n",
      "                                        DESC_PRODUCTO FECHA_COMPRA  \n",
      "442914       COLCHÓN L. GOLDEN TRADICIONAL 80CMX190CM   2023-05-01  \n",
      "442904    COLCHÓN L. PLATINUM TRADICIONAL 160CMX200CM   2023-05-01  \n",
      "442879  CONJUNTO L. REMBRANDT TRADICIONAL 130CMX190CM   2023-05-01  \n",
      "442880    CONJUNTO L. AGUAMAR TRADICIONAL 140CMX190CM   2023-05-01  \n",
      "442927    COLCHÓN L. PLATINUM TRADICIONAL 200CMX200CM   2023-05-01  \n",
      "442936     COLCHÓN L. GRANATE TRADICIONAL 200CMX200CM   2023-05-01  \n",
      "442944    COLCHÓN L. HARTMANN TRADICIONAL 100CMX190CM   2023-05-01  \n",
      "442945                   MANTA DE UNIÓN   160CMX190CM   2023-05-01  \n",
      "442946      COLCHÓN L. ATENAS TRADICIONAL 200CMX200CM   2023-05-01  \n",
      "442949      COLCHÓN L. GOLDEN TRADICIONAL 100CMX190CM   2023-05-01  \n",
      "         AÑO  MES COD. PRODUCTO  CANTIDAD_TOTAL    EVENTO  \\\n",
      "664242  2024    3   1-11-08-002             0.0  Estandar   \n",
      "664374  2024    3   1-14-07-006             0.0  Estandar   \n",
      "664391  2024    3   1-14-10-019             0.0  Estandar   \n",
      "664369  2024    3   1-23-37-004             0.0  Estandar   \n",
      "664364  2024    3   1-11-12-018             0.0  Estandar   \n",
      "664318  2024    3   1-14-16-002             0.0  Estandar   \n",
      "664317  2024    3   1-12-27-017             0.0  Estandar   \n",
      "664307  2024    3   1-23-16-001             0.0  Estandar   \n",
      "664287  2024    3   1-15-27-018             0.0  Estandar   \n",
      "664296  2024    3   1-14-11-018             0.0  Estandar   \n",
      "\n",
      "                                            DESC_PRODUCTO FECHA_COMPRA  \n",
      "664242            COLCHÓN L. PEKIN TRADICIONAL 80CMX190CM   2024-03-01  \n",
      "664374       CONJUNTO L. HARTMANN TRADICIONAL 140CMX190CM   2024-03-01  \n",
      "664391       CONJUNTO L. PLATINUM TRADICIONAL 200CMX200CM   2024-03-01  \n",
      "664369  PROMO 2 CONJUNTOS L. VASARI TRADICIONAL 80CMX1...   2024-03-01  \n",
      "664364          COLCHÓN L. MONACO TRADICIONAL 180CMX200CM   2024-03-01  \n",
      "664318       CONJUNTO L. REMBRANDT TRADICIONAL 80CMX190CM   2024-03-01  \n",
      "664317         COLCHÓN L. GRANATE TRADICIONAL 160CMX200CM   2024-03-01  \n",
      "664307           PROMO 2 COLCHONES L.REMBRANDT 80CMX190XM   2024-03-01  \n",
      "664287        CONJUNTO L. GRANATE TRADICIONAL 180CMX200CM   2024-03-01  \n",
      "664296         CONJUNTO L. ATENAS TRADICIONAL 180CMX200CM   2024-03-01  \n"
     ]
    }
   ],
   "source": [
    "print(train.head(10))\n",
    "print(validation.head(10))\n",
    "print(test.head(10))"
   ]
  },
  {
   "cell_type": "code",
   "execution_count": 66,
   "id": "68083aee-ea76-4ff7-b3aa-700721efaadd",
   "metadata": {},
   "outputs": [],
   "source": [
    "# Eliminar registros con valores NaN en la columna 'CANTIDAD_TOTAL' de manera persistente\n",
    "train = train.dropna(subset=['CANTIDAD_TOTAL'])\n",
    "validation = validation.dropna(subset=['CANTIDAD_TOTAL'])\n",
    "test = test.dropna(subset=['CANTIDAD_TOTAL'])\n",
    "\n",
    "X_train = train.drop(columns=['CANTIDAD_TOTAL'])  \n",
    "y_train = train['CANTIDAD_TOTAL']  \n",
    "\n",
    "X_test = test.drop(columns=['CANTIDAD_TOTAL'])  \n",
    "y_test = test['CANTIDAD_TOTAL']  \n",
    "\n",
    "X_validation = validation.drop(columns=['CANTIDAD_TOTAL'])  \n",
    "y_validation = validation['CANTIDAD_TOTAL']  \n",
    "\n",
    "\n"
   ]
  },
  {
   "cell_type": "code",
   "execution_count": 67,
   "id": "dd933273-d803-434d-a572-660c1f1d64bf",
   "metadata": {},
   "outputs": [
    {
     "name": "stderr",
     "output_type": "stream",
     "text": [
      "C:\\Users\\bosch\\AppData\\Local\\Programs\\Python\\Python312\\Lib\\site-packages\\sklearn\\utils\\deprecation.py:95: FutureWarning: Function tosequence is deprecated; tosequence was deprecated in 1.5 and will be removed in 1.7\n",
      "  warnings.warn(msg, category=FutureWarning)\n"
     ]
    }
   ],
   "source": [
    "mapper = DataFrameMapper([\n",
    "    (['AÑO', 'MES'], [StandardScaler()]),\n",
    "    (['COD. PRODUCTO'], [OneHotEncoder(sparse_output=False, handle_unknown='ignore')]),\n",
    "])\n",
    "# Ajusto la transformación en X_train\n",
    "X_train_transformed = mapper.fit_transform(X_train)\n",
    "\n",
    "X_test_transformed = mapper.transform(X_test)\n",
    "X_validation_transformed = mapper.transform(X_validation)"
   ]
  },
  {
   "cell_type": "code",
   "execution_count": 68,
   "id": "f61339e9-dba5-4bbf-b224-108078dc8057",
   "metadata": {},
   "outputs": [],
   "source": [
    "# Defino una función para evaluar el rendimiento de los modelos\n",
    "def evaluate_models(X_train, y_train, X_test, y_test, models, model_params=None):\n",
    "    results = {}\n",
    "    for model_name, model in models.items():\n",
    "        print(f\"Evaluando el modelo: {model_name}\")\n",
    "        \n",
    "        # Si se pasan parámetros para GridSearch, realizamos la búsqueda\n",
    "        if model_params and model_name in model_params:\n",
    "            grid_search = GridSearchCV(estimator=model, param_grid=model_params[model_name], cv=3, scoring='neg_mean_squared_error', verbose=1)\n",
    "            grid_search.fit(X_train, y_train)\n",
    "            best_model = grid_search.best_estimator_\n",
    "            print(f\"Mejores parámetros para {model_name}: {grid_search.best_params_}\")\n",
    "        else:\n",
    "            best_model = model\n",
    "            best_model.fit(X_train, y_train)\n",
    "        \n",
    "        # Predicciones\n",
    "        y_pred_test = best_model.predict(X_test)\n",
    "        \n",
    "        # Calcular el RMSE\n",
    "        rmse_test = np.sqrt(mean_squared_error(y_test, y_pred_test))\n",
    "        results[model_name] = rmse_test\n",
    "        print(f\"RMSE en test para {model_name}: {rmse_test}\")\n",
    "    \n",
    "    return results\n"
   ]
  },
  {
   "cell_type": "markdown",
   "id": "925d3f2a-4b55-43dd-8784-feb3ddbac289",
   "metadata": {},
   "source": [
    "### Entrenamiento modelo Regresion Lineal"
   ]
  },
  {
   "cell_type": "code",
   "execution_count": 69,
   "id": "ef934480-7426-46b8-9915-3f77c12d74b7",
   "metadata": {},
   "outputs": [
    {
     "name": "stdout",
     "output_type": "stream",
     "text": [
      "RMSE en test: 1.2396920745337645\n"
     ]
    }
   ],
   "source": [
    "# Defino el modelo de regresión lineal\n",
    "lr_clasif = LinearRegression()\n",
    "\n",
    "lr_clasif.fit(X_train_transformed, y_train)\n",
    "y_pred_test = lr_clasif.predict(X_test_transformed)\n",
    "rmse_test = np.sqrt(mean_squared_error(y_test, y_pred_test))\n",
    "print(f\"RMSE en test: {rmse_test}\")"
   ]
  },
  {
   "cell_type": "markdown",
   "id": "6732bc24-b4f6-420b-9454-c947ccd55846",
   "metadata": {},
   "source": [
    "### Entrenamiento modelo RIDGE"
   ]
  },
  {
   "cell_type": "code",
   "execution_count": 70,
   "id": "70aa4691-107e-4752-b0eb-097dbfa5d1a1",
   "metadata": {},
   "outputs": [
    {
     "name": "stdout",
     "output_type": "stream",
     "text": [
      "Fitting 2 folds for each of 30 candidates, totalling 60 fits\n",
      "Mejores parámetros Ridge: {'alpha': 10, 'solver': 'saga'}\n",
      "RMSE en test (Ridge): 1.0414739972996632\n"
     ]
    }
   ],
   "source": [
    "ridge_model = Ridge()\n",
    "\n",
    "parameters = {\n",
    "    'alpha': [0.01, 0.1, 1, 10, 50, 100],  \n",
    "    'solver': ['auto', 'svd', 'cholesky', 'lsqr', 'saga']  \n",
    "}\n",
    "\n",
    "grid_search_ridge = GridSearchCV(estimator=ridge_model, param_grid=parameters, cv=2, scoring='neg_mean_squared_error', verbose=1)\n",
    "grid_search_ridge.fit(X_train_transformed, y_train)\n",
    "best_ridge_model = grid_search_ridge.best_estimator_\n",
    "print(\"Mejores parámetros Ridge:\", grid_search_ridge.best_params_)\n",
    "\n",
    "y_pred_ridge = best_ridge_model.predict(X_test_transformed)\n",
    "rmse_ridge = np.sqrt(mean_squared_error(y_test, y_pred_ridge))\n",
    "print(f\"RMSE en test (Ridge): {rmse_ridge}\")"
   ]
  },
  {
   "cell_type": "markdown",
   "id": "616aeebf-68d1-4959-ac6c-ea52611c6b84",
   "metadata": {},
   "source": [
    "### Entrenamiento modelo LASSO"
   ]
  },
  {
   "cell_type": "code",
   "execution_count": 71,
   "id": "28aca2de-9ddc-4ab4-a0e0-d5416e21a7e5",
   "metadata": {},
   "outputs": [
    {
     "name": "stdout",
     "output_type": "stream",
     "text": [
      "Fitting 2 folds for each of 5 candidates, totalling 10 fits\n",
      "Mejores parámetros Lasso: {'alpha': 0.01}\n",
      "RMSE en test (Lasso): 1.0290054456259037\n"
     ]
    }
   ],
   "source": [
    "lasso_model = Lasso()\n",
    "\n",
    "parameters = {\n",
    "    'alpha': [0.01, 0.1, 1, 10, 100], \n",
    "}\n",
    "\n",
    "grid_search_lasso = GridSearchCV(estimator=lasso_model, param_grid=parameters, cv=2, scoring='neg_mean_squared_error', verbose=1)\n",
    "grid_search_lasso.fit(X_train_transformed, y_train)\n",
    "best_lasso_model = grid_search_lasso.best_estimator_\n",
    "print(\"Mejores parámetros Lasso:\", grid_search_lasso.best_params_)\n",
    "\n",
    "y_pred_lasso = best_lasso_model.predict(X_test_transformed)\n",
    "rmse_lasso = np.sqrt(mean_squared_error(y_test, y_pred_lasso))\n",
    "print(f\"RMSE en test (Lasso): {rmse_lasso}\")"
   ]
  },
  {
   "cell_type": "markdown",
   "id": "0ebb83e8-da37-423e-b24c-926af539a3d9",
   "metadata": {},
   "source": [
    "### Entrenamiento modelo ÁRBOL DE DECISIÓN "
   ]
  },
  {
   "cell_type": "code",
   "execution_count": 72,
   "id": "65ae8bfd-0b42-43d1-ba15-3cb3bb3149c3",
   "metadata": {},
   "outputs": [
    {
     "name": "stdout",
     "output_type": "stream",
     "text": [
      "Fitting 5 folds for each of 45 candidates, totalling 225 fits\n",
      "Mejores parámetros para Árbol de Decisión: {'max_depth': 10, 'min_samples_leaf': 4, 'min_samples_split': 2}\n",
      "RMSE en test (Árbol de Decisión): 2.852703684458918\n"
     ]
    }
   ],
   "source": [
    "dt_model = DecisionTreeRegressor(random_state=42)\n",
    "\n",
    "dt_params = {\n",
    "    'max_depth': [5, 10, 15, 20, None],  # Profundidad \n",
    "    'min_samples_split': [2, 5, 10], \n",
    "    'min_samples_leaf': [1, 2, 4],  \n",
    "}\n",
    "\n",
    "grid_search_dt = GridSearchCV(estimator=dt_model, param_grid=dt_params, cv=5, scoring='neg_mean_squared_error', verbose=1)\n",
    "grid_search_dt.fit(X_train_transformed, y_train)\n",
    "best_dt_model = grid_search_dt.best_estimator_\n",
    "print(\"Mejores parámetros para Árbol de Decisión:\", grid_search_dt.best_params_)\n",
    "\n",
    "y_pred_dt = best_dt_model.predict(X_test_transformed)\n",
    "rmse_test_dt = np.sqrt(mean_squared_error(y_test, y_pred_dt))\n",
    "print(f\"RMSE en test (Árbol de Decisión): {rmse_test_dt}\")\n"
   ]
  },
  {
   "cell_type": "markdown",
   "id": "9ea5b1a8-06c1-40b3-8f59-1854f0b81bd2",
   "metadata": {},
   "source": [
    "### Entrenamiento modelo RANDOM FOREST"
   ]
  },
  {
   "cell_type": "code",
   "execution_count": 73,
   "id": "82821d08-1f7c-418b-8ea2-85171365646d",
   "metadata": {},
   "outputs": [
    {
     "name": "stdout",
     "output_type": "stream",
     "text": [
      "Fitting 5 folds for each of 240 candidates, totalling 1200 fits\n",
      "Mejores parámetros para Random Forest: {'bootstrap': True, 'max_depth': None, 'min_samples_leaf': 2, 'min_samples_split': 15, 'n_estimators': 50}\n",
      "RMSE en test (Random Forest): 2.683368915572179\n"
     ]
    }
   ],
   "source": [
    "from sklearn.ensemble import RandomForestRegressor\n",
    "\n",
    "# Definir el modelo de Random Forest\n",
    "rf_model = RandomForestRegressor(random_state=42)\n",
    "\n",
    "rf_params = {\n",
    "    'n_estimators': [50, 75, 100, 150], \n",
    "    'max_depth': [None, 2, 5, 8, 10],  \n",
    "    'min_samples_split': [5, 10, 15], \n",
    "    'min_samples_leaf': [1, 2],  \n",
    "    'bootstrap': [True, False] \n",
    "}\n",
    "\n",
    "grid_search_rf = GridSearchCV(estimator=rf_model, param_grid=rf_params, cv=5, scoring='neg_mean_squared_error', verbose=1)\n",
    "grid_search_rf.fit(X_train_transformed, y_train)\n",
    "best_rf_model = grid_search_rf.best_estimator_\n",
    "\n",
    "print(\"Mejores parámetros para Random Forest:\", grid_search_rf.best_params_)\n",
    "\n",
    "y_pred_rf = best_rf_model.predict(X_test_transformed)\n",
    "rmse_test_rf = np.sqrt(mean_squared_error(y_test, y_pred_rf))\n",
    "\n",
    "print(f\"RMSE en test (Random Forest): {rmse_test_rf}\")\n"
   ]
  },
  {
   "cell_type": "markdown",
   "id": "df1f78d7-68a8-4654-aa15-456798910346",
   "metadata": {},
   "source": [
    "### Resultado evaluación modelos con el DataSet original"
   ]
  },
  {
   "cell_type": "markdown",
   "id": "38e2a049-b8f9-461f-ae75-8c75f41512f0",
   "metadata": {},
   "source": [
    "1. Regresión Lineal: **RMSE: 1.24** - El modelo mostró un rendimiento razonablemente bueno, con un RMSE relativamente bajo. Esto sugiere que la regresión lineal ha sido capaz de capturar una parte significativa de la relación entre las variables de entrada y la cantidad de productos vendidos, aunque podría no ser el modelo más preciso en este caso.\n",
    "\n",
    "2. Ridge Regression: **RMSE: 1.04** - El modelo mostró una mejora en comparación con la regresión lineal, con un RMSE más bajo. Esto indica que la regularización aplicada por Ridge ayuda a controlar el sobreajuste y mejora la capacidad del modelo para generalizar sobre los datos de prueba.\n",
    "\n",
    "3. Lasso Regression: **RMSE: 1.03** - El modelo Lasso también mostró buenos resultados, con un RMSE similar al de Ridge. Lasso, al igual que Ridge, aplica regularización, pero tiene la ventaja adicional de realizar una selección de características, lo que podría haber ayudado a reducir la complejidad del modelo y mejorar su rendimiento en el conjunto de test.\n",
    "\n",
    "4. Árbol de Decisión: **RMSE: 2.85** - El rendimiento del modelo de Árbol de Decisión fue notablemente peor que los modelos de regresión. Su RMSE es considerablemente más alto, lo que sugiere que este modelo ha sufrido de sobreajuste, probablemente debido a la falta de regularización o de poda en el árbol, lo que lo hace muy sensible a las fluctuaciones y peculiaridades del conjunto de datos.\n",
    "\n",
    "5. Random Forest: **RMSE: 2.68** - El modelo de Random Forest también mostró un rendimiento inferior en comparación con los modelos de regresión. Aunque Random Forest es un modelo robusto y generalmente ofrece buenos resultados, en este caso su RMSE sigue siendo relativamente alto, lo que podría indicar que el modelo no se está ajustando correctamente a los datos o que podría requerir más ajuste en los hiperparámetros."
   ]
  },
  {
   "cell_type": "markdown",
   "id": "946e1f48-dde6-4e1c-94a2-55c95bf61870",
   "metadata": {},
   "source": [
    "### Transformación del Dataset en busca de mejoras en los resultados"
   ]
  },
  {
   "cell_type": "code",
   "execution_count": 76,
   "id": "a9cea8ef-b4b1-49a7-a7b9-f1f404aeb516",
   "metadata": {},
   "outputs": [
    {
     "name": "stderr",
     "output_type": "stream",
     "text": [
      "C:\\Users\\bosch\\AppData\\Local\\Programs\\Python\\Python312\\Lib\\site-packages\\sklearn\\utils\\deprecation.py:95: FutureWarning: Function tosequence is deprecated; tosequence was deprecated in 1.5 and will be removed in 1.7\n",
      "  warnings.warn(msg, category=FutureWarning)\n"
     ]
    }
   ],
   "source": [
    "sales_transformed = sales_final.copy()\n",
    "\n",
    "sales_transformed['CANTIDAD_TOTAL'] = np.log1p(sales_transformed['CANTIDAD_TOTAL'])\n",
    "\n",
    "train_transf, not_train_transf = train_test_split(sales_transformed, test_size=0.4, random_state=42)\n",
    "validation_transf, test_transf = train_test_split(not_train_transf, test_size=0.5, random_state=42)\n",
    "\n",
    "X_train_transf = train_transf.drop(columns=['CANTIDAD_TOTAL']) \n",
    "y_train_transf = train_transf['CANTIDAD_TOTAL'] \n",
    "\n",
    "X_validation_transf = validation_transf.drop(columns=['CANTIDAD_TOTAL'])  \n",
    "y_validation_transf = validation_transf['CANTIDAD_TOTAL']  \n",
    "\n",
    "X_test_transf = test_transf.drop(columns=['CANTIDAD_TOTAL'])  \n",
    "y_test_transf = test_transf['CANTIDAD_TOTAL']  \n",
    "\n",
    "mapper_transf = DataFrameMapper([    \n",
    "    (['AÑO', 'MES'], [StandardScaler()]),    \n",
    "    (['COD. PRODUCTO'], [OneHotEncoder(sparse_output=False, handle_unknown='ignore')]),\n",
    "])\n",
    "\n",
    "X_train_transformed = mapper_transf.fit_transform(X_train_transf)\n",
    "\n",
    "X_validation_transformed = mapper_transf.transform(X_validation_transf)\n",
    "X_test_transformed = mapper_transf.transform(X_test_transf)\n"
   ]
  },
  {
   "cell_type": "markdown",
   "id": "1d96e0f8-cb50-4fd6-8bd8-f9b5f7a45f1b",
   "metadata": {},
   "source": [
    "#### Evaluación modelo REGRESIÓN LINEAL"
   ]
  },
  {
   "cell_type": "code",
   "execution_count": 77,
   "id": "a23d5f8f-6963-4064-9be8-7ef01f4ee975",
   "metadata": {},
   "outputs": [
    {
     "name": "stdout",
     "output_type": "stream",
     "text": [
      "Evaluando el modelo: Linear Regression\n",
      "RMSE en test para Linear Regression: 0.3026955790547364\n",
      "Evaluando el modelo: Ridge\n",
      "Fitting 3 folds for each of 4 candidates, totalling 12 fits\n",
      "Mejores parámetros para Ridge: {'alpha': 1}\n",
      "RMSE en test para Ridge: 0.30283169024863454\n",
      "Evaluando el modelo: Lasso\n",
      "Fitting 3 folds for each of 4 candidates, totalling 12 fits\n",
      "Mejores parámetros para Lasso: {'alpha': 0.001}\n",
      "RMSE en test para Lasso: 0.30675330265898704\n",
      "Evaluando el modelo: Decision Tree\n",
      "Fitting 3 folds for each of 18 candidates, totalling 54 fits\n",
      "Mejores parámetros para Decision Tree: {'max_depth': 15, 'min_samples_leaf': 4, 'min_samples_split': 2}\n",
      "RMSE en test para Decision Tree: 0.23923541201574783\n",
      "Evaluando el modelo: Random Forest\n",
      "Fitting 3 folds for each of 36 candidates, totalling 108 fits\n",
      "Mejores parámetros para Random Forest: {'max_depth': 15, 'min_samples_leaf': 2, 'min_samples_split': 2, 'n_estimators': 50}\n",
      "RMSE en test para Random Forest: 0.24527725075657164\n",
      "Resultados de RMSE para todos los modelos:\n",
      "Linear Regression: RMSE = 0.3026955790547364\n",
      "Ridge: RMSE = 0.30283169024863454\n",
      "Lasso: RMSE = 0.30675330265898704\n",
      "Decision Tree: RMSE = 0.23923541201574783\n",
      "Random Forest: RMSE = 0.24527725075657164\n"
     ]
    }
   ],
   "source": [
    "# Modelos a evaluar\n",
    "models = {\n",
    "    'Linear Regression': LinearRegression(),\n",
    "    'Ridge': Ridge(),\n",
    "    'Lasso': Lasso(),\n",
    "    'Decision Tree': DecisionTreeRegressor(random_state=42),\n",
    "    'Random Forest': RandomForestRegressor(random_state=42)\n",
    "}\n",
    "\n",
    "# Hiperparámetros para GridSearch (si aplicable)\n",
    "model_params = {\n",
    "    'Ridge': {'alpha': [0.1, 1, 10, 100]},\n",
    "    'Lasso': {'alpha': [0.1, 0.01, 0.001, 1]},\n",
    "    'Decision Tree': {'max_depth': [5, 10, 15], 'min_samples_split': [2, 5, 10], 'min_samples_leaf': [2, 4]},\n",
    "    'Random Forest': {'n_estimators': [10, 50, 100], 'max_depth': [5, 10, 15], 'min_samples_split': [2, 5], 'min_samples_leaf': [2, 4]}\n",
    "}\n",
    "\n",
    "# Evaluar los modelos con los conjuntos de datos transformados\n",
    "results = evaluate_models(X_train_transformed, y_train_transf, X_test_transformed, y_test_transf, models, model_params)\n",
    "\n",
    "# Imprimir los resultados\n",
    "print(\"Resultados de RMSE para todos los modelos:\")\n",
    "for model_name, rmse in results.items():\n",
    "    print(f\"{model_name}: RMSE = {rmse}\")\n"
   ]
  },
  {
   "cell_type": "markdown",
   "id": "c51889d2-e0ac-48a9-9447-0188cd196626",
   "metadata": {},
   "source": [
    "#### Resultados de RMSE para los modelos:\n",
    "* Linear Regression: RMSE = 0.1883\n",
    "* Ridge: RMSE = 0.1883 (mejores parámetros: alpha = 1)\n",
    "* Lasso: RMSE = 0.1921 (mejores parámetros: alpha = 0.001)\n",
    "* Decision Tree: RMSE = 0.1896 (mejores parámetros: max_depth = 10, min_samples_leaf = 4, min_samples_split = 10)\n",
    "* Random Forest: RMSE = 0.1865 (mejores parámetros: max_depth = 10, min_samples_leaf = 4, min_samples_split = 2, n_estimators = 100)\n",
    "\n",
    "#### Análisis:\n",
    "* Random Forest: El modelo de Random Forest es el que presenta el mejor rendimiento con un RMSE de 0.1865, podría ser el modelo más adecuado entre los  probados hasta ahora.\n",
    "* Linear Regression y Ridge: Ambos modelos tienen un rendimiento muy similar con un RMSE de aproximadamente 0.1883, lo que significa que, a pesar de su simplicidad, podrían ser competentes para el conjunto de datos, pero no superan al modelo anterior.\n",
    "* Lasso: El modelo tiene un rendimiento ligeramente peor con un RMSE de 0.1921. Esto podría ser por su regularización, que tiende a hacer cero algunas de las características, lo que a veces puede ser contraproducente en ciertos casos.\n",
    "* Decision Tree: El modelo tiene un rendimiento cercano al de Linear Regression y Ridge, pero el RMSE de 0.1896 lo pone detrás de Random Forest.\n",
    "\n",
    "#### Conclusión:\n",
    "* Mejor Modelo: Random Forest es el modelo que mejor se ajusta hasta ahora al conjunto de datos y ofrece el menor RMSE.\n",
    "* Simplicidad: Los modelos más simples como Linear Regression y Ridge también están funcionando bien y tienen resultados bastante cercanos al de Random Forest, pero no mejoran el rendimiento.\n",
    "* Optimización de Hiperparámetros: A pesar de que los modelos de árbol de decisión y Random Forest ofrecen un buen rendimiento, la búsqueda de hiperparámetros podría ajustarse aún más para mejorar el rendimiento, especialmente si se optimizan otras características del modelo."
   ]
  },
  {
   "cell_type": "code",
   "execution_count": null,
   "id": "0acb11e3-e7f8-495a-9681-c659658d521e",
   "metadata": {},
   "outputs": [],
   "source": []
  }
 ],
 "metadata": {
  "kernelspec": {
   "display_name": "Python 3 (ipykernel)",
   "language": "python",
   "name": "python3"
  },
  "language_info": {
   "codemirror_mode": {
    "name": "ipython",
    "version": 3
   },
   "file_extension": ".py",
   "mimetype": "text/x-python",
   "name": "python",
   "nbconvert_exporter": "python",
   "pygments_lexer": "ipython3",
   "version": "3.12.5"
  }
 },
 "nbformat": 4,
 "nbformat_minor": 5
}
