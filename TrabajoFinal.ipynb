{
 "cells": [
  {
   "cell_type": "code",
   "execution_count": 1,
   "id": "0f799f8b-9b81-4ac7-81c4-6231413ac4b2",
   "metadata": {},
   "outputs": [
    {
     "name": "stdout",
     "output_type": "stream",
     "text": [
      "Se importó correctamente\n"
     ]
    }
   ],
   "source": [
    "try:\n",
    "    import pandas as pd\n",
    "    import numpy as np\n",
    "    import matplotlib.pyplot as plt\n",
    "    import seaborn as sns\n",
    "    from sklearn.preprocessing import OneHotEncoder\n",
    "    from sklearn.preprocessing import OneHotEncoder, StandardScaler\n",
    "    from sklearn.pipeline import Pipeline\n",
    "    from sklearn.model_selection import train_test_split\n",
    "    from sklearn_pandas import DataFrameMapper\n",
    "    from sklearn import metrics\n",
    "    from sklearn.neighbors import KNeighborsClassifier\n",
    "    from sklearn.preprocessing import LabelBinarizer\n",
    "    from sklearn.decomposition import PCA\n",
    "    from sklearn.base import clone\n",
    "    from sklearn.model_selection import GridSearchCV\n",
    "    from sklearn.metrics import mean_squared_error, mean_absolute_error, r2_score\n",
    "    from sklearn.linear_model import LogisticRegression, LinearRegression, Lasso, Ridge\n",
    "    from sklearn.tree import DecisionTreeRegressor\n",
    "    from sklearn.ensemble import RandomForestRegressor, GradientBoostingRegressor\n",
    "    import warnings\n",
    "    print(\"Se importó correctamente\")\n",
    "except Exception as e:\n",
    "    print(f\"Error al importar dependencias: {e}\")"
   ]
  },
  {
   "cell_type": "markdown",
   "id": "1a30b2d2-54de-4f38-a7cc-c368f11c8346",
   "metadata": {},
   "source": [
    "* Al tener el Data Set repartido en 4 archivos diferentes segun la plataforma donde se produjeron las ventas, paso a unificar todo en un mismo DataFrame"
   ]
  },
  {
   "cell_type": "code",
   "execution_count": 2,
   "id": "080776aa-74ef-4c50-9041-bf060a6e5950",
   "metadata": {},
   "outputs": [
    {
     "data": {
      "text/html": [
       "<div>\n",
       "<style scoped>\n",
       "    .dataframe tbody tr th:only-of-type {\n",
       "        vertical-align: middle;\n",
       "    }\n",
       "\n",
       "    .dataframe tbody tr th {\n",
       "        vertical-align: top;\n",
       "    }\n",
       "\n",
       "    .dataframe thead th {\n",
       "        text-align: right;\n",
       "    }\n",
       "</style>\n",
       "<table border=\"1\" class=\"dataframe\">\n",
       "  <thead>\n",
       "    <tr style=\"text-align: right;\">\n",
       "      <th></th>\n",
       "      <th>VALOR PRED.</th>\n",
       "      <th>ORDEN DE RETIRO</th>\n",
       "      <th>FECHA RETIRO OCA</th>\n",
       "      <th>COD. PRODUCTO</th>\n",
       "      <th>CANTIDAD</th>\n",
       "      <th>PRODUCTO</th>\n",
       "      <th>DTO %</th>\n",
       "      <th>FECHA COMPRA</th>\n",
       "      <th>PROVINCIA</th>\n",
       "      <th>LOCALIDAD</th>\n",
       "      <th>PLATAFORMA</th>\n",
       "    </tr>\n",
       "  </thead>\n",
       "  <tbody>\n",
       "    <tr>\n",
       "      <th>8620</th>\n",
       "      <td>NaN</td>\n",
       "      <td>NaN</td>\n",
       "      <td>NaN</td>\n",
       "      <td>1-10-02-002</td>\n",
       "      <td>2.0</td>\n",
       "      <td>ALMOHADAS L.PLACA 80CM</td>\n",
       "      <td>NaN</td>\n",
       "      <td>26/6/2022</td>\n",
       "      <td>BUENOS AIRES</td>\n",
       "      <td>NaN</td>\n",
       "      <td>megatone</td>\n",
       "    </tr>\n",
       "    <tr>\n",
       "      <th>6335</th>\n",
       "      <td>1.0</td>\n",
       "      <td>107937002</td>\n",
       "      <td>11/7/2023</td>\n",
       "      <td>1-16-33-018</td>\n",
       "      <td>1.0</td>\n",
       "      <td>CONJUNTO L. DUBÁI TRADICIONAL 180CMX200CM</td>\n",
       "      <td>NaN</td>\n",
       "      <td>26/6/2023</td>\n",
       "      <td>SANTA FE</td>\n",
       "      <td>Santa Fe</td>\n",
       "      <td>mercadolibre</td>\n",
       "    </tr>\n",
       "    <tr>\n",
       "      <th>6125</th>\n",
       "      <td>1.0</td>\n",
       "      <td>106921374</td>\n",
       "      <td>19/5/2023</td>\n",
       "      <td>1-14-17-017</td>\n",
       "      <td>1.0</td>\n",
       "      <td>CONJUNTO L. DONATELLO TRADICIONAL 160CMX200CM</td>\n",
       "      <td>NaN</td>\n",
       "      <td>17/5/2023</td>\n",
       "      <td>SANTA CRUZ</td>\n",
       "      <td>Las Heras Guemes</td>\n",
       "      <td>mercadolibre</td>\n",
       "    </tr>\n",
       "    <tr>\n",
       "      <th>10522</th>\n",
       "      <td>1</td>\n",
       "      <td>106651857</td>\n",
       "      <td>NaN</td>\n",
       "      <td>NaN</td>\n",
       "      <td>1.0</td>\n",
       "      <td>CONJUNTO L. MILLENIUM TRADICIONAL 140CMX190CM</td>\n",
       "      <td>NaN</td>\n",
       "      <td>11/5/2023</td>\n",
       "      <td>BUENOS AIRES</td>\n",
       "      <td>MATHEU</td>\n",
       "      <td>megatone</td>\n",
       "    </tr>\n",
       "    <tr>\n",
       "      <th>2526</th>\n",
       "      <td>1.0</td>\n",
       "      <td>97735238</td>\n",
       "      <td>19/5/2022</td>\n",
       "      <td>1-12-36-002</td>\n",
       "      <td>1.0</td>\n",
       "      <td>NaN</td>\n",
       "      <td>0.0</td>\n",
       "      <td>16/5/2022</td>\n",
       "      <td>NEUQUÉN</td>\n",
       "      <td>Zapala</td>\n",
       "      <td>mercadolibre</td>\n",
       "    </tr>\n",
       "  </tbody>\n",
       "</table>\n",
       "</div>"
      ],
      "text/plain": [
       "      VALOR PRED. ORDEN DE RETIRO FECHA RETIRO OCA COD. PRODUCTO CANTIDAD  \\\n",
       "8620          NaN             NaN              NaN   1-10-02-002      2.0   \n",
       "6335          1.0       107937002        11/7/2023   1-16-33-018      1.0   \n",
       "6125          1.0       106921374        19/5/2023   1-14-17-017      1.0   \n",
       "10522           1       106651857              NaN           NaN      1.0   \n",
       "2526          1.0        97735238        19/5/2022   1-12-36-002      1.0   \n",
       "\n",
       "                                            PRODUCTO DTO % FECHA COMPRA  \\\n",
       "8620                          ALMOHADAS L.PLACA 80CM   NaN    26/6/2022   \n",
       "6335       CONJUNTO L. DUBÁI TRADICIONAL 180CMX200CM   NaN    26/6/2023   \n",
       "6125   CONJUNTO L. DONATELLO TRADICIONAL 160CMX200CM   NaN    17/5/2023   \n",
       "10522  CONJUNTO L. MILLENIUM TRADICIONAL 140CMX190CM   NaN    11/5/2023   \n",
       "2526                                             NaN   0.0    16/5/2022   \n",
       "\n",
       "          PROVINCIA         LOCALIDAD    PLATAFORMA  \n",
       "8620   BUENOS AIRES               NaN      megatone  \n",
       "6335       SANTA FE          Santa Fe  mercadolibre  \n",
       "6125     SANTA CRUZ  Las Heras Guemes  mercadolibre  \n",
       "10522  BUENOS AIRES            MATHEU      megatone  \n",
       "2526        NEUQUÉN            Zapala  mercadolibre  "
      ]
     },
     "execution_count": 2,
     "metadata": {},
     "output_type": "execute_result"
    }
   ],
   "source": [
    "import pandas as pd\n",
    "import os\n",
    "\n",
    "# Ruta a la carpeta que contiene los archivos\n",
    "ruta_carpeta = \"./csv\"\n",
    "archivos_csv = [\"fravega.csv\", \"ecommerce.csv\", \"mercadolibre.csv\", \"megatone.csv\"]\n",
    "dfs = [pd.read_csv(os.path.join(ruta_carpeta, archivo), encoding='latin1', delimiter=';') for archivo in archivos_csv]\n",
    "sales = pd.concat(dfs, ignore_index=True)\n",
    "\n",
    "sales.sample(5)"
   ]
  },
  {
   "cell_type": "markdown",
   "id": "642d7528-140b-43b5-b30c-d04780339341",
   "metadata": {},
   "source": [
    "## Listado de variables "
   ]
  },
  {
   "cell_type": "markdown",
   "id": "f3c05abf-bdb0-44d1-850d-9ebcdbaed199",
   "metadata": {},
   "source": [
    "#### Variables de entrada"
   ]
  },
  {
   "cell_type": "markdown",
   "id": "56d06fc2-edb2-4c15-aa8d-2adfd841c2a8",
   "metadata": {},
   "source": [
    "* VALOR PRED.: Representa el valor del bulto.\n",
    "* ORDEN DE RETIRO: Nro de orden por la cual la empresa identifica cada venta\n",
    "* FECHA RETIRO OCA: Fecha donde OCA retira el producto\n",
    "* COD. PRODUCTO: Identificador único de cada producto.\n",
    "* PRODUCTO: Descripción del producto\n",
    "* DTO %: Descuento aplicado en cada venta.\n",
    "* FECHA COMPRA: Fecha en la que se realizó la compra del producto\n",
    "* PROVINCIA: Nombre de la provincia donde se produjo de la venta\n",
    "* LOCALIDAD: Nombre de la localidad donde se produjo de la venta\n",
    "* PLATAFORMA: Canal o medio donde se produjo la venta."
   ]
  },
  {
   "cell_type": "markdown",
   "id": "70eaf092-c57f-471e-bed6-3620cdc6bd4a",
   "metadata": {},
   "source": [
    "#### Variable de salida: "
   ]
  },
  {
   "cell_type": "markdown",
   "id": "fb567af5-d248-4158-a842-03980b961b82",
   "metadata": {},
   "source": [
    "* CANTIDAD: representa el número de unidades vendidas por producto"
   ]
  },
  {
   "cell_type": "markdown",
   "id": "b1e6db56-0a54-4ba1-9307-075e686805fe",
   "metadata": {},
   "source": [
    "#### Reorganizo las columnas en el orden deseado"
   ]
  },
  {
   "cell_type": "code",
   "execution_count": 3,
   "id": "c5c9fec7-55ae-4182-8b5a-5fc5559bdf2d",
   "metadata": {},
   "outputs": [
    {
     "data": {
      "text/html": [
       "<div>\n",
       "<style scoped>\n",
       "    .dataframe tbody tr th:only-of-type {\n",
       "        vertical-align: middle;\n",
       "    }\n",
       "\n",
       "    .dataframe tbody tr th {\n",
       "        vertical-align: top;\n",
       "    }\n",
       "\n",
       "    .dataframe thead th {\n",
       "        text-align: right;\n",
       "    }\n",
       "</style>\n",
       "<table border=\"1\" class=\"dataframe\">\n",
       "  <thead>\n",
       "    <tr style=\"text-align: right;\">\n",
       "      <th></th>\n",
       "      <th>VALOR PRED.</th>\n",
       "      <th>ORDEN DE RETIRO</th>\n",
       "      <th>FECHA COMPRA</th>\n",
       "      <th>FECHA RETIRO OCA</th>\n",
       "      <th>COD. PRODUCTO</th>\n",
       "      <th>PRODUCTO</th>\n",
       "      <th>DTO %</th>\n",
       "      <th>PROVINCIA</th>\n",
       "      <th>LOCALIDAD</th>\n",
       "      <th>PLATAFORMA</th>\n",
       "      <th>CANTIDAD</th>\n",
       "    </tr>\n",
       "  </thead>\n",
       "  <tbody>\n",
       "    <tr>\n",
       "      <th>3791</th>\n",
       "      <td>1.0</td>\n",
       "      <td>ANDESMAR</td>\n",
       "      <td>1/11/2022</td>\n",
       "      <td>3/11/2022</td>\n",
       "      <td>1-23-36-005</td>\n",
       "      <td>NaN</td>\n",
       "      <td>NaN</td>\n",
       "      <td>MENDOZA</td>\n",
       "      <td>Carrodilla</td>\n",
       "      <td>mercadolibre</td>\n",
       "      <td>1.0</td>\n",
       "    </tr>\n",
       "    <tr>\n",
       "      <th>6228</th>\n",
       "      <td>1.0</td>\n",
       "      <td>NaN</td>\n",
       "      <td>11/6/2023</td>\n",
       "      <td>16/6/2023</td>\n",
       "      <td>1-22-41-007</td>\n",
       "      <td>CONJUNTO L. MARINERA TRAD RESORTE 90CMX190CM S...</td>\n",
       "      <td>NaN</td>\n",
       "      <td>BUENOS AIRES</td>\n",
       "      <td>Nordelta</td>\n",
       "      <td>mercadolibre</td>\n",
       "      <td>1.0</td>\n",
       "    </tr>\n",
       "    <tr>\n",
       "      <th>5944</th>\n",
       "      <td>1.0</td>\n",
       "      <td>NaN</td>\n",
       "      <td>11/5/2023</td>\n",
       "      <td>12/5/2023</td>\n",
       "      <td>1-15-36-003</td>\n",
       "      <td>CONJUNTO L. SANZIO TRADICIONAL 90CMX190CM</td>\n",
       "      <td>NaN</td>\n",
       "      <td>BUENOS AIRES</td>\n",
       "      <td>Virrey del Pino</td>\n",
       "      <td>mercadolibre</td>\n",
       "      <td>1.0</td>\n",
       "    </tr>\n",
       "    <tr>\n",
       "      <th>2739</th>\n",
       "      <td>1.0</td>\n",
       "      <td>98299154</td>\n",
       "      <td>3/6/2022</td>\n",
       "      <td>8/6/2022</td>\n",
       "      <td>1-11-15-006</td>\n",
       "      <td>NaN</td>\n",
       "      <td>10.0</td>\n",
       "      <td>CHACO</td>\n",
       "      <td>Barrio Las Malvinas Barranqueras</td>\n",
       "      <td>mercadolibre</td>\n",
       "      <td>1.0</td>\n",
       "    </tr>\n",
       "    <tr>\n",
       "      <th>1525</th>\n",
       "      <td>1</td>\n",
       "      <td>93168716</td>\n",
       "      <td>27/10/2021</td>\n",
       "      <td>28/10/2021</td>\n",
       "      <td>NaN</td>\n",
       "      <td>COLCHÓN L. REMBRANDT TRADICIONAL 140CMX190CM</td>\n",
       "      <td>$ 0,00</td>\n",
       "      <td>CORRIENTES</td>\n",
       "      <td>MONTE CASEROS</td>\n",
       "      <td>ecommerce</td>\n",
       "      <td>1</td>\n",
       "    </tr>\n",
       "  </tbody>\n",
       "</table>\n",
       "</div>"
      ],
      "text/plain": [
       "     VALOR PRED. ORDEN DE RETIRO FECHA COMPRA FECHA RETIRO OCA COD. PRODUCTO  \\\n",
       "3791         1.0        ANDESMAR    1/11/2022        3/11/2022   1-23-36-005   \n",
       "6228         1.0             NaN    11/6/2023        16/6/2023   1-22-41-007   \n",
       "5944         1.0             NaN    11/5/2023        12/5/2023   1-15-36-003   \n",
       "2739         1.0        98299154     3/6/2022         8/6/2022   1-11-15-006   \n",
       "1525           1        93168716   27/10/2021       28/10/2021           NaN   \n",
       "\n",
       "                                               PRODUCTO   DTO %     PROVINCIA  \\\n",
       "3791                                                NaN     NaN       MENDOZA   \n",
       "6228  CONJUNTO L. MARINERA TRAD RESORTE 90CMX190CM S...     NaN  BUENOS AIRES   \n",
       "5944          CONJUNTO L. SANZIO TRADICIONAL 90CMX190CM     NaN  BUENOS AIRES   \n",
       "2739                                                NaN    10.0         CHACO   \n",
       "1525       COLCHÓN L. REMBRANDT TRADICIONAL 140CMX190CM  $ 0,00    CORRIENTES   \n",
       "\n",
       "                             LOCALIDAD    PLATAFORMA CANTIDAD  \n",
       "3791                        Carrodilla  mercadolibre      1.0  \n",
       "6228                          Nordelta  mercadolibre      1.0  \n",
       "5944                   Virrey del Pino  mercadolibre      1.0  \n",
       "2739  Barrio Las Malvinas Barranqueras  mercadolibre      1.0  \n",
       "1525                     MONTE CASEROS     ecommerce        1  "
      ]
     },
     "execution_count": 3,
     "metadata": {},
     "output_type": "execute_result"
    }
   ],
   "source": [
    "orden_columnas = [\n",
    "    'VALOR PRED.', 'ORDEN DE RETIRO', 'FECHA COMPRA', 'FECHA RETIRO OCA','COD. PRODUCTO', 'PRODUCTO', 'DTO %', 'PROVINCIA', 'LOCALIDAD', 'PLATAFORMA',\n",
    "    'CANTIDAD'\n",
    "]\n",
    "\n",
    "sales = sales[orden_columnas]\n",
    "sales.sample(5)"
   ]
  },
  {
   "cell_type": "markdown",
   "id": "48ba68b4-a5fb-4767-a901-a13199c92223",
   "metadata": {},
   "source": [
    "## Análisis detallado de un conjunto de variables"
   ]
  },
  {
   "cell_type": "markdown",
   "id": "c2cd7fe6-186d-4528-a99f-6d0e11505f23",
   "metadata": {},
   "source": [
    "La variable CANTIDAD representa el número de unidades vendidas. Es la variable objetivo de este análisis, ya que el modelo buscará predecir su valor en función de las características del dataset.\n",
    "\n",
    "Predecir CANTIDAD permitirá:\n",
    "\n",
    "* Identificar tendencias de venta.\n",
    "* Optimizar la planificación de inventarios.\n",
    "* Mejorar la estrategia de ventas y promociones."
   ]
  },
  {
   "cell_type": "markdown",
   "id": "70be980b-d27d-44b3-9bee-ffb5ee37f34e",
   "metadata": {},
   "source": [
    "### Estadísticas descriptivas de la variable de salida"
   ]
  },
  {
   "cell_type": "code",
   "execution_count": 4,
   "id": "d36c879c-1593-4043-85f3-5fd334dcb5b2",
   "metadata": {},
   "outputs": [
    {
     "name": "stdout",
     "output_type": "stream",
     "text": [
      "Estadísticas descriptivas de 'CANTIDAD':\n",
      "count     11103\n",
      "unique       15\n",
      "top           1\n",
      "freq       8976\n",
      "Name: CANTIDAD, dtype: int64\n"
     ]
    }
   ],
   "source": [
    "print(\"Estadísticas descriptivas de 'CANTIDAD':\")\n",
    "print(sales['CANTIDAD'].describe())"
   ]
  },
  {
   "cell_type": "code",
   "execution_count": 5,
   "id": "c4efa4eb-5c5c-49d1-95a4-ceb1dc669aa6",
   "metadata": {},
   "outputs": [],
   "source": [
    "# Convierto la columna 'CANTIDAD' a numérico, convirtiendo valores no válidos a NaN\n",
    "sales['CANTIDAD'] = pd.to_numeric(sales['CANTIDAD'], errors='coerce')\n",
    "# Reemplazo los valores NaN con 1\n",
    "sales['CANTIDAD'] = sales['CANTIDAD'].fillna(1)\n",
    "# Convierto la columna a enteros\n",
    "sales['CANTIDAD'] = sales['CANTIDAD'].astype(int)"
   ]
  },
  {
   "cell_type": "code",
   "execution_count": 6,
   "id": "723ad1ea-9123-44ad-9bdd-8c1dc6e52bfe",
   "metadata": {},
   "outputs": [
    {
     "data": {
      "image/png": "[encoded data removed]",
      "text/plain": [
       "<Figure size 600x400 with 1 Axes>"
      ]
     },
     "metadata": {},
     "output_type": "display_data"
    }
   ],
   "source": [
    "# Frecuencia de valores únicos en 'CANTIDAD'\n",
    "frecuencia_cantidad = sales['CANTIDAD'].value_counts().sort_index()\n",
    "\n",
    "# Gráfico de barras\n",
    "plt.figure(figsize=(6, 4))\n",
    "frecuencia_cantidad.plot(kind='bar', color='cornflowerblue', edgecolor='black')\n",
    "plt.title('Frecuencia de valores únicos en CANTIDAD', fontsize=12)\n",
    "plt.xlabel('Cantidad', fontsize=10)\n",
    "plt.ylabel('Frecuencia', fontsize=10)\n",
    "plt.xticks(rotation=0)\n",
    "plt.grid(axis='y', linestyle='--', alpha=0.7)\n",
    "plt.show()\n",
    "\n"
   ]
  },
  {
   "cell_type": "markdown",
   "id": "2e33fb00-0609-4602-a953-52ff97af7dfd",
   "metadata": {},
   "source": [
    "## EDA, Limpieza y preprocesamiento"
   ]
  },
  {
   "cell_type": "markdown",
   "id": "4ae64561-75a9-4199-b260-0ffb806e1cfc",
   "metadata": {},
   "source": [
    "* Verificación de valores nulos en variable COD PRODUCTO y PRODUCTO:"
   ]
  },
  {
   "cell_type": "code",
   "execution_count": 7,
   "id": "ccb8bdbd-be22-4304-8656-3b038bf30014",
   "metadata": {},
   "outputs": [
    {
     "name": "stdout",
     "output_type": "stream",
     "text": [
      "Valores nulos o vacíos en 'COD. PRODUCTO': 3298\n",
      "Valores nulos o vacíos en 'PRODUCTO': 2198\n"
     ]
    }
   ],
   "source": [
    "# Contar nulos y valores vacíos en 'COD. PRODUCTO'\n",
    "nulos_o_vacios_cod_producto = sales['COD. PRODUCTO'].isna().sum() + sales['COD. PRODUCTO'].eq('').sum()\n",
    "\n",
    "# Contar nulos y valores vacíos en 'PRODUCTO'\n",
    "nulos_o_vacios_producto = sales['PRODUCTO'].isna().sum() + sales['PRODUCTO'].str.strip().eq('').sum()\n",
    "\n",
    "print(f\"Valores nulos o vacíos en 'COD. PRODUCTO': {nulos_o_vacios_cod_producto}\")\n",
    "print(f\"Valores nulos o vacíos en 'PRODUCTO': {nulos_o_vacios_producto}\")"
   ]
  },
  {
   "cell_type": "markdown",
   "id": "b52edfcd-e90d-4535-8692-b29e11f9576b",
   "metadata": {},
   "source": [
    "- Tratamiento para determinar que para algunos de los COD PRODUCTOS detectados sin descripcion de Producto tenga en algun otro lado del data set la descripcion. Lo mismo para aquellas Productos detectados sin Cod Producto. \n",
    "El objetivo de esto es rellenar valores que se detectan nulos en las columnas de COD PRODUCTO y PRODUCTO."
   ]
  },
  {
   "cell_type": "code",
   "execution_count": 8,
   "id": "eb6f1cae-2840-41a2-bc6e-64cbc348a8f4",
   "metadata": {},
   "outputs": [
    {
     "name": "stdout",
     "output_type": "stream",
     "text": [
      "Mapa único entre códigos y productos:\n"
     ]
    },
    {
     "data": {
      "text/plain": [
       "(478, 2)"
      ]
     },
     "execution_count": 8,
     "metadata": {},
     "output_type": "execute_result"
    }
   ],
   "source": [
    "mapeo_cod_producto = sales[['COD. PRODUCTO', 'PRODUCTO']].drop_duplicates()\n",
    "\n",
    "print(\"Mapa único entre códigos y productos:\")\n",
    "mapeo_cod_producto.shape"
   ]
  },
  {
   "cell_type": "code",
   "execution_count": 9,
   "id": "b26de40f-bee5-4633-a8c3-bf6915eff2f1",
   "metadata": {},
   "outputs": [],
   "source": [
    "# Convertir el mapeo a un diccionario para facilitar su uso\n",
    "mapeo_dict = mapeo_cod_producto.set_index('PRODUCTO')['COD. PRODUCTO'].to_dict()\n",
    "\n",
    "# Completar o corregir la columna 'COD PRODUCTO'\n",
    "sales['COD. PRODUCTO'] = sales['PRODUCTO'].map(mapeo_dict)"
   ]
  },
  {
   "cell_type": "code",
   "execution_count": 10,
   "id": "bad18c4b-07e2-4405-a79f-811b6598f8c2",
   "metadata": {},
   "outputs": [],
   "source": [
    "# Detectar inconsistencias entre 'COD PRODUCTO' y 'PRODUCTO'\n",
    "inconsistencias = sales[sales['PRODUCTO'] != sales['COD. PRODUCTO'].map(mapeo_dict)]"
   ]
  },
  {
   "cell_type": "code",
   "execution_count": 11,
   "id": "4736b2b1-f232-4b9b-8bc4-a1e4d39ce724",
   "metadata": {},
   "outputs": [],
   "source": [
    "sales['PRODUCTO'] = sales['COD. PRODUCTO'].map({v: k for k, v in mapeo_dict.items()})\n"
   ]
  },
  {
   "cell_type": "code",
   "execution_count": 12,
   "id": "a1ca7cda-eac0-4919-a8ea-a62761283a59",
   "metadata": {},
   "outputs": [
    {
     "data": {
      "text/html": [
       "<div>\n",
       "<style scoped>\n",
       "    .dataframe tbody tr th:only-of-type {\n",
       "        vertical-align: middle;\n",
       "    }\n",
       "\n",
       "    .dataframe tbody tr th {\n",
       "        vertical-align: top;\n",
       "    }\n",
       "\n",
       "    .dataframe thead th {\n",
       "        text-align: right;\n",
       "    }\n",
       "</style>\n",
       "<table border=\"1\" class=\"dataframe\">\n",
       "  <thead>\n",
       "    <tr style=\"text-align: right;\">\n",
       "      <th></th>\n",
       "      <th>VALOR PRED.</th>\n",
       "      <th>ORDEN DE RETIRO</th>\n",
       "      <th>FECHA COMPRA</th>\n",
       "      <th>FECHA RETIRO OCA</th>\n",
       "      <th>COD. PRODUCTO</th>\n",
       "      <th>PRODUCTO</th>\n",
       "      <th>DTO %</th>\n",
       "      <th>PROVINCIA</th>\n",
       "      <th>LOCALIDAD</th>\n",
       "      <th>PLATAFORMA</th>\n",
       "      <th>CANTIDAD</th>\n",
       "    </tr>\n",
       "  </thead>\n",
       "  <tbody>\n",
       "    <tr>\n",
       "      <th>1768</th>\n",
       "      <td>1</td>\n",
       "      <td>93415235</td>\n",
       "      <td>4/11/2021</td>\n",
       "      <td>6/11/2021</td>\n",
       "      <td>NaN</td>\n",
       "      <td>CONJUNTO L. MARBELLA TRADICIONAL 200CMX200CM</td>\n",
       "      <td>NaN</td>\n",
       "      <td>CÓRDOBA</td>\n",
       "      <td>Villa Huidobro</td>\n",
       "      <td>ecommerce</td>\n",
       "      <td>2</td>\n",
       "    </tr>\n",
       "    <tr>\n",
       "      <th>717</th>\n",
       "      <td>1</td>\n",
       "      <td>NaN</td>\n",
       "      <td>28/9/2023</td>\n",
       "      <td>5/10/2023</td>\n",
       "      <td>1-22-41-007</td>\n",
       "      <td>CONJUNTO L. MARINERA TRAD RESORTE 90CMX190CM S...</td>\n",
       "      <td>0</td>\n",
       "      <td>SANTIAGO DEL ESTERO</td>\n",
       "      <td>Santiago Del Estero</td>\n",
       "      <td>fravega</td>\n",
       "      <td>1</td>\n",
       "    </tr>\n",
       "    <tr>\n",
       "      <th>4410</th>\n",
       "      <td>1.0</td>\n",
       "      <td>NaN</td>\n",
       "      <td>2/1/2023</td>\n",
       "      <td>5/1/2023</td>\n",
       "      <td>NaN</td>\n",
       "      <td>CONJUNTO L. MARBELLA TRADICIONAL 200CMX200CM</td>\n",
       "      <td>NaN</td>\n",
       "      <td>CATAMARCA</td>\n",
       "      <td>San Fernando del Valle de Catamarca</td>\n",
       "      <td>mercadolibre</td>\n",
       "      <td>1</td>\n",
       "    </tr>\n",
       "    <tr>\n",
       "      <th>8922</th>\n",
       "      <td>1</td>\n",
       "      <td>100041154</td>\n",
       "      <td>16/8/2022</td>\n",
       "      <td>17/8/2022</td>\n",
       "      <td>1-10-02-001</td>\n",
       "      <td>ALMOHADAS L.PLACA 70CM</td>\n",
       "      <td>NaN</td>\n",
       "      <td>CÓRDOBA</td>\n",
       "      <td>Villa Nueva</td>\n",
       "      <td>megatone</td>\n",
       "      <td>2</td>\n",
       "    </tr>\n",
       "    <tr>\n",
       "      <th>9913</th>\n",
       "      <td>1</td>\n",
       "      <td>103381575</td>\n",
       "      <td>4/1/2023</td>\n",
       "      <td>10/1/2023</td>\n",
       "      <td>1-15-40-004</td>\n",
       "      <td>CONJUNTO L. ROMA TRADICIONAL 100CMX190CM</td>\n",
       "      <td>4</td>\n",
       "      <td>CAPITAL FEDERAL</td>\n",
       "      <td>ALTOLAGUIRRE</td>\n",
       "      <td>megatone</td>\n",
       "      <td>1</td>\n",
       "    </tr>\n",
       "  </tbody>\n",
       "</table>\n",
       "</div>"
      ],
      "text/plain": [
       "     VALOR PRED. ORDEN DE RETIRO FECHA COMPRA FECHA RETIRO OCA COD. PRODUCTO  \\\n",
       "1768           1        93415235    4/11/2021        6/11/2021           NaN   \n",
       "717            1             NaN    28/9/2023        5/10/2023   1-22-41-007   \n",
       "4410         1.0             NaN     2/1/2023         5/1/2023           NaN   \n",
       "8922           1       100041154    16/8/2022        17/8/2022   1-10-02-001   \n",
       "9913           1       103381575     4/1/2023        10/1/2023   1-15-40-004   \n",
       "\n",
       "                                               PRODUCTO DTO %  \\\n",
       "1768       CONJUNTO L. MARBELLA TRADICIONAL 200CMX200CM   NaN   \n",
       "717   CONJUNTO L. MARINERA TRAD RESORTE 90CMX190CM S...     0   \n",
       "4410       CONJUNTO L. MARBELLA TRADICIONAL 200CMX200CM   NaN   \n",
       "8922                             ALMOHADAS L.PLACA 70CM   NaN   \n",
       "9913           CONJUNTO L. ROMA TRADICIONAL 100CMX190CM     4   \n",
       "\n",
       "                PROVINCIA                            LOCALIDAD    PLATAFORMA  \\\n",
       "1768              CÓRDOBA                       Villa Huidobro     ecommerce   \n",
       "717   SANTIAGO DEL ESTERO                  Santiago Del Estero       fravega   \n",
       "4410            CATAMARCA  San Fernando del Valle de Catamarca  mercadolibre   \n",
       "8922              CÓRDOBA                          Villa Nueva      megatone   \n",
       "9913      CAPITAL FEDERAL                         ALTOLAGUIRRE      megatone   \n",
       "\n",
       "      CANTIDAD  \n",
       "1768         2  \n",
       "717          1  \n",
       "4410         1  \n",
       "8922         2  \n",
       "9913         1  "
      ]
     },
     "execution_count": 12,
     "metadata": {},
     "output_type": "execute_result"
    }
   ],
   "source": [
    "sales.sample(5)"
   ]
  },
  {
   "cell_type": "code",
   "execution_count": 13,
   "id": "c5de3978-20ff-4395-a2c5-9e5be830ef98",
   "metadata": {},
   "outputs": [
    {
     "name": "stdout",
     "output_type": "stream",
     "text": [
      "['CONJUNTO L. MARBELLA TRADICIONAL 200CMX200CM']\n"
     ]
    }
   ],
   "source": [
    "faltantes_codproducto = sales[sales['COD. PRODUCTO'].isna()]\n",
    "# Obtener los valores únicos de la columna 'PRODUCTO'\n",
    "valores_unicos_producto = faltantes_codproducto['PRODUCTO'].unique()\n",
    "\n",
    "print(valores_unicos_producto)"
   ]
  },
  {
   "cell_type": "code",
   "execution_count": 14,
   "id": "94c35c7b-2702-41ce-869e-1811d5f8f811",
   "metadata": {},
   "outputs": [
    {
     "name": "stdout",
     "output_type": "stream",
     "text": [
      "Valores únicos en la columna 'PRODUCTO' donde 'COD PRODUCTO' es NaN:\n",
      "['CONJUNTO L. MARBELLA TRADICIONAL 200CMX200CM']\n"
     ]
    }
   ],
   "source": [
    "productos_con_nan = sales[sales['COD. PRODUCTO'].isna()]\n",
    "\n",
    "# Mostrar valores únicos de la columna 'PRODUCTO' donde 'COD PRODUCTO' es NaN\n",
    "valores_producto_nan = productos_con_nan['PRODUCTO'].unique()\n",
    "\n",
    "print(\"Valores únicos en la columna 'PRODUCTO' donde 'COD PRODUCTO' es NaN:\")\n",
    "print(valores_producto_nan)"
   ]
  },
  {
   "cell_type": "code",
   "execution_count": 15,
   "id": "d958a6cd-682a-49d3-9dfb-d163c9e0eb2f",
   "metadata": {},
   "outputs": [],
   "source": [
    "sales.loc[sales['COD. PRODUCTO'].isna(), 'COD. PRODUCTO'] = '1-20-20-200'"
   ]
  },
  {
   "cell_type": "code",
   "execution_count": 16,
   "id": "1497438e-e66d-45db-b426-c989ec010c39",
   "metadata": {},
   "outputs": [
    {
     "data": {
      "text/html": [
       "<div>\n",
       "<style scoped>\n",
       "    .dataframe tbody tr th:only-of-type {\n",
       "        vertical-align: middle;\n",
       "    }\n",
       "\n",
       "    .dataframe tbody tr th {\n",
       "        vertical-align: top;\n",
       "    }\n",
       "\n",
       "    .dataframe thead th {\n",
       "        text-align: right;\n",
       "    }\n",
       "</style>\n",
       "<table border=\"1\" class=\"dataframe\">\n",
       "  <thead>\n",
       "    <tr style=\"text-align: right;\">\n",
       "      <th></th>\n",
       "      <th>VALOR PRED.</th>\n",
       "      <th>ORDEN DE RETIRO</th>\n",
       "      <th>FECHA COMPRA</th>\n",
       "      <th>FECHA RETIRO OCA</th>\n",
       "      <th>COD. PRODUCTO</th>\n",
       "      <th>PRODUCTO</th>\n",
       "      <th>DTO %</th>\n",
       "      <th>PROVINCIA</th>\n",
       "      <th>LOCALIDAD</th>\n",
       "      <th>PLATAFORMA</th>\n",
       "      <th>CANTIDAD</th>\n",
       "    </tr>\n",
       "  </thead>\n",
       "  <tbody>\n",
       "    <tr>\n",
       "      <th>2275</th>\n",
       "      <td>1.0</td>\n",
       "      <td>96374331</td>\n",
       "      <td>15/3/2022</td>\n",
       "      <td>16/3/2022</td>\n",
       "      <td>1-11-16-017</td>\n",
       "      <td>NaN</td>\n",
       "      <td>0.0</td>\n",
       "      <td>SANTA FE</td>\n",
       "      <td>San Jerónimo Norte</td>\n",
       "      <td>mercadolibre</td>\n",
       "      <td>1</td>\n",
       "    </tr>\n",
       "    <tr>\n",
       "      <th>5726</th>\n",
       "      <td>1.0</td>\n",
       "      <td>106677513</td>\n",
       "      <td>10/5/2023</td>\n",
       "      <td>15/5/2023</td>\n",
       "      <td>1-20-20-200</td>\n",
       "      <td>CONJUNTO L. MARBELLA TRADICIONAL 200CMX200CM</td>\n",
       "      <td>NaN</td>\n",
       "      <td>SANTA FE</td>\n",
       "      <td>maciel</td>\n",
       "      <td>mercadolibre</td>\n",
       "      <td>1</td>\n",
       "    </tr>\n",
       "  </tbody>\n",
       "</table>\n",
       "</div>"
      ],
      "text/plain": [
       "     VALOR PRED. ORDEN DE RETIRO FECHA COMPRA FECHA RETIRO OCA COD. PRODUCTO  \\\n",
       "2275         1.0        96374331    15/3/2022        16/3/2022   1-11-16-017   \n",
       "5726         1.0       106677513    10/5/2023        15/5/2023   1-20-20-200   \n",
       "\n",
       "                                          PRODUCTO DTO % PROVINCIA  \\\n",
       "2275                                           NaN   0.0  SANTA FE   \n",
       "5726  CONJUNTO L. MARBELLA TRADICIONAL 200CMX200CM   NaN  SANTA FE   \n",
       "\n",
       "               LOCALIDAD    PLATAFORMA  CANTIDAD  \n",
       "2275  San Jerónimo Norte  mercadolibre         1  \n",
       "5726              maciel  mercadolibre         1  "
      ]
     },
     "execution_count": 16,
     "metadata": {},
     "output_type": "execute_result"
    }
   ],
   "source": [
    "sales.sample(2)"
   ]
  },
  {
   "cell_type": "markdown",
   "id": "c58cfc7f-f569-44e3-b53a-f563e3971b82",
   "metadata": {},
   "source": [
    "* Verificamos si quedan filas donde 'COD PRODUCTO' es nulo"
   ]
  },
  {
   "cell_type": "code",
   "execution_count": 17,
   "id": "569aabcc-ad81-4caa-ade2-4c1677b65dad",
   "metadata": {},
   "outputs": [
    {
     "name": "stdout",
     "output_type": "stream",
     "text": [
      "Filas con 'COD PRODUCTO' faltante:\n"
     ]
    },
    {
     "data": {
      "text/plain": [
       "(0, 11)"
      ]
     },
     "execution_count": 17,
     "metadata": {},
     "output_type": "execute_result"
    }
   ],
   "source": [
    "sin_codproducto = sales[sales['COD. PRODUCTO'].isna()]\n",
    "print(\"Filas con 'COD PRODUCTO' faltante:\")\n",
    "sin_codproducto.shape"
   ]
  },
  {
   "cell_type": "code",
   "execution_count": 18,
   "id": "dd916a16-746b-4cae-b751-d4dc49a2edae",
   "metadata": {},
   "outputs": [
    {
     "name": "stdout",
     "output_type": "stream",
     "text": [
      "Filas con 'PRODUCTO' faltante:\n"
     ]
    },
    {
     "data": {
      "text/plain": [
       "(2212, 11)"
      ]
     },
     "execution_count": 18,
     "metadata": {},
     "output_type": "execute_result"
    }
   ],
   "source": [
    "# Mostrar filas donde 'PRODUCTO' es NaN\n",
    "sin_producto = sales[sales['PRODUCTO'].isna()]\n",
    "print(\"Filas con 'PRODUCTO' faltante:\")\n",
    "sin_producto.shape"
   ]
  },
  {
   "cell_type": "code",
   "execution_count": 19,
   "id": "b635b4cc-9c33-4755-9dba-b4fe94702886",
   "metadata": {},
   "outputs": [
    {
     "name": "stdout",
     "output_type": "stream",
     "text": [
      "['1-11-16-017']\n"
     ]
    }
   ],
   "source": [
    "# Contar valores únicos en 'COD. PRODUCTO'\n",
    "valores_unicos_cod_producto = sin_producto['COD. PRODUCTO'].unique()\n",
    "\n",
    "# Contar la cantidad de valores únicos\n",
    "cantidad_valores_unicos = len(valores_unicos_cod_producto)\n",
    "print(valores_unicos_cod_producto)"
   ]
  },
  {
   "cell_type": "code",
   "execution_count": 20,
   "id": "51899637-0dc0-4f5d-9daa-f4d648f19f62",
   "metadata": {},
   "outputs": [],
   "source": [
    "sales.loc[sales['PRODUCTO'].isna() , 'PRODUCTO'] = 'ALMOHADAS M.COPO 90CM'"
   ]
  },
  {
   "cell_type": "code",
   "execution_count": 21,
   "id": "64f972aa-7f54-4471-bb26-6bd35bb105f7",
   "metadata": {},
   "outputs": [
    {
     "name": "stdout",
     "output_type": "stream",
     "text": [
      "Cantidad de valores nulos por columna:\n",
      "VALOR PRED.          254\n",
      "ORDEN DE RETIRO     3852\n",
      "FECHA COMPRA          40\n",
      "FECHA RETIRO OCA    1104\n",
      "COD. PRODUCTO          0\n",
      "PRODUCTO               0\n",
      "DTO %               6457\n",
      "PROVINCIA             57\n",
      "LOCALIDAD            247\n",
      "PLATAFORMA             0\n",
      "CANTIDAD               0\n",
      "dtype: int64\n"
     ]
    }
   ],
   "source": [
    "# Contar valores nulos en cada columna\n",
    "valores_nulos = sales.isna().sum()\n",
    "\n",
    "print(\"Cantidad de valores nulos por columna:\")\n",
    "print(valores_nulos)"
   ]
  },
  {
   "cell_type": "markdown",
   "id": "258f0865-0b43-43b2-8bf8-606b74e59b54",
   "metadata": {},
   "source": [
    "* Limpieza y correccion de valores en las columnas. "
   ]
  },
  {
   "cell_type": "code",
   "execution_count": 22,
   "id": "c4e6ffdc-c44b-4494-980e-7b58ed227377",
   "metadata": {},
   "outputs": [],
   "source": [
    "# Asignar el valor de 'PROVINCIA' a 'LOCALIDAD' donde 'LOCALIDAD' es nulo\n",
    "sales['LOCALIDAD'] = sales['LOCALIDAD'].fillna(sales['PROVINCIA'])\n",
    "\n",
    "# Asignar 'Descripcion faltante' donde 'COD. PRODUCTO' sea NaN\n",
    "sales['COD. PRODUCTO'] = sales['COD. PRODUCTO'].fillna('Descripcion faltante')\n",
    "\n",
    "#Convertir la columna 'DTO' a valores enteros\n",
    "sales['DTO %'] = sales['DTO %'].replace(['$0,00', 0.0], '0').fillna('0')"
   ]
  },
  {
   "cell_type": "code",
   "execution_count": 23,
   "id": "0e8ed19f-6d07-4467-9169-080c698ec793",
   "metadata": {},
   "outputs": [
    {
     "name": "stdout",
     "output_type": "stream",
     "text": [
      "Valores nulos restantes por columna:\n",
      "VALOR PRED.          254\n",
      "ORDEN DE RETIRO     3852\n",
      "FECHA COMPRA          40\n",
      "FECHA RETIRO OCA    1104\n",
      "COD. PRODUCTO          0\n",
      "PRODUCTO               0\n",
      "DTO %                  0\n",
      "PROVINCIA             57\n",
      "LOCALIDAD             57\n",
      "PLATAFORMA             0\n",
      "CANTIDAD               0\n",
      "dtype: int64\n"
     ]
    }
   ],
   "source": [
    "# Verificar valores nulos restantes en todo el dataset\n",
    "print(\"Valores nulos restantes por columna:\")\n",
    "print(sales.isna().sum())"
   ]
  },
  {
   "cell_type": "code",
   "execution_count": 24,
   "id": "7c19052d-ceb5-4ce7-9520-614be9c6f6f2",
   "metadata": {
    "scrolled": true
   },
   "outputs": [],
   "source": [
    "# Eliminar las columnas que no voy a utilizar\n",
    "sales = sales.drop(columns=['VALOR PRED.', 'ORDEN DE RETIRO', 'FECHA RETIRO OCA'])\n",
    "# Eliminar filas donde 'PROVINCIA' sea NaN\n",
    "sales = sales.dropna(subset=['PROVINCIA'])\n",
    "# Convertir la columna 'CANTIDAD' a enteros\n",
    "sales['CANTIDAD'] = sales['CANTIDAD'].astype(int)\n",
    "# Convertir la columna 'DTO %' a tipo numérico para reemplazar los valores que no son % de descuento sino monto en pesos\n",
    "sales['DTO %'] = pd.to_numeric(sales['DTO %'], errors='coerce')\n",
    "# Reemplazar valores de DTO % fuera del rango (negativos o mayores a 50) y nulos con 0\n",
    "sales['DTO %'] = sales['DTO %'].apply(lambda x: 0 if pd.isna(x) or x > 50 or x < 0 else x)\n"
   ]
  },
  {
   "cell_type": "code",
   "execution_count": 25,
   "id": "9d7500db-64ef-4b51-97c1-610b3ce16339",
   "metadata": {},
   "outputs": [],
   "source": [
    "# Eliminar filas donde 'FECHA COMPRA' sea NaN, REVISAR para buscar la fecha \n",
    "sales = sales.dropna(subset=['FECHA COMPRA'])"
   ]
  },
  {
   "cell_type": "code",
   "execution_count": 26,
   "id": "09580681-f387-4736-a15d-488e2f44c84c",
   "metadata": {},
   "outputs": [
    {
     "name": "stderr",
     "output_type": "stream",
     "text": [
      "C:\\Users\\bosch\\AppData\\Local\\Temp\\ipykernel_38096\\3226930836.py:1: UserWarning: Parsing dates in %d/%m/%Y format when dayfirst=False (the default) was specified. Pass `dayfirst=True` or specify a format to silence this warning.\n",
      "  sales['FECHA COMPRA'] = pd.to_datetime(sales['FECHA COMPRA'], errors='coerce')\n"
     ]
    }
   ],
   "source": [
    "sales['FECHA COMPRA'] = pd.to_datetime(sales['FECHA COMPRA'], errors='coerce')\n",
    "\n",
    "sales['FECHA COMPRA'] = sales['FECHA COMPRA'].ffill()  # Rellenar con el valor anterior\n",
    "sales['FECHA COMPRA'] = sales['FECHA COMPRA'].bfill()  # Si no hay anterior, usar el siguiente\n",
    "\n",
    "sales = sales.sort_values(by='FECHA COMPRA')"
   ]
  },
  {
   "cell_type": "code",
   "execution_count": 27,
   "id": "cb5eb4f7-6c37-4b9c-bbaa-1ce518d82293",
   "metadata": {},
   "outputs": [
    {
     "data": {
      "text/html": [
       "<div>\n",
       "<style scoped>\n",
       "    .dataframe tbody tr th:only-of-type {\n",
       "        vertical-align: middle;\n",
       "    }\n",
       "\n",
       "    .dataframe tbody tr th {\n",
       "        vertical-align: top;\n",
       "    }\n",
       "\n",
       "    .dataframe thead th {\n",
       "        text-align: right;\n",
       "    }\n",
       "</style>\n",
       "<table border=\"1\" class=\"dataframe\">\n",
       "  <thead>\n",
       "    <tr style=\"text-align: right;\">\n",
       "      <th></th>\n",
       "      <th>FECHA COMPRA</th>\n",
       "      <th>COD. PRODUCTO</th>\n",
       "      <th>PRODUCTO</th>\n",
       "      <th>DTO %</th>\n",
       "      <th>PROVINCIA</th>\n",
       "      <th>LOCALIDAD</th>\n",
       "      <th>PLATAFORMA</th>\n",
       "      <th>CANTIDAD</th>\n",
       "    </tr>\n",
       "  </thead>\n",
       "  <tbody>\n",
       "    <tr>\n",
       "      <th>8458</th>\n",
       "      <td>2022-06-03</td>\n",
       "      <td>1-12-40-006</td>\n",
       "      <td>COLCHÓN L. ROMA TRADICIONAL 140CMX190CM</td>\n",
       "      <td>3.0</td>\n",
       "      <td>CÓRDOBA</td>\n",
       "      <td>#¿NOMBRE?</td>\n",
       "      <td>megatone</td>\n",
       "      <td>1</td>\n",
       "    </tr>\n",
       "    <tr>\n",
       "      <th>9823</th>\n",
       "      <td>2022-12-12</td>\n",
       "      <td>1-12-40-002</td>\n",
       "      <td>COLCHÓN L. ROMA TRADICIONAL 80CMX190CM</td>\n",
       "      <td>4.0</td>\n",
       "      <td>BUENOS AIRES</td>\n",
       "      <td>CIUDAD EVITA</td>\n",
       "      <td>megatone</td>\n",
       "      <td>1</td>\n",
       "    </tr>\n",
       "    <tr>\n",
       "      <th>9506</th>\n",
       "      <td>2022-11-02</td>\n",
       "      <td>1-11-08-002</td>\n",
       "      <td>COLCHÓN L. PEKIN TRADICIONAL 80CMX190CM</td>\n",
       "      <td>4.0</td>\n",
       "      <td>SANTA FE</td>\n",
       "      <td>CLUCELLAS</td>\n",
       "      <td>megatone</td>\n",
       "      <td>1</td>\n",
       "    </tr>\n",
       "    <tr>\n",
       "      <th>8715</th>\n",
       "      <td>2022-07-06</td>\n",
       "      <td>1-10-01-001</td>\n",
       "      <td>ALMOHADAS L.COPO 70CM</td>\n",
       "      <td>0.0</td>\n",
       "      <td>BUENOS AIRES</td>\n",
       "      <td>CITY BELL</td>\n",
       "      <td>megatone</td>\n",
       "      <td>2</td>\n",
       "    </tr>\n",
       "    <tr>\n",
       "      <th>97</th>\n",
       "      <td>2023-05-03</td>\n",
       "      <td>1-20-20-200</td>\n",
       "      <td>CONJUNTO L. MARBELLA TRADICIONAL 200CMX200CM</td>\n",
       "      <td>0.0</td>\n",
       "      <td>BUENOS AIRES</td>\n",
       "      <td>Boulogne</td>\n",
       "      <td>fravega</td>\n",
       "      <td>1</td>\n",
       "    </tr>\n",
       "  </tbody>\n",
       "</table>\n",
       "</div>"
      ],
      "text/plain": [
       "     FECHA COMPRA COD. PRODUCTO                                      PRODUCTO  \\\n",
       "8458   2022-06-03   1-12-40-006       COLCHÓN L. ROMA TRADICIONAL 140CMX190CM   \n",
       "9823   2022-12-12   1-12-40-002        COLCHÓN L. ROMA TRADICIONAL 80CMX190CM   \n",
       "9506   2022-11-02   1-11-08-002       COLCHÓN L. PEKIN TRADICIONAL 80CMX190CM   \n",
       "8715   2022-07-06   1-10-01-001                         ALMOHADAS L.COPO 70CM   \n",
       "97     2023-05-03   1-20-20-200  CONJUNTO L. MARBELLA TRADICIONAL 200CMX200CM   \n",
       "\n",
       "      DTO %     PROVINCIA     LOCALIDAD PLATAFORMA  CANTIDAD  \n",
       "8458    3.0       CÓRDOBA     #¿NOMBRE?   megatone         1  \n",
       "9823    4.0  BUENOS AIRES  CIUDAD EVITA   megatone         1  \n",
       "9506    4.0      SANTA FE     CLUCELLAS   megatone         1  \n",
       "8715    0.0  BUENOS AIRES     CITY BELL   megatone         2  \n",
       "97      0.0  BUENOS AIRES      Boulogne    fravega         1  "
      ]
     },
     "execution_count": 27,
     "metadata": {},
     "output_type": "execute_result"
    }
   ],
   "source": [
    "sales.sample(5)"
   ]
  },
  {
   "cell_type": "code",
   "execution_count": 28,
   "id": "c2a46906-7669-4bc9-8026-093cad8f2509",
   "metadata": {},
   "outputs": [
    {
     "name": "stdout",
     "output_type": "stream",
     "text": [
      "Valores nulos restantes por columna:\n",
      "FECHA COMPRA     0\n",
      "COD. PRODUCTO    0\n",
      "PRODUCTO         0\n",
      "DTO %            0\n",
      "PROVINCIA        0\n",
      "LOCALIDAD        0\n",
      "PLATAFORMA       0\n",
      "CANTIDAD         0\n",
      "dtype: int64\n"
     ]
    }
   ],
   "source": [
    "# Verificar valores nulos restantes en todo el dataset\n",
    "print(\"Valores nulos restantes por columna:\")\n",
    "print(sales.isna().sum())"
   ]
  },
  {
   "cell_type": "markdown",
   "id": "ce8222a0-7ecf-44a0-b01d-4fac35c00558",
   "metadata": {},
   "source": [
    "## A modo resumen un detalle de las transformaciones realizadas a las variables \n",
    "\n",
    "* Valor Pred : Eliminada ya que no aporta valor al modelo\n",
    "* Orden de Retiro : Eliminada ya que no aporta valor al modelo, es un identificador de la venta\n",
    "* Fecha retiro OCA: Eliminada ya que no aporta valor al modelo\n",
    "* Fecha compra : El data set inical estaba ordenado por fecha, cuando algun registro no contaba con la misma se buscó insertar la mas cercana en el índice anterior.\n",
    "* Cantidad: se convirtió a valor entero en todos sus casos.\n",
    "* Cod. Producto: se rellenó los valores faltantes comparando la descripcion del producto en otras celdas que tenga el cod producto cargado.\n",
    "* Producto: se rellenó los valores faltantes comparando el cod. producto en otras celdas que tenga la misma descripción del producto cargada. \n",
    "* DTO %: Algunos registros no tenian valor porcentual sino numérico, por lo que cuando se encontraba un valor mayor a 50 se insertó 0.\n",
    "* Localidad: Se rellenó para los valores faltantes con el nombre de la provincia como valor genérico, posiblemente no aporte mucho valor al modelo.\n",
    "* Provincia: Se eliminaron los registros que no contaban con provincia asignada\n"
   ]
  },
  {
   "cell_type": "markdown",
   "id": "43be31bc-e2d1-4ca5-a9c4-ec90bb566bfe",
   "metadata": {},
   "source": [
    "## Realizar un análisis individual de cada variable de entrada que será utilizada. A partir del mismo debería poder conocerse la distribución de los datos, si existen valores raros, su relación con la variable de salida, etc."
   ]
  },
  {
   "cell_type": "code",
   "execution_count": 29,
   "id": "08a82cfd-2a2f-4d8a-bdee-30c886628f1c",
   "metadata": {},
   "outputs": [
    {
     "data": {
      "image/png": "[encoded data removed]",
      "text/plain": [
       "<Figure size 600x600 with 1 Axes>"
      ]
     },
     "metadata": {},
     "output_type": "display_data"
    }
   ],
   "source": [
    "import matplotlib.pyplot as plt\n",
    "\n",
    "# Filtrar valores no nulos y calcular frecuencia\n",
    "cantidad_frecuencia = sales['CANTIDAD'].value_counts()\n",
    "\n",
    "plt.figure(figsize=(6, 6))  # Ajustar tamaño del gráfico\n",
    "wedges, texts, autotexts = plt.pie(\n",
    "    cantidad_frecuencia, \n",
    "    labels=cantidad_frecuencia.index, \n",
    "    autopct='%2.2f%%', \n",
    "    startangle=140\n",
    ")\n",
    "leyenda = [f\"{index}: {value} \" for index, value in cantidad_frecuencia.items()]\n",
    "plt.legend(\n",
    "    wedges, \n",
    "    leyenda, \n",
    "    title=\"Valores cantidad productos por venta\", \n",
    "    loc=\"center left\", \n",
    "    bbox_to_anchor=(1, 0, 0.5, 1)\n",
    ")\n",
    "plt.title('Distribución de Cantidad')\n",
    "plt.show()\n",
    "\n"
   ]
  },
  {
   "cell_type": "code",
   "execution_count": 30,
   "id": "712c13e8-b063-4445-a6c8-bd259819d67c",
   "metadata": {},
   "outputs": [
    {
     "data": {
      "image/png": "[encoded data removed]",
      "text/plain": [
       "<Figure size 600x300 with 1 Axes>"
      ]
     },
     "metadata": {},
     "output_type": "display_data"
    }
   ],
   "source": [
    "dto_frecuencia = sales['DTO %'].value_counts().sort_index()\n",
    "\n",
    "plt.figure(figsize=(6, 3))\n",
    "plt.hist(sales['DTO %'], bins=10, edgecolor='black', color='skyblue', alpha=0.7)\n",
    "plt.title('Distribución de DTO %', fontsize=16, fontweight='bold')\n",
    "plt.xlabel('Descuento (%)', fontsize=10)\n",
    "plt.ylabel('Frecuencia', fontsize=10)\n",
    "\n",
    "plt.grid(axis='y', linestyle='--', alpha=0.7)\n",
    "\n",
    "frecuencias_texto = \"\\n\".join([f\"{index}%: {value}\" for index, value in dto_frecuencia.items()])\n",
    "plt.gcf().text(0.95, 0.5, frecuencias_texto, fontsize=12, verticalalignment='center')\n",
    "plt.subplots_adjust(right=0.85)\n",
    "\n",
    "plt.show()"
   ]
  },
  {
   "cell_type": "code",
   "execution_count": 31,
   "id": "0af6f53b-5ca7-46a2-9010-393adbae2124",
   "metadata": {},
   "outputs": [
    {
     "data": {
      "image/png": "[encoded data removed]",
      "text/plain": [
       "<Figure size 400x800 with 1 Axes>"
      ]
     },
     "metadata": {},
     "output_type": "display_data"
    }
   ],
   "source": [
    "frecuencia_plataforma = sales['PLATAFORMA'].value_counts()\n",
    "\n",
    "plt.figure(figsize=(4, 8))\n",
    "plt.pie(\n",
    "    frecuencia_plataforma,\n",
    "    autopct='%1.1f%%',\n",
    "    startangle=140,\n",
    "    colors=plt.cm.Paired.colors\n",
    ")\n",
    "plt.title('Distribución de Ventas por Plataforma', fontsize=12)\n",
    "plt.legend(\n",
    "    labels=[f\"{index}: {value} registros\" for index, value in frecuencia_plataforma.items()],\n",
    "    title=\"Detalle de Plataformas\",    \n",
    "    loc=\"center left\",\n",
    "    bbox_to_anchor=(1.2, 0.8)  \n",
    ")\n",
    "\n",
    "plt.show()"
   ]
  },
  {
   "cell_type": "code",
   "execution_count": 32,
   "id": "54e2e54b-044d-48ef-b470-d201be1eba97",
   "metadata": {},
   "outputs": [
    {
     "data": {
      "image/png": "[encoded data removed]",
      "text/plain": [
       "<Figure size 600x600 with 1 Axes>"
      ]
     },
     "metadata": {},
     "output_type": "display_data"
    }
   ],
   "source": [
    "frecuencia_provincia = sales['PROVINCIA'].value_counts().head(10)\n",
    "\n",
    "plt.figure(figsize=(6, 6))\n",
    "plt.pie(\n",
    "    frecuencia_provincia,\n",
    "    labels=frecuencia_provincia.index,\n",
    "    autopct='%1.1f%%',\n",
    "    startangle=140,\n",
    "    colors=plt.cm.Set3.colors\n",
    ")\n",
    "plt.title('Distribución de Ventas por Provincia (Top 10)', fontsize=12)\n",
    "plt.legend(\n",
    "    labels=[f\"{index}: {value} ventas\" for index, value in frecuencia_provincia.items()],\n",
    "    title=\"Detalle de Provincias\",\n",
    "    loc=\"center left\", \n",
    "    bbox_to_anchor=(1.3, 0.7) \n",
    ")\n",
    "\n",
    "plt.show()\n"
   ]
  },
  {
   "cell_type": "code",
   "execution_count": 33,
   "id": "e44cc8cb-777c-4b8e-81a4-7c7a61fde210",
   "metadata": {},
   "outputs": [
    {
     "data": {
      "image/png": "[encoded data removed]",
      "text/plain": [
       "<Figure size 600x600 with 1 Axes>"
      ]
     },
     "metadata": {},
     "output_type": "display_data"
    }
   ],
   "source": [
    "frecuencia_provincia = sales['COD. PRODUCTO'].value_counts().head(10)\n",
    "\n",
    "plt.figure(figsize=(6, 6))\n",
    "plt.pie(\n",
    "    frecuencia_provincia,\n",
    "    autopct='%1.1f%%',\n",
    "    startangle=140,\n",
    "    colors=plt.cm.Set3.colors\n",
    ")\n",
    "plt.title('Distribución de Ventas por Cod Producto (Top 10)', fontsize=12)\n",
    "plt.legend(\n",
    "    labels=[f\"{index}: {value} ventas\" for index, value in frecuencia_provincia.items()],\n",
    "    title=\"Detalle de códigos de producto\",\n",
    "    loc=\"center left\", \n",
    "    bbox_to_anchor=(1.3, 0.7) \n",
    ")\n",
    "\n",
    "plt.show()"
   ]
  },
  {
   "cell_type": "markdown",
   "id": "f7a55751-f743-44f8-869c-801065f67f2e",
   "metadata": {},
   "source": [
    "## Transformaciones Fecha Compra"
   ]
  },
  {
   "cell_type": "code",
   "execution_count": 34,
   "id": "24640a8a-5804-4a9a-8e13-c8b542979230",
   "metadata": {},
   "outputs": [],
   "source": [
    "# Convertir 'FECHA COMPRA' a datetime especificando el formato exacto\n",
    "sales['FECHA COMPRA'] = pd.to_datetime(sales['FECHA COMPRA'], format='%d/%m/%Y')"
   ]
  },
  {
   "cell_type": "code",
   "execution_count": 35,
   "id": "b4ef9cb9-e417-4845-a5ac-ce7553cde9bb",
   "metadata": {},
   "outputs": [
    {
     "data": {
      "text/html": [
       "<div>\n",
       "<style scoped>\n",
       "    .dataframe tbody tr th:only-of-type {\n",
       "        vertical-align: middle;\n",
       "    }\n",
       "\n",
       "    .dataframe tbody tr th {\n",
       "        vertical-align: top;\n",
       "    }\n",
       "\n",
       "    .dataframe thead th {\n",
       "        text-align: right;\n",
       "    }\n",
       "</style>\n",
       "<table border=\"1\" class=\"dataframe\">\n",
       "  <thead>\n",
       "    <tr style=\"text-align: right;\">\n",
       "      <th></th>\n",
       "      <th>FECHA COMPRA</th>\n",
       "      <th>COD. PRODUCTO</th>\n",
       "      <th>PRODUCTO</th>\n",
       "      <th>DTO %</th>\n",
       "      <th>PROVINCIA</th>\n",
       "      <th>LOCALIDAD</th>\n",
       "      <th>PLATAFORMA</th>\n",
       "      <th>CANTIDAD</th>\n",
       "      <th>AÑO</th>\n",
       "      <th>MES</th>\n",
       "    </tr>\n",
       "  </thead>\n",
       "  <tbody>\n",
       "    <tr>\n",
       "      <th>3725</th>\n",
       "      <td>2022-10-31</td>\n",
       "      <td>1-11-16-017</td>\n",
       "      <td>ALMOHADAS M.COPO 90CM</td>\n",
       "      <td>0.0</td>\n",
       "      <td>RÍO NEGRO</td>\n",
       "      <td>Villa Regina</td>\n",
       "      <td>mercadolibre</td>\n",
       "      <td>1</td>\n",
       "      <td>2022</td>\n",
       "      <td>10</td>\n",
       "    </tr>\n",
       "    <tr>\n",
       "      <th>9225</th>\n",
       "      <td>2022-09-19</td>\n",
       "      <td>1-10-05-002</td>\n",
       "      <td>ALMOHADAS L.VISCOÉLASTICA 80CM</td>\n",
       "      <td>0.0</td>\n",
       "      <td>BUENOS AIRES</td>\n",
       "      <td>ZARATE</td>\n",
       "      <td>megatone</td>\n",
       "      <td>2</td>\n",
       "      <td>2022</td>\n",
       "      <td>9</td>\n",
       "    </tr>\n",
       "    <tr>\n",
       "      <th>814</th>\n",
       "      <td>2023-10-25</td>\n",
       "      <td>1-22-41-007</td>\n",
       "      <td>CONJUNTO L. MARINERA TRAD RESORTE 90CMX190CM S...</td>\n",
       "      <td>0.0</td>\n",
       "      <td>SANTA CRUZ</td>\n",
       "      <td>Los Antiguos</td>\n",
       "      <td>fravega</td>\n",
       "      <td>1</td>\n",
       "      <td>2023</td>\n",
       "      <td>10</td>\n",
       "    </tr>\n",
       "    <tr>\n",
       "      <th>7880</th>\n",
       "      <td>2022-02-01</td>\n",
       "      <td>1-10-01-002</td>\n",
       "      <td>ALMOHADAS L.COPO 80CM</td>\n",
       "      <td>0.0</td>\n",
       "      <td>CAPITAL FEDERAL</td>\n",
       "      <td>CAPITAL FEDERAL</td>\n",
       "      <td>megatone</td>\n",
       "      <td>1</td>\n",
       "      <td>2022</td>\n",
       "      <td>2</td>\n",
       "    </tr>\n",
       "    <tr>\n",
       "      <th>4522</th>\n",
       "      <td>2023-01-27</td>\n",
       "      <td>1-20-20-200</td>\n",
       "      <td>CONJUNTO L. MARBELLA TRADICIONAL 200CMX200CM</td>\n",
       "      <td>0.0</td>\n",
       "      <td>BUENOS AIRES</td>\n",
       "      <td>Coronel Suárez</td>\n",
       "      <td>mercadolibre</td>\n",
       "      <td>1</td>\n",
       "      <td>2023</td>\n",
       "      <td>1</td>\n",
       "    </tr>\n",
       "    <tr>\n",
       "      <th>9691</th>\n",
       "      <td>2022-11-24</td>\n",
       "      <td>1-15-40-006</td>\n",
       "      <td>CONJUNTO L. ROMA TRADICIONAL 140CMX190CM</td>\n",
       "      <td>4.0</td>\n",
       "      <td>SANTA FE</td>\n",
       "      <td>Santa Fe</td>\n",
       "      <td>megatone</td>\n",
       "      <td>1</td>\n",
       "      <td>2022</td>\n",
       "      <td>11</td>\n",
       "    </tr>\n",
       "    <tr>\n",
       "      <th>2977</th>\n",
       "      <td>2022-07-05</td>\n",
       "      <td>1-11-16-017</td>\n",
       "      <td>ALMOHADAS M.COPO 90CM</td>\n",
       "      <td>0.0</td>\n",
       "      <td>LA RIOJA</td>\n",
       "      <td>Milagro</td>\n",
       "      <td>mercadolibre</td>\n",
       "      <td>1</td>\n",
       "      <td>2022</td>\n",
       "      <td>7</td>\n",
       "    </tr>\n",
       "    <tr>\n",
       "      <th>6830</th>\n",
       "      <td>2023-11-16</td>\n",
       "      <td>1-22-41-007</td>\n",
       "      <td>CONJUNTO L. MARINERA TRAD RESORTE 90CMX190CM S...</td>\n",
       "      <td>0.0</td>\n",
       "      <td>NEUQUÉN</td>\n",
       "      <td>Villa La Angostura</td>\n",
       "      <td>mercadolibre</td>\n",
       "      <td>1</td>\n",
       "      <td>2023</td>\n",
       "      <td>11</td>\n",
       "    </tr>\n",
       "    <tr>\n",
       "      <th>9543</th>\n",
       "      <td>2022-11-02</td>\n",
       "      <td>1-20-20-200</td>\n",
       "      <td>CONJUNTO L. MARBELLA TRADICIONAL 200CMX200CM</td>\n",
       "      <td>4.0</td>\n",
       "      <td>BUENOS AIRES</td>\n",
       "      <td>BELLA VISTA</td>\n",
       "      <td>megatone</td>\n",
       "      <td>1</td>\n",
       "      <td>2022</td>\n",
       "      <td>11</td>\n",
       "    </tr>\n",
       "    <tr>\n",
       "      <th>8263</th>\n",
       "      <td>2022-05-14</td>\n",
       "      <td>1-20-20-200</td>\n",
       "      <td>CONJUNTO L. MARBELLA TRADICIONAL 200CMX200CM</td>\n",
       "      <td>0.0</td>\n",
       "      <td>SANTA FE</td>\n",
       "      <td>ROSARIO</td>\n",
       "      <td>megatone</td>\n",
       "      <td>1</td>\n",
       "      <td>2022</td>\n",
       "      <td>5</td>\n",
       "    </tr>\n",
       "  </tbody>\n",
       "</table>\n",
       "</div>"
      ],
      "text/plain": [
       "     FECHA COMPRA COD. PRODUCTO  \\\n",
       "3725   2022-10-31   1-11-16-017   \n",
       "9225   2022-09-19   1-10-05-002   \n",
       "814    2023-10-25   1-22-41-007   \n",
       "7880   2022-02-01   1-10-01-002   \n",
       "4522   2023-01-27   1-20-20-200   \n",
       "9691   2022-11-24   1-15-40-006   \n",
       "2977   2022-07-05   1-11-16-017   \n",
       "6830   2023-11-16   1-22-41-007   \n",
       "9543   2022-11-02   1-20-20-200   \n",
       "8263   2022-05-14   1-20-20-200   \n",
       "\n",
       "                                               PRODUCTO  DTO %  \\\n",
       "3725                              ALMOHADAS M.COPO 90CM    0.0   \n",
       "9225                     ALMOHADAS L.VISCOÉLASTICA 80CM    0.0   \n",
       "814   CONJUNTO L. MARINERA TRAD RESORTE 90CMX190CM S...    0.0   \n",
       "7880                              ALMOHADAS L.COPO 80CM    0.0   \n",
       "4522       CONJUNTO L. MARBELLA TRADICIONAL 200CMX200CM    0.0   \n",
       "9691           CONJUNTO L. ROMA TRADICIONAL 140CMX190CM    4.0   \n",
       "2977                              ALMOHADAS M.COPO 90CM    0.0   \n",
       "6830  CONJUNTO L. MARINERA TRAD RESORTE 90CMX190CM S...    0.0   \n",
       "9543       CONJUNTO L. MARBELLA TRADICIONAL 200CMX200CM    4.0   \n",
       "8263       CONJUNTO L. MARBELLA TRADICIONAL 200CMX200CM    0.0   \n",
       "\n",
       "            PROVINCIA           LOCALIDAD    PLATAFORMA  CANTIDAD   AÑO  MES  \n",
       "3725        RÍO NEGRO        Villa Regina  mercadolibre         1  2022   10  \n",
       "9225     BUENOS AIRES              ZARATE      megatone         2  2022    9  \n",
       "814        SANTA CRUZ        Los Antiguos       fravega         1  2023   10  \n",
       "7880  CAPITAL FEDERAL     CAPITAL FEDERAL      megatone         1  2022    2  \n",
       "4522     BUENOS AIRES      Coronel Suárez  mercadolibre         1  2023    1  \n",
       "9691         SANTA FE            Santa Fe      megatone         1  2022   11  \n",
       "2977         LA RIOJA             Milagro  mercadolibre         1  2022    7  \n",
       "6830          NEUQUÉN  Villa La Angostura  mercadolibre         1  2023   11  \n",
       "9543     BUENOS AIRES         BELLA VISTA      megatone         1  2022   11  \n",
       "8263         SANTA FE             ROSARIO      megatone         1  2022    5  "
      ]
     },
     "execution_count": 35,
     "metadata": {},
     "output_type": "execute_result"
    }
   ],
   "source": [
    "# Crear columnas temporales\n",
    "sales['AÑO'] = sales['FECHA COMPRA'].dt.year\n",
    "sales['MES'] = sales['FECHA COMPRA'].dt.month\n",
    "\n",
    "sales.sample(10)"
   ]
  },
  {
   "cell_type": "markdown",
   "id": "ceebbeba-b587-4ae1-a107-0d9511da3791",
   "metadata": {},
   "source": [
    "* Distribucion de ventas por mes"
   ]
  },
  {
   "cell_type": "code",
   "execution_count": 36,
   "id": "ff392c56-ff3a-4a3f-b52f-fdc05da5f76c",
   "metadata": {},
   "outputs": [
    {
     "data": {
      "image/png": "[encoded data removed]",
      "text/plain": [
       "<Figure size 600x400 with 1 Axes>"
      ]
     },
     "metadata": {},
     "output_type": "display_data"
    }
   ],
   "source": [
    "ventas_por_mes = sales.groupby('MES')['CANTIDAD'].sum()\n",
    "\n",
    "plt.figure(figsize=(6, 4))\n",
    "ventas_por_mes.plot(kind='bar', color='skyblue', edgecolor='black')\n",
    "plt.title('Ventas por Mes', fontsize=16, fontweight='bold')\n",
    "plt.xlabel('Mes', fontsize=14)\n",
    "plt.ylabel('Cantidad Vendida', fontsize=14)\n",
    "plt.xticks(rotation=0)\n",
    "plt.grid(axis='y', linestyle='--', alpha=0.7)\n",
    "plt.show()\n",
    "\n"
   ]
  },
  {
   "cell_type": "markdown",
   "id": "c1b1bdb5-77b3-49d4-96d7-ddf9a18f2f92",
   "metadata": {},
   "source": [
    "## Adapto el dataset para analizar tanto patrones semanales como mensuales. El objetivo es trabajar con la predicción por período de tiempo y agrupar las ventas por un intervalo de tiempo y producto"
   ]
  },
  {
   "cell_type": "code",
   "execution_count": 37,
   "id": "94be5434-32f4-4dd0-bc87-aae6f222e9ee",
   "metadata": {},
   "outputs": [
    {
     "data": {
      "text/html": [
       "<div>\n",
       "<style scoped>\n",
       "    .dataframe tbody tr th:only-of-type {\n",
       "        vertical-align: middle;\n",
       "    }\n",
       "\n",
       "    .dataframe tbody tr th {\n",
       "        vertical-align: top;\n",
       "    }\n",
       "\n",
       "    .dataframe thead th {\n",
       "        text-align: right;\n",
       "    }\n",
       "</style>\n",
       "<table border=\"1\" class=\"dataframe\">\n",
       "  <thead>\n",
       "    <tr style=\"text-align: right;\">\n",
       "      <th></th>\n",
       "      <th>AÑO</th>\n",
       "      <th>MES</th>\n",
       "      <th>COD. PRODUCTO</th>\n",
       "      <th>PRODUCTO</th>\n",
       "      <th>DTO %</th>\n",
       "      <th>CANTIDAD_TOTAL</th>\n",
       "    </tr>\n",
       "  </thead>\n",
       "  <tbody>\n",
       "    <tr>\n",
       "      <th>657</th>\n",
       "      <td>2022</td>\n",
       "      <td>9</td>\n",
       "      <td>1-14-07-006</td>\n",
       "      <td>CONJUNTO L. HARTMANN TRADICIONAL 140CMX190CM</td>\n",
       "      <td>5.0</td>\n",
       "      <td>2</td>\n",
       "    </tr>\n",
       "    <tr>\n",
       "      <th>221</th>\n",
       "      <td>2021</td>\n",
       "      <td>11</td>\n",
       "      <td>1-10-01-002</td>\n",
       "      <td>ALMOHADAS L.COPO 80CM</td>\n",
       "      <td>0.0</td>\n",
       "      <td>9</td>\n",
       "    </tr>\n",
       "    <tr>\n",
       "      <th>209</th>\n",
       "      <td>2021</td>\n",
       "      <td>10</td>\n",
       "      <td>1-14-17-018</td>\n",
       "      <td>CONJUNTO L. DONATELLO TRADICIONAL 180CMX200CM</td>\n",
       "      <td>0.0</td>\n",
       "      <td>1</td>\n",
       "    </tr>\n",
       "    <tr>\n",
       "      <th>560</th>\n",
       "      <td>2022</td>\n",
       "      <td>7</td>\n",
       "      <td>1-11-07-006</td>\n",
       "      <td>COLCHÓN L. HARTMANN TRADICIONAL 140CMX190CM</td>\n",
       "      <td>0.0</td>\n",
       "      <td>1</td>\n",
       "    </tr>\n",
       "    <tr>\n",
       "      <th>1039</th>\n",
       "      <td>2023</td>\n",
       "      <td>8</td>\n",
       "      <td>1-22-41-007</td>\n",
       "      <td>CONJUNTO L. MARINERA TRAD RESORTE 90CMX190CM S...</td>\n",
       "      <td>0.0</td>\n",
       "      <td>64</td>\n",
       "    </tr>\n",
       "    <tr>\n",
       "      <th>96</th>\n",
       "      <td>2021</td>\n",
       "      <td>7</td>\n",
       "      <td>1-12-40-004</td>\n",
       "      <td>COLCHÓN L. ROMA TRADICIONAL 100CMX190CM</td>\n",
       "      <td>0.0</td>\n",
       "      <td>2</td>\n",
       "    </tr>\n",
       "    <tr>\n",
       "      <th>101</th>\n",
       "      <td>2021</td>\n",
       "      <td>7</td>\n",
       "      <td>1-14-17-018</td>\n",
       "      <td>CONJUNTO L. DONATELLO TRADICIONAL 180CMX200CM</td>\n",
       "      <td>0.0</td>\n",
       "      <td>1</td>\n",
       "    </tr>\n",
       "    <tr>\n",
       "      <th>678</th>\n",
       "      <td>2022</td>\n",
       "      <td>10</td>\n",
       "      <td>1-11-02-002</td>\n",
       "      <td>COLCHÓN L. SUPER CONFORT TRADICIONAL 80CMX190CM</td>\n",
       "      <td>0.0</td>\n",
       "      <td>1</td>\n",
       "    </tr>\n",
       "    <tr>\n",
       "      <th>684</th>\n",
       "      <td>2022</td>\n",
       "      <td>10</td>\n",
       "      <td>1-11-08-002</td>\n",
       "      <td>COLCHÓN L. PEKIN TRADICIONAL 80CMX190CM</td>\n",
       "      <td>0.0</td>\n",
       "      <td>3</td>\n",
       "    </tr>\n",
       "    <tr>\n",
       "      <th>54</th>\n",
       "      <td>2021</td>\n",
       "      <td>6</td>\n",
       "      <td>1-11-06-004</td>\n",
       "      <td>COLCHÓN L. RELAX 22 TRADICIONAL 100CMX190CM</td>\n",
       "      <td>0.0</td>\n",
       "      <td>1</td>\n",
       "    </tr>\n",
       "  </tbody>\n",
       "</table>\n",
       "</div>"
      ],
      "text/plain": [
       "       AÑO  MES COD. PRODUCTO  \\\n",
       "657   2022    9   1-14-07-006   \n",
       "221   2021   11   1-10-01-002   \n",
       "209   2021   10   1-14-17-018   \n",
       "560   2022    7   1-11-07-006   \n",
       "1039  2023    8   1-22-41-007   \n",
       "96    2021    7   1-12-40-004   \n",
       "101   2021    7   1-14-17-018   \n",
       "678   2022   10   1-11-02-002   \n",
       "684   2022   10   1-11-08-002   \n",
       "54    2021    6   1-11-06-004   \n",
       "\n",
       "                                               PRODUCTO  DTO %  CANTIDAD_TOTAL  \n",
       "657        CONJUNTO L. HARTMANN TRADICIONAL 140CMX190CM    5.0               2  \n",
       "221                               ALMOHADAS L.COPO 80CM    0.0               9  \n",
       "209       CONJUNTO L. DONATELLO TRADICIONAL 180CMX200CM    0.0               1  \n",
       "560         COLCHÓN L. HARTMANN TRADICIONAL 140CMX190CM    0.0               1  \n",
       "1039  CONJUNTO L. MARINERA TRAD RESORTE 90CMX190CM S...    0.0              64  \n",
       "96              COLCHÓN L. ROMA TRADICIONAL 100CMX190CM    0.0               2  \n",
       "101       CONJUNTO L. DONATELLO TRADICIONAL 180CMX200CM    0.0               1  \n",
       "678     COLCHÓN L. SUPER CONFORT TRADICIONAL 80CMX190CM    0.0               1  \n",
       "684             COLCHÓN L. PEKIN TRADICIONAL 80CMX190CM    0.0               3  \n",
       "54          COLCHÓN L. RELAX 22 TRADICIONAL 100CMX190CM    0.0               1  "
      ]
     },
     "execution_count": 37,
     "metadata": {},
     "output_type": "execute_result"
    }
   ],
   "source": [
    "# Agregar columna de EVENTO\n",
    "sales['EVENTO'] = sales['MES'].apply(\n",
    "    lambda x: 'Hot Sale' if x == 5 else ('CyberMonday' if x == 11 else 'Estandar')\n",
    ")\n",
    "\n",
    "# Agrupar por 'COD. PRODUCTO', 'AÑO', y 'MES', sumando las cantidades vendidas ('CANTIDAD_TOTAL')\n",
    "sales_grouped = sales.groupby(['AÑO', 'MES', 'COD. PRODUCTO', 'PRODUCTO', 'DTO %']).agg(\n",
    "    CANTIDAD_TOTAL=('CANTIDAD', 'sum')  # Sumamos las cantidades vendidas por mes y producto\n",
    ").reset_index()\n",
    "# Verificar que los productos sin ventas estén con CANTIDAD_TOTAL = 0\n",
    "sales_grouped.sample(10)"
   ]
  },
  {
   "cell_type": "code",
   "execution_count": 38,
   "id": "11307fea-c074-4cdd-9285-f1092a4f012f",
   "metadata": {},
   "outputs": [
    {
     "name": "stdout",
     "output_type": "stream",
     "text": [
      "TODOS LOS COD. PRODUCTO: ['1-12-40-006' '1-12-40-003' '1-10-03-001' '1-10-03-002' '1-10-05-002'\n",
      " '1-11-06-002' '1-12-40-002' '1-10-01-001' '1-10-01-002' '1-10-02-001'\n",
      " '1-10-04-002' '1-10-05-001' '1-11-06-003' '1-11-06-004' '1-11-06-006'\n",
      " '1-11-11-006' '1-11-11-017' '1-11-12-006' '1-12-27-006' '1-12-27-018'\n",
      " '1-12-30-006' '1-12-36-002' '1-12-40-004' '1-14-11-006' '1-14-11-017'\n",
      " '1-14-15-002' '1-15-40-006' '1-20-20-200' '1-22-41-002' '1-10-02-002'\n",
      " '1-11-02-002' '1-11-16-017' '1-14-11-019' '1-15-36-006' '1-15-37-019'\n",
      " '1-15-38-019' '1-11-02-06' '1-11-06-005' '1-11-16-002' '1-11-17-017'\n",
      " '1-12-27-002' '1-12-38-017' '1-14-17-018' '1-14-17-019' '1-12-37-002'\n",
      " '1-14-17-017' '1-15-38-006' '1-22-41-003' '1-11-08-002' '1-11-11-018'\n",
      " '1-11-12-017' '1-12-37-019' '1-14-11-018' '1-15-27-018' '1-15-38-018'\n",
      " '1-15-40-004' '1-23-16-001' '1-11-08-003' '1-11-12-018' '1-12-27-017'\n",
      " '1-14-16-002' '1-23-37-004' '1-11-07-002' '1-11-07-003' '1-11-07-006'\n",
      " '1-11-10-006' '1-11-17-018' '1-13-32-006' '1-14-07-006' '1-14-10-019'\n",
      " '1-14-16-003' '1-14-16-005' '1-14-16-019' '1-15-24-006' '1-15-40-003'\n",
      " '1-23-36-006' '1-11-10-017' '1-11-10-019' '1-12-24-002' '1-12-27-019'\n",
      " '1-15-25-006' '1-11-07-004' '1-22-01-007' '1-11-11-019' '1-12-24-004'\n",
      " '1-14-60-003' '1-14-60-004' '1-14-60-006' '1-22-41-007' '1-23-04-002'\n",
      " '1-23-05-002' '1-15-61-002' '1-12-37-017' '1-23-15-003' '1-23-15-007'\n",
      " '1-23-16-003' '1-11-16-018' '1-12-37-018']\n",
      "Cantidad de COD. PRODUCTO únicos: 98\n"
     ]
    }
   ],
   "source": [
    "cod_productos_unicos = sales_grouped['COD. PRODUCTO'].unique()\n",
    "print(f\"TODOS LOS COD. PRODUCTO: {cod_productos_unicos}\")\n",
    "\n",
    "# Contar cuántos COD. PRODUCTO únicos existen\n",
    "num_cod_productos_unicos = len(sales_grouped['COD. PRODUCTO'].unique())\n",
    "\n",
    "# Mostrar el resultado\n",
    "print(f\"Cantidad de COD. PRODUCTO únicos: {num_cod_productos_unicos}\")\n"
   ]
  },
  {
   "cell_type": "code",
   "execution_count": 39,
   "id": "6aff205d-7934-4142-8080-3c706072602d",
   "metadata": {},
   "outputs": [
    {
     "data": {
      "text/html": [
       "<div>\n",
       "<style scoped>\n",
       "    .dataframe tbody tr th:only-of-type {\n",
       "        vertical-align: middle;\n",
       "    }\n",
       "\n",
       "    .dataframe tbody tr th {\n",
       "        vertical-align: top;\n",
       "    }\n",
       "\n",
       "    .dataframe thead th {\n",
       "        text-align: right;\n",
       "    }\n",
       "</style>\n",
       "<table border=\"1\" class=\"dataframe\">\n",
       "  <thead>\n",
       "    <tr style=\"text-align: right;\">\n",
       "      <th></th>\n",
       "      <th>AÑO</th>\n",
       "      <th>MES</th>\n",
       "      <th>COD. PRODUCTO</th>\n",
       "      <th>PRODUCTO</th>\n",
       "      <th>DTO %</th>\n",
       "      <th>CANTIDAD_TOTAL</th>\n",
       "    </tr>\n",
       "  </thead>\n",
       "  <tbody>\n",
       "    <tr>\n",
       "      <th>936</th>\n",
       "      <td>2023</td>\n",
       "      <td>5</td>\n",
       "      <td>1-14-11-006</td>\n",
       "      <td>CONJUNTO L. ATENAS TRADICIONAL 140CMX190CM</td>\n",
       "      <td>0.0</td>\n",
       "      <td>7</td>\n",
       "    </tr>\n",
       "    <tr>\n",
       "      <th>268</th>\n",
       "      <td>2021</td>\n",
       "      <td>11</td>\n",
       "      <td>1-15-37-019</td>\n",
       "      <td>CONJUNTO L. VASARI TRADICIONAL 200CMX200CM</td>\n",
       "      <td>0.0</td>\n",
       "      <td>1</td>\n",
       "    </tr>\n",
       "    <tr>\n",
       "      <th>688</th>\n",
       "      <td>2022</td>\n",
       "      <td>10</td>\n",
       "      <td>1-11-10-019</td>\n",
       "      <td>COLCHÓN L. PLATINUM TRADICIONAL 200CMX200CM</td>\n",
       "      <td>4.0</td>\n",
       "      <td>1</td>\n",
       "    </tr>\n",
       "    <tr>\n",
       "      <th>1027</th>\n",
       "      <td>2023</td>\n",
       "      <td>8</td>\n",
       "      <td>1-11-16-017</td>\n",
       "      <td>ALMOHADAS M.COPO 90CM</td>\n",
       "      <td>0.0</td>\n",
       "      <td>1</td>\n",
       "    </tr>\n",
       "    <tr>\n",
       "      <th>57</th>\n",
       "      <td>2021</td>\n",
       "      <td>6</td>\n",
       "      <td>1-12-36-002</td>\n",
       "      <td>COLCHÓN L. SANZIO TRADICIONAL 80CMX190CM</td>\n",
       "      <td>0.0</td>\n",
       "      <td>12</td>\n",
       "    </tr>\n",
       "    <tr>\n",
       "      <th>36</th>\n",
       "      <td>2021</td>\n",
       "      <td>5</td>\n",
       "      <td>1-14-15-002</td>\n",
       "      <td>CONJUNTO L. DALI TRADICIONAL 80CMX190CM</td>\n",
       "      <td>0.0</td>\n",
       "      <td>1</td>\n",
       "    </tr>\n",
       "    <tr>\n",
       "      <th>253</th>\n",
       "      <td>2021</td>\n",
       "      <td>11</td>\n",
       "      <td>1-12-40-006</td>\n",
       "      <td>COLCHÓN L. ROMA TRADICIONAL 140CMX190CM</td>\n",
       "      <td>0.0</td>\n",
       "      <td>17</td>\n",
       "    </tr>\n",
       "    <tr>\n",
       "      <th>1128</th>\n",
       "      <td>2023</td>\n",
       "      <td>12</td>\n",
       "      <td>1-12-40-006</td>\n",
       "      <td>COLCHÓN L. ROMA TRADICIONAL 140CMX190CM</td>\n",
       "      <td>0.0</td>\n",
       "      <td>2</td>\n",
       "    </tr>\n",
       "    <tr>\n",
       "      <th>93</th>\n",
       "      <td>2021</td>\n",
       "      <td>7</td>\n",
       "      <td>1-12-40-002</td>\n",
       "      <td>COLCHÓN L. ROMA TRADICIONAL 80CMX190CM</td>\n",
       "      <td>5.0</td>\n",
       "      <td>8</td>\n",
       "    </tr>\n",
       "    <tr>\n",
       "      <th>6</th>\n",
       "      <td>2021</td>\n",
       "      <td>4</td>\n",
       "      <td>1-12-40-002</td>\n",
       "      <td>COLCHÓN L. ROMA TRADICIONAL 80CMX190CM</td>\n",
       "      <td>0.0</td>\n",
       "      <td>1</td>\n",
       "    </tr>\n",
       "  </tbody>\n",
       "</table>\n",
       "</div>"
      ],
      "text/plain": [
       "       AÑO  MES COD. PRODUCTO                                     PRODUCTO  \\\n",
       "936   2023    5   1-14-11-006   CONJUNTO L. ATENAS TRADICIONAL 140CMX190CM   \n",
       "268   2021   11   1-15-37-019   CONJUNTO L. VASARI TRADICIONAL 200CMX200CM   \n",
       "688   2022   10   1-11-10-019  COLCHÓN L. PLATINUM TRADICIONAL 200CMX200CM   \n",
       "1027  2023    8   1-11-16-017                        ALMOHADAS M.COPO 90CM   \n",
       "57    2021    6   1-12-36-002     COLCHÓN L. SANZIO TRADICIONAL 80CMX190CM   \n",
       "36    2021    5   1-14-15-002      CONJUNTO L. DALI TRADICIONAL 80CMX190CM   \n",
       "253   2021   11   1-12-40-006      COLCHÓN L. ROMA TRADICIONAL 140CMX190CM   \n",
       "1128  2023   12   1-12-40-006      COLCHÓN L. ROMA TRADICIONAL 140CMX190CM   \n",
       "93    2021    7   1-12-40-002       COLCHÓN L. ROMA TRADICIONAL 80CMX190CM   \n",
       "6     2021    4   1-12-40-002       COLCHÓN L. ROMA TRADICIONAL 80CMX190CM   \n",
       "\n",
       "      DTO %  CANTIDAD_TOTAL  \n",
       "936     0.0               7  \n",
       "268     0.0               1  \n",
       "688     4.0               1  \n",
       "1027    0.0               1  \n",
       "57      0.0              12  \n",
       "36      0.0               1  \n",
       "253     0.0              17  \n",
       "1128    0.0               2  \n",
       "93      5.0               8  \n",
       "6       0.0               1  "
      ]
     },
     "execution_count": 39,
     "metadata": {},
     "output_type": "execute_result"
    }
   ],
   "source": [
    "sales_grouped.sample(10)"
   ]
  },
  {
   "cell_type": "code",
   "execution_count": 40,
   "id": "5b798a34-ff75-4622-8495-2d132eec42fe",
   "metadata": {},
   "outputs": [
    {
     "data": {
      "text/plain": [
       "(11088, 11)"
      ]
     },
     "execution_count": 40,
     "metadata": {},
     "output_type": "execute_result"
    }
   ],
   "source": [
    "sales.shape"
   ]
  },
  {
   "cell_type": "code",
   "execution_count": 41,
   "id": "79e0ab3d-b7d0-4e54-a0d1-669303b1963a",
   "metadata": {},
   "outputs": [],
   "source": [
    "# Crear un DataFrame con todas las combinaciones posibles de AÑO, MES y COD. PRODUCTO\n",
    "# Primero obtenemos todos los valores únicos de 'AÑO', 'MES', y 'COD. PRODUCTO'\n",
    "#años = sales_grouped['AÑO'].unique()\n",
    "#meses = sales_grouped['MES'].unique()\n",
    "#cod_productos_unicos = sales_grouped['COD. PRODUCTO'].unique()\n",
    "\n",
    "# Crear todas las combinaciones posibles (todos los productos por cada año y mes)\n",
    "#combinaciones = pd.MultiIndex.from_product([años, meses, cod_productos_unicos], names=['AÑO', 'MES', 'COD. PRODUCTO'])\n",
    "\n",
    "# Crear un DataFrame con estas combinaciones\n",
    "#combinaciones_df = pd.DataFrame(index=combinaciones).reset_index()\n",
    "\n",
    "# Agrupar el dataset original para obtener las ventas totales\n",
    "#sales_grouped = sales_grouped.groupby(['AÑO', 'MES', 'COD. PRODUCTO'], as_index=False).agg(\n",
    "#    CANTIDAD_TOTAL=('CANTIDAD', 'sum'),\n",
    "#    PRODUCTO=('PRODUCTO', 'first'),\n",
    "#    EVENTO=('EVENTO', 'first')\n",
    "#)\n",
    "\n",
    "# Merge con las combinaciones para obtener el valor 0 para los productos no vendidos\n",
    "#sales_final = pd.merge(combinaciones_df, sales_grouped, on=['AÑO', 'MES', 'COD. PRODUCTO'], how='left')\n",
    "\n",
    "#sales_final['CANTIDAD_TOTAL'] = sales_final['CANTIDAD_TOTAL'].fillna(0)\n",
    "# Merge con las combinaciones para obtener el valor 0 para los productos no vendidos\n",
    "#sales_final = pd.merge(combinaciones_df, sales_grouped, on=['AÑO', 'MES', 'COD. PRODUCTO'], how='left')"
   ]
  },
  {
   "cell_type": "code",
   "execution_count": 42,
   "id": "aee4e057-90a5-432a-a635-210e7b686f11",
   "metadata": {},
   "outputs": [
    {
     "data": {
      "text/html": [
       "<div>\n",
       "<style scoped>\n",
       "    .dataframe tbody tr th:only-of-type {\n",
       "        vertical-align: middle;\n",
       "    }\n",
       "\n",
       "    .dataframe tbody tr th {\n",
       "        vertical-align: top;\n",
       "    }\n",
       "\n",
       "    .dataframe thead th {\n",
       "        text-align: right;\n",
       "    }\n",
       "</style>\n",
       "<table border=\"1\" class=\"dataframe\">\n",
       "  <thead>\n",
       "    <tr style=\"text-align: right;\">\n",
       "      <th></th>\n",
       "      <th>AÑO</th>\n",
       "      <th>MES</th>\n",
       "      <th>COD. PRODUCTO</th>\n",
       "      <th>PRODUCTO</th>\n",
       "      <th>DTO %</th>\n",
       "      <th>CANTIDAD_TOTAL</th>\n",
       "    </tr>\n",
       "  </thead>\n",
       "  <tbody>\n",
       "    <tr>\n",
       "      <th>2629</th>\n",
       "      <td>2022</td>\n",
       "      <td>4</td>\n",
       "      <td>1-22-41-002</td>\n",
       "      <td>CONJUNTO MARINERA L. MONET BLACK</td>\n",
       "      <td>0.0</td>\n",
       "      <td>0.0</td>\n",
       "    </tr>\n",
       "    <tr>\n",
       "      <th>4061</th>\n",
       "      <td>2023</td>\n",
       "      <td>6</td>\n",
       "      <td>1-10-01-001</td>\n",
       "      <td>ALMOHADAS L.COPO 70CM</td>\n",
       "      <td>0.0</td>\n",
       "      <td>0.0</td>\n",
       "    </tr>\n",
       "    <tr>\n",
       "      <th>3477</th>\n",
       "      <td>2022</td>\n",
       "      <td>2</td>\n",
       "      <td>1-14-11-006</td>\n",
       "      <td>CONJUNTO L. ATENAS TRADICIONAL 140CMX190CM</td>\n",
       "      <td>0.0</td>\n",
       "      <td>0.0</td>\n",
       "    </tr>\n",
       "    <tr>\n",
       "      <th>915</th>\n",
       "      <td>2002</td>\n",
       "      <td>1</td>\n",
       "      <td>1-15-36-006</td>\n",
       "      <td>CONJUNTO L. SANZIO TRADICIONAL 140CMX190CM</td>\n",
       "      <td>0.0</td>\n",
       "      <td>0.0</td>\n",
       "    </tr>\n",
       "    <tr>\n",
       "      <th>5086</th>\n",
       "      <td>2024</td>\n",
       "      <td>4</td>\n",
       "      <td>1-12-37-002</td>\n",
       "      <td>COLCHÓN L. VASARI TRADICIONAL 80CMX190CM</td>\n",
       "      <td>0.0</td>\n",
       "      <td>0.0</td>\n",
       "    </tr>\n",
       "    <tr>\n",
       "      <th>5863</th>\n",
       "      <td>2024</td>\n",
       "      <td>2</td>\n",
       "      <td>1-11-06-005</td>\n",
       "      <td>COLCHÓN L. RELAX 22 TRADICIONAL 130CMX190CM</td>\n",
       "      <td>0.0</td>\n",
       "      <td>0.0</td>\n",
       "    </tr>\n",
       "    <tr>\n",
       "      <th>1638</th>\n",
       "      <td>2021</td>\n",
       "      <td>6</td>\n",
       "      <td>1-11-12-017</td>\n",
       "      <td>COLCHÓN L. MONACO TRADICIONAL 160CMX200CM</td>\n",
       "      <td>0.0</td>\n",
       "      <td>0.0</td>\n",
       "    </tr>\n",
       "    <tr>\n",
       "      <th>5912</th>\n",
       "      <td>2024</td>\n",
       "      <td>2</td>\n",
       "      <td>1-14-60-004</td>\n",
       "      <td>CONJ GILOT TRAD 100X190</td>\n",
       "      <td>0.0</td>\n",
       "      <td>0.0</td>\n",
       "    </tr>\n",
       "    <tr>\n",
       "      <th>3444</th>\n",
       "      <td>2022</td>\n",
       "      <td>1</td>\n",
       "      <td>1-22-41-007</td>\n",
       "      <td>CONJUNTO L. MARINERA TRAD RESORTE 90CMX190CM S...</td>\n",
       "      <td>0.0</td>\n",
       "      <td>0.0</td>\n",
       "    </tr>\n",
       "    <tr>\n",
       "      <th>636</th>\n",
       "      <td>2002</td>\n",
       "      <td>8</td>\n",
       "      <td>1-11-08-002</td>\n",
       "      <td>COLCHÓN L. PEKIN TRADICIONAL 80CMX190CM</td>\n",
       "      <td>0.0</td>\n",
       "      <td>0.0</td>\n",
       "    </tr>\n",
       "    <tr>\n",
       "      <th>5451</th>\n",
       "      <td>2024</td>\n",
       "      <td>8</td>\n",
       "      <td>1-11-12-006</td>\n",
       "      <td>COLCHÓN L. MONACO TRADICIONAL 140CMX190CM</td>\n",
       "      <td>0.0</td>\n",
       "      <td>0.0</td>\n",
       "    </tr>\n",
       "    <tr>\n",
       "      <th>3385</th>\n",
       "      <td>2022</td>\n",
       "      <td>1</td>\n",
       "      <td>1-10-02-002</td>\n",
       "      <td>ALMOHADAS L.PLACA 80CM</td>\n",
       "      <td>0.0</td>\n",
       "      <td>7.0</td>\n",
       "    </tr>\n",
       "    <tr>\n",
       "      <th>4763</th>\n",
       "      <td>2023</td>\n",
       "      <td>3</td>\n",
       "      <td>1-11-11-017</td>\n",
       "      <td>COLCHÓN L. ATENAS TRADICIONAL 160CMX200CM</td>\n",
       "      <td>0.0</td>\n",
       "      <td>0.0</td>\n",
       "    </tr>\n",
       "    <tr>\n",
       "      <th>5740</th>\n",
       "      <td>2024</td>\n",
       "      <td>1</td>\n",
       "      <td>1-11-06-003</td>\n",
       "      <td>COLCHÓN L. RELAX 22 TRADICIONAL 90CMX190CM</td>\n",
       "      <td>0.0</td>\n",
       "      <td>0.0</td>\n",
       "    </tr>\n",
       "    <tr>\n",
       "      <th>1801</th>\n",
       "      <td>2021</td>\n",
       "      <td>8</td>\n",
       "      <td>1-10-04-002</td>\n",
       "      <td>ALMOHADAS L.VELLÓN 80CM</td>\n",
       "      <td>0.0</td>\n",
       "      <td>1.0</td>\n",
       "    </tr>\n",
       "  </tbody>\n",
       "</table>\n",
       "</div>"
      ],
      "text/plain": [
       "       AÑO  MES COD. PRODUCTO  \\\n",
       "2629  2022    4   1-22-41-002   \n",
       "4061  2023    6   1-10-01-001   \n",
       "3477  2022    2   1-14-11-006   \n",
       "915   2002    1   1-15-36-006   \n",
       "5086  2024    4   1-12-37-002   \n",
       "5863  2024    2   1-11-06-005   \n",
       "1638  2021    6   1-11-12-017   \n",
       "5912  2024    2   1-14-60-004   \n",
       "3444  2022    1   1-22-41-007   \n",
       "636   2002    8   1-11-08-002   \n",
       "5451  2024    8   1-11-12-006   \n",
       "3385  2022    1   1-10-02-002   \n",
       "4763  2023    3   1-11-11-017   \n",
       "5740  2024    1   1-11-06-003   \n",
       "1801  2021    8   1-10-04-002   \n",
       "\n",
       "                                               PRODUCTO  DTO %  CANTIDAD_TOTAL  \n",
       "2629                   CONJUNTO MARINERA L. MONET BLACK    0.0             0.0  \n",
       "4061                              ALMOHADAS L.COPO 70CM    0.0             0.0  \n",
       "3477         CONJUNTO L. ATENAS TRADICIONAL 140CMX190CM    0.0             0.0  \n",
       "915          CONJUNTO L. SANZIO TRADICIONAL 140CMX190CM    0.0             0.0  \n",
       "5086           COLCHÓN L. VASARI TRADICIONAL 80CMX190CM    0.0             0.0  \n",
       "5863        COLCHÓN L. RELAX 22 TRADICIONAL 130CMX190CM    0.0             0.0  \n",
       "1638          COLCHÓN L. MONACO TRADICIONAL 160CMX200CM    0.0             0.0  \n",
       "5912                            CONJ GILOT TRAD 100X190    0.0             0.0  \n",
       "3444  CONJUNTO L. MARINERA TRAD RESORTE 90CMX190CM S...    0.0             0.0  \n",
       "636             COLCHÓN L. PEKIN TRADICIONAL 80CMX190CM    0.0             0.0  \n",
       "5451          COLCHÓN L. MONACO TRADICIONAL 140CMX190CM    0.0             0.0  \n",
       "3385                             ALMOHADAS L.PLACA 80CM    0.0             7.0  \n",
       "4763          COLCHÓN L. ATENAS TRADICIONAL 160CMX200CM    0.0             0.0  \n",
       "5740         COLCHÓN L. RELAX 22 TRADICIONAL 90CMX190CM    0.0             0.0  \n",
       "1801                            ALMOHADAS L.VELLÓN 80CM    0.0             1.0  "
      ]
     },
     "execution_count": 42,
     "metadata": {},
     "output_type": "execute_result"
    }
   ],
   "source": [
    "prod_map = (\n",
    "    sales[['COD. PRODUCTO', 'PRODUCTO']]\n",
    "    .dropna(subset=['COD. PRODUCTO', 'PRODUCTO'])\n",
    "    .astype({'COD. PRODUCTO': str})\n",
    "    .drop_duplicates(subset=['COD. PRODUCTO'])\n",
    "    .set_index('COD. PRODUCTO')['PRODUCTO']\n",
    ")\n",
    "\n",
    "años = sales_grouped['AÑO'].unique()\n",
    "meses = sales_grouped['MES'].unique()\n",
    "cods = sales_grouped['COD. PRODUCTO'].astype(str).unique()\n",
    "\n",
    "combinaciones = pd.MultiIndex.from_product(\n",
    "    [años, meses, cods],\n",
    "    names=['AÑO', 'MES', 'COD. PRODUCTO']\n",
    ")\n",
    "combinaciones_df = pd.DataFrame(index=combinaciones).reset_index()\n",
    "\n",
    "sales_grouped = sales_grouped.copy()\n",
    "sales_grouped['COD. PRODUCTO'] = sales_grouped['COD. PRODUCTO'].astype(str)\n",
    "\n",
    "sales_final = pd.merge(\n",
    "    combinaciones_df,\n",
    "    sales_grouped,\n",
    "    on=['AÑO', 'MES', 'COD. PRODUCTO'],\n",
    "    how='left'\n",
    ")\n",
    "\n",
    "sales_final['PRODUCTO'] = sales_final['PRODUCTO'].combine_first(\n",
    "    sales_final['COD. PRODUCTO'].map(prod_map)\n",
    ")\n",
    "\n",
    "if 'CANTIDAD_TOTAL' in sales_final.columns:\n",
    "    sales_final['CANTIDAD_TOTAL'] = sales_final['CANTIDAD_TOTAL'].fillna(0)\n",
    "\n",
    "if 'DTO %' in sales_final.columns:\n",
    "    sales_final['DTO %'] = sales_final['DTO %'].fillna(0)\n",
    "sales_final.sample(15)"
   ]
  },
  {
   "cell_type": "code",
   "execution_count": 43,
   "id": "7db2f91d-9498-4962-aa71-3728312c8d83",
   "metadata": {},
   "outputs": [
    {
     "data": {
      "text/html": [
       "<div>\n",
       "<style scoped>\n",
       "    .dataframe tbody tr th:only-of-type {\n",
       "        vertical-align: middle;\n",
       "    }\n",
       "\n",
       "    .dataframe tbody tr th {\n",
       "        vertical-align: top;\n",
       "    }\n",
       "\n",
       "    .dataframe thead th {\n",
       "        text-align: right;\n",
       "    }\n",
       "</style>\n",
       "<table border=\"1\" class=\"dataframe\">\n",
       "  <thead>\n",
       "    <tr style=\"text-align: right;\">\n",
       "      <th></th>\n",
       "      <th>AÑO</th>\n",
       "      <th>MES</th>\n",
       "      <th>COD. PRODUCTO</th>\n",
       "      <th>PRODUCTO</th>\n",
       "      <th>DTO %</th>\n",
       "      <th>CANTIDAD_TOTAL</th>\n",
       "    </tr>\n",
       "  </thead>\n",
       "  <tbody>\n",
       "    <tr>\n",
       "      <th>0</th>\n",
       "      <td>2002</td>\n",
       "      <td>10</td>\n",
       "      <td>1-12-40-006</td>\n",
       "      <td>COLCHÓN L. ROMA TRADICIONAL 140CMX190CM</td>\n",
       "      <td>0.0</td>\n",
       "      <td>1.0</td>\n",
       "    </tr>\n",
       "    <tr>\n",
       "      <th>1</th>\n",
       "      <td>2002</td>\n",
       "      <td>10</td>\n",
       "      <td>1-12-40-003</td>\n",
       "      <td>COLCHÓN L. ROMA TRADICIONAL 90CMX190CM</td>\n",
       "      <td>0.0</td>\n",
       "      <td>0.0</td>\n",
       "    </tr>\n",
       "    <tr>\n",
       "      <th>2</th>\n",
       "      <td>2002</td>\n",
       "      <td>10</td>\n",
       "      <td>1-10-03-001</td>\n",
       "      <td>ALMOHADAS L.SUPER SOFT 70CM</td>\n",
       "      <td>0.0</td>\n",
       "      <td>0.0</td>\n",
       "    </tr>\n",
       "    <tr>\n",
       "      <th>3</th>\n",
       "      <td>2002</td>\n",
       "      <td>10</td>\n",
       "      <td>1-10-03-002</td>\n",
       "      <td>ALMOHADAS L.SUPER SOFT 80CM</td>\n",
       "      <td>0.0</td>\n",
       "      <td>0.0</td>\n",
       "    </tr>\n",
       "    <tr>\n",
       "      <th>4</th>\n",
       "      <td>2002</td>\n",
       "      <td>10</td>\n",
       "      <td>1-10-05-002</td>\n",
       "      <td>ALMOHADAS L.VISCOÉLASTICA 80CM</td>\n",
       "      <td>0.0</td>\n",
       "      <td>0.0</td>\n",
       "    </tr>\n",
       "  </tbody>\n",
       "</table>\n",
       "</div>"
      ],
      "text/plain": [
       "    AÑO  MES COD. PRODUCTO                                 PRODUCTO  DTO %  \\\n",
       "0  2002   10   1-12-40-006  COLCHÓN L. ROMA TRADICIONAL 140CMX190CM    0.0   \n",
       "1  2002   10   1-12-40-003   COLCHÓN L. ROMA TRADICIONAL 90CMX190CM    0.0   \n",
       "2  2002   10   1-10-03-001              ALMOHADAS L.SUPER SOFT 70CM    0.0   \n",
       "3  2002   10   1-10-03-002              ALMOHADAS L.SUPER SOFT 80CM    0.0   \n",
       "4  2002   10   1-10-05-002           ALMOHADAS L.VISCOÉLASTICA 80CM    0.0   \n",
       "\n",
       "   CANTIDAD_TOTAL  \n",
       "0             1.0  \n",
       "1             0.0  \n",
       "2             0.0  \n",
       "3             0.0  \n",
       "4             0.0  "
      ]
     },
     "execution_count": 43,
     "metadata": {},
     "output_type": "execute_result"
    }
   ],
   "source": [
    "sales_final.head()"
   ]
  },
  {
   "cell_type": "code",
   "execution_count": 44,
   "id": "555f3fa0-b77d-45c0-b1d6-d570de681673",
   "metadata": {},
   "outputs": [
    {
     "data": {
      "text/plain": [
       "(6022, 6)"
      ]
     },
     "execution_count": 44,
     "metadata": {},
     "output_type": "execute_result"
    }
   ],
   "source": [
    "sales_final.shape"
   ]
  },
  {
   "cell_type": "code",
   "execution_count": 45,
   "id": "64bff967-3aa9-461c-97d6-d88c3a085b68",
   "metadata": {},
   "outputs": [],
   "source": [
    "sales_final['EVENTO'] = sales_final['MES'].apply(\n",
    "    lambda x: 'Hot Sale' if x == 5 else ('CyberMonday' if x == 11 else 'Estandar')\n",
    ")\n",
    "\n",
    "sales_final['CANTIDAD_TOTAL'] = sales_final['CANTIDAD_TOTAL'].apply(\n",
    "    lambda x: 0 if pd.isna(x) else x\n",
    ")\n",
    "\n",
    "# Eliminar filas donde 'AÑO' sea 2024 y 'MES' sea mayor o igual a 3\n",
    "sales_final = sales_final[~((sales_final['AÑO'] == 2024) & (sales_final['MES'] >= 3))]\n",
    "\n",
    "#sales_rename = sales_final[['COD. PRODUCTO', 'PRODUCTO']].rename(columns={'PRODUCTO': 'DESC_PRODUCTO'})\n",
    "# Realizar el merge sin crear columnas duplicadas\n",
    "#sales_final = pd.merge(sales_final, sales_rename, on='COD. PRODUCTO', how='left')"
   ]
  },
  {
   "cell_type": "code",
   "execution_count": 46,
   "id": "32027e73-795f-4d25-af13-009a630cfb9b",
   "metadata": {},
   "outputs": [
    {
     "data": {
      "text/html": [
       "<div>\n",
       "<style scoped>\n",
       "    .dataframe tbody tr th:only-of-type {\n",
       "        vertical-align: middle;\n",
       "    }\n",
       "\n",
       "    .dataframe tbody tr th {\n",
       "        vertical-align: top;\n",
       "    }\n",
       "\n",
       "    .dataframe thead th {\n",
       "        text-align: right;\n",
       "    }\n",
       "</style>\n",
       "<table border=\"1\" class=\"dataframe\">\n",
       "  <thead>\n",
       "    <tr style=\"text-align: right;\">\n",
       "      <th></th>\n",
       "      <th>AÑO</th>\n",
       "      <th>MES</th>\n",
       "      <th>COD. PRODUCTO</th>\n",
       "      <th>PRODUCTO</th>\n",
       "      <th>DTO %</th>\n",
       "      <th>CANTIDAD_TOTAL</th>\n",
       "      <th>EVENTO</th>\n",
       "    </tr>\n",
       "  </thead>\n",
       "  <tbody>\n",
       "    <tr>\n",
       "      <th>5832</th>\n",
       "      <td>2024</td>\n",
       "      <td>2</td>\n",
       "      <td>1-12-40-002</td>\n",
       "      <td>COLCHÓN L. ROMA TRADICIONAL 80CMX190CM</td>\n",
       "      <td>0.0</td>\n",
       "      <td>0.0</td>\n",
       "      <td>Estandar</td>\n",
       "    </tr>\n",
       "    <tr>\n",
       "      <th>5802</th>\n",
       "      <td>2024</td>\n",
       "      <td>1</td>\n",
       "      <td>1-15-40-003</td>\n",
       "      <td>CONJUNTO L. ROMA TRADICIONAL 90CMX190CM</td>\n",
       "      <td>0.0</td>\n",
       "      <td>1.0</td>\n",
       "      <td>Estandar</td>\n",
       "    </tr>\n",
       "    <tr>\n",
       "      <th>3480</th>\n",
       "      <td>2022</td>\n",
       "      <td>2</td>\n",
       "      <td>1-15-40-006</td>\n",
       "      <td>CONJUNTO L. ROMA TRADICIONAL 140CMX190CM</td>\n",
       "      <td>0.0</td>\n",
       "      <td>4.0</td>\n",
       "      <td>Estandar</td>\n",
       "    </tr>\n",
       "    <tr>\n",
       "      <th>3665</th>\n",
       "      <td>2023</td>\n",
       "      <td>10</td>\n",
       "      <td>1-10-05-001</td>\n",
       "      <td>ALMOHADAS L.VISCOÉLASTICA 70CM</td>\n",
       "      <td>0.0</td>\n",
       "      <td>0.0</td>\n",
       "      <td>Estandar</td>\n",
       "    </tr>\n",
       "    <tr>\n",
       "      <th>5885</th>\n",
       "      <td>2024</td>\n",
       "      <td>2</td>\n",
       "      <td>1-12-27-017</td>\n",
       "      <td>COLCHÓN L. GRANATE TRADICIONAL 160CMX200CM</td>\n",
       "      <td>0.0</td>\n",
       "      <td>0.0</td>\n",
       "      <td>Estandar</td>\n",
       "    </tr>\n",
       "    <tr>\n",
       "      <th>781</th>\n",
       "      <td>2002</td>\n",
       "      <td>9</td>\n",
       "      <td>1-23-16-003</td>\n",
       "      <td>PROMO 2 COLCHONES L.REMBRANDT 100CMX190XM</td>\n",
       "      <td>0.0</td>\n",
       "      <td>0.0</td>\n",
       "      <td>Estandar</td>\n",
       "    </tr>\n",
       "    <tr>\n",
       "      <th>1078</th>\n",
       "      <td>2002</td>\n",
       "      <td>3</td>\n",
       "      <td>1-12-40-006</td>\n",
       "      <td>COLCHÓN L. ROMA TRADICIONAL 140CMX190CM</td>\n",
       "      <td>0.0</td>\n",
       "      <td>0.0</td>\n",
       "      <td>Estandar</td>\n",
       "    </tr>\n",
       "    <tr>\n",
       "      <th>1082</th>\n",
       "      <td>2002</td>\n",
       "      <td>3</td>\n",
       "      <td>1-10-05-002</td>\n",
       "      <td>ALMOHADAS L.VISCOÉLASTICA 80CM</td>\n",
       "      <td>0.0</td>\n",
       "      <td>0.0</td>\n",
       "      <td>Estandar</td>\n",
       "    </tr>\n",
       "    <tr>\n",
       "      <th>2560</th>\n",
       "      <td>2022</td>\n",
       "      <td>12</td>\n",
       "      <td>1-11-08-003</td>\n",
       "      <td>COLCHÓN L. PEKIN TRADICIONAL 90CMX190CM</td>\n",
       "      <td>0.0</td>\n",
       "      <td>0.0</td>\n",
       "      <td>Estandar</td>\n",
       "    </tr>\n",
       "    <tr>\n",
       "      <th>3119</th>\n",
       "      <td>2022</td>\n",
       "      <td>8</td>\n",
       "      <td>1-14-60-003</td>\n",
       "      <td>CONJ GILOT TRAD 90X190</td>\n",
       "      <td>0.0</td>\n",
       "      <td>0.0</td>\n",
       "      <td>Estandar</td>\n",
       "    </tr>\n",
       "  </tbody>\n",
       "</table>\n",
       "</div>"
      ],
      "text/plain": [
       "       AÑO  MES COD. PRODUCTO                                    PRODUCTO  \\\n",
       "5832  2024    2   1-12-40-002      COLCHÓN L. ROMA TRADICIONAL 80CMX190CM   \n",
       "5802  2024    1   1-15-40-003     CONJUNTO L. ROMA TRADICIONAL 90CMX190CM   \n",
       "3480  2022    2   1-15-40-006    CONJUNTO L. ROMA TRADICIONAL 140CMX190CM   \n",
       "3665  2023   10   1-10-05-001              ALMOHADAS L.VISCOÉLASTICA 70CM   \n",
       "5885  2024    2   1-12-27-017  COLCHÓN L. GRANATE TRADICIONAL 160CMX200CM   \n",
       "781   2002    9   1-23-16-003   PROMO 2 COLCHONES L.REMBRANDT 100CMX190XM   \n",
       "1078  2002    3   1-12-40-006     COLCHÓN L. ROMA TRADICIONAL 140CMX190CM   \n",
       "1082  2002    3   1-10-05-002              ALMOHADAS L.VISCOÉLASTICA 80CM   \n",
       "2560  2022   12   1-11-08-003     COLCHÓN L. PEKIN TRADICIONAL 90CMX190CM   \n",
       "3119  2022    8   1-14-60-003                      CONJ GILOT TRAD 90X190   \n",
       "\n",
       "      DTO %  CANTIDAD_TOTAL    EVENTO  \n",
       "5832    0.0             0.0  Estandar  \n",
       "5802    0.0             1.0  Estandar  \n",
       "3480    0.0             4.0  Estandar  \n",
       "3665    0.0             0.0  Estandar  \n",
       "5885    0.0             0.0  Estandar  \n",
       "781     0.0             0.0  Estandar  \n",
       "1078    0.0             0.0  Estandar  \n",
       "1082    0.0             0.0  Estandar  \n",
       "2560    0.0             0.0  Estandar  \n",
       "3119    0.0             0.0  Estandar  "
      ]
     },
     "execution_count": 46,
     "metadata": {},
     "output_type": "execute_result"
    }
   ],
   "source": [
    "sales_final.sample(10)"
   ]
  },
  {
   "cell_type": "code",
   "execution_count": 47,
   "id": "98a43fef-3f1c-4aee-84a5-eff4e3fb6798",
   "metadata": {},
   "outputs": [
    {
     "data": {
      "text/html": [
       "<div>\n",
       "<style scoped>\n",
       "    .dataframe tbody tr th:only-of-type {\n",
       "        vertical-align: middle;\n",
       "    }\n",
       "\n",
       "    .dataframe tbody tr th {\n",
       "        vertical-align: top;\n",
       "    }\n",
       "\n",
       "    .dataframe thead th {\n",
       "        text-align: right;\n",
       "    }\n",
       "</style>\n",
       "<table border=\"1\" class=\"dataframe\">\n",
       "  <thead>\n",
       "    <tr style=\"text-align: right;\">\n",
       "      <th></th>\n",
       "      <th>AÑO</th>\n",
       "      <th>MES</th>\n",
       "      <th>COD. PRODUCTO</th>\n",
       "      <th>PRODUCTO</th>\n",
       "      <th>DTO %</th>\n",
       "      <th>CANTIDAD_TOTAL</th>\n",
       "      <th>EVENTO</th>\n",
       "    </tr>\n",
       "  </thead>\n",
       "  <tbody>\n",
       "    <tr>\n",
       "      <th>0</th>\n",
       "      <td>2002</td>\n",
       "      <td>10</td>\n",
       "      <td>1-12-40-006</td>\n",
       "      <td>COLCHÓN L. ROMA TRADICIONAL 140CMX190CM</td>\n",
       "      <td>0.0</td>\n",
       "      <td>1.0</td>\n",
       "      <td>Estandar</td>\n",
       "    </tr>\n",
       "    <tr>\n",
       "      <th>1</th>\n",
       "      <td>2002</td>\n",
       "      <td>10</td>\n",
       "      <td>1-12-40-003</td>\n",
       "      <td>COLCHÓN L. ROMA TRADICIONAL 90CMX190CM</td>\n",
       "      <td>0.0</td>\n",
       "      <td>0.0</td>\n",
       "      <td>Estandar</td>\n",
       "    </tr>\n",
       "    <tr>\n",
       "      <th>2</th>\n",
       "      <td>2002</td>\n",
       "      <td>10</td>\n",
       "      <td>1-10-03-001</td>\n",
       "      <td>ALMOHADAS L.SUPER SOFT 70CM</td>\n",
       "      <td>0.0</td>\n",
       "      <td>0.0</td>\n",
       "      <td>Estandar</td>\n",
       "    </tr>\n",
       "    <tr>\n",
       "      <th>3</th>\n",
       "      <td>2002</td>\n",
       "      <td>10</td>\n",
       "      <td>1-10-03-002</td>\n",
       "      <td>ALMOHADAS L.SUPER SOFT 80CM</td>\n",
       "      <td>0.0</td>\n",
       "      <td>0.0</td>\n",
       "      <td>Estandar</td>\n",
       "    </tr>\n",
       "    <tr>\n",
       "      <th>4</th>\n",
       "      <td>2002</td>\n",
       "      <td>10</td>\n",
       "      <td>1-10-05-002</td>\n",
       "      <td>ALMOHADAS L.VISCOÉLASTICA 80CM</td>\n",
       "      <td>0.0</td>\n",
       "      <td>0.0</td>\n",
       "      <td>Estandar</td>\n",
       "    </tr>\n",
       "  </tbody>\n",
       "</table>\n",
       "</div>"
      ],
      "text/plain": [
       "    AÑO  MES COD. PRODUCTO                                 PRODUCTO  DTO %  \\\n",
       "0  2002   10   1-12-40-006  COLCHÓN L. ROMA TRADICIONAL 140CMX190CM    0.0   \n",
       "1  2002   10   1-12-40-003   COLCHÓN L. ROMA TRADICIONAL 90CMX190CM    0.0   \n",
       "2  2002   10   1-10-03-001              ALMOHADAS L.SUPER SOFT 70CM    0.0   \n",
       "3  2002   10   1-10-03-002              ALMOHADAS L.SUPER SOFT 80CM    0.0   \n",
       "4  2002   10   1-10-05-002           ALMOHADAS L.VISCOÉLASTICA 80CM    0.0   \n",
       "\n",
       "   CANTIDAD_TOTAL    EVENTO  \n",
       "0             1.0  Estandar  \n",
       "1             0.0  Estandar  \n",
       "2             0.0  Estandar  \n",
       "3             0.0  Estandar  \n",
       "4             0.0  Estandar  "
      ]
     },
     "execution_count": 47,
     "metadata": {},
     "output_type": "execute_result"
    }
   ],
   "source": [
    "sales_final.head()"
   ]
  },
  {
   "cell_type": "code",
   "execution_count": 48,
   "id": "74b62e65-227b-4c5d-ae00-7bb2ded13c51",
   "metadata": {},
   "outputs": [
    {
     "data": {
      "text/plain": [
       "(5042, 7)"
      ]
     },
     "execution_count": 48,
     "metadata": {},
     "output_type": "execute_result"
    }
   ],
   "source": [
    "sales_final.shape"
   ]
  },
  {
   "cell_type": "code",
   "execution_count": 49,
   "id": "cb7a9ac2-96c6-4bd4-a4c5-3a419517004d",
   "metadata": {
    "scrolled": true
   },
   "outputs": [],
   "source": [
    "#top_productos = sales_final.groupby(\"COD. PRODUCTO\")[\"CANTIDAD_TOTAL\"].sum().nlargest(10).index\n",
    "#ventas_top_productos = sales_final[sales_final[\"COD. PRODUCTO\"].isin(top_productos)]\n",
    "\n",
    "# Obtengo el nombre del producto correspondiente a cada código\n",
    "#mapa_productos = ventas_top_productos[['COD. PRODUCTO', 'PRODUCTO']].drop_duplicates().set_index('COD. PRODUCTO')['PRODUCTO'].to_dict()\n",
    "#ventas_top_productos.loc[:, 'PRODUCTO'] = ventas_top_productos['COD. PRODUCTO'].map(mapa_productos)\n",
    "\n",
    "# Agrupo sumando ventas totales por mes y ordeno los productos por cantidad total de ventas\n",
    "#ventas_top_productos = ventas_top_productos.groupby(['MES', 'PRODUCTO'])['CANTIDAD_TOTAL'].sum().reset_index()\n",
    "#total_ventas_por_producto = ventas_top_productos.groupby(\"PRODUCTO\")[\"CANTIDAD_TOTAL\"].sum().sort_values(ascending=False)\n",
    "#productos_ordenados = total_ventas_por_producto.index\n",
    "\n",
    "#plt.figure(figsize=(10,6))\n",
    "#sns.lineplot(data=ventas_top_productos, x=\"MES\", y=\"CANTIDAD_TOTAL\", hue=\"PRODUCTO\", marker=\"o\", palette=\"tab10\", hue_order=productos_ordenados)\n",
    "\n",
    "#handles, labels = plt.gca().get_legend_handles_labels()\n",
    "#nuevas_labels = [f\"{prod}\" for prod in labels]\n",
    "#plt.legend(handles, nuevas_labels, title=\"Producto (Total Vendido)\", fontsize=10, title_fontsize=12)\n",
    "\n",
    "# etiquetas\n",
    "#plt.title(\"Evolución de Ventas Mensuales - Top 10 Productos (Suma de Todos los Años)\", fontsize=14)\n",
    "#plt.xlabel(\"Mes\", fontsize=12)\n",
    "#plt.ylabel(\"Cantidad Total Vendida\", fontsize=12)\n",
    "#plt.xticks(range(1,13), ['Ene', 'Feb', 'Mar', 'Abr', 'May', 'Jun', 'Jul', 'Ago', 'Sep', 'Oct', 'Nov', 'Dic'])\n",
    "#plt.grid()\n",
    "\n",
    "#plt.show()"
   ]
  },
  {
   "cell_type": "markdown",
   "id": "17eab0e1-e059-4ff2-8290-71c138c2211b",
   "metadata": {},
   "source": [
    "# Hipótesis sobre los datos"
   ]
  },
  {
   "cell_type": "markdown",
   "id": "7e347df2-03aa-4fea-9072-fb71e6ed0e01",
   "metadata": {
    "jp-MarkdownHeadingCollapsed": true
   },
   "source": [
    "## Hipotesis 1: \n",
    "\n",
    "#### Comparación de ventas promedio en meses normales vs. eventos"
   ]
  },
  {
   "cell_type": "code",
   "execution_count": 50,
   "id": "f211797b-14d1-42b7-8529-df9ef2dfa35d",
   "metadata": {},
   "outputs": [
    {
     "data": {
      "text/html": [
       "<div>\n",
       "<style scoped>\n",
       "    .dataframe tbody tr th:only-of-type {\n",
       "        vertical-align: middle;\n",
       "    }\n",
       "\n",
       "    .dataframe tbody tr th {\n",
       "        vertical-align: top;\n",
       "    }\n",
       "\n",
       "    .dataframe thead th {\n",
       "        text-align: right;\n",
       "    }\n",
       "</style>\n",
       "<table border=\"1\" class=\"dataframe\">\n",
       "  <thead>\n",
       "    <tr style=\"text-align: right;\">\n",
       "      <th></th>\n",
       "      <th>TIPO_MES</th>\n",
       "      <th>CANTIDAD_TOTAL</th>\n",
       "    </tr>\n",
       "  </thead>\n",
       "  <tbody>\n",
       "    <tr>\n",
       "      <th>0</th>\n",
       "      <td>CyberMonday</td>\n",
       "      <td>3.712195</td>\n",
       "    </tr>\n",
       "    <tr>\n",
       "      <th>1</th>\n",
       "      <td>Hot Sale</td>\n",
       "      <td>4.884892</td>\n",
       "    </tr>\n",
       "    <tr>\n",
       "      <th>2</th>\n",
       "      <td>Mes Normal</td>\n",
       "      <td>2.093001</td>\n",
       "    </tr>\n",
       "  </tbody>\n",
       "</table>\n",
       "</div>"
      ],
      "text/plain": [
       "      TIPO_MES  CANTIDAD_TOTAL\n",
       "0  CyberMonday        3.712195\n",
       "1     Hot Sale        4.884892\n",
       "2   Mes Normal        2.093001"
      ]
     },
     "metadata": {},
     "output_type": "display_data"
    }
   ],
   "source": [
    "ventas_por_evento = sales_final.assign(\n",
    "    TIPO_MES = sales_final['MES'].apply(\n",
    "        lambda x: 'Hot Sale' if x == 5 else ('CyberMonday' if x == 11 else 'Mes Normal')\n",
    "    )\n",
    ")\n",
    "\n",
    "ventas_por_evento = ventas_por_evento.groupby(\"TIPO_MES\")[\"CANTIDAD_TOTAL\"].mean().reset_index()\n",
    "\n",
    "from IPython.display import display\n",
    "display(ventas_por_evento)\n"
   ]
  },
  {
   "cell_type": "markdown",
   "id": "d49caab3-13e9-486a-80ac-9a84f83b9dd9",
   "metadata": {},
   "source": [
    "##### Los meses con Hot Sale y CyberMonday tienen ventas superiores a los meses normales.\n",
    "\n",
    "* En meses normales, se venden en promedio 31 unidades de un producto por mes.\n",
    "* Durante CyberMonday, este número aumenta a 50 unidades.\n",
    "* En Hot Sale, la cantidad promedio sube aún más a 73 unidade.\n",
    "  \n",
    "##### Hot Sale parece generar un mayor impacto en las ventas que CyberMonday.\n",
    "\n",
    "* El aumento en Hot Sale es mayor que en CyberMonday.\n",
    "* Esto podría deberse a que mayo (Hot Sale) tiene más días promocionales, o a que hay una mayor demanda en ese momento del año\n",
    "\n",
    "##### Calculamos el porcentaje de aumento en ventas en estos eventos:\n",
    "\n",
    "* Hot Sale vs. Mes Normal: Hubo un aumento del 134% en las ventas durante Hot Sale en comparación con los meses normales.\n",
    "\n",
    "* CyberMonday vs. Mes Normal: Hubo un aumento del 64% en las ventas durante CyberMonday en comparación con los meses normales.\n",
    "\n",
    "#### Conclusión\n",
    "✔ Confirmamos la hipótesis: Hot Sale y CyberMonday aumentan significativamente las ventas.\n",
    "\n",
    "✔ El impacto es mayor en Hot Sale (≈ 134% más ventas), que en CyberMonday (≈ 64% más ventas)."
   ]
  },
  {
   "cell_type": "markdown",
   "id": "dbf6596d-2db9-4c43-8044-6a59168fd4b4",
   "metadata": {},
   "source": [
    "# Modelado"
   ]
  },
  {
   "cell_type": "markdown",
   "id": "b5d25bbd-0f7e-4297-b30f-73eefe6dc23f",
   "metadata": {},
   "source": [
    "### Elección de la métrica de performance a utilizar para evaluar los modelos y fundamentación."
   ]
  },
  {
   "cell_type": "markdown",
   "id": "5ee5934d-2605-4d15-acdb-00757fd6acb7",
   "metadata": {},
   "source": [
    "Para evaluar el desempeño de los modelos de regresión desarrollados para predecir la cantidad de productos vendidos, es fundamental elegir una métrica que refleje de manera fiel el error de predicción en el contexto del negocio.\n",
    "\n",
    "En este caso, la variable objetivo (cantidad de productos vendidos) presenta una distribución altamente desbalanceada: la mayoría de los valores son bajos y existen pocos valores atípicos (ventas inusualmente altas). Por este motivo, se selecciona el **Error Absoluto Medio (MAE, Mean Absolute Error)** como métrica principal de evaluación.\n",
    "\n",
    "El MAE representa el error promedio absoluto entre las predicciones y los valores reales, expresado en las mismas unidades que la variable objetivo. Esta métrica es especialmente adecuada en contextos donde:\n",
    " - La mayoría de los valores son bajos y los outliers no deben dominar la evaluación.\n",
    " - Se busca una interpretación sencilla y directa del error promedio, fácilmente comunicable a áreas de negocio.\n",
    " - Se desea evitar que unos pocos errores grandes (outliers) distorsionen la percepción del desempeño general del modelo.\n",
    "\n",
    "Complementariamente, se reporta la Raíz del Error Cuadrático Medio (RMSE), que penaliza más fuertemente los errores grandes y puede ser útil para identificar el impacto de los outliers. Sin embargo, la métrica principal para comparar y seleccionar modelos será el MAE, ya que refleja mejor el comportamiento típico del modelo en la mayoría de los casos reales de predicción de ventas"
   ]
  },
  {
   "cell_type": "markdown",
   "id": "bea5b5e8-dcdc-48d9-bd1a-423648bdd618",
   "metadata": {},
   "source": [
    "### Próximo paso será entrenar y evaluar diversos algoritmos, realizando una exploración de hiperparámetros mediante una búsqueda en cuadrícula (grid search). Posteriormente, se evaluará el comportamiento de cada modelo utilizando los hiperparámetros que den los mejores resultados, proporcionando conclusiones sobre la comparación entre ellos."
   ]
  },
  {
   "cell_type": "code",
   "execution_count": 51,
   "id": "ddaa90f4-5380-4904-aa0a-5a46f54a0a5e",
   "metadata": {},
   "outputs": [],
   "source": [
    "#Elimino los dos registros outliers con data (seguramente mal cargada) del 2002\n",
    "#sales_final = sales_final[sales_final['AÑO'] != 2002]\n",
    "#sales_final.head()"
   ]
  },
  {
   "cell_type": "code",
   "execution_count": 52,
   "id": "5469d6fa-51a0-4360-b62f-60b8e1c8cee5",
   "metadata": {},
   "outputs": [
    {
     "data": {
      "text/plain": [
       "(5042, 7)"
      ]
     },
     "execution_count": 52,
     "metadata": {},
     "output_type": "execute_result"
    }
   ],
   "source": [
    "sales_final.shape"
   ]
  },
  {
   "cell_type": "code",
   "execution_count": 53,
   "id": "6fcd5da2-bebb-4195-b551-241560c915b9",
   "metadata": {},
   "outputs": [
    {
     "data": {
      "text/html": [
       "<div>\n",
       "<style scoped>\n",
       "    .dataframe tbody tr th:only-of-type {\n",
       "        vertical-align: middle;\n",
       "    }\n",
       "\n",
       "    .dataframe tbody tr th {\n",
       "        vertical-align: top;\n",
       "    }\n",
       "\n",
       "    .dataframe thead th {\n",
       "        text-align: right;\n",
       "    }\n",
       "</style>\n",
       "<table border=\"1\" class=\"dataframe\">\n",
       "  <thead>\n",
       "    <tr style=\"text-align: right;\">\n",
       "      <th></th>\n",
       "      <th>AÑO</th>\n",
       "      <th>MES</th>\n",
       "      <th>COD. PRODUCTO</th>\n",
       "      <th>PRODUCTO</th>\n",
       "      <th>DTO %</th>\n",
       "      <th>CANTIDAD_TOTAL</th>\n",
       "      <th>EVENTO</th>\n",
       "    </tr>\n",
       "  </thead>\n",
       "  <tbody>\n",
       "    <tr>\n",
       "      <th>882</th>\n",
       "      <td>2002</td>\n",
       "      <td>1</td>\n",
       "      <td>1-12-40-006</td>\n",
       "      <td>COLCHÓN L. ROMA TRADICIONAL 140CMX190CM</td>\n",
       "      <td>0.0</td>\n",
       "      <td>0.0</td>\n",
       "      <td>Estandar</td>\n",
       "    </tr>\n",
       "    <tr>\n",
       "      <th>883</th>\n",
       "      <td>2002</td>\n",
       "      <td>1</td>\n",
       "      <td>1-12-40-003</td>\n",
       "      <td>COLCHÓN L. ROMA TRADICIONAL 90CMX190CM</td>\n",
       "      <td>0.0</td>\n",
       "      <td>0.0</td>\n",
       "      <td>Estandar</td>\n",
       "    </tr>\n",
       "    <tr>\n",
       "      <th>884</th>\n",
       "      <td>2002</td>\n",
       "      <td>1</td>\n",
       "      <td>1-10-03-001</td>\n",
       "      <td>ALMOHADAS L.SUPER SOFT 70CM</td>\n",
       "      <td>0.0</td>\n",
       "      <td>0.0</td>\n",
       "      <td>Estandar</td>\n",
       "    </tr>\n",
       "    <tr>\n",
       "      <th>885</th>\n",
       "      <td>2002</td>\n",
       "      <td>1</td>\n",
       "      <td>1-10-03-002</td>\n",
       "      <td>ALMOHADAS L.SUPER SOFT 80CM</td>\n",
       "      <td>0.0</td>\n",
       "      <td>0.0</td>\n",
       "      <td>Estandar</td>\n",
       "    </tr>\n",
       "    <tr>\n",
       "      <th>886</th>\n",
       "      <td>2002</td>\n",
       "      <td>1</td>\n",
       "      <td>1-10-05-002</td>\n",
       "      <td>ALMOHADAS L.VISCOÉLASTICA 80CM</td>\n",
       "      <td>0.0</td>\n",
       "      <td>0.0</td>\n",
       "      <td>Estandar</td>\n",
       "    </tr>\n",
       "  </tbody>\n",
       "</table>\n",
       "</div>"
      ],
      "text/plain": [
       "      AÑO  MES COD. PRODUCTO                                 PRODUCTO  DTO %  \\\n",
       "882  2002    1   1-12-40-006  COLCHÓN L. ROMA TRADICIONAL 140CMX190CM    0.0   \n",
       "883  2002    1   1-12-40-003   COLCHÓN L. ROMA TRADICIONAL 90CMX190CM    0.0   \n",
       "884  2002    1   1-10-03-001              ALMOHADAS L.SUPER SOFT 70CM    0.0   \n",
       "885  2002    1   1-10-03-002              ALMOHADAS L.SUPER SOFT 80CM    0.0   \n",
       "886  2002    1   1-10-05-002           ALMOHADAS L.VISCOÉLASTICA 80CM    0.0   \n",
       "\n",
       "     CANTIDAD_TOTAL    EVENTO  \n",
       "882             0.0  Estandar  \n",
       "883             0.0  Estandar  \n",
       "884             0.0  Estandar  \n",
       "885             0.0  Estandar  \n",
       "886             0.0  Estandar  "
      ]
     },
     "execution_count": 53,
     "metadata": {},
     "output_type": "execute_result"
    }
   ],
   "source": [
    "sales_final['AÑO'] = pd.to_numeric(sales_final['AÑO'], errors='coerce')\n",
    "sales_final['MES'] = pd.to_numeric(sales_final['MES'], errors='coerce')\n",
    "\n",
    "sales_final = sales_final.sort_values(by=['AÑO', 'MES'], ascending=[True, True])\n",
    "sales_final.head()"
   ]
  },
  {
   "cell_type": "code",
   "execution_count": 54,
   "id": "5d293d7e-aa90-4299-945d-a942ea97ec32",
   "metadata": {},
   "outputs": [
    {
     "data": {
      "text/plain": [
       "(5042, 7)"
      ]
     },
     "execution_count": 54,
     "metadata": {},
     "output_type": "execute_result"
    }
   ],
   "source": [
    "sales_final.shape"
   ]
  },
  {
   "cell_type": "code",
   "execution_count": 55,
   "id": "e44c0951-d5c1-4fe9-be02-32f5acd08f94",
   "metadata": {},
   "outputs": [],
   "source": [
    "sales_final = sales_final.drop_duplicates(subset=['AÑO', 'MES', 'COD. PRODUCTO'])"
   ]
  },
  {
   "cell_type": "code",
   "execution_count": 56,
   "id": "7507cec6-0275-41c3-bd5b-26f836f64df8",
   "metadata": {},
   "outputs": [
    {
     "data": {
      "text/plain": [
       "(4900, 7)"
      ]
     },
     "execution_count": 56,
     "metadata": {},
     "output_type": "execute_result"
    }
   ],
   "source": [
    "sales_final.shape"
   ]
  },
  {
   "cell_type": "code",
   "execution_count": 57,
   "id": "352f5312-7c73-4e7d-8e21-d433c5be036d",
   "metadata": {},
   "outputs": [
    {
     "name": "stdout",
     "output_type": "stream",
     "text": [
      "(2940, 7) (980, 7) (980, 7)\n"
     ]
    }
   ],
   "source": [
    "# Dividir el dataset en train, validation y test (60%, 20%, 20%)\n",
    "train_size = int(0.6 * len(sales_final))  # El 60% del dataset\n",
    "validation_size = int(0.2 * len(sales_final))  # El 20% del dataset\n",
    "\n",
    "# Dividir el dataset\n",
    "train = sales_final[:train_size]\n",
    "validation = sales_final[train_size:train_size + validation_size]\n",
    "test = sales_final[train_size + validation_size:]\n",
    "\n",
    "# Verificar las formas de los datasets\n",
    "print(train.shape, validation.shape, test.shape)"
   ]
  },
  {
   "cell_type": "code",
   "execution_count": 58,
   "id": "68083aee-ea76-4ff7-b3aa-700721efaadd",
   "metadata": {},
   "outputs": [],
   "source": [
    "X_train = train.drop(columns=['CANTIDAD_TOTAL'])  \n",
    "y_train = train['CANTIDAD_TOTAL']  \n",
    "\n",
    "X_test = test.drop(columns=['CANTIDAD_TOTAL'])  \n",
    "y_test = test['CANTIDAD_TOTAL']  \n",
    "\n",
    "X_validation = validation.drop(columns=['CANTIDAD_TOTAL'])  \n",
    "y_validation = validation['CANTIDAD_TOTAL']  "
   ]
  },
  {
   "cell_type": "code",
   "execution_count": 59,
   "id": "dd933273-d803-434d-a572-660c1f1d64bf",
   "metadata": {},
   "outputs": [
    {
     "name": "stderr",
     "output_type": "stream",
     "text": [
      "C:\\Users\\bosch\\AppData\\Local\\Programs\\Python\\Python312\\Lib\\site-packages\\sklearn\\utils\\deprecation.py:95: FutureWarning: Function tosequence is deprecated; tosequence was deprecated in 1.5 and will be removed in 1.7\n",
      "  warnings.warn(msg, category=FutureWarning)\n"
     ]
    }
   ],
   "source": [
    "mapper = DataFrameMapper([\n",
    "    (['AÑO', 'MES'], [StandardScaler()]),\n",
    "    (['COD. PRODUCTO'], [OneHotEncoder(sparse_output=False, handle_unknown='ignore')]),\n",
    "    (['EVENTO'], [OneHotEncoder(sparse_output=False, handle_unknown='ignore')]),\n",
    "], input_df=True)\n",
    "\n",
    "mapper.fit(X_train)\n",
    "X_train_transformed = mapper.transform(X_train)\n",
    "X_val_transformed   = mapper.transform(X_validation)\n",
    "X_test_transformed  = mapper.transform(X_test)"
   ]
  },
  {
   "cell_type": "markdown",
   "id": "925d3f2a-4b55-43dd-8784-feb3ddbac289",
   "metadata": {},
   "source": [
    "### Entrenamiento modelo Regresion Lineal"
   ]
  },
  {
   "cell_type": "code",
   "execution_count": 60,
   "id": "ef934480-7426-46b8-9915-3f77c12d74b7",
   "metadata": {},
   "outputs": [
    {
     "name": "stdout",
     "output_type": "stream",
     "text": [
      "RMSE en validation: 25.9321\n",
      "MAE en validation: 4.3577\n",
      "r2 en validation: 0.1498\n"
     ]
    }
   ],
   "source": [
    "\n",
    "# Defino el modelo de regresión lineal\n",
    "lr_clasif = LinearRegression()\n",
    "lr_clasif.fit(X_train_transformed, y_train)\n",
    "y_pred_validation = lr_clasif.predict(X_val_transformed)\n",
    "\n",
    "rmse_validation = np.sqrt(mean_squared_error(y_validation, y_pred_validation))\n",
    "mae_validation = mean_absolute_error(y_validation, y_pred_validation)\n",
    "r2_validation = r2_score(y_validation, y_pred_validation)\n",
    "\n",
    "print(f\"RMSE en validation: {rmse_validation:.4f}\")\n",
    "print(f\"MAE en validation: {mae_validation:.4f}\")\n",
    "print(f\"r2 en validation: {r2_validation:.4f}\")\n"
   ]
  },
  {
   "cell_type": "markdown",
   "id": "6732bc24-b4f6-420b-9454-c947ccd55846",
   "metadata": {},
   "source": [
    "### Entrenamiento modelo RIDGE"
   ]
  },
  {
   "cell_type": "code",
   "execution_count": 61,
   "id": "70aa4691-107e-4752-b0eb-097dbfa5d1a1",
   "metadata": {},
   "outputs": [
    {
     "name": "stdout",
     "output_type": "stream",
     "text": [
      "Fitting 3 folds for each of 5 candidates, totalling 15 fits\n",
      "Mejores parámetros Ridge: {'alpha': 50}\n",
      "RMSE en validation (Ridge): 27.2573\n",
      "MAE en validation (Ridge): 4.9462\n",
      "R2 en validation (Ridge): 0.0607\n"
     ]
    }
   ],
   "source": [
    "ridge_model = Ridge()\n",
    "parameters = {\n",
    "    'alpha': [ 0.1, 1, 5,10,50]    \n",
    "}\n",
    "grid_search_ridge = GridSearchCV(estimator=ridge_model, param_grid=parameters, cv=3, scoring='neg_mean_squared_error', verbose=1)\n",
    "grid_search_ridge.fit(X_train_transformed, y_train)\n",
    "best_ridge_model = grid_search_ridge.best_estimator_\n",
    "print(\"Mejores parámetros Ridge:\", grid_search_ridge.best_params_)\n",
    "\n",
    "y_pred_ridge = best_ridge_model.predict(X_val_transformed)\n",
    "rmse_ridge = np.sqrt(mean_squared_error(y_validation, y_pred_ridge))\n",
    "mae_ridge = mean_absolute_error(y_validation, y_pred_ridge)\n",
    "r2_ridge = r2_score(y_validation, y_pred_ridge)\n",
    "\n",
    "print(f\"RMSE en validation (Ridge): {rmse_ridge:.4f}\")\n",
    "print(f\"MAE en validation (Ridge): {mae_ridge:.4f}\")\n",
    "print(f\"R2 en validation (Ridge): {r2_ridge:.4f}\")\n",
    "\n"
   ]
  },
  {
   "cell_type": "markdown",
   "id": "616aeebf-68d1-4959-ac6c-ea52611c6b84",
   "metadata": {},
   "source": [
    "### Entrenamiento modelo LASSO"
   ]
  },
  {
   "cell_type": "code",
   "execution_count": 62,
   "id": "28aca2de-9ddc-4ab4-a0e0-d5416e21a7e5",
   "metadata": {},
   "outputs": [
    {
     "name": "stdout",
     "output_type": "stream",
     "text": [
      "Fitting 2 folds for each of 5 candidates, totalling 10 fits\n",
      "Mejores parámetros Lasso: {'alpha': 1}\n",
      "RMSE en validation (Lasso): 28.2695\n",
      "MAE en validation (Lasso): 4.7499\n",
      "R2 en validation (Lasso): -0.0104\n"
     ]
    }
   ],
   "source": [
    "lasso_model = Lasso()\n",
    "parameters = {'alpha': [0.01, 0.1, 1, 5, 10]}\n",
    "grid_search_lasso = GridSearchCV(estimator=lasso_model, param_grid=parameters, cv=2, scoring='neg_mean_squared_error', verbose=1)\n",
    "grid_search_lasso.fit(X_train_transformed, y_train)\n",
    "best_lasso_model = grid_search_lasso.best_estimator_\n",
    "print(\"Mejores parámetros Lasso:\", grid_search_lasso.best_params_)\n",
    "\n",
    "y_pred_lasso = best_lasso_model.predict(X_val_transformed)\n",
    "rmse_lasso = np.sqrt(mean_squared_error(y_validation, y_pred_lasso))\n",
    "mae_lasso = mean_absolute_error(y_validation, y_pred_lasso)\n",
    "r2_lasso = r2_score(y_validation, y_pred_lasso)\n",
    "\n",
    "\n",
    "print(f\"RMSE en validation (Lasso): {rmse_lasso:.4f}\")\n",
    "print(f\"MAE en validation (Lasso): {mae_lasso:.4f}\")\n",
    "print(f\"R2 en validation (Lasso): {r2_lasso:.4f}\")\n"
   ]
  },
  {
   "cell_type": "markdown",
   "id": "0ebb83e8-da37-423e-b24c-926af539a3d9",
   "metadata": {},
   "source": [
    "### Entrenamiento modelo ÁRBOL DE DECISIÓN "
   ]
  },
  {
   "cell_type": "code",
   "execution_count": 63,
   "id": "65ae8bfd-0b42-43d1-ba15-3cb3bb3149c3",
   "metadata": {
    "jupyter": {
     "source_hidden": true
    }
   },
   "outputs": [
    {
     "name": "stdout",
     "output_type": "stream",
     "text": [
      "Fitting 5 folds for each of 45 candidates, totalling 225 fits\n",
      "Mejores parámetros para Árbol de Decisión: {'max_depth': 5, 'min_samples_leaf': 10, 'min_samples_split': 2}\n",
      "RMSE en validation (Árbol de Decisión): 24.9298\n",
      "MAE en validation (Árbol de Decisión): 4.0339\n",
      "R2 en validation (Árbol de Decisión): 0.2142\n",
      "Test       -> RMSE: 31.0803 | MAE: 4.6156 | R2: 0.0970\n"
     ]
    }
   ],
   "source": [
    "dt_model = DecisionTreeRegressor(random_state=42)\n",
    "dt_params = {\n",
    "    'max_depth': [5, 10, 15, 20, None],\n",
    "    'min_samples_split': [2, 5, 10],\n",
    "    'min_samples_leaf': [1, 4, 10]\n",
    "}\n",
    "grid_search_dt = GridSearchCV(estimator=dt_model, param_grid=dt_params, cv=5, scoring='neg_mean_squared_error', verbose=1)\n",
    "grid_search_dt.fit(X_train_transformed, y_train)\n",
    "best_dt_model = grid_search_dt.best_estimator_\n",
    "print(\"Mejores parámetros para Árbol de Decisión:\", grid_search_dt.best_params_)\n",
    "\n",
    "y_pred_dt = best_dt_model.predict(X_val_transformed)\n",
    "rmse_validation_dt = np.sqrt(mean_squared_error(y_validation, y_pred_dt))\n",
    "mae_dt = mean_absolute_error(y_validation, y_pred_dt)\n",
    "r2_dt = r2_score(y_validation, y_pred_dt)\n",
    "\n",
    "print(f\"RMSE en validation (Árbol de Decisión): {rmse_validation_dt:.4f}\")\n",
    "print(f\"MAE en validation (Árbol de Decisión): {mae_dt:.4f}\")\n",
    "print(f\"R2 en validation (Árbol de Decisión): {r2_dt:.4f}\")\n",
    "\n",
    "X_tv = np.vstack([X_train_transformed, X_val_transformed])\n",
    "y_tv = np.concatenate([np.asarray(y_train).ravel(), np.asarray(y_validation).ravel()])\n",
    "\n",
    "dt_refit = clone(best_dt_model)   # misma configuración que el mejor encontrado\n",
    "dt_refit.fit(X_tv, y_tv)\n",
    "\n",
    "y_pred_test = dt_refit.predict(X_test_transformed)\n",
    "rmse_test = np.sqrt(mean_squared_error(y_test, y_pred_test))\n",
    "mae_test  = mean_absolute_error(y_test, y_pred_test)\n",
    "r2_test   = r2_score(y_test, y_pred_test)\n",
    "print(f\"Test       -> RMSE: {rmse_test:.4f} | MAE: {mae_test:.4f} | R2: {r2_test:.4f}\")"
   ]
  },
  {
   "cell_type": "markdown",
   "id": "9ea5b1a8-06c1-40b3-8f59-1854f0b81bd2",
   "metadata": {},
   "source": [
    "### Entrenamiento modelo RANDOM FOREST"
   ]
  },
  {
   "cell_type": "code",
   "execution_count": 64,
   "id": "82821d08-1f7c-418b-8ea2-85171365646d",
   "metadata": {},
   "outputs": [
    {
     "name": "stdout",
     "output_type": "stream",
     "text": [
      "Fitting 5 folds for each of 64 candidates, totalling 320 fits\n",
      "Mejores parámetros para Random Forest: {'bootstrap': True, 'max_depth': 2, 'min_samples_leaf': 1, 'min_samples_split': 5, 'n_estimators': 100}\n",
      "RMSE en Validación (Random Forest): 26.5348\n",
      "MAE en Validación (Random Forest): 4.3358\n",
      "R2 en Validación (Random Forest): 0.1098\n"
     ]
    }
   ],
   "source": [
    "from sklearn.ensemble import RandomForestRegressor\n",
    "\n",
    "rf_model = RandomForestRegressor(random_state=42)\n",
    "rf_params = {\n",
    "    'n_estimators': [25, 50, 75, 100], \n",
    "    'max_depth': [None, 2, 5, 8],  \n",
    "    'min_samples_split': [5, 10], \n",
    "    'min_samples_leaf': [1, 2],  \n",
    "    'bootstrap': [True] \n",
    "}\n",
    "grid_search_rf = GridSearchCV(estimator=rf_model, param_grid=rf_params, cv=5, scoring='neg_mean_squared_error', verbose=1)\n",
    "grid_search_rf.fit(X_train_transformed, y_train)\n",
    "best_rf_model = grid_search_rf.best_estimator_\n",
    "print(\"Mejores parámetros para Random Forest:\", grid_search_rf.best_params_)\n",
    "\n",
    "y_pred_rf = best_rf_model.predict(X_val_transformed)\n",
    "rmse_validation_rf = np.sqrt(mean_squared_error(y_validation, y_pred_rf))\n",
    "mae_rf = mean_absolute_error(y_validation, y_pred_rf)\n",
    "r2_rf = r2_score(y_validation, y_pred_rf)\n",
    "\n",
    "print(f\"RMSE en Validación (Random Forest): {rmse_validation_rf:.4f}\")\n",
    "print(f\"MAE en Validación (Random Forest): {mae_rf:.4f}\")\n",
    "print(f\"R2 en Validación (Random Forest): {r2_rf:.4f}\")"
   ]
  },
  {
   "cell_type": "code",
   "execution_count": 65,
   "id": "52631750-9de3-40c4-a3a7-0b53e70f7efe",
   "metadata": {},
   "outputs": [
    {
     "name": "stdout",
     "output_type": "stream",
     "text": [
      "Fitting 5 folds for each of 48 candidates, totalling 240 fits\n",
      "Mejores parámetros para Gradient Boosting: {'learning_rate': 0.03, 'max_depth': 2, 'min_samples_leaf': 1, 'n_estimators': 100, 'subsample': 1.0}\n",
      "RMSE en validation (Gradient Boosting): 25.8716\n",
      "MAE en validation (Gradient Boosting): 4.4019\n",
      "R2 en validation (Gradient Boosting): 0.1538\n"
     ]
    }
   ],
   "source": [
    "gbr_model = GradientBoostingRegressor(random_state=42)\n",
    "\n",
    "gbr_params = {\n",
    "    'n_estimators': [100, 300, 600],\n",
    "    'learning_rate': [0.03, 0.1],\n",
    "    'max_depth': [2, 3],\n",
    "    'min_samples_leaf': [1, 2],\n",
    "    'subsample': [1.0, 0.8]\n",
    "}\n",
    "\n",
    "grid_search_gbr = GridSearchCV(\n",
    "    estimator=gbr_model,\n",
    "    param_grid=gbr_params,\n",
    "    cv=5,\n",
    "    scoring='neg_mean_squared_error',\n",
    "    verbose=1,\n",
    "    n_jobs=-1\n",
    ")\n",
    "\n",
    "grid_search_gbr.fit(X_train_transformed, y_train)\n",
    "\n",
    "best_gbr_model = grid_search_gbr.best_estimator_\n",
    "print(\"Mejores parámetros para Gradient Boosting:\", grid_search_gbr.best_params_)\n",
    "\n",
    "y_pred_gbr = best_gbr_model.predict(X_val_transformed)\n",
    "\n",
    "rmse_validation_gbr = np.sqrt(mean_squared_error(y_validation, y_pred_gbr))\n",
    "mae_gbr = mean_absolute_error(y_validation, y_pred_gbr)\n",
    "r2_gbr = r2_score(y_validation, y_pred_gbr)\n",
    "\n",
    "print(f\"RMSE en validation (Gradient Boosting): {rmse_validation_gbr:.4f}\")\n",
    "print(f\"MAE en validation (Gradient Boosting): {mae_gbr:.4f}\")\n",
    "print(f\"R2 en validation (Gradient Boosting): {r2_gbr:.4f}\")"
   ]
  },
  {
   "cell_type": "markdown",
   "id": "df1f78d7-68a8-4654-aa15-456798910346",
   "metadata": {},
   "source": [
    "### Resultado evaluación modelos con el DataSet original"
   ]
  },
  {
   "cell_type": "markdown",
   "id": "38e2a049-b8f9-461f-ae75-8c75f41512f0",
   "metadata": {},
   "source": [
    "**Árbol de Decisión** — mejor desempeño\n",
    "- RMSE 24.93 | MAE 4.03. Es el que menor error logra. Indica que hay patrones no lineales que los modelos lineales no capturan.\n",
    "\n",
    "**Regresión Lineal** — \n",
    "- RMSE 25.93 | MAE 4.36. Capta tendencias generales con un error medio cercano a 4–5 unidades por producto-mes.\n",
    "\n",
    "**Random Forest** — resultado intermedio\n",
    "- RMSE 26.53 | MAE 4.34. Rendimiento similar a la lineal; no supera al Árbol en esta validación.\n",
    "\n",
    "**Gradient Boosting** — segundo mejor candidato\n",
    "- RMSE 25.87 | MAE 4.40. Buen equilibrio sesgo–varianza, cercano al rendimiento del Árbol.\n",
    "\n",
    "**Ridge / Lasso** — no aportan mejora\n",
    "- Ridge: RMSE 27.26 | MAE 4.95.\n",
    "- Lasso: RMSE 28.27 | MAE 4.75.\n"
   ]
  },
  {
   "cell_type": "markdown",
   "id": "f2003f2d-6da7-456f-9a4e-5a22447894a1",
   "metadata": {},
   "source": [
    "### Conclusión\n",
    "A partir de los resultados de validación, el **Árbol de Decisión** es el modelo con **mejor desempeño**: obtuvo el menor MAE (4.03) y el menor RMSE (24.93), lo que indica que capta patrones no lineales que los modelos lineales no logran representar. En segundo lugar se ubicó **Gradient Boosting** (MAE 4.40; RMSE 25.87), con un rendimiento cercano. La Regresión Lineal ofrece un baseline competitivo (MAE 4.36; RMSE 25.93), mientras que Ridge (MAE 4.95) y Lasso (MAE 4.75) no mejoran al baseline en este conjunto.\n",
    "\n",
    "En términos prácticos, los modelos presentan un error típico cercano a 4–5 unidades por producto-mes, por lo que el desempeño es moderado y consistente con la complejidad/variabilidad del dato disponible. Como siguiente paso, se adoptará el **Árbol de Decisión como modelo principal**, considerando Gradient Boosting como alternativa, incorporando mejora de variables."
   ]
  },
  {
   "cell_type": "markdown",
   "id": "946e1f48-dde6-4e1c-94a2-55c95bf61870",
   "metadata": {},
   "source": [
    "### Transformación del Dataset en busca de mejoras en los resultados"
   ]
  },
  {
   "cell_type": "code",
   "execution_count": 66,
   "id": "a9cea8ef-b4b1-49a7-a7b9-f1f404aeb516",
   "metadata": {},
   "outputs": [
    {
     "name": "stderr",
     "output_type": "stream",
     "text": [
      "C:\\Users\\bosch\\AppData\\Local\\Programs\\Python\\Python312\\Lib\\site-packages\\sklearn\\utils\\deprecation.py:95: FutureWarning: Function tosequence is deprecated; tosequence was deprecated in 1.5 and will be removed in 1.7\n",
      "  warnings.warn(msg, category=FutureWarning)\n"
     ]
    }
   ],
   "source": [
    "sales_transformed = sales_final.copy()\n",
    "sales_transformed['CANTIDAD_TOTAL'] = np.log1p(sales_transformed['CANTIDAD_TOTAL'])\n",
    "\n",
    "train_transf, not_train_transf = train_test_split(sales_transformed, test_size=0.4, random_state=42)\n",
    "validation_transf, test_transf = train_test_split(not_train_transf, test_size=0.5, random_state=42)\n",
    "\n",
    "X_train_transf = train_transf.drop(columns=['CANTIDAD_TOTAL']) \n",
    "y_train_transf = train_transf['CANTIDAD_TOTAL'] \n",
    "\n",
    "X_validation_transf = validation_transf.drop(columns=['CANTIDAD_TOTAL']) \n",
    "y_validation_transf = validation_transf['CANTIDAD_TOTAL']  \n",
    "\n",
    "X_test_transf = test_transf.drop(columns=['CANTIDAD_TOTAL']) \n",
    "y_test_transf = test_transf['CANTIDAD_TOTAL']  \n",
    "\n",
    "mapper_transf = DataFrameMapper([    \n",
    "    (['AÑO', 'MES'], [StandardScaler()]),    \n",
    "    (['COD. PRODUCTO'], [OneHotEncoder(sparse_output=False, handle_unknown='ignore')]),\n",
    "    (['EVENTO'], [OneHotEncoder(sparse_output=False, handle_unknown='ignore')]),\n",
    "], input_df=True)\n",
    "\n",
    "X_train_transformed = mapper_transf.fit_transform(X_train_transf)\n",
    "X_validation_transformed = mapper_transf.transform(X_validation_transf)\n",
    "X_test_transformed = mapper_transf.transform(X_test_transf)\n"
   ]
  },
  {
   "cell_type": "code",
   "execution_count": 67,
   "id": "25d1dc16-dc66-4e5a-8cc6-853e271e84c5",
   "metadata": {},
   "outputs": [],
   "source": [
    "from sklearn.metrics import mean_squared_error, mean_absolute_error\n",
    "\n",
    "def evaluate_models_full(X_train, y_train, X_val, y_val, X_test, y_test, models, model_params=None):\n",
    "    results = {}\n",
    "    \n",
    "    # Helper para R2 ajustado\n",
    "    def r2_adjusted(r2, n, p):\n",
    "        den = max(n - p - 1, 1)\n",
    "        return 1 - (1 - r2) * (n - 1) / den\n",
    "\n",
    "    n_tr, p = X_train.shape\n",
    "    n_val = X_val.shape[0]\n",
    "    n_te  = X_test.shape[0]\n",
    "\n",
    "    for model_name, model in models.items():\n",
    "        print(f\"Evaluando el modelo: {model_name}\")\n",
    "        \n",
    "        # GridSearchCV si corresponde\n",
    "        if model_params and model_name in model_params:\n",
    "            grid_search = GridSearchCV(\n",
    "                estimator=model,\n",
    "                param_grid=model_params[model_name],\n",
    "                cv=3,\n",
    "                scoring='neg_mean_squared_error',  # cambialo a 'r2' si querés optimizar por R2\n",
    "                verbose=1\n",
    "            )\n",
    "            grid_search.fit(X_train, y_train)\n",
    "            best_model = grid_search.best_estimator_\n",
    "            print(f\"Mejores parámetros para {model_name}: {grid_search.best_params_}\")\n",
    "        else:\n",
    "            best_model = model\n",
    "            best_model.fit(X_train, y_train)\n",
    "        \n",
    "        # Predicciones\n",
    "        y_pred_train = best_model.predict(X_train)\n",
    "        y_pred_val   = best_model.predict(X_val)\n",
    "        y_pred_test  = best_model.predict(X_test)\n",
    "        \n",
    "        # RMSE        \n",
    "        rmse_train = np.sqrt(mean_squared_error(y_train, y_pred_train))\n",
    "        rmse_val   = np.sqrt(mean_squared_error(y_val,   y_pred_val))\n",
    "        rmse_test  = np.sqrt(mean_squared_error(y_test,  y_pred_test))\n",
    "        # MAE\n",
    "        mae_train  = mean_absolute_error(y_train, y_pred_train)\n",
    "        mae_val    = mean_absolute_error(y_val,   y_pred_val)\n",
    "        mae_test   = mean_absolute_error(y_test,  y_pred_test)\n",
    "        # R2\n",
    "        r2_train = r2_score(y_train, y_pred_train)\n",
    "        r2_val   = r2_score(y_val,   y_pred_val)\n",
    "        r2_test  = r2_score(y_test,  y_pred_test)\n",
    "\n",
    "        # R2 ajustado (opcional, pero útil para el informe)\n",
    "        r2_adj_train = r2_adjusted(r2_train, n_tr, p)\n",
    "        r2_adj_val   = r2_adjusted(r2_val,   n_val, p)\n",
    "        r2_adj_test  = r2_adjusted(r2_test,  n_te,  p)\n",
    "\n",
    "        results[model_name] = {\n",
    "            'RMSE_train': rmse_train, 'MAE_train': mae_train, 'R2_train': r2_train, 'R2_adj_train': r2_adj_train,\n",
    "            'RMSE_val':   rmse_val,   'MAE_val':   mae_val,   'R2_val':   r2_val,   'R2_adj_val':   r2_adj_val,\n",
    "            'RMSE_test':  rmse_test,  'MAE_test':  mae_test,  'R2_test':  r2_test,  'R2_adj_test':  r2_adj_test\n",
    "        }\n",
    "\n",
    "    \n",
    "    return results"
   ]
  },
  {
   "cell_type": "markdown",
   "id": "1d96e0f8-cb50-4fd6-8bd8-f9b5f7a45f1b",
   "metadata": {},
   "source": [
    "#### Evaluación modelos con FE"
   ]
  },
  {
   "cell_type": "code",
   "execution_count": 68,
   "id": "a23d5f8f-6963-4064-9be8-7ef01f4ee975",
   "metadata": {},
   "outputs": [
    {
     "name": "stdout",
     "output_type": "stream",
     "text": [
      "Evaluando el modelo: Linear Regression\n",
      "Evaluando el modelo: Ridge\n",
      "Fitting 3 folds for each of 4 candidates, totalling 12 fits\n",
      "Mejores parámetros para Ridge: {'alpha': 1}\n",
      "Evaluando el modelo: Lasso\n",
      "Fitting 3 folds for each of 4 candidates, totalling 12 fits\n",
      "Mejores parámetros para Lasso: {'alpha': 0.001}\n",
      "Evaluando el modelo: Decision Tree\n",
      "Fitting 3 folds for each of 18 candidates, totalling 54 fits\n",
      "Mejores parámetros para Decision Tree: {'max_depth': 15, 'min_samples_leaf': 2, 'min_samples_split': 2}\n",
      "Evaluando el modelo: Random Forest\n",
      "Fitting 3 folds for each of 36 candidates, totalling 108 fits\n",
      "Mejores parámetros para Random Forest: {'max_depth': 15, 'min_samples_leaf': 2, 'min_samples_split': 2, 'n_estimators': 100}\n",
      "Resultados de RMSE y MAE para todos los modelos (train, validation, test):\n",
      "\n",
      "Linear Regression:\n",
      "  Train      - RMSE: 0.6323 | MAE: 0.4255\n",
      "  Validation - RMSE: 0.5502 | MAE: 0.3857\n",
      "  Test       - RMSE: 0.6166 | MAE: 0.4119\n",
      "\n",
      "Ridge:\n",
      "  Train      - RMSE: 0.6325 | MAE: 0.4266\n",
      "  Validation - RMSE: 0.5491 | MAE: 0.3862\n",
      "  Test       - RMSE: 0.6149 | MAE: 0.4121\n",
      "\n",
      "Lasso:\n",
      "  Train      - RMSE: 0.6379 | MAE: 0.4338\n",
      "  Validation - RMSE: 0.5460 | MAE: 0.3880\n",
      "  Test       - RMSE: 0.6163 | MAE: 0.4114\n",
      "\n",
      "Decision Tree:\n",
      "  Train      - RMSE: 0.4623 | MAE: 0.2803\n",
      "  Validation - RMSE: 0.4671 | MAE: 0.2806\n",
      "  Test       - RMSE: 0.6070 | MAE: 0.3271\n",
      "\n",
      "Random Forest:\n",
      "  Train      - RMSE: 0.4627 | MAE: 0.2929\n",
      "  Validation - RMSE: 0.4310 | MAE: 0.2765\n",
      "  Test       - RMSE: 0.5213 | MAE: 0.3110\n"
     ]
    }
   ],
   "source": [
    "# Modelos a evaluar\n",
    "models = {\n",
    "    'Linear Regression': LinearRegression(),\n",
    "    'Ridge': Ridge(),\n",
    "    'Lasso': Lasso(),\n",
    "    'Decision Tree': DecisionTreeRegressor(random_state=42),\n",
    "    'Random Forest': RandomForestRegressor(random_state=42)\n",
    "}\n",
    "\n",
    "# Hiperparámetros para GridSearch (si aplicable)\n",
    "model_params = {\n",
    "    'Ridge': {'alpha': [0.1, 1, 10, 100]},\n",
    "    'Lasso': {'alpha': [0.1, 0.01, 0.001, 1]},\n",
    "    'Decision Tree': {'max_depth': [5, 10, 15], 'min_samples_split': [2, 5, 10], 'min_samples_leaf': [2, 4]},\n",
    "    'Random Forest': {'n_estimators': [10, 50, 100], 'max_depth': [5, 10, 15], 'min_samples_split': [2, 5], 'min_samples_leaf': [2, 4]}\n",
    "}\n",
    "\n",
    "# Evaluar los modelos con los conjuntos de datos transformados\n",
    "results = evaluate_models_full(\n",
    "    X_train_transformed, y_train_transf,\n",
    "    X_validation_transformed, y_validation_transf,\n",
    "    X_test_transformed, y_test_transf,\n",
    "    models, model_params\n",
    ")\n",
    "\n",
    "# Imprimir los resultados\n",
    "print(\"Resultados de RMSE y MAE para todos los modelos (train, validation, test):\")\n",
    "for model_name, metrics in results.items():\n",
    "    print(f\"\\n{model_name}:\")\n",
    "    print(f\"  Train      - RMSE: {metrics['RMSE_train']:.4f} | MAE: {metrics['MAE_train']:.4f}\")\n",
    "    print(f\"  Validation - RMSE: {metrics['RMSE_val']:.4f} | MAE: {metrics['MAE_val']:.4f}\")\n",
    "    print(f\"  Test       - RMSE: {metrics['RMSE_test']:.4f} | MAE: {metrics['MAE_test']:.4f}\")"
   ]
  },
  {
   "cell_type": "markdown",
   "id": "c51889d2-e0ac-48a9-9447-0188cd196626",
   "metadata": {},
   "source": [
    "### Resultados luego de la transformación:\n",
    "* **Random Forest (mejor generalización)**\n",
    "  - Validación: MAE_log 0.2765 (≈ 32% de error típico: exp(0.2765)-1).\n",
    "  - Test: MAE_log 0.3110 (≈ 36–37%).\n",
    "  - Análisis: es el que mejor se traslada a test; sube algo el error pero se mantiene como el más confiable.\n",
    "* **Árbol de Decisión (fuerte en validación, cae en test)**\n",
    "  - Validación: MAE_log 0.2806 (≈ 32–33%).\n",
    "  - Test: MAE_log 0.3271 (≈ 39%).\n",
    "  - Análisis: muy bueno en val, pero pierde más en test ⇒ ligero sobreajuste.\n",
    "* **Modelos lineales (Lineal / Ridge / Lasso)**\n",
    "  - Validación: MAE_log ≈ 0.546–0.550 (47% de error típico).\n",
    "  - Test: MAE_log ≈ 0.411–0.412 → ≈ 51%.\n",
    "  - Análisis: peor desempeño; captan tendencias generales, pero no las no linealidades.\n",
    "\n",
    "Interpretación práctica del MAE_log: si MAE_log ≈ 0.31, el error típico es ≈ 36%.\n",
    "Ejemplo: \n",
    "- si el modelo predice 50 unidades, esperar un error típico de ±18 (36% de 50).\n",
    "- si el modelo predice 25 unidades, esperar un error típico de ±9 (36% de 50).\n",
    "\n",
    "\n",
    "#### Conclusión\n",
    "Después de transformar la variable objetivo con logaritmo se llega al resultado que los ensambles no lineales funcionan mejor. El Modelo con mejor balance entre validacion y test es Random Forest. Árbol de Decisión queda como alternativa (muy bueno en val, algo más inestable en test). Los lineales quedan descartados como modelo final en esta versión del dataset.\n",
    "\n",
    "#### Análisis:\n",
    " - Tras aplicar la transformación logarítmica a la variable objetivo y codificar AÑO, MES, COD. PRODUCTO y EVENTO, los errores quedaron más estables y comparables entre modelos: en la escala log, RMSE y MAE son cercanos, lo que indica que la transformación atenuó outliers y estabilizó la varianza (algo típico en series de ventas con picos).\n",
    "\n",
    "- Los modelos lineales (Regresión Lineal, Ridge y Lasso) rinden muy parecido entre sí y quedan por detrás de los basados en árboles: en validación su MAE_log ronda 0.386–0.388 y en test ~0.412, lo que sugiere que capturan bien las tendencias generales pero no las no linealidades del problema.\n",
    "\n",
    "- Los modelos de árbol muestran la ventaja de capturar interacciones y relaciones no lineales. El Árbol de Decisión logra un MAE_log de 0.281 en validación, pero pierde en test (0.327), señal de ligero sobreajuste o sensibilidad a cambios de distribución. En cambio, el Random Forest es el que mejor generaliza: MAE_log de 0.277 en validación y 0.311 en test, manteniendo el mejor balance entre ajuste y estabilidad.\n",
    "\n",
    "- Interpretación práctica del error: un MAE_log ≈ 0.28–0.31 equivale a un error típico del ~32–37 % (aprox. exp(MAE_log) − 1). Es decir, si el modelo pronostica 50 unidades, el desvío esperable ronda ±16 a ±19 unidades; si pronostica 25, el desvío típico es ±8 a ±9. Este marco permite comunicar al negocio “cuán buena” es cada predicción.\n",
    "\n",
    "- EVENTO como feature ayuda a diferenciar meses promocionales de meses normales, y los modelos de árbol/ensamble aprovechan mejor esa señal que los lineales."
   ]
  },
  {
   "cell_type": "code",
   "execution_count": null,
   "id": "526827ae-58f2-4f3a-9845-6dec91d10872",
   "metadata": {},
   "outputs": [],
   "source": []
  }
 ],
 "metadata": {
  "kernelspec": {
   "display_name": "Python 3 (ipykernel)",
   "language": "python",
   "name": "python3"
  },
  "language_info": {
   "codemirror_mode": {
    "name": "ipython",
    "version": 3
   },
   "file_extension": ".py",
   "mimetype": "text/x-python",
   "name": "python",
   "nbconvert_exporter": "python",
   "pygments_lexer": "ipython3",
   "version": "3.12.5"
  }
 },
 "nbformat": 4,
 "nbformat_minor": 5
}
